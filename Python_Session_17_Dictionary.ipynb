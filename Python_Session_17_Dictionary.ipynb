{
 "cells": [
  {
   "cell_type": "code",
   "execution_count": 4,
   "id": "668827da-b00e-4ee3-a99c-8f21cae3e821",
   "metadata": {},
   "outputs": [
    {
     "name": "stdout",
     "output_type": "stream",
     "text": [
      "Ramesh age is 20\n",
      "Suresh age is 30\n",
      "Sathish age is 40\n"
     ]
    }
   ],
   "source": [
    "l1=['Ramesh','Suresh','Sathish']\n",
    "l2=[20,30,40]\n",
    "# 'Ramesh age is 20'\n",
    "# 'Suresh age is 30'\n",
    "# 'sathish age is 40'\n",
    "for i in range(len(l1)):\n",
    "    print(f'{l1[i]} age is {l2[i]}')"
   ]
  },
  {
   "cell_type": "markdown",
   "id": "8b2833ee-6cdc-4ea5-aaf5-24eb6841c2dc",
   "metadata": {},
   "source": [
    "$Zip$"
   ]
  },
  {
   "cell_type": "code",
   "execution_count": 7,
   "id": "2aca81fc-eccd-4ad8-84c1-9544cf763335",
   "metadata": {},
   "outputs": [
    {
     "name": "stdout",
     "output_type": "stream",
     "text": [
      "Ramesh has age is 20 and he is from Hyd\n",
      "Suresh has age is 30 and he is from Mumbai\n",
      "Sathish has age is 40 and he is from Chennai\n"
     ]
    }
   ],
   "source": [
    "l1=['Ramesh','Suresh','Sathish']\n",
    "l2=[20,30,40]\n",
    "l3=['Hyd','Mumbai','Chennai']\n",
    "for i,j,k in zip(l1,l2,l3):\n",
    "    print(f\"{i} has age is {j} and he is from {k}\")"
   ]
  },
  {
   "cell_type": "markdown",
   "id": "8410c32c-0f9a-419c-b266-1eb8d668d27d",
   "metadata": {},
   "source": [
    "**Dictionary**\n",
    "\n",
    "- string represent in quotes\n",
    "\n",
    "- list represent in square brackets\n",
    "\n",
    "- tuple represent in parenthesis\n",
    "\n",
    "- sets represent in curly braces with only one value\n",
    "\n",
    "- Dictionary also represent in curly braces wwith two value\n",
    "\n",
    "- Dictionary has key:value pair\n",
    "\n",
    "- Dictionary eelements are in pair\n",
    "\n",
    "     - one element called as **key**\n",
    "\n",
    "     - another element called as **value**"
   ]
  },
  {
   "cell_type": "code",
   "execution_count": null,
   "id": "35d93e34-6167-464e-a094-6bb0eb59c2b2",
   "metadata": {},
   "outputs": [],
   "source": [
    "l1=['Ramesh','Suresh','Sathish']\n",
    "l2=[20,30,40]\n",
    "\n",
    "{key:value}\n",
    "{key1:value1,key2:value2,key3:value3}"
   ]
  },
  {
   "cell_type": "code",
   "execution_count": 10,
   "id": "07c6bff8-eecf-4848-afdc-a661671f460b",
   "metadata": {},
   "outputs": [
    {
     "data": {
      "text/plain": [
       "{'Ramesh': 20, 'Suresh': 30, 'Sathish': 40}"
      ]
     },
     "execution_count": 10,
     "metadata": {},
     "output_type": "execute_result"
    }
   ],
   "source": [
    "dict1={'Ramesh':20,'Suresh':30,'Sathish':40}\n",
    "dict1"
   ]
  },
  {
   "cell_type": "code",
   "execution_count": 14,
   "id": "cceb86de-715a-41ef-9ec4-8cf56e2e00a4",
   "metadata": {},
   "outputs": [
    {
     "data": {
      "text/plain": [
       "dict"
      ]
     },
     "execution_count": 14,
     "metadata": {},
     "output_type": "execute_result"
    }
   ],
   "source": [
    "type(dict1)"
   ]
  },
  {
   "cell_type": "markdown",
   "id": "c323dbe5-4afb-4312-880c-7f522e0361b2",
   "metadata": {},
   "source": [
    "- initialization\n",
    "\n",
    "- inbuilt functions\n",
    "\n",
    "    - max\n",
    "    - min\n",
    "    - len\n",
    "    - sum\n",
    "    - sorted\n",
    "    - reversed\n",
    "\n",
    "- index\n",
    "\n",
    "- mutable vs immutable\n",
    "\n",
    "- concatination\n",
    "\n",
    "- slicing\n",
    "\n",
    "- methods"
   ]
  },
  {
   "cell_type": "markdown",
   "id": "2cc697fb-fe6d-4b81-aa5c-f9c3950d243b",
   "metadata": {},
   "source": [
    "**initialization**"
   ]
  },
  {
   "cell_type": "code",
   "execution_count": 33,
   "id": "e22cd492-3891-4747-8564-741b81683505",
   "metadata": {},
   "outputs": [
    {
     "data": {
      "text/plain": [
       "{'Apple': '20', 'Banana': '30', 'Cherry': '30'}"
      ]
     },
     "execution_count": 33,
     "metadata": {},
     "output_type": "execute_result"
    }
   ],
   "source": [
    "dict1={'Ramesh':20,'Suresh':30,'Sathish':40}\n",
    "dict2={20:'Ramesh',30:'Suresh',40:'Sathish'}\n",
    "dict3={'Apple':'20','Banana':'30','Cherry':'30'}\n",
    "#dict4={[20]:'Apple',[30]:'Banana',[40]:'Cherry'}\n",
    "dict5={'Apple':[20],'Banana':[30],'Cherry':[40]}\n",
    "dict3\n",
    "# key int value string\n",
    "# key string value list vice versa\n",
    "# key list value"
   ]
  },
  {
   "cell_type": "code",
   "execution_count": 37,
   "id": "de2de73f-0ce2-4683-972a-19b8860e4a62",
   "metadata": {},
   "outputs": [
    {
     "data": {
      "text/plain": [
       "{'Ramesh': 30}"
      ]
     },
     "execution_count": 37,
     "metadata": {},
     "output_type": "execute_result"
    }
   ],
   "source": [
    "d4={'Ramesh':30,'Ramesh':30}\n",
    "d4\n",
    "# Keys are important\n",
    "# when same keys but different value\n",
    "# it will take latest value"
   ]
  },
  {
   "cell_type": "code",
   "execution_count": 39,
   "id": "d8ddba04-46c0-489c-8c1f-63692d17a359",
   "metadata": {},
   "outputs": [
    {
     "data": {
      "text/plain": [
       "{'Ramesh': 20, 'Suresh': 20}"
      ]
     },
     "execution_count": 39,
     "metadata": {},
     "output_type": "execute_result"
    }
   ],
   "source": [
    "d5={'Ramesh':20,'Suresh':20}\n",
    "d5"
   ]
  },
  {
   "cell_type": "code",
   "execution_count": 41,
   "id": "83f5235d-9fae-4717-8c03-041c11c5d58b",
   "metadata": {},
   "outputs": [
    {
     "data": {
      "text/plain": [
       "{'Ramesh': 20}"
      ]
     },
     "execution_count": 41,
     "metadata": {},
     "output_type": "execute_result"
    }
   ],
   "source": [
    "d6={'Ramesh':20,'Ramesh':20}\n",
    "d6\n",
    "# Duplication not allowed"
   ]
  },
  {
   "cell_type": "code",
   "execution_count": 43,
   "id": "42e6a448-a9e0-4de7-b673-00de04daddc6",
   "metadata": {},
   "outputs": [
    {
     "data": {
      "text/plain": [
       "{'Fruit': 'Apple', 'cost': 10.5, 'count': 100, 'ava': True}"
      ]
     },
     "execution_count": 43,
     "metadata": {},
     "output_type": "execute_result"
    }
   ],
   "source": [
    "d7={'Fruit':'Apple','cost':10.5,'count':100,'ava':True}\n",
    "d7"
   ]
  },
  {
   "cell_type": "code",
   "execution_count": 45,
   "id": "993e103f-c576-4dd1-893f-7f432bd37649",
   "metadata": {},
   "outputs": [
    {
     "data": {
      "text/plain": [
       "{True: 'Yes'}"
      ]
     },
     "execution_count": 45,
     "metadata": {},
     "output_type": "execute_result"
    }
   ],
   "source": [
    "d8={True:'Yes'}\n",
    "d8"
   ]
  },
  {
   "cell_type": "code",
   "execution_count": 50,
   "id": "274aea9f-cd05-4189-a39d-88527ecbf657",
   "metadata": {},
   "outputs": [
    {
     "data": {
      "text/plain": [
       "{'age': [10, 20, 30]}"
      ]
     },
     "execution_count": 50,
     "metadata": {},
     "output_type": "execute_result"
    }
   ],
   "source": [
    "d9={'age':[10,20,30]}\n",
    "d9\n",
    "# list can be value"
   ]
  },
  {
   "cell_type": "markdown",
   "id": "f5c678e0-2178-4753-a67d-d894bd861788",
   "metadata": {},
   "source": [
    "- list is mutable\n",
    "\n",
    "- tuple is immutable\n",
    "\n",
    "- so list can not be a key\n",
    "\n",
    "**keys are important**"
   ]
  },
  {
   "cell_type": "code",
   "execution_count": 53,
   "id": "ef51f6e4-c587-4298-b7ab-f6fa4177f707",
   "metadata": {},
   "outputs": [
    {
     "data": {
      "text/plain": [
       "{(10, 20, 30): ('A', 'B', 'C')}"
      ]
     },
     "execution_count": 53,
     "metadata": {},
     "output_type": "execute_result"
    }
   ],
   "source": [
    "d13={(10,20,30):('A','B','C')}\n",
    "d13"
   ]
  },
  {
   "cell_type": "code",
   "execution_count": 2,
   "id": "a4589271-77ae-46e7-9566-a63de0be4525",
   "metadata": {},
   "outputs": [
    {
     "data": {
      "text/plain": [
       "{(10, 20, 30): ['A', 'B', 'C']}"
      ]
     },
     "execution_count": 2,
     "metadata": {},
     "output_type": "execute_result"
    }
   ],
   "source": [
    "d14={(10,20,30):['A','B','C']}\n",
    "d14"
   ]
  },
  {
   "cell_type": "code",
   "execution_count": 6,
   "id": "b6797fba-d426-4b52-bf30-53a01ac3fd1d",
   "metadata": {},
   "outputs": [
    {
     "ename": "TypeError",
     "evalue": "unhashable type: 'list'",
     "output_type": "error",
     "traceback": [
      "\u001b[1;31m---------------------------------------------------------------------------\u001b[0m",
      "\u001b[1;31mTypeError\u001b[0m                                 Traceback (most recent call last)",
      "Cell \u001b[1;32mIn[6], line 1\u001b[0m\n\u001b[1;32m----> 1\u001b[0m d15\u001b[38;5;241m=\u001b[39m{[\u001b[38;5;241m10\u001b[39m,\u001b[38;5;241m20\u001b[39m,\u001b[38;5;241m30\u001b[39m]:(\u001b[38;5;124m'\u001b[39m\u001b[38;5;124mA\u001b[39m\u001b[38;5;124m'\u001b[39m,\u001b[38;5;124m'\u001b[39m\u001b[38;5;124mB\u001b[39m\u001b[38;5;124m'\u001b[39m,\u001b[38;5;124m'\u001b[39m\u001b[38;5;124mC\u001b[39m\u001b[38;5;124m'\u001b[39m)}\n\u001b[0;32m      2\u001b[0m d15\n",
      "\u001b[1;31mTypeError\u001b[0m: unhashable type: 'list'"
     ]
    }
   ],
   "source": [
    "d15={[10,20,30]:('A','B','C')}\n",
    "d15"
   ]
  },
  {
   "cell_type": "code",
   "execution_count": 8,
   "id": "04a37f82-c2b4-4ea5-b123-e2d6507692e1",
   "metadata": {},
   "outputs": [
    {
     "data": {
      "text/plain": [
       "{'fruits': {'apple': 50}}"
      ]
     },
     "execution_count": 8,
     "metadata": {},
     "output_type": "execute_result"
    }
   ],
   "source": [
    "d16={'fruits':{'apple':50}}\n",
    "d16"
   ]
  },
  {
   "cell_type": "code",
   "execution_count": 10,
   "id": "203be2ec-447b-4607-9985-39b259cfbcc5",
   "metadata": {},
   "outputs": [
    {
     "ename": "TypeError",
     "evalue": "unhashable type: 'dict'",
     "output_type": "error",
     "traceback": [
      "\u001b[1;31m---------------------------------------------------------------------------\u001b[0m",
      "\u001b[1;31mTypeError\u001b[0m                                 Traceback (most recent call last)",
      "Cell \u001b[1;32mIn[10], line 1\u001b[0m\n\u001b[1;32m----> 1\u001b[0m d17\u001b[38;5;241m=\u001b[39m{{\u001b[38;5;124m'\u001b[39m\u001b[38;5;124mapple\u001b[39m\u001b[38;5;124m'\u001b[39m:\u001b[38;5;241m50\u001b[39m}:\u001b[38;5;124m'\u001b[39m\u001b[38;5;124mFruits\u001b[39m\u001b[38;5;124m'\u001b[39m}\n\u001b[0;32m      2\u001b[0m d17\n",
      "\u001b[1;31mTypeError\u001b[0m: unhashable type: 'dict'"
     ]
    }
   ],
   "source": [
    "d17={{'apple':50}:'Fruits'}\n",
    "d17"
   ]
  },
  {
   "cell_type": "code",
   "execution_count": 55,
   "id": "138af570-4734-4e3f-a4df-21c672383b1a",
   "metadata": {},
   "outputs": [],
   "source": [
    "d1={'Ramesh':20,'Suresh':30,'Sathish':40}"
   ]
  },
  {
   "cell_type": "code",
   "execution_count": 57,
   "id": "2d87b21b-b096-4688-af19-e6788519c54a",
   "metadata": {},
   "outputs": [
    {
     "data": {
      "text/plain": [
       "('Suresh', 'Ramesh', 3)"
      ]
     },
     "execution_count": 57,
     "metadata": {},
     "output_type": "execute_result"
    }
   ],
   "source": [
    "max(d1),min(d1),len(d1)"
   ]
  },
  {
   "cell_type": "code",
   "execution_count": 63,
   "id": "4bf189ec-49e7-41cf-b4f0-352af8c19638",
   "metadata": {},
   "outputs": [
    {
     "data": {
      "text/plain": [
       "['Ramesh', 'Sathish', 'Suresh']"
      ]
     },
     "execution_count": 63,
     "metadata": {},
     "output_type": "execute_result"
    }
   ],
   "source": [
    "sorted(d1)"
   ]
  },
  {
   "cell_type": "code",
   "execution_count": 65,
   "id": "8eb3ba5e-d43e-4f11-ba5d-8737264a659f",
   "metadata": {},
   "outputs": [
    {
     "data": {
      "text/plain": [
       "<dict_reversekeyiterator at 0x1b335e92bb0>"
      ]
     },
     "execution_count": 65,
     "metadata": {},
     "output_type": "execute_result"
    }
   ],
   "source": [
    "reversed(d1)"
   ]
  },
  {
   "cell_type": "code",
   "execution_count": 67,
   "id": "9e7ad1bf-e585-4387-8be0-a36200de81fb",
   "metadata": {},
   "outputs": [
    {
     "ename": "TypeError",
     "evalue": "unsupported operand type(s) for +: 'int' and 'str'",
     "output_type": "error",
     "traceback": [
      "\u001b[1;31m---------------------------------------------------------------------------\u001b[0m",
      "\u001b[1;31mTypeError\u001b[0m                                 Traceback (most recent call last)",
      "Cell \u001b[1;32mIn[67], line 1\u001b[0m\n\u001b[1;32m----> 1\u001b[0m \u001b[38;5;28msum\u001b[39m(d1)\n",
      "\u001b[1;31mTypeError\u001b[0m: unsupported operand type(s) for +: 'int' and 'str'"
     ]
    }
   ],
   "source": [
    "sum(d1)"
   ]
  },
  {
   "cell_type": "code",
   "execution_count": 135,
   "id": "fc0c772c-3ce4-4ba3-b2c4-7f4d98f81fbb",
   "metadata": {},
   "outputs": [],
   "source": [
    "d2={'Ramesh':'20','Suresh':'30','Sathish':'40'}"
   ]
  },
  {
   "cell_type": "code",
   "execution_count": 97,
   "id": "d899e2fb-efae-4420-8957-b35b471627c5",
   "metadata": {},
   "outputs": [
    {
     "data": {
      "text/plain": [
       "('Suresh', 'Ramesh', 3)"
      ]
     },
     "execution_count": 97,
     "metadata": {},
     "output_type": "execute_result"
    }
   ],
   "source": [
    "max(d2),min(d2),len(d2)"
   ]
  },
  {
   "cell_type": "code",
   "execution_count": 99,
   "id": "e5a337d3-05b4-47e7-b7fc-af2c984826da",
   "metadata": {},
   "outputs": [
    {
     "data": {
      "text/plain": [
       "['Ramesh', 'Sathish', 'Suresh']"
      ]
     },
     "execution_count": 99,
     "metadata": {},
     "output_type": "execute_result"
    }
   ],
   "source": [
    "sorted(d2)"
   ]
  },
  {
   "cell_type": "code",
   "execution_count": 137,
   "id": "b4358750-9052-4950-a029-991033e4cf3c",
   "metadata": {},
   "outputs": [
    {
     "data": {
      "text/plain": [
       "['Sathish', 'Suresh', 'Ramesh']"
      ]
     },
     "execution_count": 137,
     "metadata": {},
     "output_type": "execute_result"
    }
   ],
   "source": [
    "list(reversed(d2))"
   ]
  },
  {
   "cell_type": "code",
   "execution_count": 103,
   "id": "cc4a0ad6-3a20-4a9c-b299-f58597642fb6",
   "metadata": {},
   "outputs": [
    {
     "ename": "TypeError",
     "evalue": "unsupported operand type(s) for +: 'int' and 'str'",
     "output_type": "error",
     "traceback": [
      "\u001b[1;31m---------------------------------------------------------------------------\u001b[0m",
      "\u001b[1;31mTypeError\u001b[0m                                 Traceback (most recent call last)",
      "Cell \u001b[1;32mIn[103], line 1\u001b[0m\n\u001b[1;32m----> 1\u001b[0m \u001b[38;5;28msum\u001b[39m(d2)\n",
      "\u001b[1;31mTypeError\u001b[0m: unsupported operand type(s) for +: 'int' and 'str'"
     ]
    }
   ],
   "source": [
    "sum(d2)"
   ]
  },
  {
   "cell_type": "code",
   "execution_count": 105,
   "id": "ded3b4c1-2762-499a-8447-a1f0748d36c5",
   "metadata": {},
   "outputs": [],
   "source": [
    "d3={20:'Ramesh',30:'Suresh',40:'Sathish'}"
   ]
  },
  {
   "cell_type": "code",
   "execution_count": 113,
   "id": "3e8c870f-cda3-49f1-90ea-b98392f2c8e8",
   "metadata": {},
   "outputs": [
    {
     "data": {
      "text/plain": [
       "(40, 20, 3)"
      ]
     },
     "execution_count": 113,
     "metadata": {},
     "output_type": "execute_result"
    }
   ],
   "source": [
    "max(d3),min(d3),len(d3)"
   ]
  },
  {
   "cell_type": "code",
   "execution_count": 115,
   "id": "7d2cc3ab-bcdf-43e3-b956-029ae374ba51",
   "metadata": {},
   "outputs": [
    {
     "data": {
      "text/plain": [
       "[20, 30, 40]"
      ]
     },
     "execution_count": 115,
     "metadata": {},
     "output_type": "execute_result"
    }
   ],
   "source": [
    "sorted(d3)"
   ]
  },
  {
   "cell_type": "code",
   "execution_count": 117,
   "id": "6e035889-4f8e-4706-983f-42def881931e",
   "metadata": {},
   "outputs": [
    {
     "data": {
      "text/plain": [
       "<dict_reversekeyiterator at 0x1b3383410d0>"
      ]
     },
     "execution_count": 117,
     "metadata": {},
     "output_type": "execute_result"
    }
   ],
   "source": [
    "reversed(d3)"
   ]
  },
  {
   "cell_type": "code",
   "execution_count": 119,
   "id": "a7f34fd0-1cff-48aa-8bab-7727246f3e91",
   "metadata": {},
   "outputs": [
    {
     "data": {
      "text/plain": [
       "90"
      ]
     },
     "execution_count": 119,
     "metadata": {},
     "output_type": "execute_result"
    }
   ],
   "source": [
    "sum(d3)"
   ]
  },
  {
   "cell_type": "code",
   "execution_count": 121,
   "id": "2d010ec2-58e0-44fd-b70e-dd9edd6941e9",
   "metadata": {},
   "outputs": [],
   "source": [
    "d4={'Ramesh':'20','Suresh':30,40:'Sathish'}"
   ]
  },
  {
   "cell_type": "code",
   "execution_count": 123,
   "id": "81822e13-ead2-4ece-bd35-5831eb083bd8",
   "metadata": {},
   "outputs": [
    {
     "ename": "TypeError",
     "evalue": "'>' not supported between instances of 'int' and 'str'",
     "output_type": "error",
     "traceback": [
      "\u001b[1;31m---------------------------------------------------------------------------\u001b[0m",
      "\u001b[1;31mTypeError\u001b[0m                                 Traceback (most recent call last)",
      "Cell \u001b[1;32mIn[123], line 1\u001b[0m\n\u001b[1;32m----> 1\u001b[0m \u001b[38;5;28mmax\u001b[39m(d4),\u001b[38;5;28mmin\u001b[39m(d4),\u001b[38;5;28mlen\u001b[39m(d4)\n",
      "\u001b[1;31mTypeError\u001b[0m: '>' not supported between instances of 'int' and 'str'"
     ]
    }
   ],
   "source": [
    "max(d4),min(d4),len(d4)"
   ]
  },
  {
   "cell_type": "code",
   "execution_count": 127,
   "id": "600ec996-a586-4f32-9b14-5ad2297f1365",
   "metadata": {},
   "outputs": [
    {
     "ename": "TypeError",
     "evalue": "'<' not supported between instances of 'int' and 'str'",
     "output_type": "error",
     "traceback": [
      "\u001b[1;31m---------------------------------------------------------------------------\u001b[0m",
      "\u001b[1;31mTypeError\u001b[0m                                 Traceback (most recent call last)",
      "Cell \u001b[1;32mIn[127], line 1\u001b[0m\n\u001b[1;32m----> 1\u001b[0m \u001b[38;5;28msorted\u001b[39m(d4)\n",
      "\u001b[1;31mTypeError\u001b[0m: '<' not supported between instances of 'int' and 'str'"
     ]
    }
   ],
   "source": [
    "sorted(d4)"
   ]
  },
  {
   "cell_type": "code",
   "execution_count": 129,
   "id": "17107c75-70b5-4ff7-8292-ec402b5cda3e",
   "metadata": {},
   "outputs": [
    {
     "data": {
      "text/plain": [
       "<dict_reversekeyiterator at 0x1b3388b53a0>"
      ]
     },
     "execution_count": 129,
     "metadata": {},
     "output_type": "execute_result"
    }
   ],
   "source": [
    "reversed(d4)"
   ]
  },
  {
   "cell_type": "code",
   "execution_count": 131,
   "id": "ad9f5c64-39bd-42be-b31a-074041696ee4",
   "metadata": {},
   "outputs": [
    {
     "ename": "TypeError",
     "evalue": "unsupported operand type(s) for +: 'int' and 'str'",
     "output_type": "error",
     "traceback": [
      "\u001b[1;31m---------------------------------------------------------------------------\u001b[0m",
      "\u001b[1;31mTypeError\u001b[0m                                 Traceback (most recent call last)",
      "Cell \u001b[1;32mIn[131], line 1\u001b[0m\n\u001b[1;32m----> 1\u001b[0m \u001b[38;5;28msum\u001b[39m(d4)\n",
      "\u001b[1;31mTypeError\u001b[0m: unsupported operand type(s) for +: 'int' and 'str'"
     ]
    }
   ],
   "source": [
    "sum(d4)"
   ]
  },
  {
   "cell_type": "markdown",
   "id": "d955ae0a-1407-4464-8cf4-dc6e7f99a721",
   "metadata": {},
   "source": [
    "- max/min can work for homogeneos\n",
    "\n",
    "- sum is only work for numbers only\n",
    "\n",
    "- reversed can work for any one"
   ]
  },
  {
   "cell_type": "markdown",
   "id": "e01494ef-ca94-4fc0-af5a-4dd1772e9e95",
   "metadata": {},
   "source": [
    "**index**"
   ]
  },
  {
   "cell_type": "code",
   "execution_count": 144,
   "id": "ccfccf33-8769-4f0d-8cef-6c461a7de753",
   "metadata": {},
   "outputs": [
    {
     "data": {
      "text/plain": [
       "10"
      ]
     },
     "execution_count": 144,
     "metadata": {},
     "output_type": "execute_result"
    }
   ],
   "source": [
    "l=[10,20,30]\n",
    "l[0]"
   ]
  },
  {
   "cell_type": "code",
   "execution_count": 146,
   "id": "f2cc5d7b-850d-429e-8f53-2d8e706011e5",
   "metadata": {},
   "outputs": [
    {
     "data": {
      "text/plain": [
       "'p'"
      ]
     },
     "execution_count": 146,
     "metadata": {},
     "output_type": "execute_result"
    }
   ],
   "source": [
    "s='pyhton'\n",
    "s[0]"
   ]
  },
  {
   "cell_type": "code",
   "execution_count": 148,
   "id": "207a745c-a671-49b6-bb88-193ae59ccb74",
   "metadata": {},
   "outputs": [
    {
     "ename": "KeyError",
     "evalue": "0",
     "output_type": "error",
     "traceback": [
      "\u001b[1;31m---------------------------------------------------------------------------\u001b[0m",
      "\u001b[1;31mKeyError\u001b[0m                                  Traceback (most recent call last)",
      "Cell \u001b[1;32mIn[148], line 2\u001b[0m\n\u001b[0;32m      1\u001b[0m d1\u001b[38;5;241m=\u001b[39m{\u001b[38;5;124m'\u001b[39m\u001b[38;5;124mRamesh\u001b[39m\u001b[38;5;124m'\u001b[39m:\u001b[38;5;241m20\u001b[39m,\u001b[38;5;124m'\u001b[39m\u001b[38;5;124mSuresh\u001b[39m\u001b[38;5;124m'\u001b[39m:\u001b[38;5;241m30\u001b[39m}\n\u001b[1;32m----> 2\u001b[0m d1[\u001b[38;5;241m0\u001b[39m]\n",
      "\u001b[1;31mKeyError\u001b[0m: 0"
     ]
    }
   ],
   "source": [
    "d1={'Ramesh':20,'Suresh':30}\n",
    "d1[0]"
   ]
  },
  {
   "cell_type": "code",
   "execution_count": 150,
   "id": "44679978-4666-4ad2-8e79-1c7e51ce17ff",
   "metadata": {},
   "outputs": [
    {
     "data": {
      "text/plain": [
       "20"
      ]
     },
     "execution_count": 150,
     "metadata": {},
     "output_type": "execute_result"
    }
   ],
   "source": [
    "d1['Ramesh']"
   ]
  },
  {
   "cell_type": "code",
   "execution_count": null,
   "id": "999e28d3-236d-454d-9613-4ca39a5ebf63",
   "metadata": {},
   "outputs": [],
   "source": [
    "d1={'Ramesh':20,'Suresh':30,'Sathish':40}\n",
    "d1['Ramesh']  # 20\n",
    "d1['Suresh']  # 30\n",
    "d1['Sathish'] # 40"
   ]
  },
  {
   "cell_type": "code",
   "execution_count": 152,
   "id": "dd76f967-c39b-4db6-ba20-794ed4507a54",
   "metadata": {},
   "outputs": [
    {
     "name": "stdout",
     "output_type": "stream",
     "text": [
      "Ramesh 20\n",
      "Ramesh has age: 20\n",
      "Suresh 30\n",
      "Suresh has age: 30\n",
      "Sathish 40\n",
      "Sathish has age: 40\n"
     ]
    }
   ],
   "source": [
    "d1={'Ramesh':20,'Suresh':30,'Sathish':40}\n",
    "for i in d1:\n",
    "    print(i,d1[i])\n",
    "    print(f'{i} has age: {d1[i]}')"
   ]
  },
  {
   "cell_type": "markdown",
   "id": "22cfd3ff-c0fe-4af0-bc41-7a57f988aca3",
   "metadata": {},
   "source": [
    "- whenever we iterate dictionary using for loop in operator it will give keys\n",
    "\n",
    "- if want to get value we will access through keys only\n",
    "\n",
    "- keys will work as index"
   ]
  },
  {
   "cell_type": "code",
   "execution_count": 163,
   "id": "7a00fd19-94d9-4120-9f01-0fe6cedd3c79",
   "metadata": {},
   "outputs": [
    {
     "data": {
      "text/plain": [
       "'Cherry'"
      ]
     },
     "execution_count": 163,
     "metadata": {},
     "output_type": "execute_result"
    }
   ],
   "source": [
    "d1={'Fruits':['Apple','Banana','Cherry']}\n",
    "d1['Fruits'][2]"
   ]
  },
  {
   "cell_type": "code",
   "execution_count": 171,
   "id": "78423919-8ed9-4439-8ab7-224dec268754",
   "metadata": {},
   "outputs": [
    {
     "data": {
      "text/plain": [
       "'Green'"
      ]
     },
     "execution_count": 171,
     "metadata": {},
     "output_type": "execute_result"
    }
   ],
   "source": [
    "d1={'Fruits':{'Apple':['Sweet','Green','custred']}}\n",
    "d1['Fruits']['Apple'][1]"
   ]
  },
  {
   "cell_type": "code",
   "execution_count": 179,
   "id": "78ae6cbf-7fe9-4a9a-9f55-d835b62ac4db",
   "metadata": {},
   "outputs": [
    {
     "data": {
      "text/plain": [
       "{'Fruits': [{'Cost': [100, 200, 300]}]}"
      ]
     },
     "execution_count": 179,
     "metadata": {},
     "output_type": "execute_result"
    }
   ],
   "source": [
    "d1={'Fruits':[{'Cost':[100,200,300]}]}\n",
    "d1"
   ]
  },
  {
   "cell_type": "code",
   "execution_count": 181,
   "id": "310ff440-a3c6-4627-bc1d-b567d7f9fa6a",
   "metadata": {},
   "outputs": [
    {
     "data": {
      "text/plain": [
       "300"
      ]
     },
     "execution_count": 181,
     "metadata": {},
     "output_type": "execute_result"
    }
   ],
   "source": [
    "d1['Fruits'][0]['Cost'][2]"
   ]
  },
  {
   "cell_type": "code",
   "execution_count": 183,
   "id": "aad9d210-533d-4527-bc08-8e6e9dab6b2e",
   "metadata": {},
   "outputs": [
    {
     "data": {
      "text/plain": [
       "{'Fruits': ['Apple'], 'Cost': [{'1kg': [300, 500], '2kg': ['None']}]}"
      ]
     },
     "execution_count": 183,
     "metadata": {},
     "output_type": "execute_result"
    }
   ],
   "source": [
    "d1={'Fruits':['Apple'],'Cost':[{'1kg':[300,500],'2kg':['None']}]}\n",
    "d1"
   ]
  },
  {
   "cell_type": "code",
   "execution_count": 203,
   "id": "288cc665-4e1b-428c-98dc-de47ee41c17a",
   "metadata": {},
   "outputs": [
    {
     "data": {
      "text/plain": [
       "'None'"
      ]
     },
     "execution_count": 203,
     "metadata": {},
     "output_type": "execute_result"
    }
   ],
   "source": [
    "d1['Cost'][0]['2kg'][0]"
   ]
  },
  {
   "cell_type": "code",
   "execution_count": 235,
   "id": "08e08d79-b183-4680-b4b3-a838362865cf",
   "metadata": {},
   "outputs": [
    {
     "data": {
      "text/plain": [
       "{'Shambaji'}"
      ]
     },
     "execution_count": 235,
     "metadata": {},
     "output_type": "execute_result"
    }
   ],
   "source": [
    "d1={'Fruits':{'Mango':{'Nagpur':{'MH':{'King':{'Shivaji':{'Shambaji'}}}}}}}\n",
    "d1['Fruits']['Mango']['Nagpur']['MH']['King']['Shivaji']"
   ]
  },
  {
   "cell_type": "code",
   "execution_count": 241,
   "id": "87c7f8a4-2182-4d04-9724-456ce8f5daf4",
   "metadata": {},
   "outputs": [
    {
     "data": {
      "text/plain": [
       "['__class__',\n",
       " '__class_getitem__',\n",
       " '__contains__',\n",
       " '__delattr__',\n",
       " '__delitem__',\n",
       " '__dir__',\n",
       " '__doc__',\n",
       " '__eq__',\n",
       " '__format__',\n",
       " '__ge__',\n",
       " '__getattribute__',\n",
       " '__getitem__',\n",
       " '__getstate__',\n",
       " '__gt__',\n",
       " '__hash__',\n",
       " '__init__',\n",
       " '__init_subclass__',\n",
       " '__ior__',\n",
       " '__iter__',\n",
       " '__le__',\n",
       " '__len__',\n",
       " '__lt__',\n",
       " '__ne__',\n",
       " '__new__',\n",
       " '__or__',\n",
       " '__reduce__',\n",
       " '__reduce_ex__',\n",
       " '__repr__',\n",
       " '__reversed__',\n",
       " '__ror__',\n",
       " '__setattr__',\n",
       " '__setitem__',\n",
       " '__sizeof__',\n",
       " '__str__',\n",
       " '__subclasshook__',\n",
       " 'clear',\n",
       " 'copy',\n",
       " 'fromkeys',\n",
       " 'get',\n",
       " 'items',\n",
       " 'keys',\n",
       " 'pop',\n",
       " 'popitem',\n",
       " 'setdefault',\n",
       " 'update',\n",
       " 'values']"
      ]
     },
     "execution_count": 241,
     "metadata": {},
     "output_type": "execute_result"
    }
   ],
   "source": [
    "dir({})"
   ]
  },
  {
   "cell_type": "code",
   "execution_count": null,
   "id": "63fb20ad-6c83-48a0-8ec9-8fdc2d5c6927",
   "metadata": {},
   "outputs": [],
   "source": [
    "'clear',\n",
    " 'copy',\n",
    " 'fromkeys',\n",
    " 'get',\n",
    " 'items',\n",
    " 'keys',\n",
    " 'pop',\n",
    " 'popitem',\n",
    " 'setdefault',\n",
    " 'update',\n",
    " 'values'"
   ]
  },
  {
   "cell_type": "markdown",
   "id": "aa1bbb47-57cf-41ab-bd85-07b3c277850b",
   "metadata": {},
   "source": [
    "**how to connvert list to dictionary**"
   ]
  },
  {
   "cell_type": "code",
   "execution_count": 2,
   "id": "20b57209-37cf-4786-96ce-c4ab08111bd0",
   "metadata": {},
   "outputs": [
    {
     "name": "stdout",
     "output_type": "stream",
     "text": [
      "Ramesh 20\n",
      "Suresh 30\n",
      "Sathish 40\n"
     ]
    }
   ],
   "source": [
    "names=['Ramesh','Suresh','Sathish']\n",
    "age=[20,30,40]\n",
    "# {'Ramesh':20,'Suresh':30,'Sathish':40}\n",
    "\n",
    "dict1={}\n",
    "for i,j in zip(names,age):\n",
    "    print(i,j)"
   ]
  },
  {
   "cell_type": "code",
   "execution_count": 6,
   "id": "876232b7-7d1f-4e8f-a3f4-17cc25d6eda6",
   "metadata": {},
   "outputs": [
    {
     "data": {
      "text/plain": [
       "{'Ramesh': 20, 'Suresh': 30, 'Sathish': 40}"
      ]
     },
     "execution_count": 6,
     "metadata": {},
     "output_type": "execute_result"
    }
   ],
   "source": [
    "names=['Ramesh','Suresh','Sathish']\n",
    "age=[20,30,40]\n",
    "dict1={}\n",
    "dict1['Ramesh']=20\n",
    "dict1['Suresh']=30\n",
    "dict1['Sathish']=40\n",
    "dict1[i]=j\n",
    "dict1"
   ]
  },
  {
   "cell_type": "code",
   "execution_count": 8,
   "id": "04db9eab-a201-4a50-bcb1-98c82b885fb8",
   "metadata": {},
   "outputs": [
    {
     "data": {
      "text/plain": [
       "{'Ramesh': 20, 'Suresh': 30, 'Sathish': 40}"
      ]
     },
     "execution_count": 8,
     "metadata": {},
     "output_type": "execute_result"
    }
   ],
   "source": [
    "names=['Ramesh','Suresh','Sathish']\n",
    "age=[20,30,40]\n",
    "dict1={}\n",
    "for i,j in zip(names,age):\n",
    "    dict1[i]=j\n",
    "dict1"
   ]
  },
  {
   "cell_type": "markdown",
   "id": "2d5eada5-0292-42b8-ae41-b07269a3d129",
   "metadata": {},
   "source": [
    "**how to convert dictionary to list**"
   ]
  },
  {
   "cell_type": "code",
   "execution_count": 11,
   "id": "e74be5b0-4a6a-45bb-87c8-2b9719d8ac20",
   "metadata": {},
   "outputs": [
    {
     "name": "stdout",
     "output_type": "stream",
     "text": [
      "Ramesh age is 20\n",
      "Suresh age is 30\n",
      "Sathish age is 40\n"
     ]
    }
   ],
   "source": [
    "d={'Ramesh': 20, 'Suresh': 30, 'Sathish': 40}\n",
    "for i in d:\n",
    "    print(f'{i} age is {d[i]}')"
   ]
  },
  {
   "cell_type": "code",
   "execution_count": null,
   "id": "d2edb674-6e06-4be6-8d8e-7f8f2b7b3345",
   "metadata": {},
   "outputs": [],
   "source": [
    "# string to list (split)\n",
    "# list to string (join)\n",
    "# list to dictionary()\n",
    "# dictionary to list()"
   ]
  },
  {
   "cell_type": "code",
   "execution_count": 21,
   "id": "9795c38d-f54f-4e0c-9aa0-1df638cba3cd",
   "metadata": {},
   "outputs": [
    {
     "data": {
      "text/plain": [
       "(['Ramesh', 'Suresh', 'Sathish'], [20, 30, 40])"
      ]
     },
     "execution_count": 21,
     "metadata": {},
     "output_type": "execute_result"
    }
   ],
   "source": [
    "d={'Ramesh': 20, 'Suresh': 30, 'Sathish': 40}\n",
    "keys,values=[],[]\n",
    "for key in d:\n",
    "    keys.append(key)\n",
    "    values.append(d[key])\n",
    "keys,values"
   ]
  },
  {
   "cell_type": "code",
   "execution_count": 29,
   "id": "f4c9fdf0-56a3-48c3-b941-05c5feb413c2",
   "metadata": {},
   "outputs": [
    {
     "data": {
      "text/plain": [
       "(['Ramesh', 'Suresh', 'Sathish'], [20, 30, 40])"
      ]
     },
     "execution_count": 29,
     "metadata": {},
     "output_type": "execute_result"
    }
   ],
   "source": [
    "keys=[key for key in d]\n",
    "values=[d[key] for key in d]\n",
    "keys,values"
   ]
  },
  {
   "cell_type": "markdown",
   "id": "5469455a-8db1-402d-98f7-9fdbebecb2d5",
   "metadata": {},
   "source": [
    "**dictionary comprehension**"
   ]
  },
  {
   "cell_type": "code",
   "execution_count": null,
   "id": "514222ca-18c9-43fe-bc4c-6340ad4acbed",
   "metadata": {},
   "outputs": [],
   "source": [
    "names=['Ramesh','Suresh','Sathish']\n",
    "age=[20,30,40]\n",
    "\n",
    "{key:value for key,value in zip(names,age)}"
   ]
  },
  {
   "cell_type": "code",
   "execution_count": 39,
   "id": "996f37fb-8562-44fb-b72b-d2037d7f2c26",
   "metadata": {},
   "outputs": [
    {
     "data": {
      "text/plain": [
       "{'Ramesh': 20, 'Suresh': 30, 'Sathish': 40}"
      ]
     },
     "execution_count": 39,
     "metadata": {},
     "output_type": "execute_result"
    }
   ],
   "source": [
    "names=['Ramesh','Suresh','Sathish']\n",
    "age=[20,30,40]\n",
    "dict1={}\n",
    "for i,j in zip(names,age):\n",
    "    dict1[i]=j\n",
    "dict1\n",
    "{i:j for i,j in zip(names,age)}"
   ]
  },
  {
   "cell_type": "code",
   "execution_count": 42,
   "id": "41bcae01-c9fb-434b-92c3-7f4b7306ec59",
   "metadata": {},
   "outputs": [
    {
     "data": {
      "text/plain": [
       "{'Ramesh': 20, 'Suresh': 30, 'Sathish': 40}"
      ]
     },
     "execution_count": 42,
     "metadata": {},
     "output_type": "execute_result"
    }
   ],
   "source": [
    "{i:j for i,j in zip(names,age)}"
   ]
  },
  {
   "cell_type": "markdown",
   "id": "6334a3f7-38b6-4e93-977d-23778c683361",
   "metadata": {},
   "source": [
    "**mutable - immutable**\n",
    "\n",
    "- list are mutable\n",
    "\n",
    "- strings are immutable\n",
    "\n",
    "- tuple immutable\n",
    "\n",
    "- dictionary also mutable we can modify the value of a dictionary"
   ]
  },
  {
   "cell_type": "code",
   "execution_count": 59,
   "id": "b09e53c6-d05c-46e5-891f-1f657f9c0dc0",
   "metadata": {},
   "outputs": [
    {
     "data": {
      "text/plain": [
       "{'Ramesh': 40, 'Suresh': 30, 'Sathish': 40}"
      ]
     },
     "execution_count": 59,
     "metadata": {},
     "output_type": "execute_result"
    }
   ],
   "source": [
    "d={'Ramesh': 20, 'Suresh': 30, 'Sathish': 40}\n",
    "d['Ramesh']=40\n",
    "d"
   ]
  },
  {
   "cell_type": "markdown",
   "id": "0110185e-a763-4a46-b2e3-d3a594b5f115",
   "metadata": {},
   "source": [
    "- dictionary is similar to database operations\n",
    "\n",
    "- keys always unique but values can be change"
   ]
  },
  {
   "cell_type": "markdown",
   "id": "0eeb2368-a80d-48ac-a4a5-91875eb4d1d3",
   "metadata": {},
   "source": [
    "**concatination**"
   ]
  },
  {
   "cell_type": "code",
   "execution_count": 49,
   "id": "9bb48227-435b-40a3-abca-7049a44c18d1",
   "metadata": {},
   "outputs": [
    {
     "ename": "TypeError",
     "evalue": "unsupported operand type(s) for +: 'dict' and 'dict'",
     "output_type": "error",
     "traceback": [
      "\u001b[1;31m---------------------------------------------------------------------------\u001b[0m",
      "\u001b[1;31mTypeError\u001b[0m                                 Traceback (most recent call last)",
      "Cell \u001b[1;32mIn[49], line 3\u001b[0m\n\u001b[0;32m      1\u001b[0m d1\u001b[38;5;241m=\u001b[39m{\u001b[38;5;124m'\u001b[39m\u001b[38;5;124mRamesh\u001b[39m\u001b[38;5;124m'\u001b[39m:\u001b[38;5;241m20\u001b[39m}\n\u001b[0;32m      2\u001b[0m d2\u001b[38;5;241m=\u001b[39m{\u001b[38;5;124m'\u001b[39m\u001b[38;5;124mFruit\u001b[39m\u001b[38;5;124m'\u001b[39m:\u001b[38;5;124m'\u001b[39m\u001b[38;5;124mApple\u001b[39m\u001b[38;5;124m'\u001b[39m}\n\u001b[1;32m----> 3\u001b[0m d1\u001b[38;5;241m+\u001b[39md2\n",
      "\u001b[1;31mTypeError\u001b[0m: unsupported operand type(s) for +: 'dict' and 'dict'"
     ]
    }
   ],
   "source": [
    "d1={'Ramesh':20}\n",
    "d2={'Fruit':'Apple'}\n",
    "d1+d2"
   ]
  },
  {
   "cell_type": "markdown",
   "id": "b4b515c0-edd1-491e-92c9-2df4fdcb7a8f",
   "metadata": {},
   "source": [
    "**items-values-keys**"
   ]
  },
  {
   "cell_type": "code",
   "execution_count": 61,
   "id": "c9423bd6-d51f-45a4-ac05-f21c7d24b72b",
   "metadata": {},
   "outputs": [
    {
     "data": {
      "text/plain": [
       "dict_items([('Ramesh', 20), ('Suresh', 30), ('Sathish', 40)])"
      ]
     },
     "execution_count": 61,
     "metadata": {},
     "output_type": "execute_result"
    }
   ],
   "source": [
    "d={'Ramesh': 20, 'Suresh': 30, 'Sathish': 40}\n",
    "d.items()"
   ]
  },
  {
   "cell_type": "code",
   "execution_count": 63,
   "id": "f31daee7-d59d-4d20-9af5-19be2a53e345",
   "metadata": {},
   "outputs": [
    {
     "data": {
      "text/plain": [
       "dict_values([20, 30, 40])"
      ]
     },
     "execution_count": 63,
     "metadata": {},
     "output_type": "execute_result"
    }
   ],
   "source": [
    "d={'Ramesh': 20, 'Suresh': 30, 'Sathish': 40}\n",
    "d.values()"
   ]
  },
  {
   "cell_type": "code",
   "execution_count": 65,
   "id": "b9379aa6-33a5-4b07-9611-09a2e1708bb2",
   "metadata": {},
   "outputs": [
    {
     "data": {
      "text/plain": [
       "dict_keys(['Ramesh', 'Suresh', 'Sathish'])"
      ]
     },
     "execution_count": 65,
     "metadata": {},
     "output_type": "execute_result"
    }
   ],
   "source": [
    "d={'Ramesh': 20, 'Suresh': 30, 'Sathish': 40}\n",
    "d.keys()"
   ]
  },
  {
   "cell_type": "code",
   "execution_count": 73,
   "id": "0c2a7a5f-068f-444e-9357-a900219a2ba8",
   "metadata": {},
   "outputs": [
    {
     "data": {
      "text/plain": [
       "(dict_keys, dict_keys(['Ramesh', 'Suresh', 'Sathish']))"
      ]
     },
     "execution_count": 73,
     "metadata": {},
     "output_type": "execute_result"
    }
   ],
   "source": [
    "d={'Ramesh': 20, 'Suresh': 30, 'Sathish': 40}\n",
    "keys=d.keys()\n",
    "type(keys),keys"
   ]
  },
  {
   "cell_type": "code",
   "execution_count": 69,
   "id": "492017da-2a5f-4cbc-84a7-91a83cd02c4d",
   "metadata": {},
   "outputs": [
    {
     "data": {
      "text/plain": [
       "3"
      ]
     },
     "execution_count": 69,
     "metadata": {},
     "output_type": "execute_result"
    }
   ],
   "source": [
    "len(keys)"
   ]
  },
  {
   "cell_type": "code",
   "execution_count": 71,
   "id": "00c111bc-2a5d-4a15-9103-a0d65f8b2080",
   "metadata": {},
   "outputs": [
    {
     "ename": "TypeError",
     "evalue": "'dict_keys' object is not subscriptable",
     "output_type": "error",
     "traceback": [
      "\u001b[1;31m---------------------------------------------------------------------------\u001b[0m",
      "\u001b[1;31mTypeError\u001b[0m                                 Traceback (most recent call last)",
      "Cell \u001b[1;32mIn[71], line 1\u001b[0m\n\u001b[1;32m----> 1\u001b[0m keys[\u001b[38;5;241m0\u001b[39m]\n",
      "\u001b[1;31mTypeError\u001b[0m: 'dict_keys' object is not subscriptable"
     ]
    }
   ],
   "source": [
    "keys[0]"
   ]
  },
  {
   "cell_type": "markdown",
   "id": "3f47d538-e83d-47b1-80bb-2ce540dd8e05",
   "metadata": {},
   "source": [
    "- dict_keys is a type of keys represented in a list\n",
    "\n",
    "- it is looks like list but not list\n",
    "\n",
    "- we can not use list methods here\n",
    "\n",
    "- for that we need to convert dict_keys to list"
   ]
  },
  {
   "cell_type": "code",
   "execution_count": 84,
   "id": "4981eaff-828b-43c5-b31c-0c791ca2a982",
   "metadata": {},
   "outputs": [],
   "source": [
    "d={'Ramesh': 20, 'Suresh': 30, 'Sathish': 40}\n",
    "keys=d.keys() # dict_keys type"
   ]
  },
  {
   "cell_type": "code",
   "execution_count": 96,
   "id": "4b42a2e0-b995-4fe1-a9bc-0eee206a79d7",
   "metadata": {},
   "outputs": [
    {
     "data": {
      "text/plain": [
       "['Ramesh', 'Suresh', 'Sathish']"
      ]
     },
     "execution_count": 96,
     "metadata": {},
     "output_type": "execute_result"
    }
   ],
   "source": [
    "list(d.keys()) # list type\n",
    "# list(keys)"
   ]
  },
  {
   "cell_type": "code",
   "execution_count": 99,
   "id": "b50ab720-81bc-47be-a143-60be181d4fe1",
   "metadata": {},
   "outputs": [],
   "source": [
    "d={'Ramesh': 20, 'Suresh': 30, 'Sathish': 40}\n",
    "values=d.values() # dict_keys type"
   ]
  },
  {
   "cell_type": "code",
   "execution_count": 101,
   "id": "3f3db278-d306-41b7-9012-e2339cd945be",
   "metadata": {},
   "outputs": [
    {
     "data": {
      "text/plain": [
       "[20, 30, 40]"
      ]
     },
     "execution_count": 101,
     "metadata": {},
     "output_type": "execute_result"
    }
   ],
   "source": [
    "list(values)"
   ]
  },
  {
   "cell_type": "code",
   "execution_count": 103,
   "id": "cfea1f1b-a262-4dce-95f4-5bf6f9f36a35",
   "metadata": {},
   "outputs": [],
   "source": [
    "d={'Ramesh': 20, 'Suresh': 30, 'Sathish': 40}\n",
    "items=d.items() # dict_keys type"
   ]
  },
  {
   "cell_type": "code",
   "execution_count": 105,
   "id": "1a73420a-e1f3-4155-a97c-f08d0ada75b5",
   "metadata": {},
   "outputs": [
    {
     "data": {
      "text/plain": [
       "[('Ramesh', 20), ('Suresh', 30), ('Sathish', 40)]"
      ]
     },
     "execution_count": 105,
     "metadata": {},
     "output_type": "execute_result"
    }
   ],
   "source": [
    "list(items)"
   ]
  },
  {
   "cell_type": "code",
   "execution_count": null,
   "id": "7a15e2c2-0408-49d2-b4de-8520fadc025a",
   "metadata": {},
   "outputs": [],
   "source": [
    "d={'Ramesh': 20, 'Suresh': 30, 'Sathish': 40}\n",
    "keys,values=[],[]\n",
    "for key in d:\n",
    "    keys.append(key)\n",
    "    values.append(d[keys])\n",
    "keys,values\n",
    "#################################################\n",
    "d={'Ramesh': 20, 'Suresh': 30, 'Sathish': 40}\n",
    "keys=[keys for key in d]\n",
    "values=[d[key] for keey in d]\n",
    "#################################################\n",
    "d={'Ramesh': 20, 'Suresh': 30, 'Sathish': 40}\n",
    "keys=list(d.keys())\n",
    "values=list(d.values())"
   ]
  },
  {
   "cell_type": "code",
   "execution_count": 115,
   "id": "b4a40ee5-58a5-48c6-90be-2b9d14143e7a",
   "metadata": {},
   "outputs": [
    {
     "data": {
      "text/plain": [
       "{'ramesh': '20', 'suresh': '30', 'sathish': '40'}"
      ]
     },
     "execution_count": 115,
     "metadata": {},
     "output_type": "execute_result"
    }
   ],
   "source": [
    "d={'Ramesh': 20, 'Suresh': 30, 'Sathish': 40}\n",
    "keys=[i.lower() for i in list(d.keys())]\n",
    "values=[str(i) for i in list(d.values())]\n",
    "{key:value for key,value in zip(keys,values)}"
   ]
  },
  {
   "cell_type": "markdown",
   "id": "d4816c46-dfb6-4caf-94d7-25884df70312",
   "metadata": {},
   "source": [
    "**get**"
   ]
  },
  {
   "cell_type": "code",
   "execution_count": 128,
   "id": "bbe2d9ee-550a-4234-86a2-9a92163c1d04",
   "metadata": {},
   "outputs": [
    {
     "data": {
      "text/plain": [
       "20"
      ]
     },
     "execution_count": 128,
     "metadata": {},
     "output_type": "execute_result"
    }
   ],
   "source": [
    "d={'Ramesh': 20, 'Suresh': 30, 'Sathish': 40}\n",
    "d.get('Ramesh')"
   ]
  },
  {
   "cell_type": "code",
   "execution_count": 130,
   "id": "bde24ab9-271c-4653-8847-bca47d2a2703",
   "metadata": {},
   "outputs": [],
   "source": [
    "d.get('Ram')"
   ]
  },
  {
   "cell_type": "code",
   "execution_count": 134,
   "id": "d0de6f03-3a48-4fe4-8711-36ff4451c708",
   "metadata": {},
   "outputs": [
    {
     "ename": "KeyError",
     "evalue": "'Ram'",
     "output_type": "error",
     "traceback": [
      "\u001b[1;31m---------------------------------------------------------------------------\u001b[0m",
      "\u001b[1;31mKeyError\u001b[0m                                  Traceback (most recent call last)",
      "Cell \u001b[1;32mIn[134], line 2\u001b[0m\n\u001b[0;32m      1\u001b[0m d[\u001b[38;5;124m'\u001b[39m\u001b[38;5;124mRamesh\u001b[39m\u001b[38;5;124m'\u001b[39m] \u001b[38;5;66;03m# normal way\u001b[39;00m\n\u001b[1;32m----> 2\u001b[0m d[\u001b[38;5;124m'\u001b[39m\u001b[38;5;124mRam\u001b[39m\u001b[38;5;124m'\u001b[39m]\n",
      "\u001b[1;31mKeyError\u001b[0m: 'Ram'"
     ]
    }
   ],
   "source": [
    "d['Ramesh'] # normal way\n",
    "d['Ram'] # error"
   ]
  },
  {
   "cell_type": "code",
   "execution_count": null,
   "id": "33a56a30-5bae-4763-b3c1-849a72639941",
   "metadata": {},
   "outputs": [],
   "source": [
    "################### methods ##################\n",
    "d={'Ramesh': 20, 'Suresh': 30, 'Sathish': 40}\n",
    "d.get('Ramesh') # aans\n",
    "d.get('r')      # no error-no ans\n",
    "################## without methods ###########\n",
    "d['Ramesh']   # normal way\n",
    "d['r']        # error"
   ]
  },
  {
   "cell_type": "markdown",
   "id": "1e51b43b-8b44-47dc-bc49-cbd8f84ade11",
   "metadata": {},
   "source": [
    "**update**"
   ]
  },
  {
   "cell_type": "code",
   "execution_count": 139,
   "id": "4dae6892-bec9-4216-9a1a-a99c2f028d34",
   "metadata": {},
   "outputs": [
    {
     "data": {
      "text/plain": [
       "{'Ramesh': 20, 'Suresh': 30, 'Sathish': 40, 'Fruits': 'Apple'}"
      ]
     },
     "execution_count": 139,
     "metadata": {},
     "output_type": "execute_result"
    }
   ],
   "source": [
    "d={'Ramesh': 20, 'Suresh': 30, 'Sathish': 40}\n",
    "d1={'Fruits':'Apple'}\n",
    "d.update(d1)\n",
    "d"
   ]
  },
  {
   "cell_type": "code",
   "execution_count": 149,
   "id": "f4f4431c-6fbb-40e5-87dc-7a521ac28b46",
   "metadata": {},
   "outputs": [
    {
     "data": {
      "text/plain": [
       "{'Ramesh': 20, 'Suresh': 30, 'Sathish': 40, 'Fruits': 'Apple', 'Apple': 200}"
      ]
     },
     "execution_count": 149,
     "metadata": {},
     "output_type": "execute_result"
    }
   ],
   "source": [
    "d.update(Apple=200)\n",
    "d"
   ]
  },
  {
   "cell_type": "code",
   "execution_count": 155,
   "id": "3f6f5376-db3a-4f45-a536-fda4e807eabb",
   "metadata": {},
   "outputs": [
    {
     "data": {
      "text/plain": [
       "{'Ramesh': 20,\n",
       " 'Suresh': 30,\n",
       " 'Sathish': 40,\n",
       " 'Fruits': 'Apple',\n",
       " 'Apple': 200,\n",
       " 200: 'Marks'}"
      ]
     },
     "execution_count": 155,
     "metadata": {},
     "output_type": "execute_result"
    }
   ],
   "source": [
    "t=(200,'Marks')\n",
    "l=[t]\n",
    "d.update(l)\n",
    "d"
   ]
  },
  {
   "cell_type": "code",
   "execution_count": 163,
   "id": "2f15a340-e87f-48c1-8d91-f726d216a674",
   "metadata": {},
   "outputs": [
    {
     "data": {
      "text/plain": [
       "{'Ramesh': 20,\n",
       " 'Suresh': 30,\n",
       " 'Sathish': 40,\n",
       " 'Fruits': 'Apple',\n",
       " 'Apple': 200,\n",
       " 200: 'Marks'}"
      ]
     },
     "execution_count": 163,
     "metadata": {},
     "output_type": "execute_result"
    }
   ],
   "source": [
    "d={'Ramesh': 20, 'Suresh': 30, 'Sathish': 40}\n",
    "d1={'Fruits':'Apple'}\n",
    "d.update(d1)\n",
    "d.update(Apple=200)\n",
    "d.update([(200,'Marks')])\n",
    "d"
   ]
  },
  {
   "cell_type": "markdown",
   "id": "f49ca5b2-52e5-41d4-8e16-be5d64c7f4dc",
   "metadata": {},
   "source": [
    "**pop-pop item**"
   ]
  },
  {
   "cell_type": "code",
   "execution_count": 171,
   "id": "dfc80cce-fee9-4c8f-a628-5fdd9e4569e2",
   "metadata": {},
   "outputs": [
    {
     "data": {
      "text/plain": [
       "20"
      ]
     },
     "execution_count": 171,
     "metadata": {},
     "output_type": "execute_result"
    }
   ],
   "source": [
    "d={'Ramesh': 20, 'Suresh': 30, 'Sathish': 40}\n",
    "d.pop('Ramesh')"
   ]
  },
  {
   "cell_type": "code",
   "execution_count": 173,
   "id": "c3615edf-c1c7-4f96-8290-67527a20d85c",
   "metadata": {},
   "outputs": [
    {
     "data": {
      "text/plain": [
       "{'Suresh': 30, 'Sathish': 40}"
      ]
     },
     "execution_count": 173,
     "metadata": {},
     "output_type": "execute_result"
    }
   ],
   "source": [
    "d"
   ]
  },
  {
   "cell_type": "code",
   "execution_count": 175,
   "id": "d9b314ac-4a38-4944-9c3b-62183df662c1",
   "metadata": {},
   "outputs": [
    {
     "ename": "KeyError",
     "evalue": "'r'",
     "output_type": "error",
     "traceback": [
      "\u001b[1;31m---------------------------------------------------------------------------\u001b[0m",
      "\u001b[1;31mKeyError\u001b[0m                                  Traceback (most recent call last)",
      "Cell \u001b[1;32mIn[175], line 2\u001b[0m\n\u001b[0;32m      1\u001b[0m d\u001b[38;5;241m=\u001b[39m{\u001b[38;5;124m'\u001b[39m\u001b[38;5;124mRamesh\u001b[39m\u001b[38;5;124m'\u001b[39m: \u001b[38;5;241m20\u001b[39m, \u001b[38;5;124m'\u001b[39m\u001b[38;5;124mSuresh\u001b[39m\u001b[38;5;124m'\u001b[39m: \u001b[38;5;241m30\u001b[39m, \u001b[38;5;124m'\u001b[39m\u001b[38;5;124mSathish\u001b[39m\u001b[38;5;124m'\u001b[39m: \u001b[38;5;241m40\u001b[39m}\n\u001b[1;32m----> 2\u001b[0m d\u001b[38;5;241m.\u001b[39mpop(\u001b[38;5;124m'\u001b[39m\u001b[38;5;124mr\u001b[39m\u001b[38;5;124m'\u001b[39m)\n",
      "\u001b[1;31mKeyError\u001b[0m: 'r'"
     ]
    }
   ],
   "source": [
    "d={'Ramesh': 20, 'Suresh': 30, 'Sathish': 40}\n",
    "d.pop('r')"
   ]
  },
  {
   "cell_type": "code",
   "execution_count": 177,
   "id": "296b98e0-24d0-4e57-8cf9-27d4d1c0bfcc",
   "metadata": {},
   "outputs": [
    {
     "data": {
      "text/plain": [
       "3333"
      ]
     },
     "execution_count": 177,
     "metadata": {},
     "output_type": "execute_result"
    }
   ],
   "source": [
    "l=[100,200,3333,444]\n",
    "l.pop(2) # index\n",
    "\n",
    "d={'Ramesh': 20, 'Suresh': 30, 'Sathish': 40}\n",
    "d.pop('Ramesh') # key"
   ]
  },
  {
   "cell_type": "code",
   "execution_count": 181,
   "id": "7573391c-ed3d-4fd1-801d-bec22a56696f",
   "metadata": {},
   "outputs": [],
   "source": [
    "l=[100,200,3333,444]\n",
    "l.remove(3333)"
   ]
  },
  {
   "cell_type": "code",
   "execution_count": 183,
   "id": "b345b62a-a634-4074-b733-63be9a779fc3",
   "metadata": {},
   "outputs": [
    {
     "data": {
      "text/plain": [
       "('Sathish', 40)"
      ]
     },
     "execution_count": 183,
     "metadata": {},
     "output_type": "execute_result"
    }
   ],
   "source": [
    "d={'Ramesh': 20, 'Suresh': 30, 'Sathish': 40}\n",
    "d.popitem()"
   ]
  },
  {
   "cell_type": "code",
   "execution_count": 185,
   "id": "1a362d9b-3353-429c-83ab-2ddff0c4f4fb",
   "metadata": {},
   "outputs": [
    {
     "data": {
      "text/plain": [
       "{'Ramesh': 20, 'Suresh': 30}"
      ]
     },
     "execution_count": 185,
     "metadata": {},
     "output_type": "execute_result"
    }
   ],
   "source": [
    "d"
   ]
  },
  {
   "cell_type": "markdown",
   "id": "e3487366-66a8-4872-8e12-c381008bbe33",
   "metadata": {},
   "source": [
    "- pop will expect a key , corresponding value will be removed\n",
    "\n",
    "    - pop will return the **value which is removing**\n",
    "\n",
    "- pop item has no arguments, last key-value pair will be removed\n",
    "\n",
    "    - pop item return last **key-value pair**"
   ]
  },
  {
   "cell_type": "markdown",
   "id": "5413f357-fa49-471c-88d9-e6da699650e1",
   "metadata": {},
   "source": [
    "**del**"
   ]
  },
  {
   "cell_type": "code",
   "execution_count": 191,
   "id": "00801bd8-51ed-4c91-8006-9c9d91f4f855",
   "metadata": {},
   "outputs": [
    {
     "data": {
      "text/plain": [
       "[200, 333, 444]"
      ]
     },
     "execution_count": 191,
     "metadata": {},
     "output_type": "execute_result"
    }
   ],
   "source": [
    "l=[100,200,333,444]\n",
    "del l[0]\n",
    "l"
   ]
  },
  {
   "cell_type": "code",
   "execution_count": 195,
   "id": "03452ca9-42b3-4dd0-9a4d-f3f5fb35cda8",
   "metadata": {},
   "outputs": [
    {
     "ename": "NameError",
     "evalue": "name 'l' is not defined",
     "output_type": "error",
     "traceback": [
      "\u001b[1;31m---------------------------------------------------------------------------\u001b[0m",
      "\u001b[1;31mNameError\u001b[0m                                 Traceback (most recent call last)",
      "Cell \u001b[1;32mIn[195], line 3\u001b[0m\n\u001b[0;32m      1\u001b[0m l\u001b[38;5;241m=\u001b[39m[\u001b[38;5;241m100\u001b[39m,\u001b[38;5;241m200\u001b[39m,\u001b[38;5;241m333\u001b[39m,\u001b[38;5;241m444\u001b[39m]\n\u001b[0;32m      2\u001b[0m \u001b[38;5;28;01mdel\u001b[39;00m l \u001b[38;5;66;03m# l is gone here\u001b[39;00m\n\u001b[1;32m----> 3\u001b[0m l\n",
      "\u001b[1;31mNameError\u001b[0m: name 'l' is not defined"
     ]
    }
   ],
   "source": [
    "l=[100,200,333,444]\n",
    "del l # l is gone here\n",
    "l"
   ]
  },
  {
   "cell_type": "code",
   "execution_count": 207,
   "id": "48140ed1-e77c-4e8d-baf8-63dccfbaf65a",
   "metadata": {},
   "outputs": [
    {
     "data": {
      "text/plain": [
       "{'Sathish': 40}"
      ]
     },
     "execution_count": 207,
     "metadata": {},
     "output_type": "execute_result"
    }
   ],
   "source": [
    "d={'Ramesh': 20, 'Suresh': 30, 'Sathish': 40}\n",
    "del d['Ramesh']\n",
    "del(d['Suresh'])\n",
    "d"
   ]
  },
  {
   "cell_type": "code",
   "execution_count": 205,
   "id": "f549e47e-5e42-4f9c-9272-e06e47687767",
   "metadata": {},
   "outputs": [
    {
     "ename": "NameError",
     "evalue": "name 'd' is not defined",
     "output_type": "error",
     "traceback": [
      "\u001b[1;31m---------------------------------------------------------------------------\u001b[0m",
      "\u001b[1;31mNameError\u001b[0m                                 Traceback (most recent call last)",
      "Cell \u001b[1;32mIn[205], line 3\u001b[0m\n\u001b[0;32m      1\u001b[0m d\u001b[38;5;241m=\u001b[39m{\u001b[38;5;124m'\u001b[39m\u001b[38;5;124mRamesh\u001b[39m\u001b[38;5;124m'\u001b[39m: \u001b[38;5;241m20\u001b[39m, \u001b[38;5;124m'\u001b[39m\u001b[38;5;124mSuresh\u001b[39m\u001b[38;5;124m'\u001b[39m: \u001b[38;5;241m30\u001b[39m, \u001b[38;5;124m'\u001b[39m\u001b[38;5;124mSathish\u001b[39m\u001b[38;5;124m'\u001b[39m: \u001b[38;5;241m40\u001b[39m}\n\u001b[0;32m      2\u001b[0m \u001b[38;5;28;01mdel\u001b[39;00m(d)\n\u001b[1;32m----> 3\u001b[0m d\n",
      "\u001b[1;31mNameError\u001b[0m: name 'd' is not defined"
     ]
    }
   ],
   "source": [
    "d={'Ramesh': 20, 'Suresh': 30, 'Sathish': 40}\n",
    "del(d)\n",
    "d"
   ]
  },
  {
   "cell_type": "code",
   "execution_count": null,
   "id": "d27fb1cb-708b-41c6-863a-3d97639a3942",
   "metadata": {},
   "outputs": [],
   "source": []
  },
  {
   "cell_type": "code",
   "execution_count": null,
   "id": "658a0aa0-411d-46d8-b460-87904344ed2e",
   "metadata": {},
   "outputs": [],
   "source": []
  }
 ],
 "metadata": {
  "kernelspec": {
   "display_name": "Python 3 (ipykernel)",
   "language": "python",
   "name": "python3"
  },
  "language_info": {
   "codemirror_mode": {
    "name": "ipython",
    "version": 3
   },
   "file_extension": ".py",
   "mimetype": "text/x-python",
   "name": "python",
   "nbconvert_exporter": "python",
   "pygments_lexer": "ipython3",
   "version": "3.12.4"
  }
 },
 "nbformat": 4,
 "nbformat_minor": 5
}
