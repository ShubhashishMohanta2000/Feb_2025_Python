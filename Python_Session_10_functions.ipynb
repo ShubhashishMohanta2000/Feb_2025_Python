{
 "cells": [
  {
   "cell_type": "markdown",
   "id": "78f3596e-9989-4d0b-92f7-c47121560152",
   "metadata": {},
   "source": [
    "- Variables\n",
    "- Data types\n",
    "- Typecasting\n",
    "- Print end sep\n",
    "- eval and input\n",
    "- Basic codes\n",
    "- condition statements\n",
    "- Try-except"
   ]
  },
  {
   "cell_type": "markdown",
   "id": "6408f2fa-c5e4-4d4e-81eb-125b35bc166f",
   "metadata": {},
   "source": [
    "**Functions or Methods**\n",
    "\n",
    "- Reuse of code"
   ]
  },
  {
   "cell_type": "markdown",
   "id": "357a7e39-e6f7-4b27-b0c8-2aa9bf34a8b8",
   "metadata": {},
   "source": [
    "- Functions with out arguments\n",
    "\n",
    "- Functions with arguments\n",
    "\n",
    "- Functions with default arguments\n",
    "\n",
    "- Global variable vs local variable\n",
    "\n",
    "- Functions with return statement\n",
    "\n",
    "- Functions with keyword arguments\n",
    "\n",
    "- Functions in functions"
   ]
  },
  {
   "cell_type": "code",
   "execution_count": null,
   "id": "e5454aff-273b-40a6-97b7-67e14c5a7db8",
   "metadata": {},
   "outputs": [],
   "source": [
    "# syntax\n",
    "def <function name>():\n",
    "    <write your code here>"
   ]
  },
  {
   "cell_type": "markdown",
   "id": "404bf08f-b000-454e-8a13-b5a3bb827f01",
   "metadata": {},
   "source": [
    "**Function without arguments**\n",
    "\n",
    "- The function we defined does not have any values or variables\n",
    "\n",
    "- These also called as arguments or parameters\n",
    "\n",
    "- simply it is a empty bracket"
   ]
  },
  {
   "cell_type": "code",
   "execution_count": 5,
   "id": "687f4314-431e-49f5-b024-e7baaf3878af",
   "metadata": {},
   "outputs": [
    {
     "name": "stdin",
     "output_type": "stream",
     "text": [
      "enter number 1: 20\n",
      "enter number 2: 30\n"
     ]
    },
    {
     "name": "stdout",
     "output_type": "stream",
     "text": [
      "the addition of 20 and 30 is 50\n"
     ]
    }
   ],
   "source": [
    "n1=eval(input('enter number 1:'))\n",
    "n2=eval(input('enter number 2:'))\n",
    "add=n1+n2\n",
    "print(f\"the addition of {n1} and {n2} is {add}\")"
   ]
  },
  {
   "cell_type": "code",
   "execution_count": 9,
   "id": "1ab8b126-d6c3-4836-9099-189fa7122414",
   "metadata": {},
   "outputs": [],
   "source": [
    "def addition():\n",
    "    n1=eval(input('enter number 1:'))\n",
    "    n2=eval(input('enter number 2:'))\n",
    "    add=n1+n2\n",
    "    print(f\"the addition of {n1} and {n2} is {add}\")"
   ]
  },
  {
   "cell_type": "code",
   "execution_count": 13,
   "id": "cf2c584b-f194-452b-810c-bed8ff7de794",
   "metadata": {},
   "outputs": [
    {
     "name": "stdin",
     "output_type": "stream",
     "text": [
      "enter number 1: 20\n",
      "enter number 2: 30\n"
     ]
    },
    {
     "name": "stdout",
     "output_type": "stream",
     "text": [
      "the addition of 20 and 30 is 50\n"
     ]
    }
   ],
   "source": [
    "# Function is ready\n",
    "# creating function means it will not give the answer\n",
    "# you need to call the function\n",
    "addition()"
   ]
  },
  {
   "cell_type": "code",
   "execution_count": 15,
   "id": "6e5c5999-e031-4e7d-a0cd-82a95b71a243",
   "metadata": {},
   "outputs": [
    {
     "data": {
      "text/plain": [
       "<function __main__.addition()>"
      ]
     },
     "execution_count": 15,
     "metadata": {},
     "output_type": "execute_result"
    }
   ],
   "source": [
    "addition"
   ]
  },
  {
   "cell_type": "markdown",
   "id": "3c47864d-ab3c-4702-addc-782b30afb48d",
   "metadata": {},
   "source": [
    "**Note**\n",
    "\n",
    "- while calling the function we need to use the function name\n",
    "- also we need to provide brackets\n",
    "- in python brackets indicates it is a function or method\n",
    "- if we miss the brackets, it will display as\n",
    "    - function\n",
    "    - bound method"
   ]
  },
  {
   "cell_type": "code",
   "execution_count": 18,
   "id": "f19c4424-89d1-4f9f-8454-2c245bc17bcf",
   "metadata": {},
   "outputs": [],
   "source": [
    "a=10"
   ]
  },
  {
   "cell_type": "code",
   "execution_count": 20,
   "id": "62962868-31ef-4acc-a5aa-e06beaa463e4",
   "metadata": {},
   "outputs": [],
   "source": [
    "name='python'"
   ]
  },
  {
   "cell_type": "code",
   "execution_count": 22,
   "id": "3cab3529-d240-41d1-be6d-d79bb00ec648",
   "metadata": {},
   "outputs": [
    {
     "name": "stdin",
     "output_type": "stream",
     "text": [
      "enter number 1: 20\n",
      "enter number 2: 30\n"
     ]
    },
    {
     "name": "stdout",
     "output_type": "stream",
     "text": [
      "the addition of 20 and 30 is 50\n"
     ]
    }
   ],
   "source": [
    "addition()"
   ]
  },
  {
   "cell_type": "markdown",
   "id": "68dea623-8607-4f56-8b51-fcc6db02c0ff",
   "metadata": {},
   "source": [
    "**Note**\n",
    "\n",
    "- Once we create the function we can use anywhere in the same notebook\n",
    "- if you want to use in another notebook\n",
    "- we neeed to create as Package(OOPS)"
   ]
  },
  {
   "cell_type": "code",
   "execution_count": 28,
   "id": "166ad03f-4c6e-4eb8-b043-651a11cc7812",
   "metadata": {},
   "outputs": [
    {
     "ename": "NameError",
     "evalue": "name 'addition1' is not defined",
     "output_type": "error",
     "traceback": [
      "\u001b[1;31m---------------------------------------------------------------------------\u001b[0m",
      "\u001b[1;31mNameError\u001b[0m                                 Traceback (most recent call last)",
      "Cell \u001b[1;32mIn[28], line 1\u001b[0m\n\u001b[1;32m----> 1\u001b[0m addition1()\n\u001b[0;32m      2\u001b[0m \u001b[38;5;28;01mdef\u001b[39;00m \u001b[38;5;21maddition1\u001b[39m():\n\u001b[0;32m      3\u001b[0m     n1\u001b[38;5;241m=\u001b[39m\u001b[38;5;28meval\u001b[39m(\u001b[38;5;28minput\u001b[39m(\u001b[38;5;124m'\u001b[39m\u001b[38;5;124menter number 1:\u001b[39m\u001b[38;5;124m'\u001b[39m))\n",
      "\u001b[1;31mNameError\u001b[0m: name 'addition1' is not defined"
     ]
    }
   ],
   "source": [
    "addition1()\n",
    "def addition1():\n",
    "    n1=eval(input('enter number 1:'))\n",
    "    n2=eval(input('enter number 2:'))\n",
    "    add=n1+n2\n",
    "    print(f\"the addition of {n1} and {n2} is {add}\")\n",
    "\n",
    "# The above code will givee the error\n",
    "# before call the function we need to define the function"
   ]
  },
  {
   "cell_type": "code",
   "execution_count": 32,
   "id": "225d9c35-194d-4e38-afd9-0a505e7c252c",
   "metadata": {},
   "outputs": [
    {
     "name": "stdin",
     "output_type": "stream",
     "text": [
      "Enter the number: 30\n",
      "Enter the number: 40\n",
      "Enter the number: 50\n"
     ]
    },
    {
     "name": "stdout",
     "output_type": "stream",
     "text": [
      "The average of numbers are 40.0\n"
     ]
    }
   ],
   "source": [
    "def number():\n",
    "    n1=eval(input(\"Enter the number:\"))\n",
    "    n2=eval(input(\"Enter the number:\"))\n",
    "    n3=eval(input(\"Enter the number:\"))\n",
    "    sum=n1+n2+n3\n",
    "    avg=sum/3\n",
    "    avg1=round(avg,2)\n",
    "    print(f\"The average of numbers are {avg1}\")\n",
    "    \n",
    "number()"
   ]
  },
  {
   "cell_type": "code",
   "execution_count": 36,
   "id": "cc855417-f4fd-4173-b193-ca40528087c7",
   "metadata": {},
   "outputs": [
    {
     "name": "stdin",
     "output_type": "stream",
     "text": [
      "Enter breadth of triangle: 3\n",
      "Enter height of triangle: 4\n"
     ]
    },
    {
     "name": "stdout",
     "output_type": "stream",
     "text": [
      "area of the triangle is 6.0\n"
     ]
    }
   ],
   "source": [
    "def triangle():\n",
    "    b=eval(input(\"Enter breadth of triangle:\"))\n",
    "    h=eval(input(\"Enter height of triangle:\"))\n",
    "    area=0.5*b*h\n",
    "    area1=round(area,2)\n",
    "    print(f\"area of the triangle is {area1}\")\n",
    "\n",
    "triangle()"
   ]
  },
  {
   "cell_type": "code",
   "execution_count": 40,
   "id": "b3257c93-2e9d-4425-88e0-ae5096410005",
   "metadata": {},
   "outputs": [
    {
     "name": "stdin",
     "output_type": "stream",
     "text": [
      "Enter the radius of circle: 3\n",
      "Enter the value of pi: 3.14\n"
     ]
    },
    {
     "name": "stdout",
     "output_type": "stream",
     "text": [
      "area of the circle is 28.26\n"
     ]
    }
   ],
   "source": [
    "def circle():\n",
    "    r=eval(input(\"Enter the radius of circle:\"))\n",
    "    pi=eval(input(\"Enter the value of pi:\"))\n",
    "    area=pi*r*r\n",
    "    area1=round(area,2)\n",
    "    print(f\"area of the circle is {area1}\")\n",
    "\n",
    "circle()"
   ]
  },
  {
   "cell_type": "code",
   "execution_count": 42,
   "id": "15d8c214-a7f0-4784-9371-b076508d350b",
   "metadata": {},
   "outputs": [
    {
     "name": "stdin",
     "output_type": "stream",
     "text": [
      "Enter the bill amount: 3000\n",
      "Enter the tip amount: 30\n"
     ]
    },
    {
     "name": "stdout",
     "output_type": "stream",
     "text": [
      "total bill is 3030\n"
     ]
    }
   ],
   "source": [
    "def resto():\n",
    "    bill_amount=eval(input(\"Enter the bill amount:\"))\n",
    "    tip_amount=eval(input(\"Enter the tip amount:\"))\n",
    "    total_bill=bill_amount+tip_amount\n",
    "    print(f\"total bill is {total_bill}\")\n",
    "\n",
    "resto()"
   ]
  },
  {
   "cell_type": "code",
   "execution_count": 46,
   "id": "7925249b-8ecb-4924-a28a-83cc50b0689a",
   "metadata": {},
   "outputs": [
    {
     "name": "stdin",
     "output_type": "stream",
     "text": [
      "enter thebill amount 3000\n",
      "enter the bil percentge 30\n"
     ]
    },
    {
     "name": "stdout",
     "output_type": "stream",
     "text": [
      "the total bill is 3900.0\n"
     ]
    }
   ],
   "source": [
    "def resto():\n",
    "    bill_amount=eval(input('enter thebill amount'))\n",
    "    tip_per=eval(input('enter the bil percentge'))\n",
    "    total_tip=bill_amount*tip_per/100\n",
    "    total_bill=bill_amount+total_tip\n",
    "    print('the total bill is {}'.format(total_bill))\n",
    "\n",
    "resto()"
   ]
  },
  {
   "cell_type": "markdown",
   "id": "8a0600b9-89f0-4d47-bea5-d2bbe54608fc",
   "metadata": {},
   "source": [
    "**Note**\n",
    "\n",
    "- variable names should not equal to function names"
   ]
  },
  {
   "cell_type": "code",
   "execution_count": 54,
   "id": "fcbc675e-ad4a-4c30-913a-a0472fcac2f2",
   "metadata": {},
   "outputs": [
    {
     "name": "stdin",
     "output_type": "stream",
     "text": [
      "Enter the number: 2\n",
      "Enter the number: 3\n",
      "Enter the number: 4\n"
     ]
    },
    {
     "name": "stdout",
     "output_type": "stream",
     "text": [
      "The average of numbers are 3.0\n"
     ]
    }
   ],
   "source": [
    "def average():\n",
    "    try:\n",
    "        n1=eval(input(\"Enter the number:\"))\n",
    "        n2=eval(input(\"Enter the number:\"))\n",
    "        n3=eval(input(\"Enter the number:\"))\n",
    "        sum=n1+n2+n3\n",
    "        avg=sum/3\n",
    "        avg1=round(avg,2)\n",
    "        print(f\"The average of numbers are {avg1}\")\n",
    "    except Exception as e:\n",
    "        print(e)\n",
    "\n",
    "average()"
   ]
  },
  {
   "cell_type": "code",
   "execution_count": 71,
   "id": "57aa94b1-eecc-4b43-9ffa-104d8f1c0eb2",
   "metadata": {},
   "outputs": [
    {
     "name": "stdin",
     "output_type": "stream",
     "text": [
      "Enter the number: 2\n",
      "Enter the number: 3\n",
      "Enter the number: 4\n"
     ]
    },
    {
     "name": "stdout",
     "output_type": "stream",
     "text": [
      "The average of numbers are 3.0\n"
     ]
    }
   ],
   "source": [
    "try:\n",
    "    def average2():\n",
    "        n1=eval(input(\"Enter the number:\"))\n",
    "        n2=eval(input(\"Enter the number:\"))\n",
    "        n3=eval(input(\"Enter the number:\"))\n",
    "        sum=n1+n2+n3\n",
    "        avg=sum/3\n",
    "        avg1=round(avg,2)\n",
    "        print(f\"The average of numbers are {avg1}\")\n",
    "    average2()\n",
    "except Exception as e:\n",
    "    print(e)"
   ]
  },
  {
   "cell_type": "markdown",
   "id": "31346600-3230-48dc-8bf5-d217b75ccc87",
   "metadata": {},
   "source": [
    "**Note**\n",
    "\n",
    "- always **try and except** apply for only on code\n",
    "- Not for function\n",
    "- Inside the function write **try-except**"
   ]
  },
  {
   "cell_type": "code",
   "execution_count": 75,
   "id": "16afc44d-977a-407f-b57f-32071bc9d980",
   "metadata": {},
   "outputs": [
    {
     "name": "stdin",
     "output_type": "stream",
     "text": [
      "Enter the number: 2\n",
      "Enter the number: 3\n",
      "Enter the number: 4\n"
     ]
    },
    {
     "ename": "NameError",
     "evalue": "name 'n33' is not defined",
     "output_type": "error",
     "traceback": [
      "\u001b[1;31m---------------------------------------------------------------------------\u001b[0m",
      "\u001b[1;31mNameError\u001b[0m                                 Traceback (most recent call last)",
      "Cell \u001b[1;32mIn[75], line 13\u001b[0m\n\u001b[0;32m     10\u001b[0m \u001b[38;5;28;01mexcept\u001b[39;00m \u001b[38;5;167;01mException\u001b[39;00m \u001b[38;5;28;01mas\u001b[39;00m e:\n\u001b[0;32m     11\u001b[0m     \u001b[38;5;28mprint\u001b[39m(e)\n\u001b[1;32m---> 13\u001b[0m average2()\n",
      "Cell \u001b[1;32mIn[75], line 6\u001b[0m, in \u001b[0;36maverage2\u001b[1;34m()\u001b[0m\n\u001b[0;32m      4\u001b[0m n2\u001b[38;5;241m=\u001b[39m\u001b[38;5;28meval\u001b[39m(\u001b[38;5;28minput\u001b[39m(\u001b[38;5;124m\"\u001b[39m\u001b[38;5;124mEnter the number:\u001b[39m\u001b[38;5;124m\"\u001b[39m))\n\u001b[0;32m      5\u001b[0m n3\u001b[38;5;241m=\u001b[39m\u001b[38;5;28meval\u001b[39m(\u001b[38;5;28minput\u001b[39m(\u001b[38;5;124m\"\u001b[39m\u001b[38;5;124mEnter the number:\u001b[39m\u001b[38;5;124m\"\u001b[39m))\n\u001b[1;32m----> 6\u001b[0m \u001b[38;5;28msum\u001b[39m\u001b[38;5;241m=\u001b[39mn1\u001b[38;5;241m+\u001b[39mn2\u001b[38;5;241m+\u001b[39mn33\n\u001b[0;32m      7\u001b[0m avg\u001b[38;5;241m=\u001b[39m\u001b[38;5;28msum\u001b[39m\u001b[38;5;241m/\u001b[39m\u001b[38;5;241m3\u001b[39m\n\u001b[0;32m      8\u001b[0m avg1\u001b[38;5;241m=\u001b[39m\u001b[38;5;28mround\u001b[39m(avg,\u001b[38;5;241m2\u001b[39m)\n",
      "\u001b[1;31mNameError\u001b[0m: name 'n33' is not defined"
     ]
    }
   ],
   "source": [
    "try:\n",
    "    def average2():\n",
    "        n1=eval(input(\"Enter the number:\"))\n",
    "        n2=eval(input(\"Enter the number:\"))\n",
    "        n3=eval(input(\"Enter the number:\"))\n",
    "        sum=n1+n2+n33\n",
    "        avg=sum/3\n",
    "        avg1=round(avg,2)\n",
    "        print(f\"The average of numbers are {avg1}\")\n",
    "except Exception as e:\n",
    "    print(e)\n",
    "\n",
    "average2()"
   ]
  },
  {
   "cell_type": "markdown",
   "id": "db02eca7-f8ab-4dce-976e-4781e6172780",
   "metadata": {},
   "source": [
    "**Note**\n",
    "\n",
    "- when we define a function, it will not give any error or any answer\n",
    "\n",
    "- if we want to see any error or any answer we need to call the function"
   ]
  },
  {
   "cell_type": "markdown",
   "id": "7e2814ae-2c07-409b-a388-6f765129e189",
   "metadata": {},
   "source": [
    "**Functions with Arguements**"
   ]
  },
  {
   "cell_type": "markdown",
   "id": "743b4df0-694b-42c5-8310-f1348ae9e94d",
   "metadata": {},
   "source": [
    "- let'  create an addition program code"
   ]
  },
  {
   "cell_type": "code",
   "execution_count": 9,
   "id": "613f9b07-d5b7-482b-8aa4-0eea9f1648cc",
   "metadata": {},
   "outputs": [
    {
     "name": "stdin",
     "output_type": "stream",
     "text": [
      "enter the n1: 5\n",
      "enter the n2: 7\n"
     ]
    },
    {
     "name": "stdout",
     "output_type": "stream",
     "text": [
      "the addition of 5 and 7 is:12\n"
     ]
    }
   ],
   "source": [
    "def addition():\n",
    "    n1=eval(input(\"enter the n1:\"))\n",
    "    n2=eval(input(\"enter the n2:\"))\n",
    "    add=n1+n2\n",
    "    print(f\"the addition of {n1} and {n2} is:{add}\")\n",
    "\n",
    "addition()"
   ]
  },
  {
   "cell_type": "markdown",
   "id": "328e86e8-881a-44e0-9295-cac40405727d",
   "metadata": {},
   "source": [
    "- how many variables are there in the above code: 3\n",
    "   - n1, n2, add\n",
    "- what are the input variables\n",
    "   - n1, n2\n",
    "- what arre the output variables\n",
    "   - add\n",
    "\n",
    "- pass the input variables inside the brackets\n",
    "- pass n1, n2 inside the brackest, these n1, n2 behaves as function arguements"
   ]
  },
  {
   "cell_type": "code",
   "execution_count": 20,
   "id": "bcf2294e-390c-4206-a7c1-9ba1d642c138",
   "metadata": {},
   "outputs": [
    {
     "name": "stdout",
     "output_type": "stream",
     "text": [
      "the addition of 10 and 20 is:30\n"
     ]
    }
   ],
   "source": [
    "def addition10(n1,n2):\n",
    "    add=n1+n2\n",
    "    print(f\"the addition of {n1} and {n2} is:{add}\")\n",
    "\n",
    "addition10(10,20)"
   ]
  },
  {
   "cell_type": "code",
   "execution_count": 24,
   "id": "c98f7b45-c9c0-42bd-a93f-57e68753a3de",
   "metadata": {},
   "outputs": [
    {
     "ename": "TypeError",
     "evalue": "addition() missing 2 required positional arguments: 'n1' and 'n2'",
     "output_type": "error",
     "traceback": [
      "\u001b[1;31m---------------------------------------------------------------------------\u001b[0m",
      "\u001b[1;31mTypeError\u001b[0m                                 Traceback (most recent call last)",
      "Cell \u001b[1;32mIn[24], line 1\u001b[0m\n\u001b[1;32m----> 1\u001b[0m addition()\n",
      "\u001b[1;31mTypeError\u001b[0m: addition() missing 2 required positional arguments: 'n1' and 'n2'"
     ]
    }
   ],
   "source": [
    "addition()"
   ]
  },
  {
   "cell_type": "code",
   "execution_count": 32,
   "id": "fe0ad5c3-58f1-46cc-a161-ac0ef094879f",
   "metadata": {},
   "outputs": [
    {
     "ename": "TypeError",
     "evalue": "Random.randint() missing 1 required positional argument: 'b'",
     "output_type": "error",
     "traceback": [
      "\u001b[1;31m---------------------------------------------------------------------------\u001b[0m",
      "\u001b[1;31mTypeError\u001b[0m                                 Traceback (most recent call last)",
      "Cell \u001b[1;32mIn[32], line 2\u001b[0m\n\u001b[0;32m      1\u001b[0m \u001b[38;5;28;01mfrom\u001b[39;00m \u001b[38;5;21;01mrandom\u001b[39;00m \u001b[38;5;28;01mimport\u001b[39;00m randint\n\u001b[1;32m----> 2\u001b[0m randint(\u001b[38;5;241m10\u001b[39m)\n",
      "\u001b[1;31mTypeError\u001b[0m: Random.randint() missing 1 required positional argument: 'b'"
     ]
    }
   ],
   "source": [
    "from random import randint\n",
    "randint(10)"
   ]
  },
  {
   "cell_type": "code",
   "execution_count": 49,
   "id": "75b48063-7711-4d24-a87a-f60de7cf6fa5",
   "metadata": {},
   "outputs": [
    {
     "name": "stdout",
     "output_type": "stream",
     "text": [
      "the avg of 3,4 and 5 is: 4.0\n"
     ]
    }
   ],
   "source": [
    "from math import pi\n",
    "def average2(n1,n2,n3):\n",
    "    avg=(n1+n2+n3)/3\n",
    "    print(f\"the avg of {n1},{n2} and {n3} is: {avg}\")\n",
    "\n",
    "average2(3,4,5)"
   ]
  },
  {
   "cell_type": "code",
   "execution_count": 51,
   "id": "09773c27-d767-4f1f-8b9d-94cc9a5373b2",
   "metadata": {},
   "outputs": [
    {
     "name": "stdout",
     "output_type": "stream",
     "text": [
      "b: 3\n",
      "h: 4\n",
      "the area of triangle is:6.0\n"
     ]
    }
   ],
   "source": [
    "def area_of_triangle(b,h):\n",
    "    print(\"b:\",b)\n",
    "    print(\"h:\",h)\n",
    "    area=0.5*b*h\n",
    "    print(f'the area of triangle is:{area}')\n",
    "\n",
    "area_of_triangle(3,4)"
   ]
  },
  {
   "cell_type": "code",
   "execution_count": 53,
   "id": "224743ef-7970-468d-9012-beb4f0d9c0f3",
   "metadata": {},
   "outputs": [
    {
     "name": "stdout",
     "output_type": "stream",
     "text": [
      "r: 3\n",
      "area of circle is:28.274333882308138\n"
     ]
    }
   ],
   "source": [
    "def area_of_circle(r):\n",
    "    print(\"r:\",r)\n",
    "    area=pi*r*r\n",
    "    print(f\"area of circle is:{area}\")\n",
    "\n",
    "area_of_circle(3)"
   ]
  },
  {
   "cell_type": "code",
   "execution_count": 40,
   "id": "2ec8a8ff-2e5b-419c-bcb2-776bbb35a856",
   "metadata": {},
   "outputs": [
    {
     "name": "stdout",
     "output_type": "stream",
     "text": [
      "total bill is 3020\n"
     ]
    }
   ],
   "source": [
    "def bill(bill_amount,tip_amount):\n",
    "    total_bill=bill_amount+tip_amount\n",
    "    print(f\"total bill is {total_bill}\")\n",
    "\n",
    "bill(3000,20)"
   ]
  },
  {
   "cell_type": "code",
   "execution_count": 42,
   "id": "397cf0f6-b13e-4b59-9f62-368d892a27ee",
   "metadata": {},
   "outputs": [
    {
     "name": "stdout",
     "output_type": "stream",
     "text": [
      "the total bill is 3600.0\n"
     ]
    }
   ],
   "source": [
    "def bill1(bill_amount,tip_per):\n",
    "    total_tip=bill_amount*tip_per/100\n",
    "    total_bill=bill_amount+total_tip\n",
    "    print('the total bill is {}'.format(total_bill))\n",
    "\n",
    "bill1(3000,20)"
   ]
  },
  {
   "cell_type": "code",
   "execution_count": 55,
   "id": "6def4add-e864-4c84-bbb1-dd21d5b04627",
   "metadata": {},
   "outputs": [
    {
     "name": "stdout",
     "output_type": "stream",
     "text": [
      "total bill is 3020\n"
     ]
    }
   ],
   "source": [
    "def bill(bill_amount,tip_amount):\n",
    "    try:\n",
    "        total_bill=bill_amount+tip_amount\n",
    "        print(f\"total bill is {total_bill}\")\n",
    "    except Exception as e:\n",
    "        print(e)\n",
    "\n",
    "bill(3000,20)"
   ]
  },
  {
   "cell_type": "code",
   "execution_count": 62,
   "id": "751619e9-e9d3-4268-b4d2-122e90377656",
   "metadata": {},
   "outputs": [
    {
     "name": "stdout",
     "output_type": "stream",
     "text": [
      "n1: 3\n",
      "n2: 4\n"
     ]
    },
    {
     "name": "stdin",
     "output_type": "stream",
     "text": [
      "enter the n3: 5\n"
     ]
    },
    {
     "name": "stdout",
     "output_type": "stream",
     "text": [
      "the avg of 3,4 and 5 is: 4.0\n"
     ]
    }
   ],
   "source": [
    "def average2(n1,n2):\n",
    "    print(\"n1:\",n1)\n",
    "    print(\"n2:\",n2)\n",
    "    n3=eval(input(\"enter the n3:\"))\n",
    "    avg=(n1+n2+n3)/3\n",
    "    print(f\"the avg of {n1},{n2} and {n3} is: {avg}\")\n",
    "\n",
    "average2(3,4)\n",
    "\n",
    "# while calling the function we want to provide n1,n2\n",
    "# while running the function we want to provide n3"
   ]
  },
  {
   "cell_type": "code",
   "execution_count": 68,
   "id": "7cc72e0f-4174-4935-a120-42469f12c395",
   "metadata": {},
   "outputs": [
    {
     "name": "stdout",
     "output_type": "stream",
     "text": [
      "n1: 3\n"
     ]
    },
    {
     "name": "stdin",
     "output_type": "stream",
     "text": [
      "enter the n2: 4\n",
      "enter the n3: 5\n"
     ]
    },
    {
     "name": "stdout",
     "output_type": "stream",
     "text": [
      "the avg of 3,4 and 5 is: 4.0\n"
     ]
    }
   ],
   "source": [
    "def average2(n1):\n",
    "    print(\"n1:\",n1)\n",
    "    n2=eval(input(\"enter the n2:\"))\n",
    "    n3=eval(input(\"enter the n3:\"))\n",
    "    avg=(n1+n2+n3)/3\n",
    "    print(f\"the avg of {n1},{n2} and {n3} is: {avg}\")\n",
    "\n",
    "average2(3)"
   ]
  },
  {
   "cell_type": "code",
   "execution_count": 72,
   "id": "5816b211-bb6b-4724-bded-e57f47698635",
   "metadata": {},
   "outputs": [
    {
     "name": "stdin",
     "output_type": "stream",
     "text": [
      "enter the n1: 3\n",
      "enter the n2: 4\n",
      "enter the n3: 5\n"
     ]
    },
    {
     "name": "stdout",
     "output_type": "stream",
     "text": [
      "the avg of 3,4 and 5 is: 4.0\n"
     ]
    }
   ],
   "source": [
    "def average2():\n",
    "    n1=eval(input(\"enter the n1:\"))\n",
    "    n2=eval(input(\"enter the n2:\"))\n",
    "    n3=eval(input(\"enter the n3:\"))\n",
    "    avg=(n1+n2+n3)/3\n",
    "    print(f\"the avg of {n1},{n2} and {n3} is: {avg}\")\n",
    "\n",
    "average2()"
   ]
  },
  {
   "cell_type": "code",
   "execution_count": 84,
   "id": "e4e02979-0b55-4cab-b01a-f5141f75e4ce",
   "metadata": {},
   "outputs": [
    {
     "name": "stdin",
     "output_type": "stream",
     "text": [
      "enter the number: 2\n",
      "how much power we want: 3\n"
     ]
    },
    {
     "name": "stdout",
     "output_type": "stream",
     "text": [
      "8\n"
     ]
    }
   ],
   "source": [
    "number=eval(input(\"enter the number:\"))\n",
    "power=eval(input(\"how much power we want:\"))\n",
    "print(number**power)"
   ]
  },
  {
   "cell_type": "code",
   "execution_count": 82,
   "id": "32e4511d-976c-44db-9d3a-ddcc384cf520",
   "metadata": {},
   "outputs": [
    {
     "name": "stdout",
     "output_type": "stream",
     "text": [
      "8\n"
     ]
    }
   ],
   "source": [
    "def power(n,pow):\n",
    "    print(n**pow)\n",
    "\n",
    "power(2,3)"
   ]
  },
  {
   "cell_type": "code",
   "execution_count": 88,
   "id": "aaa38e3e-fb3c-4fce-a6e9-2f419db0bd57",
   "metadata": {},
   "outputs": [
    {
     "ename": "TypeError",
     "evalue": "POWER() takes 0 positional arguments but 1 was given",
     "output_type": "error",
     "traceback": [
      "\u001b[1;31m---------------------------------------------------------------------------\u001b[0m",
      "\u001b[1;31mTypeError\u001b[0m                                 Traceback (most recent call last)",
      "Cell \u001b[1;32mIn[88], line 6\u001b[0m\n\u001b[0;32m      3\u001b[0m     power\u001b[38;5;241m=\u001b[39m\u001b[38;5;28meval\u001b[39m(\u001b[38;5;28minput\u001b[39m(\u001b[38;5;124m\"\u001b[39m\u001b[38;5;124mhow much power we want:\u001b[39m\u001b[38;5;124m\"\u001b[39m))\n\u001b[0;32m      4\u001b[0m     \u001b[38;5;28mprint\u001b[39m(number\u001b[38;5;241m*\u001b[39m\u001b[38;5;241m*\u001b[39mpower)\n\u001b[1;32m----> 6\u001b[0m POWER(\u001b[38;5;241m20\u001b[39m)\n",
      "\u001b[1;31mTypeError\u001b[0m: POWER() takes 0 positional arguments but 1 was given"
     ]
    }
   ],
   "source": [
    "def POWER():\n",
    "    number=eval(input(\"enter the number:\"))\n",
    "    power=eval(input(\"how much power we want:\"))\n",
    "    print(number**power)\n",
    "\n",
    "POWER(20)"
   ]
  },
  {
   "cell_type": "markdown",
   "id": "ca63fa4d-c8f2-468e-b267-884ad2879fba",
   "metadata": {},
   "source": [
    "**Functions with default Arguements**"
   ]
  },
  {
   "cell_type": "code",
   "execution_count": 90,
   "id": "0b05f247-dd63-4d39-9459-b07fbf940d59",
   "metadata": {},
   "outputs": [
    {
     "name": "stdout",
     "output_type": "stream",
     "text": [
      "total bill is 3050\n"
     ]
    }
   ],
   "source": [
    "def bill(bill_amount,tip_amount=50):\n",
    "    try:\n",
    "        total_bill=bill_amount+tip_amount\n",
    "        print(f\"total bill is {total_bill}\")\n",
    "    except Exception as e:\n",
    "        print(e)\n",
    "\n",
    "bill(3000)"
   ]
  },
  {
   "cell_type": "code",
   "execution_count": 97,
   "id": "263c704a-02a7-47e1-85a9-c4b8c587ba20",
   "metadata": {},
   "outputs": [
    {
     "ename": "SyntaxError",
     "evalue": "parameter without a default follows parameter with a default (4122768659.py, line 1)",
     "output_type": "error",
     "traceback": [
      "\u001b[1;36m  Cell \u001b[1;32mIn[97], line 1\u001b[1;36m\u001b[0m\n\u001b[1;33m    def average2(n1,n2=50,n3):\u001b[0m\n\u001b[1;37m                          ^\u001b[0m\n\u001b[1;31mSyntaxError\u001b[0m\u001b[1;31m:\u001b[0m parameter without a default follows parameter with a default\n"
     ]
    }
   ],
   "source": [
    "def average2(n1,n2=50,n3):\n",
    "    print(\"n1:\",n1)\n",
    "    print(\"n2:\",n2)\n",
    "    print(\"n3:\",n3)\n",
    "    avg=(n1+n2+n3)/3\n",
    "    print(f\"the avg of {n1},{n2} and {n3} is: {avg}\")\n",
    "\n",
    "average2(3,4)"
   ]
  },
  {
   "cell_type": "markdown",
   "id": "a16eafac-d301-4bb7-9b14-7e6fb351a623",
   "metadata": {},
   "source": [
    "**always write the default arguments at last**"
   ]
  },
  {
   "cell_type": "code",
   "execution_count": 100,
   "id": "bbe901cf-2845-46c0-b9ea-bba44707017f",
   "metadata": {},
   "outputs": [
    {
     "name": "stdout",
     "output_type": "stream",
     "text": [
      "n1: 3\n",
      "n2: 4\n",
      "n3: 40\n",
      "the avg of 3,4 and 40 is: 15.666666666666666\n"
     ]
    }
   ],
   "source": [
    "def average2(n1,n2,n3=40):\n",
    "    print(\"n1:\",n1)\n",
    "    print(\"n2:\",n2)\n",
    "    print(\"n3:\",n3)\n",
    "    avg=(n1+n2+n3)/3\n",
    "    print(f\"the avg of {n1},{n2} and {n3} is: {avg}\")\n",
    "\n",
    "average2(3,4)"
   ]
  },
  {
   "cell_type": "code",
   "execution_count": 102,
   "id": "5a619fa9-63bc-4954-ba56-53d22105a67f",
   "metadata": {},
   "outputs": [
    {
     "name": "stdout",
     "output_type": "stream",
     "text": [
      "n1: 30\n",
      "n2: 3\n",
      "n3: 4\n",
      "the avg of 30,3 and 4 is: 12.333333333333334\n"
     ]
    }
   ],
   "source": [
    "def average2(n2,n3,n1=30):\n",
    "    print(\"n1:\",n1)\n",
    "    print(\"n2:\",n2)\n",
    "    print(\"n3:\",n3)\n",
    "    avg=(n1+n2+n3)/3\n",
    "    print(f\"the avg of {n1},{n2} and {n3} is: {avg}\")\n",
    "\n",
    "average2(3,4)"
   ]
  },
  {
   "cell_type": "code",
   "execution_count": 104,
   "id": "04b96568-d16a-48ee-9334-c2f15aa1dbcf",
   "metadata": {},
   "outputs": [
    {
     "name": "stdout",
     "output_type": "stream",
     "text": [
      "n1: 30\n",
      "n2: 4\n",
      "n3: 3\n",
      "the avg of 30,4 and 3 is: 12.333333333333334\n"
     ]
    }
   ],
   "source": [
    "def average2(n3,n2,n1=30):\n",
    "    print(\"n1:\",n1)\n",
    "    print(\"n2:\",n2)\n",
    "    print(\"n3:\",n3)\n",
    "    avg=(n1+n2+n3)/3\n",
    "    print(f\"the avg of {n1},{n2} and {n3} is: {avg}\")\n",
    "\n",
    "average2(3,4)"
   ]
  },
  {
   "cell_type": "markdown",
   "id": "cdc8e832-fc7a-4586-922f-d2cdce2c5783",
   "metadata": {},
   "source": [
    "$11/11/2024$"
   ]
  },
  {
   "cell_type": "code",
   "execution_count": 3,
   "id": "4c55695d-195e-4f9b-8761-f1d9294de21a",
   "metadata": {},
   "outputs": [],
   "source": [
    "# with out argumunts\n",
    "# with arguments\n",
    "# default arguments\n",
    "\n",
    "# wap ask the user enter a number\n",
    "# ask the user get a random number\n",
    "# if both numbers are match print won\n",
    "# otherwise lost"
   ]
  },
  {
   "cell_type": "code",
   "execution_count": 9,
   "id": "a7ac5488-1a35-4917-a2b1-931e772bfcda",
   "metadata": {},
   "outputs": [
    {
     "name": "stdin",
     "output_type": "stream",
     "text": [
      "Enter a number: 4\n"
     ]
    },
    {
     "name": "stdout",
     "output_type": "stream",
     "text": [
      "Lost\n"
     ]
    }
   ],
   "source": [
    "# without arguments\n",
    "\n",
    "from random import randint\n",
    "def number():\n",
    "    n1=eval(input(\"Enter a number:\"))\n",
    "    n2=randint(1,100)\n",
    "    if n1==n2:\n",
    "        print(\"Won\")\n",
    "    else:\n",
    "        print(\"Lost\")\n",
    "\n",
    "number()"
   ]
  },
  {
   "cell_type": "code",
   "execution_count": 13,
   "id": "212e8bd8-98ba-4c9a-a603-6751af042c1c",
   "metadata": {},
   "outputs": [
    {
     "name": "stdout",
     "output_type": "stream",
     "text": [
      "Lost\n"
     ]
    }
   ],
   "source": [
    "# with arguments\n",
    "\n",
    "from random import randint\n",
    "def number(n1):\n",
    "    n2=randint(1,100)\n",
    "    if n1==n2:\n",
    "        print(\"Won\")\n",
    "    else:\n",
    "        print(\"Lost\")\n",
    "\n",
    "number(4)"
   ]
  },
  {
   "cell_type": "code",
   "execution_count": 19,
   "id": "37f06b22-c632-4399-989c-96864ea58f34",
   "metadata": {},
   "outputs": [
    {
     "name": "stdout",
     "output_type": "stream",
     "text": [
      "Lost\n"
     ]
    }
   ],
   "source": [
    "# default arguments\n",
    "\n",
    "from random import randint\n",
    "def number(n2=20):\n",
    "    n1=randint(1,10)\n",
    "    if n1==n2:\n",
    "        print(\"Won\")\n",
    "    else:\n",
    "        print(\"Lost\")\n",
    "\n",
    "number()"
   ]
  },
  {
   "cell_type": "markdown",
   "id": "a6caf27c-beae-4127-8cad-03eba26300b9",
   "metadata": {},
   "source": [
    "**Case-1**\n",
    "\n",
    "- step1: Define the function\n",
    "- step2: call the function\n",
    "- step3: run the function"
   ]
  },
  {
   "cell_type": "code",
   "execution_count": 29,
   "id": "3721400f-3f4d-4d66-8b7c-302f67ba3639",
   "metadata": {},
   "outputs": [
    {
     "name": "stdout",
     "output_type": "stream",
     "text": [
      "n1: 30\n",
      "n2: 40\n",
      "n3: 100\n",
      "the avg of 30,40 and 100 is: 56.666666666666664\n"
     ]
    }
   ],
   "source": [
    "def average2(n1,n2,n3=30):\n",
    "    print(\"n1:\",n1)\n",
    "    print(\"n2:\",n2)\n",
    "    print(\"n3:\",n3)\n",
    "    avg=(n1+n2+n3)/3\n",
    "    print(f\"the avg of {n1},{n2} and {n3} is: {avg}\")\n",
    "\n",
    "average2(30,40,100)\n",
    "\n",
    "# while defining n3=40\n",
    "# while calling n3=100\n",
    "# while running also n3=100"
   ]
  },
  {
   "cell_type": "code",
   "execution_count": 33,
   "id": "1f8e62cb-c030-4a35-abd9-3191e84a3ab6",
   "metadata": {},
   "outputs": [
    {
     "name": "stdout",
     "output_type": "stream",
     "text": [
      "a: 10\n",
      "b: 20\n",
      "c: 100\n",
      "130\n"
     ]
    }
   ],
   "source": [
    "def add(a,b,c=50):\n",
    "    print('a:',a)\n",
    "    print('b:',b)\n",
    "    print('c:',c)\n",
    "    d=a+b+c\n",
    "    print(d)\n",
    "\n",
    "add(10,20,100)"
   ]
  },
  {
   "cell_type": "code",
   "execution_count": 35,
   "id": "29bd7d9f-3fd5-4b90-b834-19cf30e72945",
   "metadata": {},
   "outputs": [
    {
     "name": "stdout",
     "output_type": "stream",
     "text": [
      "a: 10\n",
      "b: 20\n",
      "c: 500\n",
      "530\n"
     ]
    }
   ],
   "source": [
    "def add(a,b,c=50):\n",
    "    c=500\n",
    "    print('a:',a)\n",
    "    print('b:',b)\n",
    "    print('c:',c)\n",
    "    d=a+b+c\n",
    "    print(d)\n",
    "\n",
    "add(10,20,100)"
   ]
  },
  {
   "cell_type": "markdown",
   "id": "cb6f1196-4b24-4c6b-9fe6-922176458d93",
   "metadata": {},
   "source": [
    "**local variable vs Global variable**\n",
    "\n",
    "- local variables are used inside the function\n",
    "- global variables are used outside the function\n",
    "- global variables can be used anywhere **inside the function** or **outside the function**"
   ]
  },
  {
   "cell_type": "code",
   "execution_count": 41,
   "id": "21797979-cbed-498a-a4d5-dfeebcfe0609",
   "metadata": {},
   "outputs": [
    {
     "name": "stdin",
     "output_type": "stream",
     "text": [
      "Enter the n1: 2\n",
      "Enter the n2: 3\n",
      "Enter the n3: 4\n"
     ]
    },
    {
     "name": "stdout",
     "output_type": "stream",
     "text": [
      "the average of2,3 and 4 is 9\n"
     ]
    }
   ],
   "source": [
    "n1=eval(input(\"Enter the n1:\"))\n",
    "n2=eval(input(\"Enter the n2:\"))\n",
    "n3=eval(input(\"Enter the n3:\"))\n",
    "def average():\n",
    "    avg=n1+n2+n3\n",
    "    print(f\"the average of{n1},{n2} and {n3} is {avg}\")\n",
    "\n",
    "average()"
   ]
  },
  {
   "cell_type": "code",
   "execution_count": 46,
   "id": "30c35256-7f4d-45fe-b581-9591eb16c4b4",
   "metadata": {},
   "outputs": [
    {
     "name": "stdin",
     "output_type": "stream",
     "text": [
      "Enter the n1: 3\n",
      "Enter the n2: 4\n",
      "Enter the n3: 5\n"
     ]
    },
    {
     "name": "stdout",
     "output_type": "stream",
     "text": [
      "the average of3,4 and 5 is 12\n"
     ]
    }
   ],
   "source": [
    "\n",
    "\n",
    "def average():\n",
    "    n1=eval(input(\"Enter the n1:\"))\n",
    "    n2=eval(input(\"Enter the n2:\"))\n",
    "    n3=eval(input(\"Enter the n3:\"))\n",
    "    avg=n1+n2+n3\n",
    "    print(f\"the average of{n1},{n2} and {n3} is {avg}\")\n",
    "\n",
    "average()"
   ]
  },
  {
   "cell_type": "code",
   "execution_count": 48,
   "id": "f04c88f9-f866-45c8-9ecf-51106c097bc9",
   "metadata": {},
   "outputs": [
    {
     "ename": "NameError",
     "evalue": "name 'avg' is not defined",
     "output_type": "error",
     "traceback": [
      "\u001b[1;31m---------------------------------------------------------------------------\u001b[0m",
      "\u001b[1;31mNameError\u001b[0m                                 Traceback (most recent call last)",
      "Cell \u001b[1;32mIn[48], line 1\u001b[0m\n\u001b[1;32m----> 1\u001b[0m \u001b[38;5;28mprint\u001b[39m(n1,n2,n3,avg)\n",
      "\u001b[1;31mNameError\u001b[0m: name 'avg' is not defined"
     ]
    }
   ],
   "source": [
    "print(n1,n2,n3,avg)"
   ]
  },
  {
   "cell_type": "markdown",
   "id": "7b715f6f-d3c2-4001-a7e9-70fdc11ee6e6",
   "metadata": {},
   "source": [
    "**Note**\n",
    "\n",
    "- Local variables can not use outside the function\n",
    "- in above code N1 is a local variable\n",
    "- we are trying to use outside the function it is throwing the error"
   ]
  },
  {
   "cell_type": "code",
   "execution_count": 50,
   "id": "4bbd2a82-cc90-4401-b9e3-b5214c0ae9aa",
   "metadata": {},
   "outputs": [
    {
     "name": "stdin",
     "output_type": "stream",
     "text": [
      "Enter the n1: 2\n",
      "Enter the n2: 3\n",
      "Enter the n3: 4\n"
     ]
    },
    {
     "name": "stdout",
     "output_type": "stream",
     "text": [
      "the average of2,3 and 4 is 9\n"
     ]
    }
   ],
   "source": [
    "n1=eval(input(\"Enter the n1:\"))\n",
    "n2=eval(input(\"Enter the n2:\"))\n",
    "n3=eval(input(\"Enter the n3:\"))\n",
    "def average():\n",
    "    avg=n1+n2+n3\n",
    "    print(f\"the average of{n1},{n2} and {n3} is {avg}\")\n",
    "\n",
    "average()"
   ]
  },
  {
   "cell_type": "code",
   "execution_count": 52,
   "id": "6369c5a7-4500-4cdf-8e49-7c9504fbf98f",
   "metadata": {},
   "outputs": [
    {
     "ename": "NameError",
     "evalue": "name 'avg' is not defined",
     "output_type": "error",
     "traceback": [
      "\u001b[1;31m---------------------------------------------------------------------------\u001b[0m",
      "\u001b[1;31mNameError\u001b[0m                                 Traceback (most recent call last)",
      "Cell \u001b[1;32mIn[52], line 1\u001b[0m\n\u001b[1;32m----> 1\u001b[0m avg\n",
      "\u001b[1;31mNameError\u001b[0m: name 'avg' is not defined"
     ]
    }
   ],
   "source": [
    "avg"
   ]
  },
  {
   "cell_type": "markdown",
   "id": "6ff30f85-1623-4121-8fec-982f8e7b444b",
   "metadata": {},
   "source": [
    "- global variables are initialized outside the function\n",
    "\n",
    "- global variables can be used anywhere\n",
    "\n",
    "- local variables are initialized inside the function\n",
    "\n",
    "- local variables can not used outside the function"
   ]
  },
  {
   "cell_type": "code",
   "execution_count": 61,
   "id": "ead90e2c-fa6e-4222-850f-efc6c718d27c",
   "metadata": {},
   "outputs": [
    {
     "name": "stdin",
     "output_type": "stream",
     "text": [
      "Enter the n1: 2\n",
      "Enter the n2: 3\n",
      "Enter the n3: 4\n"
     ]
    },
    {
     "name": "stdout",
     "output_type": "stream",
     "text": [
      "the average of2,3 and 4 is 9\n"
     ]
    }
   ],
   "source": [
    "n1=eval(input(\"Enter the n1:\"))\n",
    "n2=eval(input(\"Enter the n2:\"))\n",
    "def average():\n",
    "    n3=eval(input(\"Enter the n3:\"))\n",
    "    avg=n1+n2+n3\n",
    "    print(f\"the average of{n1},{n2} and {n3} is {avg}\")\n",
    "\n",
    "average()"
   ]
  },
  {
   "cell_type": "markdown",
   "id": "60f3dc6b-ed9f-436e-8f26-2309fb745078",
   "metadata": {},
   "source": [
    "**how to use local variables outside the function call**"
   ]
  },
  {
   "cell_type": "code",
   "execution_count": 64,
   "id": "2fab7cfa-8b82-4efe-b407-05569e3b5a8d",
   "metadata": {},
   "outputs": [
    {
     "name": "stdin",
     "output_type": "stream",
     "text": [
      "Enter the n1: 100\n",
      "Enter the n2: 200\n",
      "Enter the n3: 300\n"
     ]
    },
    {
     "name": "stdout",
     "output_type": "stream",
     "text": [
      "the average of100,200 and 300 is 200.0\n"
     ]
    }
   ],
   "source": [
    "n1=eval(input(\"Enter the n1:\"))\n",
    "n2=eval(input(\"Enter the n2:\"))\n",
    "n3=eval(input(\"Enter the n3:\"))\n",
    "avg=0\n",
    "def average():\n",
    "    avg=(n1+n2+n3)/3\n",
    "    print(f\"the average of{n1},{n2} and {n3} is {avg}\")\n",
    "\n",
    "average()"
   ]
  },
  {
   "cell_type": "code",
   "execution_count": 66,
   "id": "6116a1be-46b6-4e31-9379-71a3301a4109",
   "metadata": {},
   "outputs": [
    {
     "data": {
      "text/plain": [
       "0"
      ]
     },
     "execution_count": 66,
     "metadata": {},
     "output_type": "execute_result"
    }
   ],
   "source": [
    "avg"
   ]
  },
  {
   "cell_type": "code",
   "execution_count": 72,
   "id": "390c5f00-dab9-4411-b367-d54a8d018ba1",
   "metadata": {},
   "outputs": [
    {
     "name": "stdout",
     "output_type": "stream",
     "text": [
      "the addition of 100,200and300 is 600\n"
     ]
    }
   ],
   "source": [
    "a=100\n",
    "b=200\n",
    "c=300\n",
    "def add1():\n",
    "    global add\n",
    "    add=a+b+c\n",
    "    print(f\"the addition of {a},{b}and{c} is {add}\")\n",
    "\n",
    "add1()"
   ]
  },
  {
   "cell_type": "code",
   "execution_count": 74,
   "id": "8e7adcc8-9ef1-4318-8986-fcb29da1be5c",
   "metadata": {},
   "outputs": [
    {
     "data": {
      "text/plain": [
       "600"
      ]
     },
     "execution_count": 74,
     "metadata": {},
     "output_type": "execute_result"
    }
   ],
   "source": [
    "add"
   ]
  },
  {
   "cell_type": "markdown",
   "id": "5688e663-3aa7-4b9c-b310-945683fe1649",
   "metadata": {},
   "source": [
    "- Local variables can use outside the function in two ways\n",
    "\n",
    "- by making local variable as global by using **global**\n",
    "    \n",
    "- by using return statement also"
   ]
  },
  {
   "cell_type": "code",
   "execution_count": 81,
   "id": "16396e50-4145-46b0-899f-d999888ce9bb",
   "metadata": {},
   "outputs": [
    {
     "name": "stdout",
     "output_type": "stream",
     "text": [
      "the addition of 100,200 and 300 is 600\n",
      "600\n"
     ]
    }
   ],
   "source": [
    "a=100\n",
    "b=200\n",
    "c=300\n",
    "def add1():\n",
    "    global add\n",
    "    add=a+b+c\n",
    "    print(f\"the addition of {a},{b} and {c} is {add}\")\n",
    "\n",
    "add1()\n",
    "print(add)"
   ]
  },
  {
   "cell_type": "markdown",
   "id": "691147bc-da4c-4d7f-8c35-845f5114f7e7",
   "metadata": {},
   "source": [
    "$13/11/2024$"
   ]
  },
  {
   "cell_type": "code",
   "execution_count": 2,
   "id": "35403103-5741-49ec-a3a8-59269038ea03",
   "metadata": {},
   "outputs": [
    {
     "name": "stdout",
     "output_type": "stream",
     "text": [
      "50 -10\n"
     ]
    }
   ],
   "source": [
    "def summ(a,b):\n",
    "    global add,sub\n",
    "    add=a+b\n",
    "    sub=a-b\n",
    "    print(add,sub)\n",
    "\n",
    "summ(20,30)"
   ]
  },
  {
   "cell_type": "code",
   "execution_count": 4,
   "id": "d076b5b7-1c15-4532-bb44-d2f57e974dce",
   "metadata": {},
   "outputs": [
    {
     "data": {
      "text/plain": [
       "(50, -10)"
      ]
     },
     "execution_count": 4,
     "metadata": {},
     "output_type": "execute_result"
    }
   ],
   "source": [
    "add,sub"
   ]
  },
  {
   "cell_type": "markdown",
   "id": "58628ed4-b017-4218-8ed8-d415934d9422",
   "metadata": {},
   "source": [
    "**unbound local error**\n",
    "\n",
    "- unbound local error means the variable is not defined\n",
    "\n",
    "- that variable is used as both input and output inside the function"
   ]
  },
  {
   "cell_type": "code",
   "execution_count": 13,
   "id": "6d3b3750-8b18-44fe-a8e1-273ebb78ee58",
   "metadata": {},
   "outputs": [
    {
     "ename": "UnboundLocalError",
     "evalue": "cannot access local variable 'b' where it is not associated with a value",
     "output_type": "error",
     "traceback": [
      "\u001b[1;31m---------------------------------------------------------------------------\u001b[0m",
      "\u001b[1;31mUnboundLocalError\u001b[0m                         Traceback (most recent call last)",
      "Cell \u001b[1;32mIn[13], line 6\u001b[0m\n\u001b[0;32m      3\u001b[0m     b\u001b[38;5;241m=\u001b[39mb\u001b[38;5;241m+\u001b[39ma\n\u001b[0;32m      4\u001b[0m     \u001b[38;5;28mprint\u001b[39m(b)\n\u001b[1;32m----> 6\u001b[0m fun1()\n",
      "Cell \u001b[1;32mIn[13], line 3\u001b[0m, in \u001b[0;36mfun1\u001b[1;34m()\u001b[0m\n\u001b[0;32m      1\u001b[0m \u001b[38;5;28;01mdef\u001b[39;00m \u001b[38;5;21mfun1\u001b[39m():\n\u001b[0;32m      2\u001b[0m     a\u001b[38;5;241m=\u001b[39m\u001b[38;5;241m10\u001b[39m\n\u001b[1;32m----> 3\u001b[0m     b\u001b[38;5;241m=\u001b[39mb\u001b[38;5;241m+\u001b[39ma\n\u001b[0;32m      4\u001b[0m     \u001b[38;5;28mprint\u001b[39m(b)\n",
      "\u001b[1;31mUnboundLocalError\u001b[0m: cannot access local variable 'b' where it is not associated with a value"
     ]
    }
   ],
   "source": [
    "def fun1():\n",
    "    a=10\n",
    "    b=b+a\n",
    "    print(b)\n",
    "\n",
    "fun1()"
   ]
  },
  {
   "cell_type": "code",
   "execution_count": 15,
   "id": "7faf6bd5-ac0b-4882-8261-d8a08c505e9b",
   "metadata": {},
   "outputs": [
    {
     "ename": "NameError",
     "evalue": "name 'b' is not defined",
     "output_type": "error",
     "traceback": [
      "\u001b[1;31m---------------------------------------------------------------------------\u001b[0m",
      "\u001b[1;31mNameError\u001b[0m                                 Traceback (most recent call last)",
      "Cell \u001b[1;32mIn[15], line 6\u001b[0m\n\u001b[0;32m      3\u001b[0m     c\u001b[38;5;241m=\u001b[39mb\u001b[38;5;241m+\u001b[39ma\n\u001b[0;32m      4\u001b[0m     \u001b[38;5;28mprint\u001b[39m(c)\n\u001b[1;32m----> 6\u001b[0m fun1()\n",
      "Cell \u001b[1;32mIn[15], line 3\u001b[0m, in \u001b[0;36mfun1\u001b[1;34m()\u001b[0m\n\u001b[0;32m      1\u001b[0m \u001b[38;5;28;01mdef\u001b[39;00m \u001b[38;5;21mfun1\u001b[39m():\n\u001b[0;32m      2\u001b[0m     a\u001b[38;5;241m=\u001b[39m\u001b[38;5;241m10\u001b[39m\n\u001b[1;32m----> 3\u001b[0m     c\u001b[38;5;241m=\u001b[39mb\u001b[38;5;241m+\u001b[39ma\n\u001b[0;32m      4\u001b[0m     \u001b[38;5;28mprint\u001b[39m(c)\n",
      "\u001b[1;31mNameError\u001b[0m: name 'b' is not defined"
     ]
    }
   ],
   "source": [
    "def fun1():\n",
    "    a=10\n",
    "    c=b+a\n",
    "    print(c)\n",
    "\n",
    "fun1()"
   ]
  },
  {
   "cell_type": "code",
   "execution_count": 1,
   "id": "3463ecc9-dea5-4c95-9ab2-e0f19573e25f",
   "metadata": {},
   "outputs": [
    {
     "ename": "NameError",
     "evalue": "name 'b' is not defined",
     "output_type": "error",
     "traceback": [
      "\u001b[1;31m---------------------------------------------------------------------------\u001b[0m",
      "\u001b[1;31mNameError\u001b[0m                                 Traceback (most recent call last)",
      "Cell \u001b[1;32mIn[1], line 2\u001b[0m\n\u001b[0;32m      1\u001b[0m a\u001b[38;5;241m=\u001b[39m\u001b[38;5;241m10\u001b[39m\n\u001b[1;32m----> 2\u001b[0m b\u001b[38;5;241m=\u001b[39mb\u001b[38;5;241m+\u001b[39ma\n",
      "\u001b[1;31mNameError\u001b[0m: name 'b' is not defined"
     ]
    }
   ],
   "source": [
    "a=10\n",
    "b=b+a"
   ]
  },
  {
   "cell_type": "markdown",
   "id": "f60de9a7-fe29-4583-805b-b815d41e6a45",
   "metadata": {},
   "source": [
    "**return statement**\n",
    "\n",
    "- till now above we have created a function with print statement in order to see the output\n",
    "\n",
    "- the function output we are not able to use outside the function\n",
    "\n",
    "- because it is a local variable\n",
    "\n",
    "- one method we used to is **global**\n",
    "\n",
    "- another method is return statement\n",
    "\n",
    "- return means some thing we are receiving\n",
    "\n",
    "- print means only we can see the answer"
   ]
  },
  {
   "cell_type": "code",
   "execution_count": 29,
   "id": "cc2dcea2-b295-4de0-b28d-f71767fab8af",
   "metadata": {},
   "outputs": [],
   "source": [
    "def add(a,b):\n",
    "    c=a+b\n",
    "    return(c)\n",
    "\n",
    "c=add(20,30)"
   ]
  },
  {
   "cell_type": "code",
   "execution_count": 31,
   "id": "fcadc53a-b93f-4f60-bb86-fe050767731e",
   "metadata": {},
   "outputs": [
    {
     "data": {
      "text/plain": [
       "50"
      ]
     },
     "execution_count": 31,
     "metadata": {},
     "output_type": "execute_result"
    }
   ],
   "source": [
    "c"
   ]
  },
  {
   "cell_type": "code",
   "execution_count": 33,
   "id": "9ab2963e-2060-4417-bd1c-95a1baf783b2",
   "metadata": {},
   "outputs": [],
   "source": [
    "def add(a,b):\n",
    "    c=a+b\n",
    "    return(c)\n",
    "\n",
    "val1=add(20,30)"
   ]
  },
  {
   "cell_type": "code",
   "execution_count": 35,
   "id": "e5d39f7d-670c-4c35-aa1f-2333063b8854",
   "metadata": {},
   "outputs": [
    {
     "data": {
      "text/plain": [
       "50"
      ]
     },
     "execution_count": 35,
     "metadata": {},
     "output_type": "execute_result"
    }
   ],
   "source": [
    "val1"
   ]
  },
  {
   "cell_type": "code",
   "execution_count": 55,
   "id": "acbd9065-fcfb-4b27-875a-9ee961917fc4",
   "metadata": {},
   "outputs": [
    {
     "name": "stdout",
     "output_type": "stream",
     "text": [
      "300 -100\n"
     ]
    }
   ],
   "source": [
    "def add_sub(a,b):\n",
    "    summ=a+b\n",
    "    sub=a-b\n",
    "    print(summ,sub)\n",
    "    return(summ,sub)\n",
    "\n",
    "summ,sub=add_sub(100,200)"
   ]
  },
  {
   "cell_type": "code",
   "execution_count": 57,
   "id": "1208973e-c5cd-446b-8194-89c8c6b88f62",
   "metadata": {},
   "outputs": [
    {
     "name": "stdout",
     "output_type": "stream",
     "text": [
      "300\n",
      "-100\n"
     ]
    }
   ],
   "source": [
    "print(summ)\n",
    "print(sub)"
   ]
  },
  {
   "cell_type": "code",
   "execution_count": 59,
   "id": "922c4605-e49e-4a8c-a3b1-ba43cd947f95",
   "metadata": {},
   "outputs": [
    {
     "name": "stdout",
     "output_type": "stream",
     "text": [
      "300 -100\n"
     ]
    }
   ],
   "source": [
    "def add_sub(a,b):\n",
    "    summ=a+b\n",
    "    sub=a-b\n",
    "    print(summ,sub)\n",
    "    return(summ,sub)\n",
    "\n",
    "sub,summ=add_sub(100,200)"
   ]
  },
  {
   "cell_type": "code",
   "execution_count": 61,
   "id": "99cac55e-5cc7-4f45-b7c8-2a990d0fe178",
   "metadata": {},
   "outputs": [
    {
     "name": "stdout",
     "output_type": "stream",
     "text": [
      "-100\n",
      "300\n"
     ]
    }
   ],
   "source": [
    "print(summ)\n",
    "print(sub)"
   ]
  },
  {
   "cell_type": "code",
   "execution_count": 75,
   "id": "7d2fb617-47ad-4edf-85ae-46da543e8cc6",
   "metadata": {},
   "outputs": [
    {
     "data": {
      "text/plain": [
       "300"
      ]
     },
     "execution_count": 75,
     "metadata": {},
     "output_type": "execute_result"
    }
   ],
   "source": [
    "def add_sub(a,b):\n",
    "    summ=a+b\n",
    "    sub=a-b\n",
    "    return(summ)\n",
    "    return(sub)\n",
    "\n",
    "add_sub(100,200)"
   ]
  },
  {
   "cell_type": "code",
   "execution_count": null,
   "id": "bf7f9aa0-fdbb-476c-9dc9-49b84527e517",
   "metadata": {},
   "outputs": [],
   "source": [
    "n1=100,200 #pass\n",
    "n1,n2=100,200 #pass\n",
    "n1,n2=100 # f"
   ]
  },
  {
   "cell_type": "code",
   "execution_count": 93,
   "id": "c6a719ac-36b5-4503-bd61-6326a494fbe9",
   "metadata": {},
   "outputs": [
    {
     "data": {
      "text/plain": [
       "(100, 200)"
      ]
     },
     "execution_count": 93,
     "metadata": {},
     "output_type": "execute_result"
    }
   ],
   "source": [
    "n1=100,200 #(tupple)\n",
    "n1"
   ]
  },
  {
   "cell_type": "code",
   "execution_count": 85,
   "id": "37131924-9d76-4050-99f2-8cdd12935087",
   "metadata": {},
   "outputs": [],
   "source": [
    "def add_sub(a,b):\n",
    "    summ=a+b\n",
    "    sub=a-b\n",
    "    return(summ,sub)\n",
    "\n",
    "op=add_sub(100,200)"
   ]
  },
  {
   "cell_type": "code",
   "execution_count": 87,
   "id": "2fdf17fe-3607-4d88-9571-6f6c581b9041",
   "metadata": {},
   "outputs": [
    {
     "data": {
      "text/plain": [
       "(300, -100)"
      ]
     },
     "execution_count": 87,
     "metadata": {},
     "output_type": "execute_result"
    }
   ],
   "source": [
    "op"
   ]
  },
  {
   "cell_type": "code",
   "execution_count": null,
   "id": "d13024e2-2e2e-4ff7-970d-25e095da1596",
   "metadata": {},
   "outputs": [],
   "source": [
    "def add(a,b):\n",
    "    c=a+b\n",
    "    return(c)\n",
    "\n",
    "c=add(20,30)\n",
    "\n",
    "############################\n",
    "def add_sub(a,b):\n",
    "    summ=a+b\n",
    "    sub=a-b\n",
    "    print(summ,sub)\n",
    "    return(summ,sub)\n",
    "\n",
    "sub,summ=add_sub(100,200)\n",
    "\n",
    "############################\n",
    "def add_sub(a,b):\n",
    "    summ=a+b\n",
    "    sub=a-b\n",
    "    return(summ,sub)\n",
    "\n",
    "op=add_sub(100,200)\n",
    "\n",
    "# op is not able to use if you dont use return"
   ]
  },
  {
   "cell_type": "markdown",
   "id": "d04c3add-0dd9-4320-8327-b9ae5eb4b302",
   "metadata": {},
   "source": [
    "**global vs return**\n",
    "\n",
    "- global keyword used for we can take the inside variable to outside the function\n",
    "\n",
    "- return can return any value outside the function\n",
    "\n",
    "- **the value you return can be used another notebook also**"
   ]
  },
  {
   "cell_type": "markdown",
   "id": "47ab54fa-98f8-4b64-b4b8-f5e0fba958f4",
   "metadata": {},
   "source": [
    "**function in functions**"
   ]
  },
  {
   "cell_type": "code",
   "execution_count": 101,
   "id": "7e884e28-fffd-4eb0-9ceb-db31b4d8713b",
   "metadata": {},
   "outputs": [
    {
     "name": "stdout",
     "output_type": "stream",
     "text": [
      "hello good morning\n",
      "hello good night\n"
     ]
    }
   ],
   "source": [
    "def greet1():\n",
    "    print(\"hello good morning\")\n",
    "\n",
    "def greet2():\n",
    "    print(\"hello good night\")\n",
    "\n",
    "greet1()\n",
    "greet2()"
   ]
  },
  {
   "cell_type": "code",
   "execution_count": 105,
   "id": "e664d957-f7d0-45d8-8230-5b9d07840d2e",
   "metadata": {},
   "outputs": [
    {
     "name": "stdout",
     "output_type": "stream",
     "text": [
      "greet1 function starts\n",
      "hello good morning\n",
      "hello good night\n"
     ]
    }
   ],
   "source": [
    "def greet1():\n",
    "    print(\"hello good morning\")\n",
    "\n",
    "def greet2():\n",
    "    print(\"greet1 function starts\")\n",
    "    greet1()\n",
    "    print(\"hello good night\")\n",
    "\n",
    "greet2()"
   ]
  },
  {
   "cell_type": "code",
   "execution_count": 109,
   "id": "04c16225-bde6-483c-a6eb-fadad396d58f",
   "metadata": {},
   "outputs": [
    {
     "name": "stdout",
     "output_type": "stream",
     "text": [
      "greet2 function starts\n",
      "hello good night\n",
      "hello good morning\n"
     ]
    }
   ],
   "source": [
    "def greet1():\n",
    "    print(\"greet2 function starts\")\n",
    "    greet2()\n",
    "    print(\"hello good morning\")\n",
    "\n",
    "def greet2():\n",
    "    print(\"hello good night\")\n",
    "\n",
    "greet1()"
   ]
  },
  {
   "cell_type": "code",
   "execution_count": null,
   "id": "b1331928-e63d-4260-9f1e-f369af6804af",
   "metadata": {},
   "outputs": [],
   "source": [
    "def greet1():\n",
    "    print(\"hello good morning\")\n",
    "\n",
    "def greet2():\n",
    "    print(\"hello good night\")\n",
    "\n",
    "greet1()\n",
    "greet2()\n",
    "\n",
    "####################################\n",
    "def greet1():\n",
    "    print(\"hello good morning\")\n",
    "\n",
    "def greet2():\n",
    "    print(\"greet1 function starts\")\n",
    "    greet1()\n",
    "    print(\"hello good night\")\n",
    "\n",
    "greet2()\n",
    "\n",
    "####################################\n",
    "def greet1():\n",
    "    print(\"greet2 function starts\")\n",
    "    greet2()\n",
    "    print(\"hello good morning\")\n",
    "\n",
    "def greet2():\n",
    "    print(\"hello good night\")\n",
    "\n",
    "greet2()"
   ]
  },
  {
   "cell_type": "code",
   "execution_count": null,
   "id": "5a6695a7-4346-4665-9a59-ad76abc3bc15",
   "metadata": {},
   "outputs": [],
   "source": [
    "def greet1():\n",
    "    print(\"greet2 function starts\")\n",
    "    greet2()\n",
    "    print(\"hello good morning\")\n",
    "\n",
    "def greet2():\n",
    "    print(\"greeta function starts\")\n",
    "    greet1()\n",
    "    print(\"hello good night\")\n",
    "\n",
    "greet2()\n",
    "\n",
    "# loop error"
   ]
  },
  {
   "cell_type": "code",
   "execution_count": 111,
   "id": "e6d142c7-2b61-4f6a-b4a6-99c788c44365",
   "metadata": {},
   "outputs": [
    {
     "ename": "NameError",
     "evalue": "name 'inside_function' is not defined",
     "output_type": "error",
     "traceback": [
      "\u001b[1;31m---------------------------------------------------------------------------\u001b[0m",
      "\u001b[1;31mNameError\u001b[0m                                 Traceback (most recent call last)",
      "Cell \u001b[1;32mIn[111], line 5\u001b[0m\n\u001b[0;32m      2\u001b[0m     \u001b[38;5;28;01mdef\u001b[39;00m \u001b[38;5;21minside_function\u001b[39m():\n\u001b[0;32m      3\u001b[0m         \u001b[38;5;28mprint\u001b[39m(\u001b[38;5;124mf\u001b[39m\u001b[38;5;124m\"\u001b[39m\u001b[38;5;124mhello \u001b[39m\u001b[38;5;132;01m{\u001b[39;00mname\u001b[38;5;132;01m}\u001b[39;00m\u001b[38;5;124m good morning\u001b[39m\u001b[38;5;124m\"\u001b[39m)\n\u001b[1;32m----> 5\u001b[0m inside_function()\n",
      "\u001b[1;31mNameError\u001b[0m: name 'inside_function' is not defined"
     ]
    }
   ],
   "source": [
    "def outside_function(name):\n",
    "    def inside_function():\n",
    "        print(f\"hello {name} good morning\")\n",
    "\n",
    "inside_function()"
   ]
  },
  {
   "cell_type": "code",
   "execution_count": 115,
   "id": "4e081c91-d163-4e14-b935-373da40349cd",
   "metadata": {},
   "outputs": [
    {
     "ename": "NameError",
     "evalue": "name 'name' is not defined",
     "output_type": "error",
     "traceback": [
      "\u001b[1;31m---------------------------------------------------------------------------\u001b[0m",
      "\u001b[1;31mNameError\u001b[0m                                 Traceback (most recent call last)",
      "Cell \u001b[1;32mIn[115], line 11\u001b[0m\n\u001b[0;32m      8\u001b[0m \u001b[38;5;28;01mdef\u001b[39;00m \u001b[38;5;21moutside_function\u001b[39m(name):\n\u001b[0;32m      9\u001b[0m     inside_function()\n\u001b[1;32m---> 11\u001b[0m outside_function(\u001b[38;5;124m'\u001b[39m\u001b[38;5;124mpython\u001b[39m\u001b[38;5;124m'\u001b[39m)\n",
      "Cell \u001b[1;32mIn[115], line 9\u001b[0m, in \u001b[0;36moutside_function\u001b[1;34m(name)\u001b[0m\n\u001b[0;32m      8\u001b[0m \u001b[38;5;28;01mdef\u001b[39;00m \u001b[38;5;21moutside_function\u001b[39m(name):\n\u001b[1;32m----> 9\u001b[0m     inside_function()\n",
      "Cell \u001b[1;32mIn[115], line 3\u001b[0m, in \u001b[0;36minside_function\u001b[1;34m()\u001b[0m\n\u001b[0;32m      2\u001b[0m \u001b[38;5;28;01mdef\u001b[39;00m \u001b[38;5;21minside_function\u001b[39m():\n\u001b[1;32m----> 3\u001b[0m     \u001b[38;5;28mprint\u001b[39m(\u001b[38;5;124mf\u001b[39m\u001b[38;5;124m\"\u001b[39m\u001b[38;5;124mhello \u001b[39m\u001b[38;5;132;01m{\u001b[39;00mname\u001b[38;5;132;01m}\u001b[39;00m\u001b[38;5;124m goog morning\u001b[39m\u001b[38;5;124m\"\u001b[39m)\n",
      "\u001b[1;31mNameError\u001b[0m: name 'name' is not defined"
     ]
    }
   ],
   "source": [
    "#########Error code###############\n",
    "def inside_function():\n",
    "    print(f\"hello {name} goog morning\")\n",
    "    # we need to sense here\n",
    "    # name is not defined not even globally\n",
    "    # if i call this function def i will get error\n",
    "\n",
    "def outside_function(name):\n",
    "    inside_function()\n",
    "\n",
    "outside_function('python')"
   ]
  },
  {
   "cell_type": "code",
   "execution_count": 6,
   "id": "c40a9d8d-bdaf-44be-9051-64ae33d96435",
   "metadata": {},
   "outputs": [
    {
     "name": "stdout",
     "output_type": "stream",
     "text": [
      "hello python good morning\n"
     ]
    }
   ],
   "source": [
    "def inside_function(name):\n",
    "    print(f\"hello {name} good morning\")\n",
    "    # is the variable defined anywhere\n",
    "    \n",
    "def outside_function(name):\n",
    "    inside_function(name)\n",
    "\n",
    "outside_function('python')"
   ]
  },
  {
   "cell_type": "code",
   "execution_count": 10,
   "id": "9d64db16-2800-486c-9423-5618a71d1e2f",
   "metadata": {},
   "outputs": [
    {
     "name": "stdout",
     "output_type": "stream",
     "text": [
      "hello Naresh good morning\n"
     ]
    }
   ],
   "source": [
    "def inside_function(name):\n",
    "    print(f'hello {name} good morning')\n",
    "inside_function('Naresh')"
   ]
  },
  {
   "cell_type": "code",
   "execution_count": 20,
   "id": "f6904b2d-f2e4-4498-8021-c28aa6dcdd5a",
   "metadata": {},
   "outputs": [
    {
     "name": "stdout",
     "output_type": "stream",
     "text": [
      "hello Naresh good morning\n"
     ]
    }
   ],
   "source": [
    "def outside_function(name):\n",
    "    def inside_function(name):\n",
    "        print(f\"hello {name} good morning\")\n",
    "    inside_function('Naresh')\n",
    "\n",
    "outside_function('Naresh')"
   ]
  },
  {
   "cell_type": "code",
   "execution_count": 16,
   "id": "a0eb5c26-94cc-4c55-a4ed-40dc3dc8e591",
   "metadata": {},
   "outputs": [
    {
     "name": "stdout",
     "output_type": "stream",
     "text": [
      "30\n"
     ]
    }
   ],
   "source": [
    "def add(a,b):\n",
    "    print(a+b)\n",
    "\n",
    "add(10,20)"
   ]
  },
  {
   "cell_type": "code",
   "execution_count": 123,
   "id": "9a8ffee1-3dea-4e70-90bf-0beb5d183d4a",
   "metadata": {},
   "outputs": [
    {
     "name": "stdout",
     "output_type": "stream",
     "text": [
      "30\n"
     ]
    }
   ],
   "source": [
    "def math():\n",
    "    def add(a,b):\n",
    "        print(a+b)\n",
    "\n",
    "    add(10,20)\n",
    "\n",
    "math()"
   ]
  },
  {
   "cell_type": "code",
   "execution_count": 129,
   "id": "b7031d55-3f69-418c-94be-f600a1bd2596",
   "metadata": {},
   "outputs": [
    {
     "name": "stdout",
     "output_type": "stream",
     "text": [
      "30\n"
     ]
    }
   ],
   "source": [
    "def math1():\n",
    "    def math():\n",
    "        def add(a,b):\n",
    "            print(a+b)\n",
    "\n",
    "        add(10,20)\n",
    "\n",
    "    math()\n",
    "\n",
    "math1()"
   ]
  },
  {
   "cell_type": "code",
   "execution_count": 135,
   "id": "b9143923-d61a-4b4a-9ec1-6f1dc79baf1a",
   "metadata": {},
   "outputs": [
    {
     "name": "stdout",
     "output_type": "stream",
     "text": [
      "30\n"
     ]
    }
   ],
   "source": [
    "def math(a,b):\n",
    "    def add():\n",
    "        print(a+b)\n",
    "\n",
    "    add()\n",
    "\n",
    "math(10,20)"
   ]
  },
  {
   "cell_type": "code",
   "execution_count": 139,
   "id": "a7099610-f8e3-4506-bb8d-56c068865966",
   "metadata": {},
   "outputs": [
    {
     "name": "stdout",
     "output_type": "stream",
     "text": [
      "hello python goog morning\n"
     ]
    }
   ],
   "source": [
    "def outside_function(name):\n",
    "    def inside_function():\n",
    "        print(f\"hello {name} goog morning\")\n",
    "\n",
    "    inside_function()\n",
    "\n",
    "\n",
    "outside_function('python')"
   ]
  },
  {
   "cell_type": "code",
   "execution_count": 22,
   "id": "183687a2-0dcd-4cf0-a0a8-36848315659e",
   "metadata": {},
   "outputs": [],
   "source": [
    "# calculator program\n",
    "\n",
    "# First create 4 function\n",
    "\n",
    "# add function\n",
    "#   def add():\n",
    "#        print(a+b)\n",
    "# sub function\n",
    "# mul function\n",
    "# div function\n",
    "\n",
    "# print(\"enter the value 1,2,3,4\")\n",
    "\n",
    "# main function\n",
    "#    a=number\n",
    "#    b=number\n",
    "#    operator=\n",
    "#    if operator==1\n",
    "#         add()"
   ]
  },
  {
   "cell_type": "code",
   "execution_count": 5,
   "id": "53af5b31-f2f0-4348-9296-6f4aede3bfea",
   "metadata": {},
   "outputs": [
    {
     "name": "stdin",
     "output_type": "stream",
     "text": [
      "Enter a number: 3\n",
      "Enter a number: 4\n",
      "Enter the number: 1 or 2 or 3 or 4: 3\n"
     ]
    },
    {
     "name": "stdout",
     "output_type": "stream",
     "text": [
      "You selected multiplication\n",
      "12\n"
     ]
    }
   ],
   "source": [
    "def main():\n",
    "    n1=eval(input(\"Enter a number:\"))\n",
    "    n2=eval(input(\"Enter a number:\"))\n",
    "    def addition():\n",
    "        sum=n1+n2\n",
    "        return(sum)\n",
    "    sum=addition()\n",
    "    def subtraction():\n",
    "        sub=n1-n2\n",
    "        return(sub)\n",
    "    sub=subtraction()\n",
    "    def multiplication():\n",
    "        mul=n1*n2\n",
    "        return(mul)\n",
    "    mul=multiplication()\n",
    "    def division():\n",
    "        div=n1/n2\n",
    "        return(div)\n",
    "    div=division()\n",
    "\n",
    "\n",
    "    button=eval(input(\"Enter the number: 1 or 2 or 3 or 4:\"))\n",
    "    if button==1:\n",
    "        print(\"You selected addition\")\n",
    "        print(sum)\n",
    "    elif button==2:\n",
    "        print(\"You selected subtraction\")\n",
    "        print(sub)\n",
    "    elif button==3:\n",
    "        print(\"You selected multiplication\")\n",
    "        print(mul)\n",
    "    elif button==4:\n",
    "        print(\"You selected division\")\n",
    "        print(div)\n",
    "    else:\n",
    "        print(\"Enter a valid option\")\n",
    "\n",
    "main()"
   ]
  },
  {
   "cell_type": "code",
   "execution_count": null,
   "id": "1e853540-6d52-4cc0-b4a1-c2827bb81b2e",
   "metadata": {},
   "outputs": [],
   "source": []
  }
 ],
 "metadata": {
  "kernelspec": {
   "display_name": "Python 3 (ipykernel)",
   "language": "python",
   "name": "python3"
  },
  "language_info": {
   "codemirror_mode": {
    "name": "ipython",
    "version": 3
   },
   "file_extension": ".py",
   "mimetype": "text/x-python",
   "name": "python",
   "nbconvert_exporter": "python",
   "pygments_lexer": "ipython3",
   "version": "3.12.4"
  }
 },
 "nbformat": 4,
 "nbformat_minor": 5
}
