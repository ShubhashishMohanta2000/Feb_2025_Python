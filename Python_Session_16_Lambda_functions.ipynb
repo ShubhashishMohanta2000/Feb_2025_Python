{
 "cells": [
  {
   "cell_type": "code",
   "execution_count": 1,
   "id": "d5b6572d-f3d6-4700-ad2d-ab772b85420b",
   "metadata": {},
   "outputs": [
    {
     "data": {
      "text/plain": [
       "100"
      ]
     },
     "execution_count": 1,
     "metadata": {},
     "output_type": "execute_result"
    }
   ],
   "source": [
    "def mul(a):\n",
    "    return(a*a)\n",
    "ans=mul(10)\n",
    "ans"
   ]
  },
  {
   "cell_type": "markdown",
   "id": "e876ce87-1f69-4732-b895-c81651452702",
   "metadata": {},
   "source": [
    "- lambda is a keyword used to write functions in a single line\n",
    "\n",
    "- in list comprehension we will write in single line\n",
    "\n",
    "- it is same analogy\n",
    "\n",
    "- it will reduce the time complexity"
   ]
  },
  {
   "cell_type": "markdown",
   "id": "9f5d1c9f-2664-48b2-9ea3-6fe0797732fb",
   "metadata": {},
   "source": [
    "$pattern-1$\n",
    "\n",
    "- function with one argument"
   ]
  },
  {
   "cell_type": "code",
   "execution_count": 5,
   "id": "72386348-737d-4d0b-a0e6-ce3dfc44dc2d",
   "metadata": {},
   "outputs": [],
   "source": [
    "# syntax\n",
    "\n",
    "# function name = lambda <argument name>:<return output>\n",
    "# in above\n",
    "# function name: mul\n",
    "# argument name: a\n",
    "# return output: a*a"
   ]
  },
  {
   "cell_type": "code",
   "execution_count": 15,
   "id": "0a24b2ed-661a-43d6-b930-f9edb2856e31",
   "metadata": {},
   "outputs": [
    {
     "data": {
      "text/plain": [
       "<function __main__.<lambda>(a)>"
      ]
     },
     "execution_count": 15,
     "metadata": {},
     "output_type": "execute_result"
    }
   ],
   "source": [
    "mul=lambda a : a*a\n",
    "mul"
   ]
  },
  {
   "cell_type": "code",
   "execution_count": 29,
   "id": "5f6fe851-4f3e-4f06-bb14-2860e6f01295",
   "metadata": {},
   "outputs": [
    {
     "data": {
      "text/plain": [
       "100"
      ]
     },
     "execution_count": 29,
     "metadata": {},
     "output_type": "execute_result"
    }
   ],
   "source": [
    "def mul1(a):\n",
    "    return(a*a)\n",
    "    \n",
    "mul1(10)"
   ]
  },
  {
   "cell_type": "code",
   "execution_count": 27,
   "id": "1b20653c-e511-4ded-b8dd-b6bd17f64fea",
   "metadata": {},
   "outputs": [
    {
     "data": {
      "text/plain": [
       "100"
      ]
     },
     "execution_count": 27,
     "metadata": {},
     "output_type": "execute_result"
    }
   ],
   "source": [
    "mul=lambda a : a*a\n",
    "mul(10)"
   ]
  },
  {
   "cell_type": "code",
   "execution_count": 31,
   "id": "aed6b5d5-04b8-4389-9656-f4fa43e7c68b",
   "metadata": {},
   "outputs": [
    {
     "data": {
      "text/plain": [
       "1000"
      ]
     },
     "execution_count": 31,
     "metadata": {},
     "output_type": "execute_result"
    }
   ],
   "source": [
    "def cube(x):\n",
    "    return(x**3)\n",
    "cube(10)"
   ]
  },
  {
   "cell_type": "code",
   "execution_count": 33,
   "id": "cc8996d9-4c42-475f-bbfe-b3fc27af0315",
   "metadata": {},
   "outputs": [
    {
     "data": {
      "text/plain": [
       "1000"
      ]
     },
     "execution_count": 33,
     "metadata": {},
     "output_type": "execute_result"
    }
   ],
   "source": [
    "cube=lambda x:x**3\n",
    "cube(10)"
   ]
  },
  {
   "cell_type": "markdown",
   "id": "d05b90e1-ee0f-4341-9b87-7275bc4a1071",
   "metadata": {},
   "source": [
    "$pattern-2$\n",
    "\n",
    "- function with two arguments"
   ]
  },
  {
   "cell_type": "code",
   "execution_count": 36,
   "id": "7a8271d1-5c6e-48bb-9473-6761097bcc26",
   "metadata": {},
   "outputs": [],
   "source": [
    "# syntax\n",
    "# <function name>=lambda<arg1>,<arg2>:return(output)"
   ]
  },
  {
   "cell_type": "code",
   "execution_count": 38,
   "id": "e99c642e-32dd-44f4-9838-a385edb4ab78",
   "metadata": {},
   "outputs": [
    {
     "data": {
      "text/plain": [
       "300"
      ]
     },
     "execution_count": 38,
     "metadata": {},
     "output_type": "execute_result"
    }
   ],
   "source": [
    "def add(a,b):\n",
    "    return(a+b)\n",
    "add(100,200)"
   ]
  },
  {
   "cell_type": "code",
   "execution_count": 50,
   "id": "e95ccf01-17f5-4061-970c-7eaa5989b19c",
   "metadata": {},
   "outputs": [
    {
     "data": {
      "text/plain": [
       "300"
      ]
     },
     "execution_count": 50,
     "metadata": {},
     "output_type": "execute_result"
    }
   ],
   "source": [
    "add1=lambda a,b : a+b\n",
    "add1(100,200)"
   ]
  },
  {
   "cell_type": "code",
   "execution_count": 44,
   "id": "d7945158-77e3-48d5-91d9-5cc3609c3fb0",
   "metadata": {},
   "outputs": [
    {
     "data": {
      "text/plain": [
       "14.0"
      ]
     },
     "execution_count": 44,
     "metadata": {},
     "output_type": "execute_result"
    }
   ],
   "source": [
    "def avg(a,b,c):\n",
    "    return(round((a+b+c)/3,2))\n",
    "avg(10,1,31)"
   ]
  },
  {
   "cell_type": "code",
   "execution_count": 56,
   "id": "a936e8c8-409c-4643-91df-a83044cbfa1a",
   "metadata": {},
   "outputs": [
    {
     "data": {
      "text/plain": [
       "16.67"
      ]
     },
     "execution_count": 56,
     "metadata": {},
     "output_type": "execute_result"
    }
   ],
   "source": [
    "avg1=lambda a,b,c : round((a+b+c)/3,2)\n",
    "avg1(18,1,31)"
   ]
  },
  {
   "cell_type": "markdown",
   "id": "4cd0df27-50db-4470-ab00-7d2ec967c881",
   "metadata": {},
   "source": [
    "$pattern-3$\n",
    "\n",
    "**default argument**"
   ]
  },
  {
   "cell_type": "code",
   "execution_count": 61,
   "id": "80c52d3e-d8c3-4164-b676-ead8717d6ac2",
   "metadata": {},
   "outputs": [
    {
     "data": {
      "text/plain": [
       "179.667"
      ]
     },
     "execution_count": 61,
     "metadata": {},
     "output_type": "execute_result"
    }
   ],
   "source": [
    "avg2= lambda a,b,c=500 :round((a+b+c)/3,3)\n",
    "avg2(10,29)"
   ]
  },
  {
   "cell_type": "markdown",
   "id": "7ef45928-3683-43fd-9dc3-895cb8f3142c",
   "metadata": {},
   "source": [
    "$pattern-4$\n",
    "\n",
    "- if else"
   ]
  },
  {
   "cell_type": "code",
   "execution_count": 64,
   "id": "86342693-da12-41e4-929b-64ac6a36b4b1",
   "metadata": {},
   "outputs": [
    {
     "data": {
      "text/plain": [
       "20"
      ]
     },
     "execution_count": 64,
     "metadata": {},
     "output_type": "execute_result"
    }
   ],
   "source": [
    "def max(a,b):\n",
    "    if a>b:\n",
    "        return(a)\n",
    "    else:\n",
    "        return(b)\n",
    "max(10,20)"
   ]
  },
  {
   "cell_type": "code",
   "execution_count": 66,
   "id": "6435711b-2263-4418-8f29-d105eae83ca2",
   "metadata": {},
   "outputs": [],
   "source": [
    "# syntax\n",
    "# function name= lambda <arg1>,<arg2>: <if output><if condtion>else<else output>"
   ]
  },
  {
   "cell_type": "code",
   "execution_count": 70,
   "id": "645e1e69-91a8-45d7-9295-f7de3647addd",
   "metadata": {},
   "outputs": [
    {
     "data": {
      "text/plain": [
       "125"
      ]
     },
     "execution_count": 70,
     "metadata": {},
     "output_type": "execute_result"
    }
   ],
   "source": [
    "max1= lambda a,b : a if a>b else b\n",
    "max1(110,125)"
   ]
  },
  {
   "cell_type": "markdown",
   "id": "61a2563e-50b4-4f85-b147-8288194b12ad",
   "metadata": {},
   "source": [
    "$pattern-5$\n",
    "\n",
    "- List cases"
   ]
  },
  {
   "cell_type": "code",
   "execution_count": 73,
   "id": "8afaaf52-f065-40c3-9f4d-4d6fa1038c97",
   "metadata": {},
   "outputs": [
    {
     "data": {
      "text/plain": [
       "['Hyd', 'Mumbai', 'Pune']"
      ]
     },
     "execution_count": 73,
     "metadata": {},
     "output_type": "execute_result"
    }
   ],
   "source": [
    "list1=['hyd','mumbai','pune']\n",
    "# ans=['Hyd','Mumbai','Pune']\n",
    "ans=[]\n",
    "for i in list1:\n",
    "    ans.append(i.capitalize())\n",
    "ans"
   ]
  },
  {
   "cell_type": "code",
   "execution_count": 86,
   "id": "20bf7064-6667-4576-9d82-193b0caa3c97",
   "metadata": {},
   "outputs": [
    {
     "data": {
      "text/plain": [
       "(<function __main__.<lambda>(i)>, ['hyd', 'mumbai', 'pune'])"
      ]
     },
     "execution_count": 86,
     "metadata": {},
     "output_type": "execute_result"
    }
   ],
   "source": [
    "# step1: lambda <variable>: <output>\n",
    "lambda i : i.capitalize()\n",
    "# step2: lambda <variable>: <output>,<iterator>\n",
    "lambda i : i.caapitalize(),list1"
   ]
  },
  {
   "cell_type": "markdown",
   "id": "99e647d4-1277-4a98-8241-db07b654c542",
   "metadata": {},
   "source": [
    "**map**\n",
    "\n",
    "- map is used to combine the function and iterator"
   ]
  },
  {
   "cell_type": "code",
   "execution_count": 78,
   "id": "8829c39f-bd91-4238-97d1-1382f90c7c49",
   "metadata": {},
   "outputs": [],
   "source": [
    "# step3:\n",
    "# map(lambda <variable>: <output>,<iterator>)"
   ]
  },
  {
   "cell_type": "code",
   "execution_count": 80,
   "id": "f73b034d-e039-4837-88a0-bd4efbcf6c10",
   "metadata": {},
   "outputs": [
    {
     "data": {
      "text/plain": [
       "<map at 0x2a815e3e680>"
      ]
     },
     "execution_count": 80,
     "metadata": {},
     "output_type": "execute_result"
    }
   ],
   "source": [
    "map(lambda i : i.capitalize(),list1)"
   ]
  },
  {
   "cell_type": "code",
   "execution_count": null,
   "id": "0aadc8fd-e076-4166-9dcf-6696523f875c",
   "metadata": {},
   "outputs": [],
   "source": [
    "# step4: when we apply the output will store at address\n",
    "# so apply the list or tuple to see the answer\n",
    "# list(map(lambda <variable>: <output>,<iterator>))\n",
    "list(map(lambda i: i.capitalize(),list1))"
   ]
  },
  {
   "cell_type": "code",
   "execution_count": 88,
   "id": "955a9376-adc6-4ddb-bfc8-0adcbe85584d",
   "metadata": {},
   "outputs": [],
   "source": [
    "# step1: lambda <variable>: <output>\n",
    "# step2: lambda <variable>: <output>,<iterator>\n",
    "# step3: map(lambda <variable>: <output>,<iterator>)\n",
    "# step4: list(map(lambda <variable>: <output>,<iterator>))"
   ]
  },
  {
   "cell_type": "code",
   "execution_count": 90,
   "id": "b4f8b968-48ce-49a0-8f65-d201921c8446",
   "metadata": {},
   "outputs": [
    {
     "data": {
      "text/plain": [
       "['Hyd', 'Mumbai', 'Pune']"
      ]
     },
     "execution_count": 90,
     "metadata": {},
     "output_type": "execute_result"
    }
   ],
   "source": [
    "lambda  i: i.capitalize()\n",
    "lambda i: i.capitalize(),list1\n",
    "map(lambda i: i.capitalize(),list1)\n",
    "list(map(lambda i: i.capitalize(),list1))"
   ]
  },
  {
   "cell_type": "code",
   "execution_count": 110,
   "id": "f74d95a3-a42d-4c1f-9c2d-0305848c9294",
   "metadata": {},
   "outputs": [
    {
     "data": {
      "text/plain": [
       "['HYD', 'CHENNAI', 'MUMBAI', 'PUNE']"
      ]
     },
     "execution_count": 110,
     "metadata": {},
     "output_type": "execute_result"
    }
   ],
   "source": [
    "# l1=['hyd','chennai','mumbai','pune']\n",
    "# ans=['HYD','CHENNAI','MUMBAI','PUNE']\n",
    "l1=['hyd','chennai','mumbai','pune']\n",
    "ans=list(map(lambda i: i.upper(),l1))\n",
    "ans"
   ]
  },
  {
   "cell_type": "code",
   "execution_count": 94,
   "id": "d672ce5f-2a4b-4277-a0f6-aea7cfa2e6b1",
   "metadata": {},
   "outputs": [
    {
     "data": {
      "text/plain": [
       "['HYD', 'CHENNAI', 'MUMBAI', 'PUNE']"
      ]
     },
     "execution_count": 94,
     "metadata": {},
     "output_type": "execute_result"
    }
   ],
   "source": [
    "list(map(lambda i: i.upper(),l1))"
   ]
  },
  {
   "cell_type": "code",
   "execution_count": 112,
   "id": "2247d90b-4fa8-4065-a661-3026181c6799",
   "metadata": {},
   "outputs": [
    {
     "data": {
      "text/plain": [
       "[0, 10, 20, 30]"
      ]
     },
     "execution_count": 112,
     "metadata": {},
     "output_type": "execute_result"
    }
   ],
   "source": [
    "# l1=['hyd','chennai','mumbai','pune']\n",
    "#  ans=[0,10,20,30]\n",
    "l1=['hyd','chennai','mumbai','pune']\n",
    "ans=list(map(lambda i: l1.index(i)*10,l1))\n",
    "ans"
   ]
  },
  {
   "cell_type": "code",
   "execution_count": 124,
   "id": "94b0dca7-abd1-49b3-8c4c-ac3253f8c12b",
   "metadata": {},
   "outputs": [
    {
     "data": {
      "text/plain": [
       "['Hello', 'Hai', 'How', 'Are', 'You']"
      ]
     },
     "execution_count": 124,
     "metadata": {},
     "output_type": "execute_result"
    }
   ],
   "source": [
    "# str1='hello hai how are you'\n",
    "# ans=['Hello','Hai','How','Are','You']\n",
    "str1='hello hai how are you'\n",
    "ans=list(map(lambda i:i.title(),str1.split()))\n",
    "ans"
   ]
  },
  {
   "cell_type": "code",
   "execution_count": null,
   "id": "efcea1dc-0030-418d-b94e-d6c2ebf3c903",
   "metadata": {},
   "outputs": [],
   "source": [
    "lambda <variable>:<condition>\n",
    "# dont write if\n",
    "# dont write i"
   ]
  },
  {
   "cell_type": "code",
   "execution_count": 128,
   "id": "25abcc23-6e1d-4663-b1a1-e9db50b0a6b8",
   "metadata": {},
   "outputs": [
    {
     "data": {
      "text/plain": [
       "[False, True, True, False]"
      ]
     },
     "execution_count": 128,
     "metadata": {},
     "output_type": "execute_result"
    }
   ],
   "source": [
    "# l1=['hyd','chen#ai','mu#bai','pune']\n",
    "# ans=['chen#ai','mu#bai']\n",
    "l1=['hyd','chen#ai','mu#bai','pune']\n",
    "ans=list(map(lambda i: '#' in i,l1))\n",
    "ans"
   ]
  },
  {
   "cell_type": "markdown",
   "id": "b9380e99-b2a5-4fac-89d1-fa8ed045225c",
   "metadata": {},
   "source": [
    "**filter**\n",
    "\n",
    "- whenever condition statement\n",
    "\n",
    "- which means we are filtering the answers based on condition\n",
    "\n",
    "- map will givee boolean outputs, True or False\n",
    "\n",
    "- True answers we can see by applying filter only"
   ]
  },
  {
   "cell_type": "code",
   "execution_count": 131,
   "id": "fdf5d20a-0622-4f56-b2cc-fe0c8a6e42bd",
   "metadata": {},
   "outputs": [
    {
     "data": {
      "text/plain": [
       "['chen#ai', 'mu#bai']"
      ]
     },
     "execution_count": 131,
     "metadata": {},
     "output_type": "execute_result"
    }
   ],
   "source": [
    "l1=['hyd','chen#ai','mu#bai','pune']\n",
    "ans=list(filter(lambda i: '#' in i,l1))\n",
    "ans"
   ]
  },
  {
   "cell_type": "code",
   "execution_count": 133,
   "id": "a6559590-434b-44f3-9c94-92323e0c21e8",
   "metadata": {},
   "outputs": [
    {
     "data": {
      "text/plain": [
       "['hyd', 'pune']"
      ]
     },
     "execution_count": 133,
     "metadata": {},
     "output_type": "execute_result"
    }
   ],
   "source": [
    "# l1=['hyd','chen#ai','mu#bai','pune']\n",
    "# ans=['hyd','pune']\n",
    "l1=['hyd','chen#ai','mu#bai','pune']\n",
    "ans=list(filter(lambda i: '#' not in i,l1))\n",
    "ans"
   ]
  },
  {
   "cell_type": "code",
   "execution_count": 136,
   "id": "01372fc3-34d1-4940-acc2-a7a2fe160d9b",
   "metadata": {},
   "outputs": [],
   "source": [
    "# mistake-1 : [dontt write if]\n",
    "# list(filter(lambda i:if '#' in i,l1))\n",
    "\n",
    "# mistake-2 : [dont write the output i]\n",
    "# list(filter(lambda i:i if '#' in i,l1))"
   ]
  },
  {
   "cell_type": "code",
   "execution_count": 138,
   "id": "e4d89251-85d4-43e0-9b9c-f2f904c83c98",
   "metadata": {},
   "outputs": [
    {
     "name": "stdout",
     "output_type": "stream",
     "text": [
      "15\n"
     ]
    }
   ],
   "source": [
    "l1=[1,2,3,4,5]\n",
    "summ=0\n",
    "for i in l1:\n",
    "    summ=summ+i\n",
    "print(summ)"
   ]
  },
  {
   "cell_type": "markdown",
   "id": "f11386fe-e1ba-45c4-bbd1-1578ba3f8923",
   "metadata": {},
   "source": [
    "**reduce**\n",
    "\n",
    "- reduce is a method to write all inbuilt functions using lambda method\n",
    "\n",
    "- it is available in a package called **function tools**\n",
    "\n",
    "- Level-1: reduce(lambda sum,i : sum+i,list1)\n",
    "\n",
    "- Level-2: reduce(lambda sum,i : sum+i,list1,value)\n",
    "\n",
    "- in level-1 by default sum=0\n",
    "\n",
    "- in level-2 the sum starts with some value"
   ]
  },
  {
   "cell_type": "code",
   "execution_count": 141,
   "id": "566746d7-9dc8-4601-9001-75e5f5c02c40",
   "metadata": {},
   "outputs": [],
   "source": [
    "import functools"
   ]
  },
  {
   "cell_type": "code",
   "execution_count": 143,
   "id": "61a2f541-28c3-487a-bf1c-7f22e68af8e2",
   "metadata": {},
   "outputs": [
    {
     "data": {
      "text/plain": [
       "['GenericAlias',\n",
       " 'RLock',\n",
       " 'WRAPPER_ASSIGNMENTS',\n",
       " 'WRAPPER_UPDATES',\n",
       " '_CacheInfo',\n",
       " '_HashedSeq',\n",
       " '_NOT_FOUND',\n",
       " '__all__',\n",
       " '__builtins__',\n",
       " '__cached__',\n",
       " '__doc__',\n",
       " '__file__',\n",
       " '__loader__',\n",
       " '__name__',\n",
       " '__package__',\n",
       " '__spec__',\n",
       " '_c3_merge',\n",
       " '_c3_mro',\n",
       " '_compose_mro',\n",
       " '_convert',\n",
       " '_find_impl',\n",
       " '_ge_from_gt',\n",
       " '_ge_from_le',\n",
       " '_ge_from_lt',\n",
       " '_gt_from_ge',\n",
       " '_gt_from_le',\n",
       " '_gt_from_lt',\n",
       " '_initial_missing',\n",
       " '_le_from_ge',\n",
       " '_le_from_gt',\n",
       " '_le_from_lt',\n",
       " '_lru_cache_wrapper',\n",
       " '_lt_from_ge',\n",
       " '_lt_from_gt',\n",
       " '_lt_from_le',\n",
       " '_make_key',\n",
       " '_unwrap_partial',\n",
       " 'cache',\n",
       " 'cached_property',\n",
       " 'cmp_to_key',\n",
       " 'get_cache_token',\n",
       " 'lru_cache',\n",
       " 'namedtuple',\n",
       " 'partial',\n",
       " 'partialmethod',\n",
       " 'recursive_repr',\n",
       " 'reduce',\n",
       " 'singledispatch',\n",
       " 'singledispatchmethod',\n",
       " 'total_ordering',\n",
       " 'update_wrapper',\n",
       " 'wraps']"
      ]
     },
     "execution_count": 143,
     "metadata": {},
     "output_type": "execute_result"
    }
   ],
   "source": [
    "dir(functools)"
   ]
  },
  {
   "cell_type": "code",
   "execution_count": 151,
   "id": "d841492c-fe5e-4bbf-b738-f8ac57cbd0cd",
   "metadata": {},
   "outputs": [
    {
     "data": {
      "text/plain": [
       "15"
      ]
     },
     "execution_count": 151,
     "metadata": {},
     "output_type": "execute_result"
    }
   ],
   "source": [
    "import functools\n",
    "list11=[1,2,3,4,5]\n",
    "functools.reduce(lambda summ,i: summ+i,list11)"
   ]
  },
  {
   "cell_type": "code",
   "execution_count": 153,
   "id": "5ec4ef24-48b0-462d-9677-8653c9861c2e",
   "metadata": {},
   "outputs": [
    {
     "data": {
      "text/plain": [
       "35"
      ]
     },
     "execution_count": 153,
     "metadata": {},
     "output_type": "execute_result"
    }
   ],
   "source": [
    "import functools\n",
    "list11=[1,2,3,4,5]\n",
    "functools.reduce(lambda summ,i: summ+i,list11,20)"
   ]
  },
  {
   "cell_type": "code",
   "execution_count": 157,
   "id": "2668cb10-0b73-4523-b0f0-afbdf0c3def4",
   "metadata": {},
   "outputs": [
    {
     "data": {
      "text/plain": [
       "120"
      ]
     },
     "execution_count": 157,
     "metadata": {},
     "output_type": "execute_result"
    }
   ],
   "source": [
    "import functools\n",
    "list11=[1,2,3,4,5]\n",
    "functools.reduce(lambda val,i: val*i,list11)"
   ]
  },
  {
   "cell_type": "code",
   "execution_count": 161,
   "id": "19fb62ee-55ff-4951-8f51-e99058011234",
   "metadata": {},
   "outputs": [
    {
     "data": {
      "text/plain": [
       "15"
      ]
     },
     "execution_count": 161,
     "metadata": {},
     "output_type": "execute_result"
    }
   ],
   "source": [
    "from functools import reduce\n",
    "list1=[1,2,3,4,5]\n",
    "reduce(lambda summ,i:summ+i,list1)"
   ]
  },
  {
   "cell_type": "code",
   "execution_count": 163,
   "id": "6d9923de-e89c-4169-9806-55d2f01d7286",
   "metadata": {},
   "outputs": [
    {
     "data": {
      "text/plain": [
       "15"
      ]
     },
     "execution_count": 163,
     "metadata": {},
     "output_type": "execute_result"
    }
   ],
   "source": [
    "import functools as ft\n",
    "list1=[1,2,3,4,5]\n",
    "ft.reduce(lambda summ,i:summ+i,list1)"
   ]
  },
  {
   "cell_type": "code",
   "execution_count": 165,
   "id": "a02254b3-4b93-4f23-ab17-ba6f4a7c4310",
   "metadata": {},
   "outputs": [
    {
     "data": {
      "text/plain": [
       "<module 'functools' from 'C:\\\\Users\\\\Shubhashish\\\\anaconda3\\\\Lib\\\\functools.py'>"
      ]
     },
     "execution_count": 165,
     "metadata": {},
     "output_type": "execute_result"
    }
   ],
   "source": [
    "import functools\n",
    "functools"
   ]
  },
  {
   "cell_type": "code",
   "execution_count": null,
   "id": "2aa831b6-eb0d-481c-8408-ea3777baf56c",
   "metadata": {},
   "outputs": [],
   "source": []
  }
 ],
 "metadata": {
  "kernelspec": {
   "display_name": "Python 3 (ipykernel)",
   "language": "python",
   "name": "python3"
  },
  "language_info": {
   "codemirror_mode": {
    "name": "ipython",
    "version": 3
   },
   "file_extension": ".py",
   "mimetype": "text/x-python",
   "name": "python",
   "nbconvert_exporter": "python",
   "pygments_lexer": "ipython3",
   "version": "3.12.4"
  }
 },
 "nbformat": 4,
 "nbformat_minor": 5
}
