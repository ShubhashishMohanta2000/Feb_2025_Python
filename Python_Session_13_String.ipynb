{
 "cells": [
  {
   "cell_type": "markdown",
   "id": "cdd41c83-1e05-44d5-ad21-6ce0096fff9f",
   "metadata": {},
   "source": [
    "## Strings\n",
    "====================================PART-1=========================================\n",
    "\n",
    "- How to initialize the strings\n",
    "\n",
    "- inbuilt functions\n",
    "\n",
    "   - type\n",
    "     \n",
    "   - print\n",
    " \n",
    "   - len\n",
    " \n",
    "   - max\n",
    " \n",
    "   - min\n",
    " \n",
    "   - reversed\n",
    " \n",
    "   - sorted\n",
    " \n",
    "- index operation\n",
    "\n",
    "- concatenation\n",
    "\n",
    "- mutable vs immutable\n",
    "\n",
    "- slicing\n",
    "\n",
    "\n",
    "====================================PART-2=========================================\n",
    "string methods"
   ]
  },
  {
   "cell_type": "markdown",
   "id": "3bed1b79-176e-4da8-9237-052e5b9e62e1",
   "metadata": {},
   "source": [
    "**Initialization**\n",
    "\n",
    "- strings represent with single quotes\n",
    "\n",
    "- strings represent with double quotes\n",
    "\n",
    "- strings represent with triple quotes\n",
    "\n",
    "- when you print a string, the output shows as with out quotes\n",
    "\n",
    "- A string represent with triple quotes: **Doc string**\n",
    "\n",
    "- If you want highlight any word in entire string\n",
    "    - provide the entire string in double quotes and highlight the word with single quotes vice versa"
   ]
  },
  {
   "cell_type": "code",
   "execution_count": 2,
   "id": "094dad3b-ff85-4e8a-9625-0cc3d84f94a2",
   "metadata": {},
   "outputs": [],
   "source": [
    "str1='python'"
   ]
  },
  {
   "cell_type": "code",
   "execution_count": 4,
   "id": "0435ab89-383f-41ce-9c1e-d70286950ff8",
   "metadata": {},
   "outputs": [
    {
     "data": {
      "text/plain": [
       "str"
      ]
     },
     "execution_count": 4,
     "metadata": {},
     "output_type": "execute_result"
    }
   ],
   "source": [
    "type(str1)"
   ]
  },
  {
   "cell_type": "code",
   "execution_count": 6,
   "id": "40646ef0-f29a-4528-ba5d-f03c97a283f8",
   "metadata": {},
   "outputs": [],
   "source": [
    "str2=\"python\""
   ]
  },
  {
   "cell_type": "code",
   "execution_count": 8,
   "id": "762c8da9-c294-45e4-9660-cbf820482c3c",
   "metadata": {},
   "outputs": [
    {
     "data": {
      "text/plain": [
       "str"
      ]
     },
     "execution_count": 8,
     "metadata": {},
     "output_type": "execute_result"
    }
   ],
   "source": [
    "type(str2)"
   ]
  },
  {
   "cell_type": "markdown",
   "id": "b78bcfa7-b5e4-4248-b5bc-e62e2f046f88",
   "metadata": {},
   "source": [
    "**doc string**"
   ]
  },
  {
   "cell_type": "code",
   "execution_count": 15,
   "id": "88c34b40-7fe6-45ca-bce9-a39d4c14016e",
   "metadata": {},
   "outputs": [
    {
     "name": "stdout",
     "output_type": "stream",
     "text": [
      "hello python\n",
      "many students not coming to lab\n",
      "today come to their dream\n"
     ]
    }
   ],
   "source": [
    "str3='''hello python\n",
    "many students not coming to lab\n",
    "today come to their dream'''\n",
    "print(str3)"
   ]
  },
  {
   "cell_type": "code",
   "execution_count": 17,
   "id": "26116c46-9c8f-4c51-8377-e59c4a08daab",
   "metadata": {},
   "outputs": [
    {
     "data": {
      "text/plain": [
       "'I like python'"
      ]
     },
     "execution_count": 17,
     "metadata": {},
     "output_type": "execute_result"
    }
   ],
   "source": [
    "str4='I like python'\n",
    "str4"
   ]
  },
  {
   "cell_type": "code",
   "execution_count": 19,
   "id": "6e957d96-5926-4055-b778-54f5fbbbc731",
   "metadata": {},
   "outputs": [
    {
     "name": "stdout",
     "output_type": "stream",
     "text": [
      "I like python\n"
     ]
    }
   ],
   "source": [
    "print(str4)"
   ]
  },
  {
   "cell_type": "code",
   "execution_count": 25,
   "id": "6a4ea489-834b-4324-ab58-5bcd3c5618bf",
   "metadata": {},
   "outputs": [
    {
     "data": {
      "text/plain": [
       "\"I like 'python'\""
      ]
     },
     "execution_count": 25,
     "metadata": {},
     "output_type": "execute_result"
    }
   ],
   "source": [
    "str5=\"I like 'python'\"\n",
    "str5"
   ]
  },
  {
   "cell_type": "code",
   "execution_count": 27,
   "id": "158b85b1-082f-4e04-94ad-f1bc56561286",
   "metadata": {},
   "outputs": [
    {
     "name": "stdout",
     "output_type": "stream",
     "text": [
      "I like 'python'\n"
     ]
    }
   ],
   "source": [
    "print(str5)"
   ]
  },
  {
   "cell_type": "markdown",
   "id": "33d0a0fb-8660-4f51-bb0f-2a78df2fcb1d",
   "metadata": {},
   "source": [
    "**some inbuilt functions**"
   ]
  },
  {
   "cell_type": "code",
   "execution_count": null,
   "id": "6c6f4973-2df2-4ef2-8624-262500b02625",
   "metadata": {},
   "outputs": [],
   "source": [
    "max()\n",
    "min()\n",
    "len()\n",
    "print()\n",
    "type()\n",
    "reversed()\n",
    "sorted()"
   ]
  },
  {
   "cell_type": "code",
   "execution_count": 30,
   "id": "dcae9101-1e83-4b57-98c8-b05b6f5c833f",
   "metadata": {},
   "outputs": [
    {
     "data": {
      "text/plain": [
       "'y'"
      ]
     },
     "execution_count": 30,
     "metadata": {},
     "output_type": "execute_result"
    }
   ],
   "source": [
    "max('python')"
   ]
  },
  {
   "cell_type": "code",
   "execution_count": 32,
   "id": "e6fcfbce-7aef-4095-8336-86b107f4a495",
   "metadata": {},
   "outputs": [
    {
     "data": {
      "text/plain": [
       "'h'"
      ]
     },
     "execution_count": 32,
     "metadata": {},
     "output_type": "execute_result"
    }
   ],
   "source": [
    "min('python')"
   ]
  },
  {
   "cell_type": "code",
   "execution_count": 34,
   "id": "75430cf1-3179-44c3-848e-cf2f5084708e",
   "metadata": {},
   "outputs": [
    {
     "data": {
      "text/plain": [
       "6"
      ]
     },
     "execution_count": 34,
     "metadata": {},
     "output_type": "execute_result"
    }
   ],
   "source": [
    "len('python')"
   ]
  },
  {
   "cell_type": "code",
   "execution_count": 36,
   "id": "a9058da1-11a0-4d02-9c03-bd8aff4a0ed8",
   "metadata": {},
   "outputs": [
    {
     "name": "stdout",
     "output_type": "stream",
     "text": [
      "python\n"
     ]
    }
   ],
   "source": [
    "print('python')"
   ]
  },
  {
   "cell_type": "code",
   "execution_count": 38,
   "id": "133f38e9-4b43-413a-805c-8222b3f052cc",
   "metadata": {},
   "outputs": [
    {
     "data": {
      "text/plain": [
       "str"
      ]
     },
     "execution_count": 38,
     "metadata": {},
     "output_type": "execute_result"
    }
   ],
   "source": [
    "type('python')"
   ]
  },
  {
   "cell_type": "code",
   "execution_count": 57,
   "id": "0238984e-1442-4084-9a03-315809b10864",
   "metadata": {},
   "outputs": [
    {
     "data": {
      "text/plain": [
       "<reversed at 0x24463c6f7c0>"
      ]
     },
     "execution_count": 57,
     "metadata": {},
     "output_type": "execute_result"
    }
   ],
   "source": [
    "reversed('python')"
   ]
  },
  {
   "cell_type": "code",
   "execution_count": 59,
   "id": "4ff3308c-3ac9-4ea7-aee8-1d5a831105c8",
   "metadata": {},
   "outputs": [
    {
     "data": {
      "text/plain": [
       "['h', 'n', 'o', 'p', 't', 'y']"
      ]
     },
     "execution_count": 59,
     "metadata": {},
     "output_type": "execute_result"
    }
   ],
   "source": [
    "sorted('python')"
   ]
  },
  {
   "cell_type": "code",
   "execution_count": 61,
   "id": "fe162548-980d-496f-8b80-be5617d147ed",
   "metadata": {},
   "outputs": [
    {
     "data": {
      "text/plain": [
       "' '"
      ]
     },
     "execution_count": 61,
     "metadata": {},
     "output_type": "execute_result"
    }
   ],
   "source": [
    "min('python ')"
   ]
  },
  {
   "cell_type": "code",
   "execution_count": 3,
   "id": "d16e26b2-2f93-4369-8cc9-535d8b7af7cf",
   "metadata": {},
   "outputs": [
    {
     "data": {
      "text/plain": [
       "'A'"
      ]
     },
     "execution_count": 3,
     "metadata": {},
     "output_type": "execute_result"
    }
   ],
   "source": [
    "min('NAndu')"
   ]
  },
  {
   "cell_type": "code",
   "execution_count": 65,
   "id": "327a8cb1-b253-45d7-ac3a-e89698a780c5",
   "metadata": {},
   "outputs": [
    {
     "data": {
      "text/plain": [
       "1"
      ]
     },
     "execution_count": 65,
     "metadata": {},
     "output_type": "execute_result"
    }
   ],
   "source": [
    "len(' ')"
   ]
  },
  {
   "cell_type": "code",
   "execution_count": 5,
   "id": "6218e29d-a46e-4987-8dc2-8c409dca669c",
   "metadata": {},
   "outputs": [
    {
     "name": "stdout",
     "output_type": "stream",
     "text": [
      "python\n",
      " python\n"
     ]
    }
   ],
   "source": [
    "print('python')\n",
    "print(' python')"
   ]
  },
  {
   "cell_type": "markdown",
   "id": "f22054eb-867b-49fc-87b3-aa0a7b2cb7a9",
   "metadata": {},
   "source": [
    "**sorted**"
   ]
  },
  {
   "cell_type": "markdown",
   "id": "ff6b6cf0-291d-4724-8e43-fe80763a8b06",
   "metadata": {},
   "source": [
    "- sorted means sorting the letters based on ascii numbers\n",
    "\n",
    "- there two possible sorting available\n",
    "\n",
    "    - ascending: small to high\n",
    "    - descending: high to small"
   ]
  },
  {
   "cell_type": "code",
   "execution_count": 12,
   "id": "bdb38fb3-c245-4353-8271-92354ca6f410",
   "metadata": {},
   "outputs": [
    {
     "data": {
      "text/plain": [
       "['h', 'n', 'o', 'p', 't', 'y']"
      ]
     },
     "execution_count": 12,
     "metadata": {},
     "output_type": "execute_result"
    }
   ],
   "source": [
    "str1='python'\n",
    "sorted(str1) # by default ascending order"
   ]
  },
  {
   "cell_type": "markdown",
   "id": "795cdae5-06fa-4b91-9b0d-619e9858860c",
   "metadata": {},
   "source": [
    "- when you apply the shift tab\n",
    "\n",
    "- there is some arguements will be available\n",
    "\n",
    "- Focus on two arguements\n",
    "\n",
    "    - iterable\n",
    "\n",
    "    - reverse=False\n",
    " \n",
    "- because reverse is a default arguement by default ascending order is coming\n",
    "\n",
    "- if you want to change the order then change the default parameter value"
   ]
  },
  {
   "cell_type": "code",
   "execution_count": 77,
   "id": "f98432ad-6604-4acc-9bbd-be132e4affcf",
   "metadata": {},
   "outputs": [
    {
     "data": {
      "text/plain": [
       "['y', 't', 'p', 'o', 'n', 'h']"
      ]
     },
     "execution_count": 77,
     "metadata": {},
     "output_type": "execute_result"
    }
   ],
   "source": [
    "sorted(str1,reverse=True)"
   ]
  },
  {
   "cell_type": "code",
   "execution_count": 81,
   "id": "daa7ccff-a0e7-4c2a-aacf-e13e05eda777",
   "metadata": {},
   "outputs": [
    {
     "ename": "TypeError",
     "evalue": "sorted expected 1 argument, got 0",
     "output_type": "error",
     "traceback": [
      "\u001b[1;31m---------------------------------------------------------------------------\u001b[0m",
      "\u001b[1;31mTypeError\u001b[0m                                 Traceback (most recent call last)",
      "Cell \u001b[1;32mIn[81], line 1\u001b[0m\n\u001b[1;32m----> 1\u001b[0m \u001b[38;5;28msorted\u001b[39m(iterable\u001b[38;5;241m=\u001b[39mstr1,reverse\u001b[38;5;241m=\u001b[39m\u001b[38;5;28;01mFalse\u001b[39;00m)\n",
      "\u001b[1;31mTypeError\u001b[0m: sorted expected 1 argument, got 0"
     ]
    }
   ],
   "source": [
    "sorted(iterable=str1,reverse=False)"
   ]
  },
  {
   "cell_type": "code",
   "execution_count": 83,
   "id": "96628819-855f-4b7f-a0ad-a71fe966a7d3",
   "metadata": {},
   "outputs": [
    {
     "ename": "SyntaxError",
     "evalue": "positional argument follows keyword argument (758252112.py, line 1)",
     "output_type": "error",
     "traceback": [
      "\u001b[1;36m  Cell \u001b[1;32mIn[83], line 1\u001b[1;36m\u001b[0m\n\u001b[1;33m    sorted(iterable=str1,false)\u001b[0m\n\u001b[1;37m                              ^\u001b[0m\n\u001b[1;31mSyntaxError\u001b[0m\u001b[1;31m:\u001b[0m positional argument follows keyword argument\n"
     ]
    }
   ],
   "source": [
    "sorted(iterable=str1,false)"
   ]
  },
  {
   "cell_type": "code",
   "execution_count": 85,
   "id": "75d9351f-0edd-40b1-8f64-a876511b176d",
   "metadata": {},
   "outputs": [
    {
     "ename": "TypeError",
     "evalue": "sorted expected 1 argument, got 2",
     "output_type": "error",
     "traceback": [
      "\u001b[1;31m---------------------------------------------------------------------------\u001b[0m",
      "\u001b[1;31mTypeError\u001b[0m                                 Traceback (most recent call last)",
      "Cell \u001b[1;32mIn[85], line 1\u001b[0m\n\u001b[1;32m----> 1\u001b[0m \u001b[38;5;28msorted\u001b[39m(str1,\u001b[38;5;28;01mFalse\u001b[39;00m)\n",
      "\u001b[1;31mTypeError\u001b[0m: sorted expected 1 argument, got 2"
     ]
    }
   ],
   "source": [
    "sorted(str1,False)"
   ]
  },
  {
   "cell_type": "code",
   "execution_count": 14,
   "id": "ae64b6a8-2ca5-4790-8962-76b4d8eccaf3",
   "metadata": {},
   "outputs": [
    {
     "data": {
      "text/plain": [
       "['h', 'n', 'o', 'p', 't', 'y']"
      ]
     },
     "execution_count": 14,
     "metadata": {},
     "output_type": "execute_result"
    }
   ],
   "source": [
    "sorted(str1,reverse=False)"
   ]
  },
  {
   "cell_type": "markdown",
   "id": "3c6f4059-9bd2-45aa-bf2c-f90fafcc1dde",
   "metadata": {},
   "source": [
    "- we should not allowed to use iterable arguement name while provide the value\n",
    "\n",
    "- we should use the arguement names while provide the value after '/'\n",
    "\n",
    "- we should not use the arguement names before '/'\n",
    "\n",
    "    - iterable arguement name is there before '/'\n",
    "\n",
    "    - so do not use iterable name\n"
   ]
  },
  {
   "cell_type": "markdown",
   "id": "f4f32d3e-1b72-471a-a864-071f59037ab0",
   "metadata": {},
   "source": [
    "- any function indicates * means\n",
    "\n",
    "- you can use any variable after *\n",
    "\n",
    "- affter * there two arguements are there\n",
    "\n",
    "    - key\n",
    "\n",
    "    - reverse\n",
    "\n",
    "- you can use both\n",
    "\n",
    "- you can use anyone\n",
    "\n",
    "- you no need to use anything"
   ]
  },
  {
   "cell_type": "code",
   "execution_count": 99,
   "id": "56ff1143-0551-470a-aad1-e4a24451ac45",
   "metadata": {},
   "outputs": [
    {
     "data": {
      "text/plain": [
       "['e', 'h', 'l', 'l', 'o']"
      ]
     },
     "execution_count": 99,
     "metadata": {},
     "output_type": "execute_result"
    }
   ],
   "source": [
    "sorted('hello')"
   ]
  },
  {
   "cell_type": "code",
   "execution_count": 101,
   "id": "bdec6961-4f41-4347-a087-d7a0e57dbdfb",
   "metadata": {},
   "outputs": [
    {
     "data": {
      "text/plain": [
       "['o', 'l', 'l', 'h', 'e']"
      ]
     },
     "execution_count": 101,
     "metadata": {},
     "output_type": "execute_result"
    }
   ],
   "source": [
    "sorted('hello',reverse=True)"
   ]
  },
  {
   "cell_type": "code",
   "execution_count": 103,
   "id": "d21c59ea-4a8b-4678-9bc4-baaee16a2e2d",
   "metadata": {},
   "outputs": [],
   "source": [
    "# ascii value it is giving the order"
   ]
  },
  {
   "cell_type": "code",
   "execution_count": 5,
   "id": "af67c86f-0b06-4cc4-9cc3-6619100829c4",
   "metadata": {},
   "outputs": [
    {
     "data": {
      "text/plain": [
       "['h', 'e', 'l', 'l', 'o']"
      ]
     },
     "execution_count": 5,
     "metadata": {},
     "output_type": "execute_result"
    }
   ],
   "source": [
    "sorted('hello',key=len) "
   ]
  },
  {
   "cell_type": "code",
   "execution_count": 16,
   "id": "44e3546e-813a-44ab-bc00-7cfe3ff5a6ea",
   "metadata": {},
   "outputs": [
    {
     "data": {
      "text/plain": [
       "['h', 'e', 'l', 'l', 'o']"
      ]
     },
     "execution_count": 16,
     "metadata": {},
     "output_type": "execute_result"
    }
   ],
   "source": [
    "sorted('hello',reverse=True,key=len)"
   ]
  },
  {
   "cell_type": "markdown",
   "id": "b3dc84a0-9ee6-41ef-a663-6571828cbf0a",
   "metadata": {},
   "source": [
    "**reversed**"
   ]
  },
  {
   "cell_type": "code",
   "execution_count": 116,
   "id": "f79a07b8-b80d-42d0-854b-3d75edf60356",
   "metadata": {},
   "outputs": [],
   "source": [
    "str1='python'\n",
    "ans=reversed(str1)"
   ]
  },
  {
   "cell_type": "code",
   "execution_count": 118,
   "id": "4099fe51-0317-4c09-a04e-7032071945f3",
   "metadata": {},
   "outputs": [
    {
     "data": {
      "text/plain": [
       "reversed"
      ]
     },
     "execution_count": 118,
     "metadata": {},
     "output_type": "execute_result"
    }
   ],
   "source": [
    "type(ans)"
   ]
  },
  {
   "cell_type": "code",
   "execution_count": 122,
   "id": "a42344f8-07ef-40bc-985e-f2014124e0d6",
   "metadata": {},
   "outputs": [
    {
     "data": {
      "text/plain": [
       "<reversed at 0x244647a9240>"
      ]
     },
     "execution_count": 122,
     "metadata": {},
     "output_type": "execute_result"
    }
   ],
   "source": [
    "reversed(str1)\n",
    "# the output is stored a memory location \n",
    "# whenever you want to see output\n",
    "# use a list or for loop"
   ]
  },
  {
   "cell_type": "code",
   "execution_count": 124,
   "id": "f2861fc4-46ae-430e-ad91-46b1355f73a9",
   "metadata": {},
   "outputs": [
    {
     "name": "stdout",
     "output_type": "stream",
     "text": [
      "n\n",
      "o\n",
      "h\n",
      "t\n",
      "y\n",
      "p\n"
     ]
    }
   ],
   "source": [
    "for i in ans:\n",
    "    print(i)"
   ]
  },
  {
   "cell_type": "code",
   "execution_count": 128,
   "id": "8971a5ed-ef68-42ec-b4ae-a56a1063ff19",
   "metadata": {},
   "outputs": [
    {
     "data": {
      "text/plain": [
       "['n', 'o', 'h', 't', 'y', 'p']"
      ]
     },
     "execution_count": 128,
     "metadata": {},
     "output_type": "execute_result"
    }
   ],
   "source": [
    "ans=reversed(str1)\n",
    "list(ans)"
   ]
  },
  {
   "cell_type": "markdown",
   "id": "4199b3cc-9cf3-4df4-998d-6a540e7ef2e5",
   "metadata": {},
   "source": [
    "**concatenation**"
   ]
  },
  {
   "cell_type": "code",
   "execution_count": 131,
   "id": "9fec9ec1-f113-4122-b9d1-035bbbba8397",
   "metadata": {},
   "outputs": [
    {
     "data": {
      "text/plain": [
       "'hellopython'"
      ]
     },
     "execution_count": 131,
     "metadata": {},
     "output_type": "execute_result"
    }
   ],
   "source": [
    "str1='hello'\n",
    "str2='python'\n",
    "str1+str2"
   ]
  },
  {
   "cell_type": "code",
   "execution_count": 133,
   "id": "c76aff33-2b7b-4b73-a4d0-460d98ca1642",
   "metadata": {},
   "outputs": [
    {
     "ename": "TypeError",
     "evalue": "unsupported operand type(s) for -: 'str' and 'str'",
     "output_type": "error",
     "traceback": [
      "\u001b[1;31m---------------------------------------------------------------------------\u001b[0m",
      "\u001b[1;31mTypeError\u001b[0m                                 Traceback (most recent call last)",
      "Cell \u001b[1;32mIn[133], line 1\u001b[0m\n\u001b[1;32m----> 1\u001b[0m str1\u001b[38;5;241m-\u001b[39mstr2\n",
      "\u001b[1;31mTypeError\u001b[0m: unsupported operand type(s) for -: 'str' and 'str'"
     ]
    }
   ],
   "source": [
    "str1-str2"
   ]
  },
  {
   "cell_type": "code",
   "execution_count": 135,
   "id": "42b6a9db-9705-4e6e-8d61-fdb5b927e923",
   "metadata": {},
   "outputs": [
    {
     "ename": "TypeError",
     "evalue": "can't multiply sequence by non-int of type 'str'",
     "output_type": "error",
     "traceback": [
      "\u001b[1;31m---------------------------------------------------------------------------\u001b[0m",
      "\u001b[1;31mTypeError\u001b[0m                                 Traceback (most recent call last)",
      "Cell \u001b[1;32mIn[135], line 1\u001b[0m\n\u001b[1;32m----> 1\u001b[0m str1\u001b[38;5;241m*\u001b[39mstr2\n",
      "\u001b[1;31mTypeError\u001b[0m: can't multiply sequence by non-int of type 'str'"
     ]
    }
   ],
   "source": [
    "str1*str2"
   ]
  },
  {
   "cell_type": "code",
   "execution_count": 137,
   "id": "edaf2b87-f8e0-43aa-861d-7d66422feeba",
   "metadata": {},
   "outputs": [
    {
     "ename": "TypeError",
     "evalue": "unsupported operand type(s) for /: 'str' and 'str'",
     "output_type": "error",
     "traceback": [
      "\u001b[1;31m---------------------------------------------------------------------------\u001b[0m",
      "\u001b[1;31mTypeError\u001b[0m                                 Traceback (most recent call last)",
      "Cell \u001b[1;32mIn[137], line 1\u001b[0m\n\u001b[1;32m----> 1\u001b[0m str1\u001b[38;5;241m/\u001b[39mstr2\n",
      "\u001b[1;31mTypeError\u001b[0m: unsupported operand type(s) for /: 'str' and 'str'"
     ]
    }
   ],
   "source": [
    "str1/str2"
   ]
  },
  {
   "cell_type": "code",
   "execution_count": null,
   "id": "bad8f177-76f5-418e-81d9-63c38d042d9a",
   "metadata": {},
   "outputs": [],
   "source": [
    "TypeError: unsupported operand type(s) for -: 'str' and 'str'\n",
    "TypeError: unsupported operand type(s) for /: 'str' and 'str'\n",
    "TypeError: can't multiply sequence by non-int of type 'str'"
   ]
  },
  {
   "cell_type": "code",
   "execution_count": 141,
   "id": "71b9c70d-aace-41e0-8f32-cce926ef9f80",
   "metadata": {},
   "outputs": [
    {
     "data": {
      "text/plain": [
       "'pythonpython'"
      ]
     },
     "execution_count": 141,
     "metadata": {},
     "output_type": "execute_result"
    }
   ],
   "source": [
    "'python'* 2"
   ]
  },
  {
   "cell_type": "code",
   "execution_count": 147,
   "id": "5f218b3c-dae3-43bf-b582-2a43d39da625",
   "metadata": {},
   "outputs": [
    {
     "data": {
      "text/plain": [
       "'pythonpython'"
      ]
     },
     "execution_count": 147,
     "metadata": {},
     "output_type": "execute_result"
    }
   ],
   "source": [
    "'python'+'python'"
   ]
  },
  {
   "cell_type": "markdown",
   "id": "6914acba-7698-4f6b-9b17-2db350490265",
   "metadata": {},
   "source": [
    "**index**"
   ]
  },
  {
   "cell_type": "code",
   "execution_count": 150,
   "id": "fe15fce4-1f45-43fe-8903-9b5b228664aa",
   "metadata": {},
   "outputs": [],
   "source": [
    "str1='pyhton'\n",
    "#-6   -5   -4    -3  -2   -1\n",
    "#'p'  'y'  't'  'h'  'o'  'n'\n",
    "#0     1    2    3    4    5"
   ]
  },
  {
   "cell_type": "code",
   "execution_count": 160,
   "id": "15fcd520-13ef-452e-8fec-2d5ccd9fd3de",
   "metadata": {},
   "outputs": [
    {
     "data": {
      "text/plain": [
       "('p', 'n')"
      ]
     },
     "execution_count": 160,
     "metadata": {},
     "output_type": "execute_result"
    }
   ],
   "source": [
    "str1[0],str1[-1]"
   ]
  },
  {
   "cell_type": "markdown",
   "id": "18b9882b-c0c2-4098-aac7-f33089f6b0b3",
   "metadata": {},
   "source": [
    "$20/11/22024$"
   ]
  },
  {
   "cell_type": "code",
   "execution_count": 13,
   "id": "ecc5c340-7c67-4c04-b0e7-c97c58c49b8d",
   "metadata": {},
   "outputs": [],
   "source": [
    "str1='hello python'"
   ]
  },
  {
   "cell_type": "code",
   "execution_count": null,
   "id": "21549d57-75ca-4c7b-b4e2-25f511383bb4",
   "metadata": {},
   "outputs": [],
   "source": [
    "-12 -11 -10 -9 -8 -7 -6 -5 -4 -3 -2 -1\n",
    "h    e   l   l  o     p  y  t  h  o  n \n",
    "0    1   2   3  4  5  6  7  8  9  10 11"
   ]
  },
  {
   "cell_type": "code",
   "execution_count": 19,
   "id": "69a9e9ff-22b8-42a0-bb2a-de0866e1fbb6",
   "metadata": {},
   "outputs": [
    {
     "data": {
      "text/plain": [
       "(' ', 'h')"
      ]
     },
     "execution_count": 19,
     "metadata": {},
     "output_type": "execute_result"
    }
   ],
   "source": [
    "str1[5],str1[9] # here 5,9 are the index number of the string"
   ]
  },
  {
   "cell_type": "code",
   "execution_count": 6,
   "id": "41b9491e-3f9c-407e-bfe9-f728beff6c1f",
   "metadata": {},
   "outputs": [
    {
     "data": {
      "text/plain": [
       "'h'"
      ]
     },
     "execution_count": 6,
     "metadata": {},
     "output_type": "execute_result"
    }
   ],
   "source": [
    "str1[-12]"
   ]
  },
  {
   "cell_type": "code",
   "execution_count": 24,
   "id": "d1b2d8cc-6aa2-4bbd-8c86-19a917bc2e9f",
   "metadata": {},
   "outputs": [
    {
     "name": "stdout",
     "output_type": "stream",
     "text": [
      "0 p\n",
      "1 y\n",
      "2 t\n",
      "3 h\n",
      "4 o\n",
      "5 n\n",
      "6  \n"
     ]
    }
   ],
   "source": [
    "str1='python '\n",
    "for i in range(len(str1)):\n",
    "    print(i,str1[i])"
   ]
  },
  {
   "cell_type": "code",
   "execution_count": 30,
   "id": "69b3f84c-5bc9-41ee-a81c-27f462982c49",
   "metadata": {},
   "outputs": [
    {
     "name": "stdout",
     "output_type": "stream",
     "text": [
      "0 p\n",
      "1 y\n",
      "2 t\n",
      "3 h\n",
      "4 o\n",
      "5 n\n"
     ]
    }
   ],
   "source": [
    "str1='python'\n",
    "for i in range(0,6):\n",
    "    print(i,str1[i])"
   ]
  },
  {
   "cell_type": "code",
   "execution_count": 28,
   "id": "7180fde4-a338-435a-8ec6-8a50aa8856a0",
   "metadata": {},
   "outputs": [
    {
     "name": "stdout",
     "output_type": "stream",
     "text": [
      "the positive index of p is: 0\n",
      "the positive index of y is: 1\n",
      "the positive index of t is: 2\n",
      "the positive index of h is: 3\n",
      "the positive index of o is: 4\n",
      "the positive index of n is: 5\n"
     ]
    }
   ],
   "source": [
    "for i in range(len(str1)):\n",
    "    print(f\"the positive index of {str1[i]} is: {i}\")"
   ]
  },
  {
   "cell_type": "code",
   "execution_count": 32,
   "id": "0c9e2fac-4814-44f2-a420-15532187b3d2",
   "metadata": {},
   "outputs": [
    {
     "name": "stdout",
     "output_type": "stream",
     "text": [
      "-1 n\n",
      "-2 o\n",
      "-3 h\n",
      "-4 t\n",
      "-5 y\n",
      "-6 p\n"
     ]
    }
   ],
   "source": [
    "for i in range(-1,-7,-1):\n",
    "    print(i,str1[i])"
   ]
  },
  {
   "cell_type": "code",
   "execution_count": 38,
   "id": "cf3ab7c2-f711-467e-9d4b-fbf7b8595ea1",
   "metadata": {},
   "outputs": [
    {
     "name": "stdout",
     "output_type": "stream",
     "text": [
      "-6\n",
      "-5\n",
      "-4\n",
      "-3\n",
      "-2\n",
      "-1\n"
     ]
    }
   ],
   "source": [
    "for i in range(len(str1)):\n",
    "   print(i-len(str1))\n",
    "   #print(i-len(str1[i]))"
   ]
  },
  {
   "cell_type": "code",
   "execution_count": 23,
   "id": "53f99d80-3ce8-46f4-a8eb-8daffe87bb4a",
   "metadata": {},
   "outputs": [
    {
     "name": "stdout",
     "output_type": "stream",
     "text": [
      "the negative index of p is: -6\n",
      "the negative index of y is: -5\n",
      "the negative index of t is: -4\n",
      "the negative index of h is: -3\n",
      "the negative index of o is: -2\n",
      "the negative index of n is: -1\n"
     ]
    }
   ],
   "source": [
    "n=len(str1)\n",
    "for i in range(n):\n",
    "    print(f\"the negative index of {str1[i]} is: {i-n}\")"
   ]
  },
  {
   "cell_type": "code",
   "execution_count": 46,
   "id": "e16aa824-eb6f-4b49-a50d-578378afd295",
   "metadata": {},
   "outputs": [
    {
     "name": "stdout",
     "output_type": "stream",
     "text": [
      "-6 is (-)ve index and 0 is (+)ve index of p\n",
      "-5 is (-)ve index and 1 is (+)ve index of y\n",
      "-4 is (-)ve index and 2 is (+)ve index of t\n",
      "-3 is (-)ve index and 3 is (+)ve index of h\n",
      "-2 is (-)ve index and 4 is (+)ve index of o\n",
      "-1 is (-)ve index and 5 is (+)ve index of n\n"
     ]
    }
   ],
   "source": [
    "# -6 is negative index, 0 is positive index for a letter p\n",
    "n=len(str1)\n",
    "for i in range(n):\n",
    "    print(f\"{i-n} is (-)ve index and {i} is (+)ve index of {str1[i]}\")"
   ]
  },
  {
   "cell_type": "markdown",
   "id": "08a03dad-7249-4cde-9461-bef13524752c",
   "metadata": {},
   "source": [
    "**when to use range - when to use in operator**\n",
    "\n",
    "- any problem if we work with index use range opertor\n",
    "\n",
    "- range operator will give index as well as character\n",
    "\n",
    "- any problem if index is not use ful, only character is useful then go with **in**\n",
    "\n",
    "- with **in** operator we can not get index"
   ]
  },
  {
   "cell_type": "code",
   "execution_count": null,
   "id": "d6541487-5971-4cba-8549-541fc0084b5c",
   "metadata": {},
   "outputs": [],
   "source": [
    "#q4) write a program count the number of 'a' letters in a given string\n",
    "#  str1='ola ola ola'\n",
    "\n",
    "#Q5) write a program to find the index of 'a' letters in a given string\n",
    "#  str1='ola ola ola'\n",
    "\n",
    "#Q6) write a program to get sum of all the indexes of 'a' letters in a given string\n",
    "#  str1='ola ola ola'\n",
    "\n",
    "#Q7) write a program to find the number of vowel in a given string\n",
    "#  str1='hello how are you'\n",
    "\n",
    "#Q8) write a program to find the number of vowel, not repeating in the string\n",
    "#  str1='hello how are you'"
   ]
  },
  {
   "cell_type": "code",
   "execution_count": 67,
   "id": "3d3add6e-0378-4328-9197-55414062e9ca",
   "metadata": {},
   "outputs": [
    {
     "name": "stdout",
     "output_type": "stream",
     "text": [
      "the total a are:3\n"
     ]
    }
   ],
   "source": [
    "str1='ola ola ola'\n",
    "for i in str1:\n",
    "    if i=='a':\n",
    "        count=count+1\n",
    "print(f\"the total a are:{count}\")"
   ]
  },
  {
   "cell_type": "code",
   "execution_count": 75,
   "id": "1c107ca6-67f8-4495-b690-28b35023d8bf",
   "metadata": {},
   "outputs": [
    {
     "name": "stdout",
     "output_type": "stream",
     "text": [
      "index number of a is:2\n",
      "index number of a is:6\n",
      "index number of a is:10\n"
     ]
    }
   ],
   "source": [
    "str1='ola ola ola'\n",
    "for i in range(len(str1)):\n",
    "    if str1[i]=='a':\n",
    "        print(f\"index number of a is:{i}\")"
   ]
  },
  {
   "cell_type": "code",
   "execution_count": 77,
   "id": "37551ffd-971e-4862-a373-8a66b7e98ea6",
   "metadata": {},
   "outputs": [
    {
     "name": "stdout",
     "output_type": "stream",
     "text": [
      "the total sum is: 18\n"
     ]
    }
   ],
   "source": [
    "str1='ola ola ola'\n",
    "summ=0\n",
    "for i in range(len(str1)):\n",
    "    if str1[i]=='a':\n",
    "        summ=summ+i\n",
    "print(\"the total sum is:\",summ)"
   ]
  },
  {
   "cell_type": "code",
   "execution_count": 85,
   "id": "f809160c-7074-4f16-90ba-ff1ecc1de1ce",
   "metadata": {},
   "outputs": [
    {
     "name": "stdout",
     "output_type": "stream",
     "text": [
      "e\n",
      "o\n",
      "o\n",
      "a\n",
      "e\n",
      "o\n",
      "u\n",
      "the numbers of vowels are: 7\n"
     ]
    }
   ],
   "source": [
    "str1='hello how are you'\n",
    "count=0\n",
    "for i in str1:\n",
    "    if i in 'aeiou':\n",
    "        print(i)\n",
    "        count=count+1\n",
    "print(\"the numbers of vowels are:\",count)"
   ]
  },
  {
   "cell_type": "code",
   "execution_count": 89,
   "id": "7fe1138c-17f8-43ab-b068-1d8e53617acb",
   "metadata": {},
   "outputs": [
    {
     "name": "stdout",
     "output_type": "stream",
     "text": [
      "e\n",
      "o\n",
      "a\n",
      "u\n",
      "the numbers of vowels are: 4\n"
     ]
    }
   ],
   "source": [
    "str1='hello how are you'\n",
    "count=0\n",
    "s1=''\n",
    "s2='aeiou'\n",
    "for i in str1:\n",
    "    if i in s2 and i not in s1:\n",
    "        print(i)\n",
    "        s1=s1+i\n",
    "        count=count+1\n",
    "print(\"the numbers of vowels are:\",count)"
   ]
  },
  {
   "cell_type": "code",
   "execution_count": 11,
   "id": "710a8d36-9fad-41ec-a500-ba464e3107ac",
   "metadata": {},
   "outputs": [
    {
     "name": "stdout",
     "output_type": "stream",
     "text": [
      "number of non reapeted vowel is a \n",
      "number of non reapeted vowel is u \n"
     ]
    }
   ],
   "source": [
    "str1='hello how are you'\n",
    "s1=''\n",
    "s2='aeiou'\n",
    "for i in s2:\n",
    "    count=0\n",
    "    for j in str1:\n",
    "        if i==j:\n",
    "            count+=1\n",
    "     \n",
    "    if count==1:\n",
    "        print(f'number of non reapeted vowel is {i} ')"
   ]
  },
  {
   "cell_type": "markdown",
   "id": "a3b482b0-4c2e-417a-b055-ae5f5210d22f",
   "metadata": {},
   "source": [
    "$21/11/2024$"
   ]
  },
  {
   "cell_type": "markdown",
   "id": "dc50163f-3167-41f1-87dc-44c8d2595619",
   "metadata": {},
   "source": [
    "**Mutable-Immutable**"
   ]
  },
  {
   "cell_type": "code",
   "execution_count": null,
   "id": "5fd037ab-06ed-4e0f-82fa-d4523d1b75bf",
   "metadata": {},
   "outputs": [],
   "source": [
    "# mutable: change\n",
    "# immutable: No change\n",
    "str1='welcomee'\n",
    "\n",
    "# i want to change 'l' to 'L'\n",
    "# can we change 'l' to  'L'?"
   ]
  },
  {
   "cell_type": "code",
   "execution_count": 15,
   "id": "ea6ce258-634c-410a-95e2-e7f973017849",
   "metadata": {},
   "outputs": [
    {
     "ename": "TypeError",
     "evalue": "'str' object does not support item assignment",
     "output_type": "error",
     "traceback": [
      "\u001b[1;31m---------------------------------------------------------------------------\u001b[0m",
      "\u001b[1;31mTypeError\u001b[0m                                 Traceback (most recent call last)",
      "Cell \u001b[1;32mIn[15], line 1\u001b[0m\n\u001b[1;32m----> 1\u001b[0m str1[\u001b[38;5;241m2\u001b[39m]\u001b[38;5;241m=\u001b[39m\u001b[38;5;124m'\u001b[39m\u001b[38;5;124mL\u001b[39m\u001b[38;5;124m'\u001b[39m\n",
      "\u001b[1;31mTypeError\u001b[0m: 'str' object does not support item assignment"
     ]
    }
   ],
   "source": [
    "str1[2]='L'"
   ]
  },
  {
   "cell_type": "code",
   "execution_count": 17,
   "id": "d17e2d54-cfc4-4f80-8f9b-2c0fa9678387",
   "metadata": {},
   "outputs": [
    {
     "data": {
      "text/plain": [
       "[11, 22, 300, 44]"
      ]
     },
     "execution_count": 17,
     "metadata": {},
     "output_type": "execute_result"
    }
   ],
   "source": [
    "l=[11,22,33,44]\n",
    "l[2]=300\n",
    "l"
   ]
  },
  {
   "cell_type": "markdown",
   "id": "253082a2-a493-443b-baa2-df432e695b5f",
   "metadata": {},
   "source": [
    "- if the elements will change using indexing is called as mutable\n",
    "\n",
    "- otherwise immutable"
   ]
  },
  {
   "cell_type": "markdown",
   "id": "391bcbc0-9ba3-4927-ade1-5a43afe77b60",
   "metadata": {},
   "source": [
    "**slicing**"
   ]
  },
  {
   "cell_type": "markdown",
   "id": "498aff42-fd06-4609-b327-dc07af5f2e56",
   "metadata": {},
   "source": [
    "- slice : piece of the string\n",
    "\n",
    "- it is similar to for loop start:stop:step"
   ]
  },
  {
   "cell_type": "code",
   "execution_count": 42,
   "id": "9fe4b310-5436-42ae-a053-afa41143ae33",
   "metadata": {},
   "outputs": [],
   "source": [
    "str1='hello how are you'"
   ]
  },
  {
   "cell_type": "code",
   "execution_count": 24,
   "id": "4de1d3bb-2a74-482c-8639-4881a1ddf54c",
   "metadata": {},
   "outputs": [
    {
     "data": {
      "text/plain": [
       "17"
      ]
     },
     "execution_count": 24,
     "metadata": {},
     "output_type": "execute_result"
    }
   ],
   "source": [
    "len(str1)"
   ]
  },
  {
   "cell_type": "code",
   "execution_count": null,
   "id": "aaa1c05d-06d1-4736-b7a2-34b86d89a660",
   "metadata": {},
   "outputs": [],
   "source": [
    "-17 -16 -15 -14 -13 -12 -11 -10 -9 -8 -7 -6 -5 -4 -3 -2 -1\n",
    "h    e    l   l   o       h   o  w     a  r  e     y  o  u\n",
    "0    1    2   3   4   5   6   7  8  9  10 11 12 13 14 15 16"
   ]
  },
  {
   "cell_type": "markdown",
   "id": "7ec7ca5b-90fe-4fb0-a8bc-7500f11bb316",
   "metadata": {},
   "source": [
    "**Case-1:str1[start:]**"
   ]
  },
  {
   "cell_type": "markdown",
   "id": "9bbdf4f2-d4bc-4f95-ae6a-2923553ca368",
   "metadata": {},
   "source": [
    "- str1[start:]\n",
    "\n",
    "- start=start value only\n",
    "- last not mentioned means it will go to till last"
   ]
  },
  {
   "cell_type": "code",
   "execution_count": 34,
   "id": "66b9ff57-c8db-4fea-a3b6-04a3536219da",
   "metadata": {},
   "outputs": [
    {
     "data": {
      "text/plain": [
       "' how are you'"
      ]
     },
     "execution_count": 34,
     "metadata": {},
     "output_type": "execute_result"
    }
   ],
   "source": [
    "str1[5:]"
   ]
  },
  {
   "cell_type": "code",
   "execution_count": 36,
   "id": "147f9c59-623b-47c3-9918-2ed55e219dc9",
   "metadata": {},
   "outputs": [
    {
     "data": {
      "text/plain": [
       "'hello'"
      ]
     },
     "execution_count": 36,
     "metadata": {},
     "output_type": "execute_result"
    }
   ],
   "source": [
    "str1[:5]"
   ]
  },
  {
   "cell_type": "code",
   "execution_count": 38,
   "id": "670ce65d-639e-47bb-ad20-6371c63fcc7d",
   "metadata": {},
   "outputs": [
    {
     "data": {
      "text/plain": [
       "'e you'"
      ]
     },
     "execution_count": 38,
     "metadata": {},
     "output_type": "execute_result"
    }
   ],
   "source": [
    "str1[-5:]"
   ]
  },
  {
   "cell_type": "code",
   "execution_count": 40,
   "id": "84d42ff6-333f-4961-b453-e517c4d31d46",
   "metadata": {},
   "outputs": [
    {
     "data": {
      "text/plain": [
       "'hello how ar'"
      ]
     },
     "execution_count": 40,
     "metadata": {},
     "output_type": "execute_result"
    }
   ],
   "source": [
    "str1[:-5]"
   ]
  },
  {
   "cell_type": "markdown",
   "id": "348e0874-ab39-4755-8162-035e6f481d08",
   "metadata": {},
   "source": [
    "**Case-2: str1[start:stop]**\n",
    "\n",
    "- start= start value\n",
    "\n",
    "- step is not mentioned means=positive one\n",
    "\n",
    "- last=  stop-1"
   ]
  },
  {
   "cell_type": "code",
   "execution_count": 44,
   "id": "6c167afe-f87d-4b00-ba96-52badcf9335a",
   "metadata": {},
   "outputs": [
    {
     "data": {
      "text/plain": [
       "'llo how are yo'"
      ]
     },
     "execution_count": 44,
     "metadata": {},
     "output_type": "execute_result"
    }
   ],
   "source": [
    "str1[2:16]\n",
    "# start=2\n",
    "# last=16-1=15"
   ]
  },
  {
   "cell_type": "code",
   "execution_count": 46,
   "id": "5fe1b3bc-4c5c-461e-8bb4-096a4a1f4f6e",
   "metadata": {},
   "outputs": [
    {
     "data": {
      "text/plain": [
       "' how are y'"
      ]
     },
     "execution_count": 46,
     "metadata": {},
     "output_type": "execute_result"
    }
   ],
   "source": [
    "# -17 -16 -15 -14 -13 -12 -11 -10 -9 -8 -7 -6 -5 -4 -3 -2 -1\n",
    "# h    e    l   l   o       h   o  w     a  r  e     y  o  u\n",
    "# 0    1    2   3   4   5   6   7  8  9  10 11 12 13 14 15 16\n",
    "str1[-12:-2]\n",
    "#start=-12\n",
    "#step= positive one\n",
    "# last= stop-1=-2-1=-3"
   ]
  },
  {
   "cell_type": "code",
   "execution_count": 56,
   "id": "15117b1c-26a5-4ad9-8a28-5c6ea554da81",
   "metadata": {},
   "outputs": [
    {
     "data": {
      "text/plain": [
       "''"
      ]
     },
     "execution_count": 56,
     "metadata": {},
     "output_type": "execute_result"
    }
   ],
   "source": [
    "str1[-2:-12]"
   ]
  },
  {
   "cell_type": "code",
   "execution_count": 58,
   "id": "2c29b405-8498-43ee-b090-3f0a779c8be7",
   "metadata": {},
   "outputs": [
    {
     "data": {
      "text/plain": [
       "' h'"
      ]
     },
     "execution_count": 58,
     "metadata": {},
     "output_type": "execute_result"
    }
   ],
   "source": [
    "str1[5:-10]"
   ]
  },
  {
   "cell_type": "markdown",
   "id": "5032904c-27d0-473e-9959-ab25cff1a49d",
   "metadata": {},
   "source": [
    "**Case-3:str1[start:stop:step]**"
   ]
  },
  {
   "cell_type": "code",
   "execution_count": 61,
   "id": "a63eeadf-38e2-436b-ba4d-810ebef2f29a",
   "metadata": {},
   "outputs": [
    {
     "data": {
      "text/plain": [
       "'lohwaey'"
      ]
     },
     "execution_count": 61,
     "metadata": {},
     "output_type": "execute_result"
    }
   ],
   "source": [
    "str1[2:15:2]"
   ]
  },
  {
   "cell_type": "code",
   "execution_count": 67,
   "id": "6f84afb8-4f96-4334-9657-6045df999c1a",
   "metadata": {},
   "outputs": [
    {
     "data": {
      "text/plain": [
       "'o r o l'"
      ]
     },
     "execution_count": 67,
     "metadata": {},
     "output_type": "execute_result"
    }
   ],
   "source": [
    "str1[-2:-15:-2]"
   ]
  },
  {
   "cell_type": "code",
   "execution_count": 83,
   "id": "26e08e84-aead-4a33-a378-a51b17d35890",
   "metadata": {},
   "outputs": [
    {
     "data": {
      "text/plain": [
       "'o r o l'"
      ]
     },
     "execution_count": 83,
     "metadata": {},
     "output_type": "execute_result"
    }
   ],
   "source": [
    "str1[15:2:-2]"
   ]
  },
  {
   "cell_type": "code",
   "execution_count": 85,
   "id": "da29afce-9e42-4a41-b620-0a4f96d06f41",
   "metadata": {},
   "outputs": [
    {
     "data": {
      "text/plain": [
       "'l'"
      ]
     },
     "execution_count": 85,
     "metadata": {},
     "output_type": "execute_result"
    }
   ],
   "source": [
    "str1[2:-14:1]"
   ]
  },
  {
   "cell_type": "code",
   "execution_count": 87,
   "id": "c90c3c9c-6594-4686-a196-8b9d3135268f",
   "metadata": {},
   "outputs": [
    {
     "data": {
      "text/plain": [
       "'l'"
      ]
     },
     "execution_count": 87,
     "metadata": {},
     "output_type": "execute_result"
    }
   ],
   "source": [
    "str1[2:-14:2]"
   ]
  },
  {
   "cell_type": "code",
   "execution_count": 56,
   "id": "f3e6c01a-937d-4048-8d9a-baa43aabd7c3",
   "metadata": {},
   "outputs": [
    {
     "data": {
      "text/plain": [
       "'llo how are you'"
      ]
     },
     "execution_count": 56,
     "metadata": {},
     "output_type": "execute_result"
    }
   ],
   "source": [
    "str1[2:250]"
   ]
  },
  {
   "cell_type": "code",
   "execution_count": 50,
   "id": "51bffd47-0ab0-4158-b21c-00f2ceeac235",
   "metadata": {},
   "outputs": [
    {
     "ename": "IndexError",
     "evalue": "string index out of range",
     "output_type": "error",
     "traceback": [
      "\u001b[1;31m---------------------------------------------------------------------------\u001b[0m",
      "\u001b[1;31mIndexError\u001b[0m                                Traceback (most recent call last)",
      "Cell \u001b[1;32mIn[50], line 1\u001b[0m\n\u001b[1;32m----> 1\u001b[0m str1[\u001b[38;5;241m25\u001b[39m]\n",
      "\u001b[1;31mIndexError\u001b[0m: string index out of range"
     ]
    }
   ],
   "source": [
    "str1[25]"
   ]
  },
  {
   "cell_type": "code",
   "execution_count": 91,
   "id": "22467dc9-fd55-4937-9562-8d3f460273c7",
   "metadata": {},
   "outputs": [
    {
     "data": {
      "text/plain": [
       "'uoy era woh olleh'"
      ]
     },
     "execution_count": 91,
     "metadata": {},
     "output_type": "execute_result"
    }
   ],
   "source": [
    "#str1[start:stop:step]\n",
    "str1[:]  # str1[start:stop]\n",
    "str1[::] # str1[start:stop:step]\n",
    "str1[::-1]"
   ]
  },
  {
   "cell_type": "markdown",
   "id": "e20ebeb8-43f0-49d5-85c8-b5dbc01cc266",
   "metadata": {},
   "source": [
    "**Methods**"
   ]
  },
  {
   "cell_type": "code",
   "execution_count": 58,
   "id": "ad3916b3-a33b-4a8e-8afb-3cac86e799a0",
   "metadata": {},
   "outputs": [],
   "source": [
    "import random"
   ]
  },
  {
   "cell_type": "code",
   "execution_count": 97,
   "id": "2bc83c3e-b3c9-422d-8758-4876d89a314f",
   "metadata": {},
   "outputs": [
    {
     "data": {
      "text/plain": [
       "['__add__',\n",
       " '__class__',\n",
       " '__contains__',\n",
       " '__delattr__',\n",
       " '__dir__',\n",
       " '__doc__',\n",
       " '__eq__',\n",
       " '__format__',\n",
       " '__ge__',\n",
       " '__getattribute__',\n",
       " '__getitem__',\n",
       " '__getnewargs__',\n",
       " '__getstate__',\n",
       " '__gt__',\n",
       " '__hash__',\n",
       " '__init__',\n",
       " '__init_subclass__',\n",
       " '__iter__',\n",
       " '__le__',\n",
       " '__len__',\n",
       " '__lt__',\n",
       " '__mod__',\n",
       " '__mul__',\n",
       " '__ne__',\n",
       " '__new__',\n",
       " '__reduce__',\n",
       " '__reduce_ex__',\n",
       " '__repr__',\n",
       " '__rmod__',\n",
       " '__rmul__',\n",
       " '__setattr__',\n",
       " '__sizeof__',\n",
       " '__str__',\n",
       " '__subclasshook__',\n",
       " 'capitalize',\n",
       " 'casefold',\n",
       " 'center',\n",
       " 'count',\n",
       " 'encode',\n",
       " 'endswith',\n",
       " 'expandtabs',\n",
       " 'find',\n",
       " 'format',\n",
       " 'format_map',\n",
       " 'index',\n",
       " 'isalnum',\n",
       " 'isalpha',\n",
       " 'isascii',\n",
       " 'isdecimal',\n",
       " 'isdigit',\n",
       " 'isidentifier',\n",
       " 'islower',\n",
       " 'isnumeric',\n",
       " 'isprintable',\n",
       " 'isspace',\n",
       " 'istitle',\n",
       " 'isupper',\n",
       " 'join',\n",
       " 'ljust',\n",
       " 'lower',\n",
       " 'lstrip',\n",
       " 'maketrans',\n",
       " 'partition',\n",
       " 'removeprefix',\n",
       " 'removesuffix',\n",
       " 'replace',\n",
       " 'rfind',\n",
       " 'rindex',\n",
       " 'rjust',\n",
       " 'rpartition',\n",
       " 'rsplit',\n",
       " 'rstrip',\n",
       " 'split',\n",
       " 'splitlines',\n",
       " 'startswith',\n",
       " 'strip',\n",
       " 'swapcase',\n",
       " 'title',\n",
       " 'translate',\n",
       " 'upper',\n",
       " 'zfill']"
      ]
     },
     "execution_count": 97,
     "metadata": {},
     "output_type": "execute_result"
    }
   ],
   "source": [
    "name='Shubhashish'\n",
    "dir(name)"
   ]
  },
  {
   "cell_type": "code",
   "execution_count": 60,
   "id": "05b3d735-143d-4912-b6f0-31412fbd4fa0",
   "metadata": {},
   "outputs": [
    {
     "data": {
      "text/plain": [
       "['__add__',\n",
       " '__class__',\n",
       " '__contains__',\n",
       " '__delattr__',\n",
       " '__dir__',\n",
       " '__doc__',\n",
       " '__eq__',\n",
       " '__format__',\n",
       " '__ge__',\n",
       " '__getattribute__',\n",
       " '__getitem__',\n",
       " '__getnewargs__',\n",
       " '__getstate__',\n",
       " '__gt__',\n",
       " '__hash__',\n",
       " '__init__',\n",
       " '__init_subclass__',\n",
       " '__iter__',\n",
       " '__le__',\n",
       " '__len__',\n",
       " '__lt__',\n",
       " '__mod__',\n",
       " '__mul__',\n",
       " '__ne__',\n",
       " '__new__',\n",
       " '__reduce__',\n",
       " '__reduce_ex__',\n",
       " '__repr__',\n",
       " '__rmod__',\n",
       " '__rmul__',\n",
       " '__setattr__',\n",
       " '__sizeof__',\n",
       " '__str__',\n",
       " '__subclasshook__',\n",
       " 'capitalize',\n",
       " 'casefold',\n",
       " 'center',\n",
       " 'count',\n",
       " 'encode',\n",
       " 'endswith',\n",
       " 'expandtabs',\n",
       " 'find',\n",
       " 'format',\n",
       " 'format_map',\n",
       " 'index',\n",
       " 'isalnum',\n",
       " 'isalpha',\n",
       " 'isascii',\n",
       " 'isdecimal',\n",
       " 'isdigit',\n",
       " 'isidentifier',\n",
       " 'islower',\n",
       " 'isnumeric',\n",
       " 'isprintable',\n",
       " 'isspace',\n",
       " 'istitle',\n",
       " 'isupper',\n",
       " 'join',\n",
       " 'ljust',\n",
       " 'lower',\n",
       " 'lstrip',\n",
       " 'maketrans',\n",
       " 'partition',\n",
       " 'removeprefix',\n",
       " 'removesuffix',\n",
       " 'replace',\n",
       " 'rfind',\n",
       " 'rindex',\n",
       " 'rjust',\n",
       " 'rpartition',\n",
       " 'rsplit',\n",
       " 'rstrip',\n",
       " 'split',\n",
       " 'splitlines',\n",
       " 'startswith',\n",
       " 'strip',\n",
       " 'swapcase',\n",
       " 'title',\n",
       " 'translate',\n",
       " 'upper',\n",
       " 'zfill']"
      ]
     },
     "execution_count": 60,
     "metadata": {},
     "output_type": "execute_result"
    }
   ],
   "source": [
    "dir('')"
   ]
  },
  {
   "cell_type": "markdown",
   "id": "bf11aca0-703e-4ac3-b46e-7dedb86e1463",
   "metadata": {},
   "source": [
    "**upper**"
   ]
  },
  {
   "cell_type": "code",
   "execution_count": 155,
   "id": "b2974915-20ab-479b-b6df-31ce3ee7e76b",
   "metadata": {},
   "outputs": [
    {
     "data": {
      "text/plain": [
       "'SHUBHASHISH MOHANTA'"
      ]
     },
     "execution_count": 155,
     "metadata": {},
     "output_type": "execute_result"
    }
   ],
   "source": [
    "name='shubhashish mohanta'\n",
    "dir(name)\n",
    "name.upper()"
   ]
  },
  {
   "cell_type": "code",
   "execution_count": null,
   "id": "a832e222-fa13-4e96-b4de-d922bee25c51",
   "metadata": {},
   "outputs": [],
   "source": [
    "<package_name>.<method_name>"
   ]
  },
  {
   "cell_type": "code",
   "execution_count": 157,
   "id": "716c08a6-f82d-4380-a533-044ed425a652",
   "metadata": {},
   "outputs": [
    {
     "data": {
      "text/plain": [
       "'SHUBHASHISH MOHANTA'"
      ]
     },
     "execution_count": 157,
     "metadata": {},
     "output_type": "execute_result"
    }
   ],
   "source": [
    "name.upper()"
   ]
  },
  {
   "cell_type": "code",
   "execution_count": 159,
   "id": "d0ce473b-0051-42b4-af60-3c3e50130916",
   "metadata": {},
   "outputs": [
    {
     "data": {
      "text/plain": [
       "<function str.upper()>"
      ]
     },
     "execution_count": 159,
     "metadata": {},
     "output_type": "execute_result"
    }
   ],
   "source": [
    "name.upper"
   ]
  },
  {
   "cell_type": "code",
   "execution_count": 161,
   "id": "b42ab409-95fc-466a-bf6e-7e382a8cb977",
   "metadata": {},
   "outputs": [
    {
     "data": {
      "text/plain": [
       "'shubhashish mohanta'"
      ]
     },
     "execution_count": 161,
     "metadata": {},
     "output_type": "execute_result"
    }
   ],
   "source": [
    "name.lower()"
   ]
  },
  {
   "cell_type": "code",
   "execution_count": 171,
   "id": "f9d3f4e9-6191-46df-b612-a12dd0b8afc0",
   "metadata": {},
   "outputs": [
    {
     "data": {
      "text/plain": [
       "'shubhashish mohanta'"
      ]
     },
     "execution_count": 171,
     "metadata": {},
     "output_type": "execute_result"
    }
   ],
   "source": [
    "name.casefold()"
   ]
  },
  {
   "cell_type": "code",
   "execution_count": 173,
   "id": "c3333b3a-c2d0-44e1-b089-bab3f022235d",
   "metadata": {},
   "outputs": [
    {
     "data": {
      "text/plain": [
       "'                                        shubhashish mohanta                                         '"
      ]
     },
     "execution_count": 173,
     "metadata": {},
     "output_type": "execute_result"
    }
   ],
   "source": [
    "name.center(100)"
   ]
  },
  {
   "cell_type": "code",
   "execution_count": 175,
   "id": "fe56ffff-fff7-4f06-9ddb-a8caeb851f13",
   "metadata": {},
   "outputs": [
    {
     "data": {
      "text/plain": [
       "'Shubhashish mohanta'"
      ]
     },
     "execution_count": 175,
     "metadata": {},
     "output_type": "execute_result"
    }
   ],
   "source": [
    "name.capitalize()"
   ]
  },
  {
   "cell_type": "code",
   "execution_count": 177,
   "id": "89d23494-58a9-427f-a66b-e6c584a85290",
   "metadata": {},
   "outputs": [
    {
     "data": {
      "text/plain": [
       "'Shubhashish Mohanta'"
      ]
     },
     "execution_count": 177,
     "metadata": {},
     "output_type": "execute_result"
    }
   ],
   "source": [
    "name.title()"
   ]
  },
  {
   "cell_type": "markdown",
   "id": "68f7d29f-aad3-46b8-ab5f-cfa0f891aff4",
   "metadata": {},
   "source": [
    "**output will not overwrite**"
   ]
  },
  {
   "cell_type": "markdown",
   "id": "a9e7bd60-7c64-44db-81ec-00326e9082b9",
   "metadata": {},
   "source": [
    "- whenever we apply the function \n",
    "\n",
    "- always apply shift+tab\n",
    "\n",
    "- then if any arguements are there try to understand those\n",
    "\n",
    "- in that one arguement name is called as **inplace**\n",
    "\n",
    "- inplace=True the result will be overwrite in original variable\n",
    "\n",
    "- if inplace not available or inplace=False\n",
    "\n",
    "- then the output will not overwrite\n",
    "\n",
    "- in the upper case there is no arguements\n",
    "\n",
    "- so when we apply upper the output will not overwrite"
   ]
  },
  {
   "cell_type": "code",
   "execution_count": 62,
   "id": "9408c72a-0a6d-4194-896f-d91f37180e0c",
   "metadata": {},
   "outputs": [
    {
     "data": {
      "text/plain": [
       "'PYTHON'"
      ]
     },
     "execution_count": 62,
     "metadata": {},
     "output_type": "execute_result"
    }
   ],
   "source": [
    "name='python'\n",
    "name.upper()"
   ]
  },
  {
   "cell_type": "code",
   "execution_count": 184,
   "id": "1582624c-76ed-4c81-899c-cc66d9e610ec",
   "metadata": {},
   "outputs": [
    {
     "data": {
      "text/plain": [
       "'python'"
      ]
     },
     "execution_count": 184,
     "metadata": {},
     "output_type": "execute_result"
    }
   ],
   "source": [
    "name"
   ]
  },
  {
   "cell_type": "code",
   "execution_count": 186,
   "id": "46a036f6-d535-4e2f-aade-2c7368ada92e",
   "metadata": {},
   "outputs": [],
   "source": [
    "name='python'\n",
    "name_upper=name.upper()"
   ]
  },
  {
   "cell_type": "code",
   "execution_count": 188,
   "id": "8af6d362-cfc1-4ad1-8cd0-ac162dbea4a8",
   "metadata": {},
   "outputs": [
    {
     "name": "stdout",
     "output_type": "stream",
     "text": [
      "python\n",
      "PYTHON\n"
     ]
    }
   ],
   "source": [
    "print(name)\n",
    "print(name_upper)"
   ]
  },
  {
   "cell_type": "code",
   "execution_count": 190,
   "id": "f06d0877-6f60-4ebc-aebf-9695ad30aa4e",
   "metadata": {},
   "outputs": [
    {
     "data": {
      "text/plain": [
       "'python'"
      ]
     },
     "execution_count": 190,
     "metadata": {},
     "output_type": "execute_result"
    }
   ],
   "source": [
    "name.lower()"
   ]
  },
  {
   "cell_type": "code",
   "execution_count": 194,
   "id": "8e88fadd-e59d-4dc9-a77c-f906228e766d",
   "metadata": {},
   "outputs": [
    {
     "data": {
      "text/plain": [
       "'python'"
      ]
     },
     "execution_count": 194,
     "metadata": {},
     "output_type": "execute_result"
    }
   ],
   "source": [
    "'PYTHON'.lower()"
   ]
  },
  {
   "cell_type": "code",
   "execution_count": null,
   "id": "65c9076d-6e40-4897-805b-fc29fcdc6613",
   "metadata": {},
   "outputs": [],
   "source": []
  },
  {
   "cell_type": "markdown",
   "id": "60b5a6f2-a4a8-4a11-8c4a-74e3d9c8ea48",
   "metadata": {},
   "source": [
    "**Methods vs inbuilt function**"
   ]
  },
  {
   "cell_type": "markdown",
   "id": "9d2e014b-aa22-40f8-87eb-968a30588c3a",
   "metadata": {},
   "source": [
    "- inbuilt functions applicable for all python data types\n",
    "\n",
    "- ex: print, type, min, max ...\n",
    "\n",
    "- access: inbuilt_function(<value>)\n",
    "\n",
    "- method is a specific use for different data types\n",
    "\n",
    "- access: package.methodname()\n",
    "\n",
    "- access: element.methodname()"
   ]
  },
  {
   "cell_type": "code",
   "execution_count": 200,
   "id": "746a6530-a51c-4e10-8faf-660122bb34c2",
   "metadata": {},
   "outputs": [
    {
     "data": {
      "text/plain": [
       "'python'"
      ]
     },
     "execution_count": 200,
     "metadata": {},
     "output_type": "execute_result"
    }
   ],
   "source": [
    "'Python'.casefold()"
   ]
  },
  {
   "cell_type": "code",
   "execution_count": 202,
   "id": "ae55a267-35fe-4bf1-a85e-7c7c6d3533c2",
   "metadata": {},
   "outputs": [
    {
     "data": {
      "text/plain": [
       "'python'"
      ]
     },
     "execution_count": 202,
     "metadata": {},
     "output_type": "execute_result"
    }
   ],
   "source": [
    "'PYTHON'.casefold()"
   ]
  },
  {
   "cell_type": "markdown",
   "id": "69949a3d-2159-4d17-bfd4-27b2c8630750",
   "metadata": {},
   "source": [
    "**Capitalize**"
   ]
  },
  {
   "cell_type": "code",
   "execution_count": 205,
   "id": "1d6e67bc-2e78-44a9-b6cc-84bf4a07fb6f",
   "metadata": {},
   "outputs": [
    {
     "data": {
      "text/plain": [
       "'Welcome'"
      ]
     },
     "execution_count": 205,
     "metadata": {},
     "output_type": "execute_result"
    }
   ],
   "source": [
    "str1='welcome'\n",
    "str1.capitalize()"
   ]
  },
  {
   "cell_type": "code",
   "execution_count": 207,
   "id": "9cf805ba-d6a8-4c9f-b23c-18fbc058d066",
   "metadata": {},
   "outputs": [
    {
     "data": {
      "text/plain": [
       "'Hello how are you'"
      ]
     },
     "execution_count": 207,
     "metadata": {},
     "output_type": "execute_result"
    }
   ],
   "source": [
    "str1='hello how are you'\n",
    "str1.capitalize()"
   ]
  },
  {
   "cell_type": "markdown",
   "id": "59f6e38d-b9a7-4078-b12d-c3e5d66c4297",
   "metadata": {},
   "source": [
    "**Title**"
   ]
  },
  {
   "cell_type": "code",
   "execution_count": 209,
   "id": "785c3c79-990b-433b-81fa-c39760219fc2",
   "metadata": {},
   "outputs": [
    {
     "data": {
      "text/plain": [
       "'Hello How Are You'"
      ]
     },
     "execution_count": 209,
     "metadata": {},
     "output_type": "execute_result"
    }
   ],
   "source": [
    "str1='hello how are you'\n",
    "str1.title()"
   ]
  },
  {
   "cell_type": "code",
   "execution_count": null,
   "id": "eb337bb9-da89-4996-8b48-a68b1b17a1d8",
   "metadata": {},
   "outputs": [],
   "source": [
    "'welcome'.title()"
   ]
  },
  {
   "cell_type": "markdown",
   "id": "4afa7f95-5084-459a-8a15-31c9c4283348",
   "metadata": {},
   "source": [
    "**center**"
   ]
  },
  {
   "cell_type": "code",
   "execution_count": 218,
   "id": "018d410a-64c7-4e64-990f-fa0344f51857",
   "metadata": {},
   "outputs": [
    {
     "data": {
      "text/plain": [
       "' python'"
      ]
     },
     "execution_count": 218,
     "metadata": {},
     "output_type": "execute_result"
    }
   ],
   "source": [
    "str1='python'\n",
    "str1.center(7)"
   ]
  },
  {
   "cell_type": "code",
   "execution_count": 220,
   "id": "103957bc-e434-476c-b7b3-81d653fec0e2",
   "metadata": {},
   "outputs": [
    {
     "data": {
      "text/plain": [
       "7"
      ]
     },
     "execution_count": 220,
     "metadata": {},
     "output_type": "execute_result"
    }
   ],
   "source": [
    "str1='python'\n",
    "len(str1.center(7))"
   ]
  },
  {
   "cell_type": "code",
   "execution_count": 226,
   "id": "952bb07e-0ed2-424b-87d8-c8ad7f9cd202",
   "metadata": {},
   "outputs": [
    {
     "data": {
      "text/plain": [
       "'       python       '"
      ]
     },
     "execution_count": 226,
     "metadata": {},
     "output_type": "execute_result"
    }
   ],
   "source": [
    "str1.center(20)"
   ]
  },
  {
   "cell_type": "code",
   "execution_count": 232,
   "id": "26fb17db-605f-4172-a6ae-e42c9dca5cf1",
   "metadata": {},
   "outputs": [
    {
     "data": {
      "text/plain": [
       "'********python*******'"
      ]
     },
     "execution_count": 232,
     "metadata": {},
     "output_type": "execute_result"
    }
   ],
   "source": [
    "str1.center(21,'*')"
   ]
  },
  {
   "cell_type": "markdown",
   "id": "0dc2d3cd-f768-4739-80da-009f3575aa6b",
   "metadata": {},
   "source": [
    "**replace**"
   ]
  },
  {
   "cell_type": "code",
   "execution_count": 243,
   "id": "2a1cd306-4664-4797-963c-2f1b0d107a50",
   "metadata": {},
   "outputs": [
    {
     "data": {
      "text/plain": [
       "'weLcome'"
      ]
     },
     "execution_count": 243,
     "metadata": {},
     "output_type": "execute_result"
    }
   ],
   "source": [
    "str1='welcome'\n",
    "# replace 'l' with 'L'\n",
    "str1.replace('l','L')"
   ]
  },
  {
   "cell_type": "code",
   "execution_count": 245,
   "id": "73dcec4c-073d-4d17-8531-b7e8c7860b23",
   "metadata": {},
   "outputs": [
    {
     "data": {
      "text/plain": [
       "'WeLLcome'"
      ]
     },
     "execution_count": 245,
     "metadata": {},
     "output_type": "execute_result"
    }
   ],
   "source": [
    "str1='Wellcome'\n",
    "str1.replace('l','L')"
   ]
  },
  {
   "cell_type": "code",
   "execution_count": 257,
   "id": "a21ebe6a-045d-4794-b143-608bf1f6621c",
   "metadata": {},
   "outputs": [
    {
     "data": {
      "text/plain": [
       "'WeLlcome'"
      ]
     },
     "execution_count": 257,
     "metadata": {},
     "output_type": "execute_result"
    }
   ],
   "source": [
    "str1='Wellcome'\n",
    "str1.replace('l','L',1)"
   ]
  },
  {
   "cell_type": "code",
   "execution_count": 67,
   "id": "6eae4935-395e-4026-a893-51c443409956",
   "metadata": {},
   "outputs": [
    {
     "data": {
      "text/plain": [
       "'WeLLlcome'"
      ]
     },
     "execution_count": 67,
     "metadata": {},
     "output_type": "execute_result"
    }
   ],
   "source": [
    "str1='Welllcome'\n",
    "str1.replace('l','L',2)"
   ]
  },
  {
   "cell_type": "code",
   "execution_count": 259,
   "id": "547dc355-fc59-4399-9dec-0c1526afd825",
   "metadata": {},
   "outputs": [
    {
     "data": {
      "text/plain": [
       "'Wellcome'"
      ]
     },
     "execution_count": 259,
     "metadata": {},
     "output_type": "execute_result"
    }
   ],
   "source": [
    "str1='Wellcome'\n",
    "str1.replace('z','Z',1)"
   ]
  },
  {
   "cell_type": "code",
   "execution_count": 69,
   "id": "197300ff-abe0-448a-a1cc-b0360fffb658",
   "metadata": {},
   "outputs": [
    {
     "data": {
      "text/plain": [
       "'WeLLcome'"
      ]
     },
     "execution_count": 69,
     "metadata": {},
     "output_type": "execute_result"
    }
   ],
   "source": [
    "str1='Wellcome'\n",
    "str1.replace('l','L',4)"
   ]
  },
  {
   "cell_type": "markdown",
   "id": "f24163c4-bba5-4fc8-9acb-ac155c30bf6c",
   "metadata": {},
   "source": [
    "$23/11/2024$"
   ]
  },
  {
   "cell_type": "markdown",
   "id": "a7b6207d-8230-4076-b664-898e7168d8be",
   "metadata": {},
   "source": [
    "**How to replace the only second letter**"
   ]
  },
  {
   "cell_type": "code",
   "execution_count": 15,
   "id": "0fe8e225-3621-493e-ba88-91f0d8bb904d",
   "metadata": {},
   "outputs": [
    {
     "data": {
      "text/plain": [
       "'$esta$t'"
      ]
     },
     "execution_count": 15,
     "metadata": {},
     "output_type": "execute_result"
    }
   ],
   "source": [
    "str1='restart'\n",
    "# ans: 'resta$t'\n",
    "str1.replace('r','$')"
   ]
  },
  {
   "cell_type": "markdown",
   "id": "570208df-264d-43d1-9792-39dc3399adec",
   "metadata": {},
   "source": [
    "- till first 'r' is the one string\n",
    "\n",
    "- after first 'r' is the another string"
   ]
  },
  {
   "cell_type": "code",
   "execution_count": 17,
   "id": "575d2516-07e7-4821-8cea-d9b95aad095e",
   "metadata": {},
   "outputs": [
    {
     "data": {
      "text/plain": [
       "'resta$t'"
      ]
     },
     "execution_count": 17,
     "metadata": {},
     "output_type": "execute_result"
    }
   ],
   "source": [
    "str1='restart'\n",
    "s1=str1[0]   # indexing\n",
    "s2=str1[1:]  # slicing\n",
    "s3=s2.replace('r','$')  # replace\n",
    "s1+s3  # concatination"
   ]
  },
  {
   "cell_type": "code",
   "execution_count": 19,
   "id": "de10c16a-dc71-41ed-8c30-f30b7ed27add",
   "metadata": {},
   "outputs": [
    {
     "data": {
      "text/plain": [
       "'resta$t'"
      ]
     },
     "execution_count": 19,
     "metadata": {},
     "output_type": "execute_result"
    }
   ],
   "source": [
    "str1='restart'\n",
    "str1[::-1].replace('r','$',1)[::-1]"
   ]
  },
  {
   "cell_type": "markdown",
   "id": "86f9b261-e669-4bde-8fa8-c0867915c551",
   "metadata": {},
   "source": [
    "**index**"
   ]
  },
  {
   "cell_type": "code",
   "execution_count": 31,
   "id": "e204fffd-9b70-4175-a26a-7a98187529ba",
   "metadata": {},
   "outputs": [
    {
     "data": {
      "text/plain": [
       "12"
      ]
     },
     "execution_count": 31,
     "metadata": {},
     "output_type": "execute_result"
    }
   ],
   "source": [
    "str1='hello hai how are you'\n",
    "str1.index('w')"
   ]
  },
  {
   "cell_type": "code",
   "execution_count": 33,
   "id": "056dcc09-2c88-49dd-8f50-084f1e3f44d3",
   "metadata": {},
   "outputs": [
    {
     "data": {
      "text/plain": [
       "0"
      ]
     },
     "execution_count": 33,
     "metadata": {},
     "output_type": "execute_result"
    }
   ],
   "source": [
    "str1.index('h')"
   ]
  },
  {
   "cell_type": "code",
   "execution_count": 35,
   "id": "ede9e555-ba83-42e7-98a6-f69d2b836537",
   "metadata": {},
   "outputs": [
    {
     "data": {
      "text/plain": [
       "(12, 4)"
      ]
     },
     "execution_count": 35,
     "metadata": {},
     "output_type": "execute_result"
    }
   ],
   "source": [
    "str1.index('w'), str1.index('o')"
   ]
  },
  {
   "cell_type": "code",
   "execution_count": 43,
   "id": "babf46c3-5ec5-4e42-928f-623e9dee8e6e",
   "metadata": {},
   "outputs": [
    {
     "data": {
      "text/plain": [
       "6"
      ]
     },
     "execution_count": 43,
     "metadata": {},
     "output_type": "execute_result"
    }
   ],
   "source": [
    "str1='hello hai how are you'\n",
    "str1.index('h',1)"
   ]
  },
  {
   "cell_type": "code",
   "execution_count": 47,
   "id": "58b6feb8-77a8-45e3-ac98-efc422f99a83",
   "metadata": {},
   "outputs": [
    {
     "name": "stdout",
     "output_type": "stream",
     "text": [
      "0\n",
      "4\n",
      "8\n",
      "12\n"
     ]
    }
   ],
   "source": [
    "str1='hai hai hai hai'\n",
    "i1=str1.index('h')\n",
    "print(i1)\n",
    "i2=str1.index('h',i1+1)  # we are searching for 'h' from i1+1(0+1=1) index on\n",
    "print(i2)\n",
    "i3=str1.index('h',i2+1)  # we are searching for 'h' from i2+1(4+1=5) index on\n",
    "print(i3)\n",
    "i4=str1.index('h',i3+1)\n",
    "print(i4)"
   ]
  },
  {
   "cell_type": "code",
   "execution_count": 49,
   "id": "a683312b-8105-4978-8c56-509afcb028f3",
   "metadata": {},
   "outputs": [
    {
     "data": {
      "text/plain": [
       "12"
      ]
     },
     "execution_count": 49,
     "metadata": {},
     "output_type": "execute_result"
    }
   ],
   "source": [
    "str1.index('h',str1.index('h',str1.index('h',str1.index('h')+1)+1)+1)"
   ]
  },
  {
   "cell_type": "code",
   "execution_count": 3,
   "id": "fb529e18-6169-428b-a95a-b472ff49bcb5",
   "metadata": {},
   "outputs": [
    {
     "data": {
      "text/plain": [
       "'i hai '"
      ]
     },
     "execution_count": 3,
     "metadata": {},
     "output_type": "execute_result"
    }
   ],
   "source": [
    "str1='hai hai hai hai'\n",
    "str1.index('a',2,8)\n",
    "\n",
    "str1[2:8]"
   ]
  },
  {
   "cell_type": "code",
   "execution_count": 83,
   "id": "0e9fe6a7-46dc-4c81-8838-09760e242550",
   "metadata": {},
   "outputs": [
    {
     "data": {
      "text/plain": [
       "'restart $estart'"
      ]
     },
     "execution_count": 83,
     "metadata": {},
     "output_type": "execute_result"
    }
   ],
   "source": [
    "str1='restart restart'\n",
    "i1=str1.index('r')\n",
    "i2=str1.index('r',i1+1)\n",
    "s1=str1[:i2+1]\n",
    "s2=str1[i2+1:]\n",
    "s1+s2.replace('r','$',1)"
   ]
  },
  {
   "cell_type": "code",
   "execution_count": 87,
   "id": "166a7f1c-70de-43ad-996e-96be7b55360a",
   "metadata": {},
   "outputs": [
    {
     "data": {
      "text/plain": [
       "'restart $estart'"
      ]
     },
     "execution_count": 87,
     "metadata": {},
     "output_type": "execute_result"
    }
   ],
   "source": [
    "str1='restart restart'\n",
    "i1=str1.index('r')\n",
    "i2=str1.index('r',i1+1)\n",
    "s1=str1[:i2+1] \n",
    "s2=str1[i2+1:]\n",
    "s3=s2.replace('r','$',1)\n",
    "s1+s3"
   ]
  },
  {
   "cell_type": "markdown",
   "id": "373bb431-ceb1-4097-93d8-f34e36be6f25",
   "metadata": {},
   "source": [
    "**find**\n",
    "\n",
    "- just replace index with find\n",
    "\n",
    "- tell the difference between index and find"
   ]
  },
  {
   "cell_type": "code",
   "execution_count": 103,
   "id": "776367b1-d4af-4a6c-ad2b-ad026c0359de",
   "metadata": {},
   "outputs": [
    {
     "name": "stdout",
     "output_type": "stream",
     "text": [
      "0\n",
      "4\n",
      "8\n",
      "12\n",
      "-1\n"
     ]
    }
   ],
   "source": [
    "str1='hai hai hai hai'\n",
    "i1=str1.find('h')\n",
    "print(i1)\n",
    "i2=str1.find('h',i1+1)  # we are searching for 'h' from i1+1(0+1=1) index on\n",
    "print(i2)\n",
    "i3=str1.find('h',i2+1)  # we are searching for 'h' from i2+1(4+1=5) index on\n",
    "print(i3)\n",
    "i4=str1.find('h',i3+1)\n",
    "print(i4)\n",
    "i5=str1.find('h',i4+1)\n",
    "print(i5)"
   ]
  },
  {
   "cell_type": "markdown",
   "id": "21cc3caf-b565-4557-bba2-0451c3b9498e",
   "metadata": {},
   "source": [
    "- index and find both are working for same to find the index of a letter\n",
    "\n",
    "- if any substring not found index will throw error\n",
    "\n",
    "- but find method will give -1"
   ]
  },
  {
   "cell_type": "markdown",
   "id": "9b5d09c5-d67c-49a6-b8c0-89607bac50e7",
   "metadata": {},
   "source": [
    "**count**"
   ]
  },
  {
   "cell_type": "code",
   "execution_count": 121,
   "id": "8b47c49c-e692-4dfd-a2b7-f052d9eb1c0b",
   "metadata": {},
   "outputs": [
    {
     "name": "stdout",
     "output_type": "stream",
     "text": [
      "4\n"
     ]
    }
   ],
   "source": [
    "str1='hai hai hai hai'\n",
    "count=0\n",
    "for i in str1:\n",
    "    if i=='a':\n",
    "        count=count+1\n",
    "print(count)"
   ]
  },
  {
   "cell_type": "code",
   "execution_count": 123,
   "id": "1e58494b-3e33-450a-94c0-d4a8cdc947e4",
   "metadata": {},
   "outputs": [
    {
     "data": {
      "text/plain": [
       "4"
      ]
     },
     "execution_count": 123,
     "metadata": {},
     "output_type": "execute_result"
    }
   ],
   "source": [
    "str1='hai hai hai hai'\n",
    "str1.count('a')"
   ]
  },
  {
   "cell_type": "code",
   "execution_count": 127,
   "id": "9014c2da-a3cb-4e6e-898b-4128be1398cd",
   "metadata": {},
   "outputs": [
    {
     "data": {
      "text/plain": [
       "1"
      ]
     },
     "execution_count": 127,
     "metadata": {},
     "output_type": "execute_result"
    }
   ],
   "source": [
    "str1.count('a',2,7)\n",
    "# count the number of 'a' between 2 to 6 index"
   ]
  },
  {
   "cell_type": "code",
   "execution_count": 129,
   "id": "1e077d7c-51c8-4046-ad11-3da6b709acaa",
   "metadata": {},
   "outputs": [
    {
     "data": {
      "text/plain": [
       "3"
      ]
     },
     "execution_count": 129,
     "metadata": {},
     "output_type": "execute_result"
    }
   ],
   "source": [
    "str1='hai hai hai'\n",
    "str1.count('h')"
   ]
  },
  {
   "cell_type": "code",
   "execution_count": 133,
   "id": "ddef5aa0-f46f-49c0-b087-e8c9df648506",
   "metadata": {},
   "outputs": [
    {
     "data": {
      "text/plain": [
       "3"
      ]
     },
     "execution_count": 133,
     "metadata": {},
     "output_type": "execute_result"
    }
   ],
   "source": [
    "str1='hai hai hai'\n",
    "str1.count('hai')"
   ]
  },
  {
   "cell_type": "code",
   "execution_count": 135,
   "id": "d6422953-810c-4bc3-95fd-dbf0b4328fa8",
   "metadata": {},
   "outputs": [
    {
     "data": {
      "text/plain": [
       "2"
      ]
     },
     "execution_count": 135,
     "metadata": {},
     "output_type": "execute_result"
    }
   ],
   "source": [
    "str1='hai hai hai'\n",
    "str1.count('hai ')"
   ]
  },
  {
   "cell_type": "code",
   "execution_count": 137,
   "id": "78dfd66a-3715-4732-af22-568beee017e5",
   "metadata": {},
   "outputs": [
    {
     "data": {
      "text/plain": [
       "1"
      ]
     },
     "execution_count": 137,
     "metadata": {},
     "output_type": "execute_result"
    }
   ],
   "source": [
    "str1='hai hai hai'\n",
    "str1.count(str1)"
   ]
  },
  {
   "cell_type": "markdown",
   "id": "939a7846-f7dc-424b-af33-3f2636285710",
   "metadata": {},
   "source": [
    "**sliding window approach**"
   ]
  },
  {
   "cell_type": "code",
   "execution_count": 160,
   "id": "21779949-8355-4171-8f09-8f1c8acd05a0",
   "metadata": {},
   "outputs": [
    {
     "name": "stdout",
     "output_type": "stream",
     "text": [
      "4\n"
     ]
    }
   ],
   "source": [
    "# important\n",
    "str1='hai hai hai hai'\n",
    "count=0\n",
    "for i in range(len(str1)):\n",
    "    if str1[i:i+3]=='hai':\n",
    "        count=count+1\n",
    "print(count)"
   ]
  },
  {
   "cell_type": "code",
   "execution_count": 221,
   "id": "1cc08b96-6f4c-48bb-9b77-a23ce74179c9",
   "metadata": {},
   "outputs": [
    {
     "name": "stdout",
     "output_type": "stream",
     "text": [
      "virat kohli rcb\n",
      "rohit sharma mi\n",
      "m dhoni chennai\n",
      "omkar nallagoni cts\n"
     ]
    }
   ],
   "source": [
    "str1='virat.kohli@rcb.com'\n",
    "str2='rohit.sharma@mi.com'\n",
    "str3='m.dhoni@chennai.com'\n",
    "str4='omkar.nallagoni@cts.com'\n",
    "# Derive the code to get\n",
    "# first name, second name, Cname\n",
    "first_dot=str1.index('.')\n",
    "second_dot=str1.index('.',first_dot+1)\n",
    "at_symbol=str1.index('@')\n",
    "fname=str1[:first_dot]\n",
    "sname=str1[first_dot+1:at_symbol]\n",
    "cname=str1[at_symbol+1:second_dot]\n",
    "print(fname,sname,cname)\n",
    "first_dot=str2.index('.')\n",
    "second_dot=str2.index('.',first_dot+1)\n",
    "at_symbol=str2.index('@')\n",
    "fname=str2[:first_dot]\n",
    "sname=str2[first_dot+1:at_symbol]\n",
    "cname=str2[at_symbol+1:second_dot]\n",
    "print(fname,sname,cname)\n",
    "first_dot=str3.index('.')\n",
    "second_dot=str3.index('.',first_dot+1)\n",
    "at_symbol=str3.index('@')\n",
    "fname=str3[:first_dot]\n",
    "sname=str3[first_dot+1:at_symbol]\n",
    "cname=str3[at_symbol+1:second_dot]\n",
    "print(fname,sname,cname)\n",
    "first_dot=str4.index('.')\n",
    "second_dot=str4.index('.',first_dot+1)\n",
    "at_symbol=str4.index('@')\n",
    "fname=str4[:first_dot]\n",
    "sname=str4[first_dot+1:at_symbol]\n",
    "cname=str4[at_symbol+1:second_dot]\n",
    "print(fname,sname,cname)"
   ]
  },
  {
   "cell_type": "code",
   "execution_count": 7,
   "id": "fb24b4b4-b233-48ba-984a-a66d79e6ac1d",
   "metadata": {},
   "outputs": [
    {
     "data": {
      "text/plain": [
       "['__add__',\n",
       " '__class__',\n",
       " '__contains__',\n",
       " '__delattr__',\n",
       " '__dir__',\n",
       " '__doc__',\n",
       " '__eq__',\n",
       " '__format__',\n",
       " '__ge__',\n",
       " '__getattribute__',\n",
       " '__getitem__',\n",
       " '__getnewargs__',\n",
       " '__getstate__',\n",
       " '__gt__',\n",
       " '__hash__',\n",
       " '__init__',\n",
       " '__init_subclass__',\n",
       " '__iter__',\n",
       " '__le__',\n",
       " '__len__',\n",
       " '__lt__',\n",
       " '__mod__',\n",
       " '__mul__',\n",
       " '__ne__',\n",
       " '__new__',\n",
       " '__reduce__',\n",
       " '__reduce_ex__',\n",
       " '__repr__',\n",
       " '__rmod__',\n",
       " '__rmul__',\n",
       " '__setattr__',\n",
       " '__sizeof__',\n",
       " '__str__',\n",
       " '__subclasshook__',\n",
       " 'capitalize',\n",
       " 'casefold',\n",
       " 'center',\n",
       " 'count',\n",
       " 'encode',\n",
       " 'endswith',\n",
       " 'expandtabs',\n",
       " 'find',\n",
       " 'format',\n",
       " 'format_map',\n",
       " 'index',\n",
       " 'isalnum',\n",
       " 'isalpha',\n",
       " 'isascii',\n",
       " 'isdecimal',\n",
       " 'isdigit',\n",
       " 'isidentifier',\n",
       " 'islower',\n",
       " 'isnumeric',\n",
       " 'isprintable',\n",
       " 'isspace',\n",
       " 'istitle',\n",
       " 'isupper',\n",
       " 'join',\n",
       " 'ljust',\n",
       " 'lower',\n",
       " 'lstrip',\n",
       " 'maketrans',\n",
       " 'partition',\n",
       " 'removeprefix',\n",
       " 'removesuffix',\n",
       " 'replace',\n",
       " 'rfind',\n",
       " 'rindex',\n",
       " 'rjust',\n",
       " 'rpartition',\n",
       " 'rsplit',\n",
       " 'rstrip',\n",
       " 'split',\n",
       " 'splitlines',\n",
       " 'startswith',\n",
       " 'strip',\n",
       " 'swapcase',\n",
       " 'title',\n",
       " 'translate',\n",
       " 'upper',\n",
       " 'zfill']"
      ]
     },
     "execution_count": 7,
     "metadata": {},
     "output_type": "execute_result"
    }
   ],
   "source": [
    "dir('')"
   ]
  },
  {
   "cell_type": "code",
   "execution_count": 47,
   "id": "caa66587-d4a7-4ba3-be48-ca16d437cfce",
   "metadata": {},
   "outputs": [
    {
     "data": {
      "text/plain": [
       "False"
      ]
     },
     "execution_count": 47,
     "metadata": {},
     "output_type": "execute_result"
    }
   ],
   "source": [
    "str1='pyhton'\n",
    "str1.isupper()"
   ]
  },
  {
   "cell_type": "code",
   "execution_count": null,
   "id": "d0c4231a-d44b-4749-81bd-cf288f50c4f4",
   "metadata": {},
   "outputs": [],
   "source": [
    "'isalnum',\n",
    " 'isalpha',\n",
    " 'isascii',\n",
    " 'isdecimal',\n",
    " 'isdigit',\n",
    " 'isidentifier',\n",
    " 'islower',\n",
    " 'isnumeric',\n",
    " 'isprintable',\n",
    " 'isspace',\n",
    " 'istitle',\n",
    " 'isupper',"
   ]
  },
  {
   "cell_type": "code",
   "execution_count": 39,
   "id": "faffa801-c02a-4caa-9d69-b0a367c8d730",
   "metadata": {},
   "outputs": [
    {
     "data": {
      "text/plain": [
       "False"
      ]
     },
     "execution_count": 39,
     "metadata": {},
     "output_type": "execute_result"
    }
   ],
   "source": [
    "str1='python '\n",
    "str1.isalpha()"
   ]
  },
  {
   "cell_type": "code",
   "execution_count": 5,
   "id": "1b11cb61-370d-454c-a4a6-920e97cbdbbc",
   "metadata": {},
   "outputs": [
    {
     "data": {
      "text/plain": [
       "True"
      ]
     },
     "execution_count": 5,
     "metadata": {},
     "output_type": "execute_result"
    }
   ],
   "source": [
    "str1.isalnum()"
   ]
  },
  {
   "cell_type": "code",
   "execution_count": 11,
   "id": "57983d09-d250-443e-928f-6a64b8373a1e",
   "metadata": {},
   "outputs": [
    {
     "data": {
      "text/plain": [
       "True"
      ]
     },
     "execution_count": 11,
     "metadata": {},
     "output_type": "execute_result"
    }
   ],
   "source": [
    "str1.isascii()"
   ]
  },
  {
   "cell_type": "code",
   "execution_count": 13,
   "id": "f7bb1765-0c52-47e5-bf65-3b23ae277159",
   "metadata": {},
   "outputs": [
    {
     "data": {
      "text/plain": [
       "False"
      ]
     },
     "execution_count": 13,
     "metadata": {},
     "output_type": "execute_result"
    }
   ],
   "source": [
    "str1.isdecimal()"
   ]
  },
  {
   "cell_type": "code",
   "execution_count": 27,
   "id": "2fa00f7d-f5fa-4eea-a4a6-f4621597ade9",
   "metadata": {},
   "outputs": [
    {
     "data": {
      "text/plain": [
       "False"
      ]
     },
     "execution_count": 27,
     "metadata": {},
     "output_type": "execute_result"
    }
   ],
   "source": [
    "str1.isdigit()"
   ]
  },
  {
   "cell_type": "code",
   "execution_count": 29,
   "id": "ed2efd64-b402-4cbd-93da-32bcbf0aeb6a",
   "metadata": {},
   "outputs": [
    {
     "data": {
      "text/plain": [
       "True"
      ]
     },
     "execution_count": 29,
     "metadata": {},
     "output_type": "execute_result"
    }
   ],
   "source": [
    "str1.isidentifier()"
   ]
  },
  {
   "cell_type": "code",
   "execution_count": 31,
   "id": "4f8f8471-3b2a-4813-8ac7-f7d8b7b949c6",
   "metadata": {},
   "outputs": [
    {
     "data": {
      "text/plain": [
       "True"
      ]
     },
     "execution_count": 31,
     "metadata": {},
     "output_type": "execute_result"
    }
   ],
   "source": [
    "str1.islower()"
   ]
  },
  {
   "cell_type": "code",
   "execution_count": 33,
   "id": "e876f574-8a9f-4637-87df-72842bf1f67d",
   "metadata": {},
   "outputs": [
    {
     "data": {
      "text/plain": [
       "False"
      ]
     },
     "execution_count": 33,
     "metadata": {},
     "output_type": "execute_result"
    }
   ],
   "source": [
    "str1.isnumeric()"
   ]
  },
  {
   "cell_type": "code",
   "execution_count": 35,
   "id": "6537d328-df13-4e47-8730-a4c2c2d4b260",
   "metadata": {},
   "outputs": [
    {
     "data": {
      "text/plain": [
       "True"
      ]
     },
     "execution_count": 35,
     "metadata": {},
     "output_type": "execute_result"
    }
   ],
   "source": [
    "str1.isprintable()"
   ]
  },
  {
   "cell_type": "code",
   "execution_count": 49,
   "id": "b70c1659-5da8-454a-81d8-333c2d8cb86b",
   "metadata": {},
   "outputs": [
    {
     "data": {
      "text/plain": [
       "False"
      ]
     },
     "execution_count": 49,
     "metadata": {},
     "output_type": "execute_result"
    }
   ],
   "source": [
    "str1.isspace()"
   ]
  },
  {
   "cell_type": "code",
   "execution_count": 51,
   "id": "05e3f48a-3e8f-46cb-a396-0591a225f331",
   "metadata": {},
   "outputs": [
    {
     "data": {
      "text/plain": [
       "False"
      ]
     },
     "execution_count": 51,
     "metadata": {},
     "output_type": "execute_result"
    }
   ],
   "source": [
    "str1.istitle()"
   ]
  },
  {
   "cell_type": "code",
   "execution_count": 53,
   "id": "0ffc76ba-7f77-4b1f-9aa4-e68eb87a462f",
   "metadata": {},
   "outputs": [
    {
     "data": {
      "text/plain": [
       "False"
      ]
     },
     "execution_count": 53,
     "metadata": {},
     "output_type": "execute_result"
    }
   ],
   "source": [
    "str1.isupper()"
   ]
  },
  {
   "cell_type": "markdown",
   "id": "4d392097-ac7b-46ee-9e21-ad51f748e696",
   "metadata": {},
   "source": [
    "**lstrip-strip-rstrip**"
   ]
  },
  {
   "cell_type": "markdown",
   "id": "05e24f74-2691-4720-bcc3-3b7731f97aba",
   "metadata": {},
   "source": [
    "- lstrip : we can remove some letters from left side of string\n",
    "\n",
    "- rstrip : we can remove some letters from right side of string\n",
    "\n",
    "- strip : we can remove some letters from both side of string"
   ]
  },
  {
   "cell_type": "code",
   "execution_count": 283,
   "id": "25bdb81a-28a4-416e-bec7-11bf613bd79c",
   "metadata": {},
   "outputs": [
    {
     "data": {
      "text/plain": [
       "('hai how are you', 'hai how are you', 'hai how are you')"
      ]
     },
     "execution_count": 283,
     "metadata": {},
     "output_type": "execute_result"
    }
   ],
   "source": [
    "s1=' hai how are you'\n",
    "s2='hai how are you '\n",
    "s3=' hai how are you '\n",
    "\n",
    "s1.lstrip(),s2.rstrip(),s3.strip()"
   ]
  },
  {
   "cell_type": "code",
   "execution_count": 281,
   "id": "5eeb005e-732c-4f3a-9e3f-1d163b2ea295",
   "metadata": {},
   "outputs": [
    {
     "data": {
      "text/plain": [
       "('hai how are you', ' hai how are you', 'hai how are you')"
      ]
     },
     "execution_count": 281,
     "metadata": {},
     "output_type": "execute_result"
    }
   ],
   "source": [
    "s1.lstrip(),s1.rstrip(),s1.strip()"
   ]
  },
  {
   "cell_type": "code",
   "execution_count": 243,
   "id": "b56ea27d-bda2-4c47-bb88-47728f2c63be",
   "metadata": {},
   "outputs": [
    {
     "data": {
      "text/plain": [
       "('hai how are you ', ' hai how are you', 'hai how are you')"
      ]
     },
     "execution_count": 243,
     "metadata": {},
     "output_type": "execute_result"
    }
   ],
   "source": [
    "s2.lstrip(),s2.rstrip(),s2.strip()"
   ]
  },
  {
   "cell_type": "code",
   "execution_count": 245,
   "id": "56b65d95-b184-4e0f-add5-c34913967d29",
   "metadata": {},
   "outputs": [
    {
     "data": {
      "text/plain": [
       "('hai how are you ', ' hai how are you', 'hai how are you')"
      ]
     },
     "execution_count": 245,
     "metadata": {},
     "output_type": "execute_result"
    }
   ],
   "source": [
    "s3.lstrip(),s3.rstrip(),s3.strip()"
   ]
  },
  {
   "cell_type": "markdown",
   "id": "577ff1aa-6b3c-4c68-84ea-8b613bfa23b7",
   "metadata": {},
   "source": [
    "**startswith-endswith**"
   ]
  },
  {
   "cell_type": "code",
   "execution_count": 65,
   "id": "b667779f-7689-4f55-835a-382ab0f4077f",
   "metadata": {},
   "outputs": [
    {
     "data": {
      "text/plain": [
       "True"
      ]
     },
     "execution_count": 65,
     "metadata": {},
     "output_type": "execute_result"
    }
   ],
   "source": [
    "str1='hai how are you'\n",
    "str1.startswith('hai how are you')"
   ]
  },
  {
   "cell_type": "code",
   "execution_count": 252,
   "id": "07e36289-cc86-4ed3-affc-034c18ca6952",
   "metadata": {},
   "outputs": [
    {
     "data": {
      "text/plain": [
       "True"
      ]
     },
     "execution_count": 252,
     "metadata": {},
     "output_type": "execute_result"
    }
   ],
   "source": [
    "str1='hai how are you'\n",
    "str1.startswith(str1)"
   ]
  },
  {
   "cell_type": "markdown",
   "id": "4a7e1b0b-82df-4889-94db-75d48bf4826b",
   "metadata": {},
   "source": [
    "**split**"
   ]
  },
  {
   "cell_type": "code",
   "execution_count": 130,
   "id": "4fff57cf-0fb1-400e-a365-d5cac8de6341",
   "metadata": {},
   "outputs": [
    {
     "data": {
      "text/plain": [
       "['hello', 'how', 'are', 'you']"
      ]
     },
     "execution_count": 130,
     "metadata": {},
     "output_type": "execute_result"
    }
   ],
   "source": [
    "str1='hello how are you'\n",
    "str1.split()"
   ]
  },
  {
   "cell_type": "code",
   "execution_count": 275,
   "id": "f4f50c46-4013-4c45-a8c0-b6bdfebbbeca",
   "metadata": {},
   "outputs": [
    {
     "data": {
      "text/plain": [
       "['', 'ello ', 'ow are you']"
      ]
     },
     "execution_count": 275,
     "metadata": {},
     "output_type": "execute_result"
    }
   ],
   "source": [
    "str1='hello how are you'\n",
    "str1.split('h')"
   ]
  },
  {
   "cell_type": "code",
   "execution_count": 277,
   "id": "02b75ee0-307e-4b4a-8868-32530a8d9721",
   "metadata": {},
   "outputs": [
    {
     "data": {
      "text/plain": [
       "['h', 'i h', 'i h', 'i h', 'i']"
      ]
     },
     "execution_count": 277,
     "metadata": {},
     "output_type": "execute_result"
    }
   ],
   "source": [
    "str1='hai hai hai hai'\n",
    "str1.split('a')"
   ]
  },
  {
   "cell_type": "code",
   "execution_count": 19,
   "id": "b790f1be-a8d8-4c83-8940-6cc115edb872",
   "metadata": {},
   "outputs": [
    {
     "data": {
      "text/plain": [
       "['hello', 'how', 'are', 'you']"
      ]
     },
     "execution_count": 19,
     "metadata": {},
     "output_type": "execute_result"
    }
   ],
   "source": [
    "str1=\"hello how are you\"\n",
    "p=str(str1).split()\n",
    "p"
   ]
  },
  {
   "cell_type": "code",
   "execution_count": 15,
   "id": "45bbee14-6f44-4d83-8a6e-478cc6f3f9bb",
   "metadata": {},
   "outputs": [],
   "source": [
    "# in a given sentence find the most repeated word\n",
    "# in a given sentence find min and max length of word\n",
    "# in a given sentence most occured second max length of word\n",
    "# sliding window\n",
    "# strings===list vise versa\n",
    "# hai how are you: Hai How Are You (without method)"
   ]
  },
  {
   "cell_type": "code",
   "execution_count": 1,
   "id": "b1656619-75a3-4333-8b3a-b797b2ebe754",
   "metadata": {},
   "outputs": [
    {
     "name": "stdout",
     "output_type": "stream",
     "text": [
      "hi 4\n"
     ]
    }
   ],
   "source": [
    "#1\n",
    "str1 = 'hello i am hi hi hi hi am'\n",
    "s1 = str1.split()\n",
    "max_ = 0\n",
    "word = ''\n",
    "\n",
    "for i in s1:\n",
    "    temp = s1.count(i)\n",
    "    if temp > max_:  # Update the condition to find the most frequent word\n",
    "        max_ = temp\n",
    "        word = i\n",
    "print(word,max_)"
   ]
  },
  {
   "cell_type": "code",
   "execution_count": 67,
   "id": "84caaf9f-1966-45a1-8468-70df58fcaebb",
   "metadata": {},
   "outputs": [
    {
     "name": "stdout",
     "output_type": "stream",
     "text": [
      "The most repeated words are ['This', 'is', 'a', 'test.'] which appear 2 times.\n"
     ]
    }
   ],
   "source": [
    "input_string = \"This is a test. This test is just a test.\"\n",
    "words = input_string.split()\n",
    "\n",
    "unique_words = []\n",
    "for word in words:\n",
    "    if word not in unique_words:\n",
    "        unique_words.append(word)\n",
    "\n",
    "max_count = 0\n",
    "for unique_word in unique_words:\n",
    "    count = 0\n",
    "    for word in words:\n",
    "        if word == unique_word:\n",
    "            count += 1\n",
    "    if count > max_count:\n",
    "        max_count = count\n",
    "\n",
    "most_common_words = []\n",
    "for unique_word in unique_words:\n",
    "    count = 0\n",
    "    for word in words:\n",
    "        if word == unique_word:\n",
    "            count += 1\n",
    "    if count == max_count:\n",
    "       most_common_words.append(unique_word)\n",
    "        \n",
    "print(f\"The most repeated words are {most_common_words} which appear {max_count} times.\")\n"
   ]
  },
  {
   "cell_type": "code",
   "execution_count": 69,
   "id": "089b4203-5cdd-495f-9bb7-800f3be69851",
   "metadata": {},
   "outputs": [],
   "source": [
    "# in a given sentence find min and max length of word"
   ]
  },
  {
   "cell_type": "code",
   "execution_count": 101,
   "id": "8c6c93f2-5ffe-45e5-a15a-9cf388e06a11",
   "metadata": {},
   "outputs": [
    {
     "name": "stdout",
     "output_type": "stream",
     "text": [
      "7\n",
      "2\n"
     ]
    }
   ],
   "source": [
    "str1='hellooo This is python'\n",
    "s=str1.split()\n",
    "n=[]\n",
    "for i in s:\n",
    "    x=len(i)\n",
    "    n.append(x)\n",
    "\n",
    "print(max(n))\n",
    "print(min(n))\n",
    "    "
   ]
  },
  {
   "cell_type": "code",
   "execution_count": 93,
   "id": "9ef7267c-29ea-4515-8206-9fca066554a6",
   "metadata": {},
   "outputs": [],
   "source": [
    "# in a given sentence most occured second max length of word"
   ]
  },
  {
   "cell_type": "code",
   "execution_count": null,
   "id": "571ebe2f-bd9b-48ec-9c04-fc669c67b508",
   "metadata": {},
   "outputs": [],
   "source": [
    "str1='hellooo This is python'\n",
    "s=str1.split()\n",
    "n=[]\n"
   ]
  }
 ],
 "metadata": {
  "kernelspec": {
   "display_name": "Python 3 (ipykernel)",
   "language": "python",
   "name": "python3"
  },
  "language_info": {
   "codemirror_mode": {
    "name": "ipython",
    "version": 3
   },
   "file_extension": ".py",
   "mimetype": "text/x-python",
   "name": "python",
   "nbconvert_exporter": "python",
   "pygments_lexer": "ipython3",
   "version": "3.12.4"
  }
 },
 "nbformat": 4,
 "nbformat_minor": 5
}
