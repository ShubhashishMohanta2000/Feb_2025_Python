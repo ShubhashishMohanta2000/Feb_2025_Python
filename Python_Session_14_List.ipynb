{
 "cells": [
  {
   "cell_type": "markdown",
   "id": "a6301102-b9d3-4d29-9442-5f54bbd67105",
   "metadata": {},
   "source": [
    "$26/11/2024$"
   ]
  },
  {
   "cell_type": "markdown",
   "id": "13df21e8-0414-4097-acd2-9ceb254f4ab1",
   "metadata": {},
   "source": [
    "- string denoted with quotes\n",
    "\n",
    "- list denoted with square brackets\n",
    "\n",
    "- list means array of elements\n",
    "\n",
    "- list can access any data type to gether"
   ]
  },
  {
   "cell_type": "code",
   "execution_count": 21,
   "id": "62cce441-ed88-4b38-9998-b2e2680a02f9",
   "metadata": {},
   "outputs": [],
   "source": [
    "l1=[1,2,3,4]"
   ]
  },
  {
   "cell_type": "code",
   "execution_count": 4,
   "id": "57e372db-1df2-43c7-aa67-bb48bafd1492",
   "metadata": {},
   "outputs": [
    {
     "data": {
      "text/plain": [
       "[1, 2, 3, 4]"
      ]
     },
     "execution_count": 4,
     "metadata": {},
     "output_type": "execute_result"
    }
   ],
   "source": [
    "l1"
   ]
  },
  {
   "cell_type": "code",
   "execution_count": 6,
   "id": "bcdcab9e-b38c-4b54-829f-23ef1d040f93",
   "metadata": {},
   "outputs": [
    {
     "data": {
      "text/plain": [
       "list"
      ]
     },
     "execution_count": 6,
     "metadata": {},
     "output_type": "execute_result"
    }
   ],
   "source": [
    "type(l1)"
   ]
  },
  {
   "cell_type": "code",
   "execution_count": 23,
   "id": "2374f6b5-6bde-4250-9d3e-fec93408f84d",
   "metadata": {},
   "outputs": [],
   "source": [
    "l2=['A','B','C','D']"
   ]
  },
  {
   "cell_type": "code",
   "execution_count": 10,
   "id": "8ca636b4-9dcc-4b96-9cd9-9a7c26a2b73f",
   "metadata": {},
   "outputs": [
    {
     "data": {
      "text/plain": [
       "['A', 'B', 'C', 'D']"
      ]
     },
     "execution_count": 10,
     "metadata": {},
     "output_type": "execute_result"
    }
   ],
   "source": [
    "l2"
   ]
  },
  {
   "cell_type": "code",
   "execution_count": 25,
   "id": "616ed917-dc33-4a93-a27d-e6aa352e090e",
   "metadata": {},
   "outputs": [],
   "source": [
    "l3=[1,2,3,4,'A','B','c']"
   ]
  },
  {
   "cell_type": "code",
   "execution_count": 16,
   "id": "96d1bd9d-f5ac-46b7-821e-dca6d1b650e2",
   "metadata": {},
   "outputs": [
    {
     "data": {
      "text/plain": [
       "[1, 2, 3, 4, 'A', 'B', 'c']"
      ]
     },
     "execution_count": 16,
     "metadata": {},
     "output_type": "execute_result"
    }
   ],
   "source": [
    "l3"
   ]
  },
  {
   "cell_type": "code",
   "execution_count": 18,
   "id": "6ae697c5-1edd-44e8-bb91-20132141204d",
   "metadata": {},
   "outputs": [],
   "source": [
    "# create as many as lists with different ways means different datatypes"
   ]
  },
  {
   "cell_type": "code",
   "execution_count": 27,
   "id": "b278af84-c624-4c33-82f9-55e9d622562e",
   "metadata": {},
   "outputs": [
    {
     "data": {
      "text/plain": [
       "[10, 20, 30, 'Apple', 'Banana', 'Cherry', True, False, 10.5, 20.5, (20+30j)]"
      ]
     },
     "execution_count": 27,
     "metadata": {},
     "output_type": "execute_result"
    }
   ],
   "source": [
    "l4=[10,20,30,'Apple','Banana','Cherry',True,False,10.5,20.5,20+30j]\n",
    "l4\n",
    "# List can reepresent with any datatypes"
   ]
  },
  {
   "cell_type": "code",
   "execution_count": 29,
   "id": "e70d1a9b-79fc-4802-a906-1179d2e322aa",
   "metadata": {},
   "outputs": [
    {
     "data": {
      "text/plain": [
       "[10, 10, 10]"
      ]
     },
     "execution_count": 29,
     "metadata": {},
     "output_type": "execute_result"
    }
   ],
   "source": [
    "l5=[10,10,10]\n",
    "l5\n",
    "# Duplicates are allowed"
   ]
  },
  {
   "cell_type": "code",
   "execution_count": 31,
   "id": "2d3a85e0-f638-4a9a-bf22-b234bd1d6b11",
   "metadata": {},
   "outputs": [
    {
     "data": {
      "text/plain": [
       "[10, 20, 30, ['A', 'B', 'C']]"
      ]
     },
     "execution_count": 31,
     "metadata": {},
     "output_type": "execute_result"
    }
   ],
   "source": [
    "l6=[10,20,30,['A','B','C']]\n",
    "l6"
   ]
  },
  {
   "cell_type": "code",
   "execution_count": 33,
   "id": "131f8770-3f6c-4bf0-a3f9-77bf3dcd1cfa",
   "metadata": {},
   "outputs": [
    {
     "data": {
      "text/plain": [
       "[]"
      ]
     },
     "execution_count": 33,
     "metadata": {},
     "output_type": "execute_result"
    }
   ],
   "source": [
    "l7=[]\n",
    "l7"
   ]
  },
  {
   "cell_type": "code",
   "execution_count": 15,
   "id": "fa599950-e539-4628-9e6c-75596b8bfd63",
   "metadata": {},
   "outputs": [
    {
     "data": {
      "text/plain": [
       "['{\"dataframes\": [], \"user\": \"Shubhashish\"}']"
      ]
     },
     "execution_count": 15,
     "metadata": {},
     "output_type": "execute_result"
    }
   ],
   "source": [
    "l8=[_]\n",
    "l8\n",
    "# unnderscore means a variable"
   ]
  },
  {
   "cell_type": "code",
   "execution_count": null,
   "id": "7f19bd97-7560-4120-8e1e-636ddba5df4f",
   "metadata": {},
   "outputs": [],
   "source": [
    "[pyhton] # error\n",
    "[_] # ans"
   ]
  },
  {
   "cell_type": "code",
   "execution_count": 19,
   "id": "2069fde9-9365-4b64-aaf6-9cac9745130a",
   "metadata": {},
   "outputs": [
    {
     "data": {
      "text/plain": [
       "[1, 2, 3, 4, 5]"
      ]
     },
     "execution_count": 19,
     "metadata": {},
     "output_type": "execute_result"
    }
   ],
   "source": [
    "l1=[1,2,3,4,5]\n",
    "l1"
   ]
  },
  {
   "cell_type": "code",
   "execution_count": 28,
   "id": "be9aa279-ad83-469a-9874-62e5f02e9173",
   "metadata": {},
   "outputs": [
    {
     "data": {
      "text/plain": [
       "['A', 'b', 'C', 'd']"
      ]
     },
     "execution_count": 28,
     "metadata": {},
     "output_type": "execute_result"
    }
   ],
   "source": [
    "l1=['A','b','C','d']\n",
    "l1"
   ]
  },
  {
   "cell_type": "code",
   "execution_count": 30,
   "id": "ea7ce638-e1c0-4dbb-9645-b6c1463695ec",
   "metadata": {},
   "outputs": [
    {
     "data": {
      "text/plain": [
       "[20.11, 22.22, 7.5, 8, 1]"
      ]
     },
     "execution_count": 30,
     "metadata": {},
     "output_type": "execute_result"
    }
   ],
   "source": [
    "l1=[20.11,22.22,7.5,8,1]\n",
    "l1"
   ]
  },
  {
   "cell_type": "code",
   "execution_count": 38,
   "id": "dc1fa623-b099-481a-8d28-09b4503d1031",
   "metadata": {},
   "outputs": [
    {
     "data": {
      "text/plain": [
       "[True, False]"
      ]
     },
     "execution_count": 38,
     "metadata": {},
     "output_type": "execute_result"
    }
   ],
   "source": [
    "l1=[True,False]\n",
    "l1"
   ]
  },
  {
   "cell_type": "code",
   "execution_count": 40,
   "id": "81f1d04e-3a65-450a-9547-f25df3602c04",
   "metadata": {},
   "outputs": [
    {
     "data": {
      "text/plain": [
       "[20, (20+30j)]"
      ]
     },
     "execution_count": 40,
     "metadata": {},
     "output_type": "execute_result"
    }
   ],
   "source": [
    "l1=[20,20+30j]\n",
    "l1"
   ]
  },
  {
   "cell_type": "code",
   "execution_count": 47,
   "id": "f513f59d-3e67-406b-a347-0a9021ab9f5b",
   "metadata": {},
   "outputs": [
    {
     "data": {
      "text/plain": [
       "[10, 10, 10]"
      ]
     },
     "execution_count": 47,
     "metadata": {},
     "output_type": "execute_result"
    }
   ],
   "source": [
    "l3=[10,10,10]\n",
    "l3\n",
    "# Duplicates are allowed"
   ]
  },
  {
   "cell_type": "code",
   "execution_count": 51,
   "id": "227d1721-6d74-47f1-88b5-48dea2df90fd",
   "metadata": {},
   "outputs": [
    {
     "data": {
      "text/plain": [
       "[10, 20, 30, ['A', 'B', 'C']]"
      ]
     },
     "execution_count": 51,
     "metadata": {},
     "output_type": "execute_result"
    }
   ],
   "source": [
    "l4=[10,20,30,['A','B','C']]\n",
    "l4"
   ]
  },
  {
   "cell_type": "code",
   "execution_count": 53,
   "id": "0e6917fa-f608-46e6-8650-3e9c66e16cbd",
   "metadata": {},
   "outputs": [
    {
     "data": {
      "text/plain": [
       "[]"
      ]
     },
     "execution_count": 53,
     "metadata": {},
     "output_type": "execute_result"
    }
   ],
   "source": [
    "l5=[]\n",
    "l5"
   ]
  },
  {
   "cell_type": "code",
   "execution_count": 63,
   "id": "47309138-a6fc-4853-9a15-b9eb72739706",
   "metadata": {},
   "outputs": [
    {
     "data": {
      "text/plain": [
       "['{\"dataframes\": [], \"user\": \"Shubhashish\"}']"
      ]
     },
     "execution_count": 63,
     "metadata": {},
     "output_type": "execute_result"
    }
   ],
   "source": [
    "l6=[_]\n",
    "l6"
   ]
  },
  {
   "cell_type": "markdown",
   "id": "0f0da74e-3687-4a64-a695-662057558bf3",
   "metadata": {},
   "source": [
    "- List can access with square brackets\n",
    "\n",
    "- List can have any data type of elements\n",
    "\n",
    "     - Hetrogeneous\n",
    "\n",
    "- List can have duplicates\n",
    "\n",
    "- List in List is possible\n",
    "\n",
    "- Empty List can also possible\n",
    "\n",
    "- The values inside list is called as elements"
   ]
  },
  {
   "cell_type": "code",
   "execution_count": null,
   "id": "3aaafa43-1004-47df-bc21-9067c95145ed",
   "metadata": {},
   "outputs": [],
   "source": [
    "l1=[1,2,3,4]\n",
    "l2=['A','B','C']\n",
    "l3=[1,2,3,4,'A','B','C']\n",
    "l4=[10,20,30,'Apple','Banana','Cherry',True,False,10.5,20.5,20+30j]\n",
    "l5=[10,10,10]\n",
    "l6=[10,20,30,['A','B','C']]\n",
    "l7=[]"
   ]
  },
  {
   "cell_type": "code",
   "execution_count": 35,
   "id": "c0b80046-cd4a-4204-9d16-91b2c183ba79",
   "metadata": {},
   "outputs": [
    {
     "data": {
      "text/plain": [
       "(4, 4, 7, 11, 3, 4, 0)"
      ]
     },
     "execution_count": 35,
     "metadata": {},
     "output_type": "execute_result"
    }
   ],
   "source": [
    "len(l1),len(l2),len(l3),len(l4),len(l5),len(l6),len(l7)"
   ]
  },
  {
   "cell_type": "code",
   "execution_count": 37,
   "id": "eb33d392-fb4c-4f71-b0d6-7e9c194573be",
   "metadata": {},
   "outputs": [
    {
     "data": {
      "text/plain": [
       "[1, 2, 3, 4]"
      ]
     },
     "execution_count": 37,
     "metadata": {},
     "output_type": "execute_result"
    }
   ],
   "source": [
    "l1"
   ]
  },
  {
   "cell_type": "code",
   "execution_count": 39,
   "id": "f9304921-dbe3-43b4-9524-bb7ba689c105",
   "metadata": {},
   "outputs": [
    {
     "data": {
      "text/plain": [
       "(1, 4)"
      ]
     },
     "execution_count": 39,
     "metadata": {},
     "output_type": "execute_result"
    }
   ],
   "source": [
    "min(l1),max(l1)"
   ]
  },
  {
   "cell_type": "code",
   "execution_count": 41,
   "id": "12e4fa6c-0b5e-4b3d-bd4c-2379d20a6b0f",
   "metadata": {},
   "outputs": [
    {
     "data": {
      "text/plain": [
       "['A', 'B', 'C', 'D']"
      ]
     },
     "execution_count": 41,
     "metadata": {},
     "output_type": "execute_result"
    }
   ],
   "source": [
    "l2"
   ]
  },
  {
   "cell_type": "code",
   "execution_count": 43,
   "id": "927fc34d-6abb-4252-abbf-ba421ee94b5d",
   "metadata": {},
   "outputs": [
    {
     "data": {
      "text/plain": [
       "('A', 'D')"
      ]
     },
     "execution_count": 43,
     "metadata": {},
     "output_type": "execute_result"
    }
   ],
   "source": [
    "min(l2),max(l2)"
   ]
  },
  {
   "cell_type": "code",
   "execution_count": 45,
   "id": "b2807181-cfaa-400e-8160-5532d931d85d",
   "metadata": {},
   "outputs": [
    {
     "data": {
      "text/plain": [
       "[1, 2, 3, 4, 'A', 'B', 'c']"
      ]
     },
     "execution_count": 45,
     "metadata": {},
     "output_type": "execute_result"
    }
   ],
   "source": [
    "l3"
   ]
  },
  {
   "cell_type": "code",
   "execution_count": 49,
   "id": "be42f31c-959a-4654-9ad8-d2297279a30d",
   "metadata": {},
   "outputs": [
    {
     "ename": "TypeError",
     "evalue": "'<' not supported between instances of 'str' and 'int'",
     "output_type": "error",
     "traceback": [
      "\u001b[1;31m---------------------------------------------------------------------------\u001b[0m",
      "\u001b[1;31mTypeError\u001b[0m                                 Traceback (most recent call last)",
      "Cell \u001b[1;32mIn[49], line 1\u001b[0m\n\u001b[1;32m----> 1\u001b[0m \u001b[38;5;28mmin\u001b[39m(l3)\n",
      "\u001b[1;31mTypeError\u001b[0m: '<' not supported between instances of 'str' and 'int'"
     ]
    }
   ],
   "source": [
    "min(l3)\n",
    "# same datatype should be compare\n",
    "# 'A' ==== same level\n",
    "# 1 ==== same level (not happened)"
   ]
  },
  {
   "cell_type": "code",
   "execution_count": 51,
   "id": "221d6165-d711-4a21-a4e6-2be344a2ad2c",
   "metadata": {},
   "outputs": [
    {
     "data": {
      "text/plain": [
       "[10, 20, 30, 'Apple', 'Banana', 'Cherry', True, False, 10.5, 20.5, (20+30j)]"
      ]
     },
     "execution_count": 51,
     "metadata": {},
     "output_type": "execute_result"
    }
   ],
   "source": [
    "l4"
   ]
  },
  {
   "cell_type": "code",
   "execution_count": 53,
   "id": "bce38be2-724a-4e9e-b239-9dcc55d5a550",
   "metadata": {},
   "outputs": [
    {
     "data": {
      "text/plain": [
       "[10, 10, 10]"
      ]
     },
     "execution_count": 53,
     "metadata": {},
     "output_type": "execute_result"
    }
   ],
   "source": [
    "l5"
   ]
  },
  {
   "cell_type": "code",
   "execution_count": 55,
   "id": "3b0b31ba-5492-498b-9c4f-12cec42828ce",
   "metadata": {},
   "outputs": [
    {
     "data": {
      "text/plain": [
       "(10, 10)"
      ]
     },
     "execution_count": 55,
     "metadata": {},
     "output_type": "execute_result"
    }
   ],
   "source": [
    "min(l5),max(l5)"
   ]
  },
  {
   "cell_type": "code",
   "execution_count": 57,
   "id": "892f37ff-8f42-44a7-98aa-803b8f56c234",
   "metadata": {},
   "outputs": [
    {
     "data": {
      "text/plain": [
       "[10, 20, 30, ['A', 'B', 'C']]"
      ]
     },
     "execution_count": 57,
     "metadata": {},
     "output_type": "execute_result"
    }
   ],
   "source": [
    "l6"
   ]
  },
  {
   "cell_type": "code",
   "execution_count": 61,
   "id": "16c7e133-dbc1-4623-9544-7dc2b87518c4",
   "metadata": {},
   "outputs": [
    {
     "data": {
      "text/plain": [
       "'\\n'"
      ]
     },
     "execution_count": 61,
     "metadata": {},
     "output_type": "execute_result"
    }
   ],
   "source": [
    "chr(10)"
   ]
  },
  {
   "cell_type": "code",
   "execution_count": 63,
   "id": "e50f22c0-5588-4e6e-a4a8-d7a7c82385a9",
   "metadata": {},
   "outputs": [
    {
     "ename": "TypeError",
     "evalue": "'list' object cannot be interpreted as an integer",
     "output_type": "error",
     "traceback": [
      "\u001b[1;31m---------------------------------------------------------------------------\u001b[0m",
      "\u001b[1;31mTypeError\u001b[0m                                 Traceback (most recent call last)",
      "Cell \u001b[1;32mIn[63], line 1\u001b[0m\n\u001b[1;32m----> 1\u001b[0m \u001b[38;5;28mchr\u001b[39m([])\n",
      "\u001b[1;31mTypeError\u001b[0m: 'list' object cannot be interpreted as an integer"
     ]
    }
   ],
   "source": [
    "chr([])"
   ]
  },
  {
   "cell_type": "code",
   "execution_count": 65,
   "id": "804fe4d2-23e1-4021-b8d3-68cd43f7f43f",
   "metadata": {},
   "outputs": [
    {
     "ename": "TypeError",
     "evalue": "ord() expected string of length 1, but list found",
     "output_type": "error",
     "traceback": [
      "\u001b[1;31m---------------------------------------------------------------------------\u001b[0m",
      "\u001b[1;31mTypeError\u001b[0m                                 Traceback (most recent call last)",
      "Cell \u001b[1;32mIn[65], line 1\u001b[0m\n\u001b[1;32m----> 1\u001b[0m \u001b[38;5;28mord\u001b[39m([])\n",
      "\u001b[1;31mTypeError\u001b[0m: ord() expected string of length 1, but list found"
     ]
    }
   ],
   "source": [
    "ord([])"
   ]
  },
  {
   "cell_type": "code",
   "execution_count": 67,
   "id": "8c433b5c-63d5-490c-bc7c-1efe8cd1d12d",
   "metadata": {},
   "outputs": [
    {
     "ename": "TypeError",
     "evalue": "'<' not supported between instances of 'list' and 'int'",
     "output_type": "error",
     "traceback": [
      "\u001b[1;31m---------------------------------------------------------------------------\u001b[0m",
      "\u001b[1;31mTypeError\u001b[0m                                 Traceback (most recent call last)",
      "Cell \u001b[1;32mIn[67], line 1\u001b[0m\n\u001b[1;32m----> 1\u001b[0m \u001b[38;5;28mmin\u001b[39m(l6)\n",
      "\u001b[1;31mTypeError\u001b[0m: '<' not supported between instances of 'list' and 'int'"
     ]
    }
   ],
   "source": [
    "min(l6)"
   ]
  },
  {
   "cell_type": "code",
   "execution_count": 69,
   "id": "523e7ab1-35e0-4cb6-a9cc-18f55d8d618a",
   "metadata": {},
   "outputs": [
    {
     "ename": "ValueError",
     "evalue": "min() iterable argument is empty",
     "output_type": "error",
     "traceback": [
      "\u001b[1;31m---------------------------------------------------------------------------\u001b[0m",
      "\u001b[1;31mValueError\u001b[0m                                Traceback (most recent call last)",
      "Cell \u001b[1;32mIn[69], line 1\u001b[0m\n\u001b[1;32m----> 1\u001b[0m \u001b[38;5;28mmin\u001b[39m(l7),\u001b[38;5;28mmax\u001b[39m(l7)\n",
      "\u001b[1;31mValueError\u001b[0m: min() iterable argument is empty"
     ]
    }
   ],
   "source": [
    "min(l7),max(l7)"
   ]
  },
  {
   "cell_type": "code",
   "execution_count": 71,
   "id": "4ef8dd95-fd9e-45ab-8239-bcb810b6edea",
   "metadata": {},
   "outputs": [
    {
     "ename": "ValueError",
     "evalue": "min() iterable argument is empty",
     "output_type": "error",
     "traceback": [
      "\u001b[1;31m---------------------------------------------------------------------------\u001b[0m",
      "\u001b[1;31mValueError\u001b[0m                                Traceback (most recent call last)",
      "Cell \u001b[1;32mIn[71], line 1\u001b[0m\n\u001b[1;32m----> 1\u001b[0m \u001b[38;5;28mmin\u001b[39m([])\n",
      "\u001b[1;31mValueError\u001b[0m: min() iterable argument is empty"
     ]
    }
   ],
   "source": [
    "min([])"
   ]
  },
  {
   "cell_type": "code",
   "execution_count": 124,
   "id": "184fdd24-2ebb-475e-a09b-40dab12bedbd",
   "metadata": {},
   "outputs": [
    {
     "data": {
      "text/plain": [
       "(0, 1, 1)"
      ]
     },
     "execution_count": 124,
     "metadata": {},
     "output_type": "execute_result"
    }
   ],
   "source": [
    "len([]),len([100]),len([''])\n",
    "# is list has elements"
   ]
  },
  {
   "cell_type": "code",
   "execution_count": 126,
   "id": "1203a2fe-06fc-4e27-b6c4-cb5d9ee5fa31",
   "metadata": {},
   "outputs": [
    {
     "data": {
      "text/plain": [
       "''"
      ]
     },
     "execution_count": 126,
     "metadata": {},
     "output_type": "execute_result"
    }
   ],
   "source": [
    "min(['','a'])"
   ]
  },
  {
   "cell_type": "code",
   "execution_count": 132,
   "id": "193d54c9-7668-4de2-b0df-c554ed2850cf",
   "metadata": {},
   "outputs": [
    {
     "data": {
      "text/plain": [
       "[]"
      ]
     },
     "execution_count": 132,
     "metadata": {},
     "output_type": "execute_result"
    }
   ],
   "source": [
    "l7=[]\n",
    "sorted(l7)\n",
    "# empty list means does nor has any element"
   ]
  },
  {
   "cell_type": "code",
   "execution_count": 83,
   "id": "bd765dcd-6745-4111-9c1f-18dc949c34da",
   "metadata": {},
   "outputs": [
    {
     "ename": "SyntaxError",
     "evalue": "invalid syntax (1581287911.py, line 1)",
     "output_type": "error",
     "traceback": [
      "\u001b[1;36m  Cell \u001b[1;32mIn[83], line 1\u001b[1;36m\u001b[0m\n\u001b[1;33m    min[]\u001b[0m\n\u001b[1;37m        ^\u001b[0m\n\u001b[1;31mSyntaxError\u001b[0m\u001b[1;31m:\u001b[0m invalid syntax\n"
     ]
    }
   ],
   "source": [
    "min[]"
   ]
  },
  {
   "cell_type": "code",
   "execution_count": 85,
   "id": "93999568-5baf-42d0-af0b-1dc70a87c064",
   "metadata": {},
   "outputs": [
    {
     "data": {
      "text/plain": [
       "<list_reverseiterator at 0x1d29e703310>"
      ]
     },
     "execution_count": 85,
     "metadata": {},
     "output_type": "execute_result"
    }
   ],
   "source": [
    "reversed(l1)"
   ]
  },
  {
   "cell_type": "code",
   "execution_count": 87,
   "id": "5c24705b-8b12-4e1d-a0cb-f923b8efad05",
   "metadata": {},
   "outputs": [
    {
     "name": "stdout",
     "output_type": "stream",
     "text": [
      "4\n",
      "3\n",
      "2\n",
      "1\n"
     ]
    }
   ],
   "source": [
    "for i in reversed(l1):\n",
    "    print(i)"
   ]
  },
  {
   "cell_type": "code",
   "execution_count": 91,
   "id": "bdb0ce29-f3db-4116-b7f3-4af6d0f0b78c",
   "metadata": {},
   "outputs": [
    {
     "data": {
      "text/plain": [
       "[4, 3, 2, 1]"
      ]
     },
     "execution_count": 91,
     "metadata": {},
     "output_type": "execute_result"
    }
   ],
   "source": [
    "list(reversed(l1))"
   ]
  },
  {
   "cell_type": "code",
   "execution_count": 89,
   "id": "9a21849c-b3bc-440f-8bdb-dda4f936a770",
   "metadata": {},
   "outputs": [
    {
     "data": {
      "text/plain": [
       "[<list_reverseiterator at 0x1d29f961f60>]"
      ]
     },
     "execution_count": 89,
     "metadata": {},
     "output_type": "execute_result"
    }
   ],
   "source": [
    "[reversed(l1)]"
   ]
  },
  {
   "cell_type": "code",
   "execution_count": 79,
   "id": "fc811131-380e-4d80-87fb-4221da566bf1",
   "metadata": {},
   "outputs": [
    {
     "data": {
      "text/plain": [
       "['A', 'B', 'C', 'D']"
      ]
     },
     "execution_count": 79,
     "metadata": {},
     "output_type": "execute_result"
    }
   ],
   "source": [
    "l2"
   ]
  },
  {
   "cell_type": "code",
   "execution_count": 81,
   "id": "eabb1f96-ca58-4c94-9580-8c3f1fe160ea",
   "metadata": {},
   "outputs": [
    {
     "data": {
      "text/plain": [
       "['c', 'B', 'A', 4, 3, 2, 1]"
      ]
     },
     "execution_count": 81,
     "metadata": {},
     "output_type": "execute_result"
    }
   ],
   "source": [
    "list(reversed(l3))"
   ]
  },
  {
   "cell_type": "code",
   "execution_count": 77,
   "id": "d946418c-f65a-489e-a146-eb36e070a466",
   "metadata": {},
   "outputs": [
    {
     "data": {
      "text/plain": [
       "[10, 10, 10]"
      ]
     },
     "execution_count": 77,
     "metadata": {},
     "output_type": "execute_result"
    }
   ],
   "source": [
    "l5"
   ]
  },
  {
   "cell_type": "code",
   "execution_count": 73,
   "id": "223d080c-77a1-4eb0-9a82-53df893f494c",
   "metadata": {},
   "outputs": [
    {
     "data": {
      "text/plain": [
       "[10, 20, 30, ['A', 'B', 'C']]"
      ]
     },
     "execution_count": 73,
     "metadata": {},
     "output_type": "execute_result"
    }
   ],
   "source": [
    "l6"
   ]
  },
  {
   "cell_type": "code",
   "execution_count": 75,
   "id": "4598882b-f527-46f9-bc70-9b48eaeb92c1",
   "metadata": {},
   "outputs": [
    {
     "data": {
      "text/plain": [
       "[['A', 'B', 'C'], 30, 20, 10]"
      ]
     },
     "execution_count": 75,
     "metadata": {},
     "output_type": "execute_result"
    }
   ],
   "source": [
    "list(reversed(l6))"
   ]
  },
  {
   "cell_type": "markdown",
   "id": "8fd284d7-b885-46ca-a046-56107bf330ca",
   "metadata": {},
   "source": [
    "- sorted will compare the element\n",
    "\n",
    "- the same rules applicable for min and max\n",
    "\n",
    "- sorted never return any error eventhough we have an empty list\n",
    "\n",
    "- min and max will give error if it has empty list\n",
    "\n",
    "- Reversed only do reverse element"
   ]
  },
  {
   "cell_type": "code",
   "execution_count": null,
   "id": "4521f820-6570-4e7d-9419-c5ccb4a17d6e",
   "metadata": {},
   "outputs": [],
   "source": [
    "min/max/sorted/len/reversed"
   ]
  },
  {
   "cell_type": "markdown",
   "id": "22190c73-eb24-4da3-8580-f5b3372b9b55",
   "metadata": {},
   "source": [
    "**sum**"
   ]
  },
  {
   "cell_type": "code",
   "execution_count": 146,
   "id": "37ff0c97-ed94-4edd-9611-e34bdd265cde",
   "metadata": {},
   "outputs": [
    {
     "data": {
      "text/plain": [
       "600"
      ]
     },
     "execution_count": 146,
     "metadata": {},
     "output_type": "execute_result"
    }
   ],
   "source": [
    "sum([100,200,300])"
   ]
  },
  {
   "cell_type": "code",
   "execution_count": 148,
   "id": "e3281006-3dfa-40aa-a2f1-0236f385c249",
   "metadata": {},
   "outputs": [
    {
     "ename": "TypeError",
     "evalue": "unsupported operand type(s) for +: 'int' and 'str'",
     "output_type": "error",
     "traceback": [
      "\u001b[1;31m---------------------------------------------------------------------------\u001b[0m",
      "\u001b[1;31mTypeError\u001b[0m                                 Traceback (most recent call last)",
      "Cell \u001b[1;32mIn[148], line 1\u001b[0m\n\u001b[1;32m----> 1\u001b[0m \u001b[38;5;28msum\u001b[39m([\u001b[38;5;124m'\u001b[39m\u001b[38;5;124mA\u001b[39m\u001b[38;5;124m'\u001b[39m,\u001b[38;5;124m'\u001b[39m\u001b[38;5;124mB\u001b[39m\u001b[38;5;124m'\u001b[39m,\u001b[38;5;124m'\u001b[39m\u001b[38;5;124mC\u001b[39m\u001b[38;5;124m'\u001b[39m])\n",
      "\u001b[1;31mTypeError\u001b[0m: unsupported operand type(s) for +: 'int' and 'str'"
     ]
    }
   ],
   "source": [
    "sum(['A','B','C'])"
   ]
  },
  {
   "cell_type": "code",
   "execution_count": 152,
   "id": "a67609dc-6f69-4a33-b5ba-4348bc3c55e2",
   "metadata": {},
   "outputs": [
    {
     "data": {
      "text/plain": [
       "700"
      ]
     },
     "execution_count": 152,
     "metadata": {},
     "output_type": "execute_result"
    }
   ],
   "source": [
    "sum([100,200,300],start=100)"
   ]
  },
  {
   "cell_type": "code",
   "execution_count": null,
   "id": "3f9c6dca-303b-40de-9dde-dd905ab344e0",
   "metadata": {},
   "outputs": [],
   "source": [
    "sum=100\n",
    "sum=sum+i"
   ]
  },
  {
   "cell_type": "code",
   "execution_count": 154,
   "id": "ec04d6de-0ae5-460f-a96d-45a62c8e9878",
   "metadata": {},
   "outputs": [
    {
     "data": {
      "text/plain": [
       "0"
      ]
     },
     "execution_count": 154,
     "metadata": {},
     "output_type": "execute_result"
    }
   ],
   "source": [
    "sum([])"
   ]
  },
  {
   "cell_type": "markdown",
   "id": "ff9e0686-b267-4dc9-bda2-6294b5f6d8ed",
   "metadata": {},
   "source": [
    "**index**"
   ]
  },
  {
   "cell_type": "code",
   "execution_count": 159,
   "id": "174c76b2-68a2-40f4-94d9-4fecb546bbf8",
   "metadata": {},
   "outputs": [],
   "source": [
    "l1=[1,2,3,4,'A','B','C']\n",
    "\n",
    "#  -7 -6 -5 -4 -3  -2  -1\n",
    "# [1,  2, 3, 4,'A','B','C']\n",
    "#  0   1  2  3  4   5   6"
   ]
  },
  {
   "cell_type": "code",
   "execution_count": 161,
   "id": "f28597e3-d60a-4691-8245-e0ddf99941f7",
   "metadata": {},
   "outputs": [
    {
     "data": {
      "text/plain": [
       "(1, 1)"
      ]
     },
     "execution_count": 161,
     "metadata": {},
     "output_type": "execute_result"
    }
   ],
   "source": [
    "l1[0],l1[-7]"
   ]
  },
  {
   "cell_type": "code",
   "execution_count": 163,
   "id": "663e3cf3-0b43-49c9-ac92-24bbd465acdc",
   "metadata": {},
   "outputs": [],
   "source": [
    "# by using for loop print the positive index\n",
    "# by using for loop print the negative index\n",
    "# by using for loop prrint both positive and negative index"
   ]
  },
  {
   "cell_type": "code",
   "execution_count": 183,
   "id": "95817c31-a81b-40be-9f84-18d0b10d2da9",
   "metadata": {},
   "outputs": [
    {
     "name": "stdout",
     "output_type": "stream",
     "text": [
      "the positive index of 10 is: 0\n",
      "the positive index of 10 is: -7\n",
      "-7 is (-)ve index and 0 is (+)ve index of 10\n",
      "============================================================\n",
      "the positive index of 20 is: 1\n",
      "the positive index of 20 is: -6\n",
      "-6 is (-)ve index and 1 is (+)ve index of 20\n",
      "============================================================\n",
      "the positive index of 30 is: 2\n",
      "the positive index of 30 is: -5\n",
      "-5 is (-)ve index and 2 is (+)ve index of 30\n",
      "============================================================\n",
      "the positive index of 40 is: 3\n",
      "the positive index of 40 is: -4\n",
      "-4 is (-)ve index and 3 is (+)ve index of 40\n",
      "============================================================\n",
      "the positive index of A is: 4\n",
      "the positive index of A is: -3\n",
      "-3 is (-)ve index and 4 is (+)ve index of A\n",
      "============================================================\n",
      "the positive index of B is: 5\n",
      "the positive index of B is: -2\n",
      "-2 is (-)ve index and 5 is (+)ve index of B\n",
      "============================================================\n",
      "the positive index of C is: 6\n",
      "the positive index of C is: -1\n",
      "-1 is (-)ve index and 6 is (+)ve index of C\n",
      "============================================================\n"
     ]
    }
   ],
   "source": [
    "l1=[10,20,30,40,'A','B','C']\n",
    "for i in range(len(l1)):\n",
    "    print(f\"the positive index of {l1[i]} is: {i}\")\n",
    "    print(f\"the positive index of {l1[i]} is: {i-len(l1)}\")\n",
    "    print(f\"{i-len(l1)} is (-)ve index and {i} is (+)ve index of {l1[i]}\")\n",
    "    print(\"============================================================\")"
   ]
  },
  {
   "cell_type": "code",
   "execution_count": 185,
   "id": "a9fe23d9-26a3-48dc-b1dd-8648899dfb5c",
   "metadata": {},
   "outputs": [
    {
     "data": {
      "text/plain": [
       "10"
      ]
     },
     "execution_count": 185,
     "metadata": {},
     "output_type": "execute_result"
    }
   ],
   "source": [
    "l=[10,20,30]\n",
    "l[0]"
   ]
  },
  {
   "cell_type": "code",
   "execution_count": 197,
   "id": "1549a24c-daad-48a5-890b-3c604acd66d2",
   "metadata": {},
   "outputs": [
    {
     "data": {
      "text/plain": [
       "1"
      ]
     },
     "execution_count": 197,
     "metadata": {},
     "output_type": "execute_result"
    }
   ],
   "source": [
    "l=[[10,20,30]]\n",
    "# how to access the 10\n",
    "len(l)"
   ]
  },
  {
   "cell_type": "code",
   "execution_count": 212,
   "id": "3898b6a4-aac8-4bdf-89a6-add2e00a582f",
   "metadata": {},
   "outputs": [
    {
     "data": {
      "text/plain": [
       "(10, 20, 20)"
      ]
     },
     "execution_count": 212,
     "metadata": {},
     "output_type": "execute_result"
    }
   ],
   "source": [
    "l[0][0],l[0][1],l[0][1]"
   ]
  },
  {
   "cell_type": "code",
   "execution_count": 224,
   "id": "637a84f7-db75-4cc4-95c4-fd11574540b9",
   "metadata": {},
   "outputs": [
    {
     "data": {
      "text/plain": [
       "'A'"
      ]
     },
     "execution_count": 224,
     "metadata": {},
     "output_type": "execute_result"
    }
   ],
   "source": [
    "l1=[110,20,['A','B']]\n",
    "# 3 elements there\n",
    "len(l1)\n",
    "# how can we access 0,1,2\n",
    "l1[2][0]"
   ]
  },
  {
   "cell_type": "code",
   "execution_count": 232,
   "id": "ab8bf58c-92e8-4fc0-b651-39bebccb90ee",
   "metadata": {},
   "outputs": [
    {
     "data": {
      "text/plain": [
       "'Apple'"
      ]
     },
     "execution_count": 232,
     "metadata": {},
     "output_type": "execute_result"
    }
   ],
   "source": [
    "l1=[1,2,3,4,[5,6,['Apple']]]\n",
    "l1[4][2][0]"
   ]
  },
  {
   "cell_type": "code",
   "execution_count": 244,
   "id": "92d04366-2592-4e95-85b9-0884907a86fb",
   "metadata": {},
   "outputs": [
    {
     "data": {
      "text/plain": [
       "'cherry'"
      ]
     },
     "execution_count": 244,
     "metadata": {},
     "output_type": "execute_result"
    }
   ],
   "source": [
    "l1=[1,2,3,[4,[5,['cherry']]]]\n",
    "l1[3][1][1][0]\n",
    "#len(l1)"
   ]
  },
  {
   "cell_type": "code",
   "execution_count": 250,
   "id": "5cbc4e58-c304-4be2-8129-d1a7ffca510f",
   "metadata": {},
   "outputs": [
    {
     "data": {
      "text/plain": [
       "'banana'"
      ]
     },
     "execution_count": 250,
     "metadata": {},
     "output_type": "execute_result"
    }
   ],
   "source": [
    "l1=[[[[[[[[['banana']]]]]]]]]\n",
    "l1[0][0][0][0][0][0][0][0][0]"
   ]
  },
  {
   "cell_type": "code",
   "execution_count": 258,
   "id": "846ddfc3-971d-4fab-bd71-f9bfe009075e",
   "metadata": {},
   "outputs": [
    {
     "data": {
      "text/plain": [
       "'DDLJ'"
      ]
     },
     "execution_count": 258,
     "metadata": {},
     "output_type": "execute_result"
    }
   ],
   "source": [
    "l1=['Apple',['kashmir',['India',['Mumbai',['Sharuk',['film',['DDLJ']]]]]]]\n",
    "l1[1][1][1][1][1][1][0]"
   ]
  },
  {
   "cell_type": "markdown",
   "id": "2db3ae2c-716b-4d75-a694-7c46da4cd0bd",
   "metadata": {},
   "source": [
    "$27/11/2024$"
   ]
  },
  {
   "cell_type": "markdown",
   "id": "322b8543-0a3c-4b46-ae89-ce3a5cb89bc5",
   "metadata": {},
   "source": [
    "**mutable vs immutable**"
   ]
  },
  {
   "cell_type": "code",
   "execution_count": 8,
   "id": "6936702c-1dfd-4a4f-b1c7-3adb3bda5d9a",
   "metadata": {},
   "outputs": [
    {
     "ename": "TypeError",
     "evalue": "'str' object does not support item assignment",
     "output_type": "error",
     "traceback": [
      "\u001b[1;31m---------------------------------------------------------------------------\u001b[0m",
      "\u001b[1;31mTypeError\u001b[0m                                 Traceback (most recent call last)",
      "Cell \u001b[1;32mIn[8], line 2\u001b[0m\n\u001b[0;32m      1\u001b[0m str1\u001b[38;5;241m=\u001b[39m\u001b[38;5;124m'\u001b[39m\u001b[38;5;124mwelcome\u001b[39m\u001b[38;5;124m'\u001b[39m\n\u001b[1;32m----> 2\u001b[0m str1[\u001b[38;5;241m2\u001b[39m]\u001b[38;5;241m=\u001b[39m\u001b[38;5;124m'\u001b[39m\u001b[38;5;124mL\u001b[39m\u001b[38;5;124m'\u001b[39m\n\u001b[0;32m      3\u001b[0m str1\n",
      "\u001b[1;31mTypeError\u001b[0m: 'str' object does not support item assignment"
     ]
    }
   ],
   "source": [
    "str1='welcome'\n",
    "str1[2]='L'\n",
    "str1\n",
    "# immutable"
   ]
  },
  {
   "cell_type": "code",
   "execution_count": 12,
   "id": "5a770275-500f-4bb0-9176-c9cb4be9fe17",
   "metadata": {},
   "outputs": [
    {
     "data": {
      "text/plain": [
       "['w', 'e', 'L', 'c', 'o', 'm', 'e']"
      ]
     },
     "execution_count": 12,
     "metadata": {},
     "output_type": "execute_result"
    }
   ],
   "source": [
    "str1=['w','e','l','c','o','m','e']\n",
    "str1[2]='L'\n",
    "str1\n",
    "#mutable"
   ]
  },
  {
   "cell_type": "markdown",
   "id": "a779d669-d6b9-419a-b90b-aee340df17cc",
   "metadata": {},
   "source": [
    "- we can change the list elements using index"
   ]
  },
  {
   "cell_type": "code",
   "execution_count": 15,
   "id": "1d379d5c-bbe4-4b00-9451-655f7f825e95",
   "metadata": {},
   "outputs": [
    {
     "data": {
      "text/plain": [
       "'hellowelcome'"
      ]
     },
     "execution_count": 15,
     "metadata": {},
     "output_type": "execute_result"
    }
   ],
   "source": [
    "s1='hello'\n",
    "s2='welcome'\n",
    "s1+s2"
   ]
  },
  {
   "cell_type": "code",
   "execution_count": null,
   "id": "800b46a4-8ba7-4513-a059-2aef1ae84d83",
   "metadata": {},
   "outputs": [],
   "source": [
    "s1*s2 # fail\n",
    "s1-s2 # fail"
   ]
  },
  {
   "cell_type": "code",
   "execution_count": 17,
   "id": "0138c585-38dc-4925-8182-ae4249f42f0c",
   "metadata": {},
   "outputs": [
    {
     "data": {
      "text/plain": [
       "'hellohello'"
      ]
     },
     "execution_count": 17,
     "metadata": {},
     "output_type": "execute_result"
    }
   ],
   "source": [
    "s1*2"
   ]
  },
  {
   "cell_type": "code",
   "execution_count": 21,
   "id": "6ae4c31b-ba69-4415-8859-0d14eba6c9ad",
   "metadata": {},
   "outputs": [
    {
     "data": {
      "text/plain": [
       "['h', 'e', 'l', 'l', 'o', 'w', 'e', 'l', 'c', 'o', 'm', 'e']"
      ]
     },
     "execution_count": 21,
     "metadata": {},
     "output_type": "execute_result"
    }
   ],
   "source": [
    "l1=['h','e','l','l','o']\n",
    "l2=['w','e','l','c','o','m','e']\n",
    "l1+l2"
   ]
  },
  {
   "cell_type": "code",
   "execution_count": null,
   "id": "3c6bb2c4-d617-405d-a76b-1f5501de92c4",
   "metadata": {},
   "outputs": [],
   "source": [
    "l1*l2 # error\n",
    "l1-l2 # error\n",
    "l1/l2 # error"
   ]
  },
  {
   "cell_type": "code",
   "execution_count": 23,
   "id": "1f8b7f1d-cdea-46ec-8af7-f075be8fa12d",
   "metadata": {},
   "outputs": [
    {
     "data": {
      "text/plain": [
       "['h', 'e', 'l', 'l', 'o', 'h', 'e', 'l', 'l', 'o']"
      ]
     },
     "execution_count": 23,
     "metadata": {},
     "output_type": "execute_result"
    }
   ],
   "source": [
    "l1*2"
   ]
  },
  {
   "cell_type": "markdown",
   "id": "eea65616-6888-4bcb-aba3-1e85f033c77f",
   "metadata": {},
   "source": [
    "**slicing**"
   ]
  },
  {
   "cell_type": "code",
   "execution_count": 38,
   "id": "8d6dfa0f-918a-4549-ac70-89d8013c00db",
   "metadata": {},
   "outputs": [],
   "source": [
    "l1=[1,2,3,4,5,'A','B','C','D','10.5',True,10.5,100,200]\n",
    "#l1[2:-14:]2 n\n",
    "#l1[-2:14:2]w\n",
    "#l1[14:-2:2] w\n",
    "#l1[-14:2:2]w\n",
    "#l1[-14:-2:-2]w"
   ]
  },
  {
   "cell_type": "markdown",
   "id": "3746f169-f1ba-4fee-b500-3cb94691b317",
   "metadata": {},
   "source": [
    "**Methods**"
   ]
  },
  {
   "cell_type": "code",
   "execution_count": 41,
   "id": "e4e7e4ab-29aa-47e0-a267-780e52d10cec",
   "metadata": {},
   "outputs": [
    {
     "data": {
      "text/plain": [
       "['__add__',\n",
       " '__class__',\n",
       " '__contains__',\n",
       " '__delattr__',\n",
       " '__dir__',\n",
       " '__doc__',\n",
       " '__eq__',\n",
       " '__format__',\n",
       " '__ge__',\n",
       " '__getattribute__',\n",
       " '__getitem__',\n",
       " '__getnewargs__',\n",
       " '__getstate__',\n",
       " '__gt__',\n",
       " '__hash__',\n",
       " '__init__',\n",
       " '__init_subclass__',\n",
       " '__iter__',\n",
       " '__le__',\n",
       " '__len__',\n",
       " '__lt__',\n",
       " '__mod__',\n",
       " '__mul__',\n",
       " '__ne__',\n",
       " '__new__',\n",
       " '__reduce__',\n",
       " '__reduce_ex__',\n",
       " '__repr__',\n",
       " '__rmod__',\n",
       " '__rmul__',\n",
       " '__setattr__',\n",
       " '__sizeof__',\n",
       " '__str__',\n",
       " '__subclasshook__',\n",
       " 'capitalize',\n",
       " 'casefold',\n",
       " 'center',\n",
       " 'count',\n",
       " 'encode',\n",
       " 'endswith',\n",
       " 'expandtabs',\n",
       " 'find',\n",
       " 'format',\n",
       " 'format_map',\n",
       " 'index',\n",
       " 'isalnum',\n",
       " 'isalpha',\n",
       " 'isascii',\n",
       " 'isdecimal',\n",
       " 'isdigit',\n",
       " 'isidentifier',\n",
       " 'islower',\n",
       " 'isnumeric',\n",
       " 'isprintable',\n",
       " 'isspace',\n",
       " 'istitle',\n",
       " 'isupper',\n",
       " 'join',\n",
       " 'ljust',\n",
       " 'lower',\n",
       " 'lstrip',\n",
       " 'maketrans',\n",
       " 'partition',\n",
       " 'removeprefix',\n",
       " 'removesuffix',\n",
       " 'replace',\n",
       " 'rfind',\n",
       " 'rindex',\n",
       " 'rjust',\n",
       " 'rpartition',\n",
       " 'rsplit',\n",
       " 'rstrip',\n",
       " 'split',\n",
       " 'splitlines',\n",
       " 'startswith',\n",
       " 'strip',\n",
       " 'swapcase',\n",
       " 'title',\n",
       " 'translate',\n",
       " 'upper',\n",
       " 'zfill']"
      ]
     },
     "execution_count": 41,
     "metadata": {},
     "output_type": "execute_result"
    }
   ],
   "source": [
    "dir('')"
   ]
  },
  {
   "cell_type": "code",
   "execution_count": 49,
   "id": "2a06ae95-fbe7-4829-b771-3b5176dacda4",
   "metadata": {},
   "outputs": [
    {
     "data": {
      "text/plain": [
       "['__add__',\n",
       " '__class__',\n",
       " '__class_getitem__',\n",
       " '__contains__',\n",
       " '__delattr__',\n",
       " '__delitem__',\n",
       " '__dir__',\n",
       " '__doc__',\n",
       " '__eq__',\n",
       " '__format__',\n",
       " '__ge__',\n",
       " '__getattribute__',\n",
       " '__getitem__',\n",
       " '__getstate__',\n",
       " '__gt__',\n",
       " '__hash__',\n",
       " '__iadd__',\n",
       " '__imul__',\n",
       " '__init__',\n",
       " '__init_subclass__',\n",
       " '__iter__',\n",
       " '__le__',\n",
       " '__len__',\n",
       " '__lt__',\n",
       " '__mul__',\n",
       " '__ne__',\n",
       " '__new__',\n",
       " '__reduce__',\n",
       " '__reduce_ex__',\n",
       " '__repr__',\n",
       " '__reversed__',\n",
       " '__rmul__',\n",
       " '__setattr__',\n",
       " '__setitem__',\n",
       " '__sizeof__',\n",
       " '__str__',\n",
       " '__subclasshook__',\n",
       " 'append',\n",
       " 'clear',\n",
       " 'copy',\n",
       " 'count',\n",
       " 'extend',\n",
       " 'index',\n",
       " 'insert',\n",
       " 'pop',\n",
       " 'remove',\n",
       " 'reverse',\n",
       " 'sort']"
      ]
     },
     "execution_count": 49,
     "metadata": {},
     "output_type": "execute_result"
    }
   ],
   "source": [
    "dir([])"
   ]
  },
  {
   "cell_type": "code",
   "execution_count": null,
   "id": "26395f72-7ea8-4e9e-b0d4-c5cad9950f55",
   "metadata": {},
   "outputs": [],
   "source": [
    "'append',\n",
    " 'clear',\n",
    " 'copy',\n",
    " 'count',\n",
    " 'extend',\n",
    " 'index',\n",
    " 'insert',\n",
    " 'pop',\n",
    " 'remove',\n",
    " 'reverse',\n",
    " 'sort'"
   ]
  },
  {
   "cell_type": "code",
   "execution_count": 107,
   "id": "e96c1785-5f41-4859-ae95-efc3e3a96cb2",
   "metadata": {},
   "outputs": [
    {
     "data": {
      "text/plain": [
       "1"
      ]
     },
     "execution_count": 107,
     "metadata": {},
     "output_type": "execute_result"
    }
   ],
   "source": [
    "l1=[1,2,3,4,5,'A','B','C','D','10.5',True,10.5,100,200]\n",
    "val=l1.count('A')\n",
    "val"
   ]
  },
  {
   "cell_type": "code",
   "execution_count": 97,
   "id": "b81ae1e4-273f-4bf8-990e-69f2e926947b",
   "metadata": {},
   "outputs": [
    {
     "data": {
      "text/plain": [
       "[200, 100, 10.5, True, '10.5', 'D', 'C', 'B', 'A', 5, 4, 3, 2, 1]"
      ]
     },
     "execution_count": 97,
     "metadata": {},
     "output_type": "execute_result"
    }
   ],
   "source": [
    "l1.reverse()\n",
    "l1"
   ]
  },
  {
   "cell_type": "code",
   "execution_count": 103,
   "id": "03713452-f401-4ff7-8c56-1da405c69a87",
   "metadata": {},
   "outputs": [
    {
     "data": {
      "text/plain": [
       "[1, 2, 3, 4]"
      ]
     },
     "execution_count": 103,
     "metadata": {},
     "output_type": "execute_result"
    }
   ],
   "source": [
    "l2=[1,2,4,3]\n",
    "l2.sort()\n",
    "l2"
   ]
  },
  {
   "cell_type": "code",
   "execution_count": null,
   "id": "9184c515-3679-4761-9263-1f84adc937b0",
   "metadata": {},
   "outputs": [],
   "source": [
    "#################### inbuilt functions ######################\n",
    "print()\n",
    "max()\n",
    "min()\n",
    "#################### Methods #############################\n",
    "l1.<method_name>\n",
    "method_name(l1) # Mistake"
   ]
  },
  {
   "cell_type": "markdown",
   "id": "40411db9-d509-40d6-a59d-5397e5dc4132",
   "metadata": {},
   "source": [
    "**clear**"
   ]
  },
  {
   "cell_type": "code",
   "execution_count": 114,
   "id": "8466e105-88be-454a-97af-06812d3eb7ab",
   "metadata": {},
   "outputs": [
    {
     "data": {
      "text/plain": [
       "[]"
      ]
     },
     "execution_count": 114,
     "metadata": {},
     "output_type": "execute_result"
    }
   ],
   "source": [
    "l1=[10,20,30,40]\n",
    "l1.clear()\n",
    "l1"
   ]
  },
  {
   "cell_type": "markdown",
   "id": "f4e7d8b4-25a5-405d-ab8e-abd96a8e1e1b",
   "metadata": {},
   "source": [
    "**copy**"
   ]
  },
  {
   "cell_type": "code",
   "execution_count": 117,
   "id": "28000930-abf8-4cdf-beae-788515cee1bc",
   "metadata": {},
   "outputs": [
    {
     "name": "stdout",
     "output_type": "stream",
     "text": [
      "l2: [10, 20, 30, 40]\n",
      "l1: []\n"
     ]
    }
   ],
   "source": [
    "l1=[10,20,30,40]\n",
    "l2=l1.copy()\n",
    "l1.clear()\n",
    "print('l2:',l2)\n",
    "print('l1:',l1)"
   ]
  },
  {
   "cell_type": "markdown",
   "id": "cb64a530-5404-4390-ae78-e2f05ddea3c5",
   "metadata": {},
   "source": [
    "**reeverse vs reversed**\n",
    "\n",
    "- reversed is a inbulit function\n",
    "\n",
    "- reversed can be applicable all **iterable**\n",
    "\n",
    "- reversed applicable for **strings,list,tuple,dict etc**\n",
    "\n",
    "- reversed(string), reversed(list), reversed(tuple) etc\n",
    "\n",
    "**reverse**\n",
    "\n",
    "- reverse is a method is belongs to only list\n",
    "\n",
    "- reverse method can not applicable to string , tuple and dict\n",
    "\n",
    "- list.reverse()"
   ]
  },
  {
   "cell_type": "code",
   "execution_count": 7,
   "id": "52b124a1-ee76-4977-b26f-caff7c30f346",
   "metadata": {},
   "outputs": [
    {
     "data": {
      "text/plain": [
       "['C', 'B', 'A', 40, 30, 20, 10]"
      ]
     },
     "execution_count": 7,
     "metadata": {},
     "output_type": "execute_result"
    }
   ],
   "source": [
    "l1=[10,20,30,40,'A','B','C']\n",
    "l1.reverse()\n",
    "l1\n",
    "# reverse the elements save the output in same variable\n",
    "# it is indicates as **INPLACE**\n",
    "# some times inplace=True available"
   ]
  },
  {
   "cell_type": "code",
   "execution_count": 15,
   "id": "d6025db2-67a8-4ca9-b8c1-31088d7b8337",
   "metadata": {},
   "outputs": [
    {
     "data": {
      "text/plain": [
       "[10, 20, 30, 40]"
      ]
     },
     "execution_count": 15,
     "metadata": {},
     "output_type": "execute_result"
    }
   ],
   "source": [
    "str1=[10,20,30,40]\n",
    "str1.sort()\n",
    "str1"
   ]
  },
  {
   "cell_type": "code",
   "execution_count": 132,
   "id": "25e103df-eafc-423b-a83a-9916d4eac48e",
   "metadata": {},
   "outputs": [
    {
     "ename": "AttributeError",
     "evalue": "'list' object has no attribute 'sorted'",
     "output_type": "error",
     "traceback": [
      "\u001b[1;31m---------------------------------------------------------------------------\u001b[0m",
      "\u001b[1;31mAttributeError\u001b[0m                            Traceback (most recent call last)",
      "Cell \u001b[1;32mIn[132], line 1\u001b[0m\n\u001b[1;32m----> 1\u001b[0m str1\u001b[38;5;241m.\u001b[39msorted()\n\u001b[0;32m      2\u001b[0m str1\n",
      "\u001b[1;31mAttributeError\u001b[0m: 'list' object has no attribute 'sorted'"
     ]
    }
   ],
   "source": [
    "str1.sorted()\n",
    "str1"
   ]
  },
  {
   "cell_type": "code",
   "execution_count": 17,
   "id": "cdad76c2-7dab-4d44-afed-31ddeda74299",
   "metadata": {},
   "outputs": [
    {
     "data": {
      "text/plain": [
       "[10, 20, 30, 40, 'A', 'B', 'C']"
      ]
     },
     "execution_count": 17,
     "metadata": {},
     "output_type": "execute_result"
    }
   ],
   "source": [
    "list(reversed(str1))\n",
    "list(reversed(l1))"
   ]
  },
  {
   "cell_type": "code",
   "execution_count": null,
   "id": "cb695114-533e-4da7-b3da-04c0f011daad",
   "metadata": {},
   "outputs": [],
   "source": [
    "l1.reverse() # answer\n",
    "str1.reverse() # erroe"
   ]
  },
  {
   "cell_type": "markdown",
   "id": "4091770e-30d6-4593-9de2-28779c273c9c",
   "metadata": {},
   "source": [
    "**sort vs sorted**"
   ]
  },
  {
   "cell_type": "code",
   "execution_count": 137,
   "id": "e123a7c9-cbfe-4060-a4b3-0b7acb2b5ab3",
   "metadata": {},
   "outputs": [
    {
     "data": {
      "text/plain": [
       "list"
      ]
     },
     "execution_count": 137,
     "metadata": {},
     "output_type": "execute_result"
    }
   ],
   "source": [
    "type([])  # do not give list as variable"
   ]
  },
  {
   "cell_type": "code",
   "execution_count": 141,
   "id": "e0027065-0a8f-484d-8ba3-388d22d4e73e",
   "metadata": {},
   "outputs": [
    {
     "data": {
      "text/plain": [
       "[3, 5, 19, 25, 45]"
      ]
     },
     "execution_count": 141,
     "metadata": {},
     "output_type": "execute_result"
    }
   ],
   "source": [
    "list1=[19,25,3,45,5]\n",
    "list1.sort()\n",
    "list1"
   ]
  },
  {
   "cell_type": "code",
   "execution_count": 143,
   "id": "f8909a5b-7e03-47e8-a975-ae9288113c9e",
   "metadata": {},
   "outputs": [
    {
     "data": {
      "text/plain": [
       "[45, 25, 19, 5, 3]"
      ]
     },
     "execution_count": 143,
     "metadata": {},
     "output_type": "execute_result"
    }
   ],
   "source": [
    "list1=[19,25,3,45,5]\n",
    "list1.sort(reverse=True)\n",
    "list1"
   ]
  },
  {
   "cell_type": "code",
   "execution_count": 145,
   "id": "681adff6-cdb6-42e0-846b-f7f548f75bcb",
   "metadata": {},
   "outputs": [
    {
     "data": {
      "text/plain": [
       "[3, 5, 19, 25, 45]"
      ]
     },
     "execution_count": 145,
     "metadata": {},
     "output_type": "execute_result"
    }
   ],
   "source": [
    "sorted(list1)"
   ]
  },
  {
   "cell_type": "code",
   "execution_count": null,
   "id": "dd72cb0c-fe08-4c0e-938d-de78c5a78d2b",
   "metadata": {},
   "outputs": [],
   "source": [
    "sorted(string) # works\n",
    "sorted(list)  # works\n",
    "\n",
    "list.sort() # work\n",
    "string.sort() # fail"
   ]
  },
  {
   "cell_type": "markdown",
   "id": "3e3d4061-06ec-4ef3-9e95-3894fe159f98",
   "metadata": {},
   "source": [
    "**append**\n",
    "\n",
    "- append means add an element at the end of the list\n",
    "\n",
    "- append is a method very important\n",
    "\n",
    "- append is used to store the outputs in a list\n",
    "\n",
    "- till last class we just printed all outputs\n",
    "\n",
    "- if we want to save the outputs we need to do apppend only\n",
    "\n",
    "- append method we will use very very frequently"
   ]
  },
  {
   "cell_type": "code",
   "execution_count": 150,
   "id": "6c061f6d-addb-4afa-8514-549587db47cc",
   "metadata": {},
   "outputs": [
    {
     "data": {
      "text/plain": [
       "[10]"
      ]
     },
     "execution_count": 150,
     "metadata": {},
     "output_type": "execute_result"
    }
   ],
   "source": [
    "# empty list\n",
    "l1=[]\n",
    "l1.append(10)\n",
    "l1"
   ]
  },
  {
   "cell_type": "code",
   "execution_count": 152,
   "id": "47916dcd-46ec-4f15-95d3-b3a6875debc2",
   "metadata": {},
   "outputs": [
    {
     "data": {
      "text/plain": [
       "[11, 2, 3, 'apple']"
      ]
     },
     "execution_count": 152,
     "metadata": {},
     "output_type": "execute_result"
    }
   ],
   "source": [
    "l1=[11,2,3]\n",
    "l1.append('apple')\n",
    "l1"
   ]
  },
  {
   "cell_type": "code",
   "execution_count": 154,
   "id": "1ea3b9ff-7ed7-4d71-b3a2-e6dd262c4d36",
   "metadata": {},
   "outputs": [
    {
     "data": {
      "text/plain": [
       "[1, 2, 3, 4, 'apple', 'banana', [True, False]]"
      ]
     },
     "execution_count": 154,
     "metadata": {},
     "output_type": "execute_result"
    }
   ],
   "source": [
    "l1=[1,2,3,4]\n",
    "l1.append('apple')\n",
    "l1.append('banana')\n",
    "l1.append([True,False])\n",
    "l1"
   ]
  },
  {
   "cell_type": "code",
   "execution_count": 158,
   "id": "edbc9ec9-2403-421c-807a-72909f6348e6",
   "metadata": {},
   "outputs": [
    {
     "name": "stdout",
     "output_type": "stream",
     "text": [
      "1 2 3 4 5 6 7 8 9 10 "
     ]
    }
   ],
   "source": [
    "#Q1) create a list of 10 numbers using for loop\n",
    "for i in range(1,11):\n",
    "    print(i,end=' ')"
   ]
  },
  {
   "cell_type": "code",
   "execution_count": null,
   "id": "3b7bb261-9bf7-4a07-b7b6-b063e226f348",
   "metadata": {},
   "outputs": [],
   "source": [
    "l1=[]\n",
    "l1.append(1)\n",
    "l1.append(2)\n",
    "l1.append(3)\n",
    "\n",
    "\n",
    "l1.append(i)"
   ]
  },
  {
   "cell_type": "code",
   "execution_count": 166,
   "id": "2757594e-1b6d-4bd2-b626-d163a2b954d5",
   "metadata": {},
   "outputs": [
    {
     "data": {
      "text/plain": [
       "[1, 2, 3, 4, 5, 6, 7, 8, 9, 10]"
      ]
     },
     "execution_count": 166,
     "metadata": {},
     "output_type": "execute_result"
    }
   ],
   "source": [
    "l1=[]\n",
    "for i in range(1,11):\n",
    "    l1.append(i)\n",
    "l1"
   ]
  },
  {
   "cell_type": "code",
   "execution_count": 7,
   "id": "26b62357-b808-46d1-a740-0e6d2ec35b9a",
   "metadata": {},
   "outputs": [
    {
     "data": {
      "text/plain": [
       "[121, 5929, 3136, 2401, 3721]"
      ]
     },
     "execution_count": 7,
     "metadata": {},
     "output_type": "execute_result"
    }
   ],
   "source": [
    "# Q2) wap ask the user get 5 random numbers \n",
    "#     perform the square of the random numbers\n",
    "#     save in a list\n",
    "from random import randint\n",
    "l=[]\n",
    "for i in range(5):\n",
    "    num=randint(1,100)\n",
    "    l.append(num*num)\n",
    "l    "
   ]
  },
  {
   "cell_type": "code",
   "execution_count": 5,
   "id": "de6e7e53-c495-4884-8c79-0065ef333e91",
   "metadata": {},
   "outputs": [
    {
     "data": {
      "text/plain": [
       "['98:9604', '4:16', '79:6241', '51:2601', '74:5476']"
      ]
     },
     "execution_count": 5,
     "metadata": {},
     "output_type": "execute_result"
    }
   ],
   "source": [
    "from random import randint\n",
    "l=[]\n",
    "for i in range(5):\n",
    "    num=randint(1,100)\n",
    "    l.append(f'{num}:{num*num}')\n",
    "l   "
   ]
  },
  {
   "cell_type": "code",
   "execution_count": 3,
   "id": "e57a6a9e-59bc-45dc-85d0-7eb978ca3b18",
   "metadata": {},
   "outputs": [
    {
     "data": {
      "text/plain": [
       "([20, 38, 52, 100], [27, 47, 87])"
      ]
     },
     "execution_count": 3,
     "metadata": {},
     "output_type": "execute_result"
    }
   ],
   "source": [
    "# Q3) list1=[100,20,27,38,47,52,87]\n",
    "# using this list we need to extract even and odd separately\n",
    "# even_list=[100,20,38,52] the output should be sorted\n",
    "# odd_list=[27,47,87] the output should be sorted\n",
    "list1=[100,20,27,38,47,52,87]\n",
    "even_list=[]\n",
    "odd_list=[]\n",
    "for i in list1:\n",
    "    if i%2==0:\n",
    "        even_list.append(i)\n",
    "    else:\n",
    "        odd_list.append(i)\n",
    "even_list.sort()\n",
    "odd_list.sort()\n",
    "even_list,odd_list"
   ]
  },
  {
   "cell_type": "markdown",
   "id": "459bbcac-0a90-4103-9cbb-7c308fcfe559",
   "metadata": {},
   "source": [
    "$28/11/2024$"
   ]
  },
  {
   "cell_type": "markdown",
   "id": "88236405-d3ad-4279-abf4-fa3213fb34df",
   "metadata": {},
   "source": [
    "**joining the list of elements**"
   ]
  },
  {
   "cell_type": "markdown",
   "id": "d3ba1641-4776-4183-836d-7a52fefcd8d1",
   "metadata": {},
   "source": [
    "- we can convert string to list by using **string.split**\n",
    "\n",
    "- we can convert list to string by using **join(list)**"
   ]
  },
  {
   "cell_type": "code",
   "execution_count": 5,
   "id": "d5090d40-55f8-407a-95fc-8af36f73f478",
   "metadata": {},
   "outputs": [
    {
     "data": {
      "text/plain": [
       "['hai', 'how', 'are', 'you']"
      ]
     },
     "execution_count": 5,
     "metadata": {},
     "output_type": "execute_result"
    }
   ],
   "source": [
    "str1='hai how are you'\n",
    "str1.split()"
   ]
  },
  {
   "cell_type": "code",
   "execution_count": 7,
   "id": "207f149e-0e25-40d3-a29b-f37a802ef964",
   "metadata": {},
   "outputs": [
    {
     "data": {
      "text/plain": [
       "'hai how are you'"
      ]
     },
     "execution_count": 7,
     "metadata": {},
     "output_type": "execute_result"
    }
   ],
   "source": [
    "l1=['hai', 'how', 'are', 'you']\n",
    "' '.join(l1)"
   ]
  },
  {
   "cell_type": "code",
   "execution_count": 11,
   "id": "576b8efa-ee43-4a97-9e64-52a1cd228f88",
   "metadata": {},
   "outputs": [
    {
     "data": {
      "text/plain": [
       "'hai==>how==>are==>you'"
      ]
     },
     "execution_count": 11,
     "metadata": {},
     "output_type": "execute_result"
    }
   ],
   "source": [
    "l1=['hai', 'how', 'are', 'you']\n",
    "str1=' '\n",
    "str1.join(l1)\n",
    "'==>'.join(l1)"
   ]
  },
  {
   "cell_type": "code",
   "execution_count": 15,
   "id": "c7baca56-dafe-4a6e-9dee-66ff2e30a999",
   "metadata": {},
   "outputs": [
    {
     "data": {
      "text/plain": [
       "'haihhowharehyou'"
      ]
     },
     "execution_count": 15,
     "metadata": {},
     "output_type": "execute_result"
    }
   ],
   "source": [
    "l1=['hai', 'how', 'are', 'you']\n",
    "str1=' '\n",
    "str1.join(l1)\n",
    "'h'.join(l1)"
   ]
  },
  {
   "cell_type": "code",
   "execution_count": 19,
   "id": "65d258d8-ce8a-47c2-8f9c-d80a4647eb2a",
   "metadata": {},
   "outputs": [],
   "source": [
    "str1='virat.kohli@rcb.com; rohit.sharma@mi.com; dhoni.ms@csk.com'\n",
    "l=str1.split(';')\n",
    "f_name,s_name,c_name=[],[],[]\n",
    "for i in l:\n",
    "    first_dot=i.find('.')\n",
    "    second_dot=i.find('.',first_dot+1)\n",
    "    at_index=i.find('@')\n",
    "    f_name.append(i[:first_dot])\n",
    "    s_name.append(i[first_dot+1:at_index])\n",
    "    c_name.append(i[at_index+1:second_dot])"
   ]
  },
  {
   "cell_type": "code",
   "execution_count": 21,
   "id": "57b609ad-a26b-4010-b5f3-b8e2d68b0f49",
   "metadata": {},
   "outputs": [
    {
     "data": {
      "text/plain": [
       "(['virat', ' rohit', ' dhoni'],\n",
       " ['kohli', 'sharma', 'ms'],\n",
       " ['rcb', 'mi', 'csk'])"
      ]
     },
     "execution_count": 21,
     "metadata": {},
     "output_type": "execute_result"
    }
   ],
   "source": [
    "f_name,s_name,c_name"
   ]
  },
  {
   "cell_type": "code",
   "execution_count": 53,
   "id": "d6be420f-d768-4c56-952e-4e6cf6318227",
   "metadata": {},
   "outputs": [],
   "source": [
    "#Q10) get the 7 random numbers in a list between 1 to 100\n",
    "#     find the min and max value with out using min and max function"
   ]
  },
  {
   "cell_type": "code",
   "execution_count": 91,
   "id": "c0fafa66-d067-4e15-92cd-d6fc5719fd82",
   "metadata": {},
   "outputs": [
    {
     "name": "stdout",
     "output_type": "stream",
     "text": [
      "[89, 86, 77, 44, 50, 77, 76]\n"
     ]
    }
   ],
   "source": [
    "import random\n",
    "l=[]\n",
    "for i in range(7):\n",
    "    num=random.randint(1,100)\n",
    "    l.append(num)\n",
    "print(l)"
   ]
  },
  {
   "cell_type": "code",
   "execution_count": 97,
   "id": "44dfb7cd-50ad-4367-999e-8a327132137e",
   "metadata": {},
   "outputs": [
    {
     "name": "stdout",
     "output_type": "stream",
     "text": [
      "max_val: 89\n",
      "min_val: 44\n"
     ]
    }
   ],
   "source": [
    "max_val=l[0]\n",
    "for i in l[1:]:\n",
    "    if i>max_val:\n",
    "        max_val=i\n",
    "print('max_val:',max_val)\n",
    "min_val=l[0]\n",
    "for i in l[1:]:\n",
    "    if i<min_val:\n",
    "        min_val=i\n",
    "print('min_val:',min_val)"
   ]
  },
  {
   "cell_type": "markdown",
   "id": "72d697c9-1996-41f8-bc47-db903680e4d5",
   "metadata": {},
   "source": [
    "- Assume that first value is a maximum value\n",
    "\n",
    "- then iterate the loop from next value onwards\n",
    "\n",
    "- apply the condition if any value greater than assumed value\n",
    "\n",
    "- then replace max value with iterate value"
   ]
  },
  {
   "cell_type": "code",
   "execution_count": 123,
   "id": "51fd4909-c308-4b35-b96b-d6c3ea919ac2",
   "metadata": {},
   "outputs": [
    {
     "name": "stdout",
     "output_type": "stream",
     "text": [
      "['can', 'canner', 'can', 'not', 'can', 'you', 'canner', 'can', 'be', 'can', 'you', 'can', 'not']\n",
      "can 6\n",
      "canner 2\n",
      "not 2\n",
      "you 2\n",
      "be 1\n"
     ]
    }
   ],
   "source": [
    "#Q11) str1='can canner can not can you canner can be can you can not'\n",
    "#     list=['can-6','canner-2','not-2','you-2','be-1']\n",
    "\n",
    "str1='can canner can not can you canner can be can you can not'\n",
    "l=str1.split()\n",
    "print(l)\n",
    "l2=[]\n",
    "for i in l:\n",
    "    if i not in l2:\n",
    "        print(i,l.count(i))\n",
    "        l2.append(i)\n"
   ]
  },
  {
   "cell_type": "code",
   "execution_count": 133,
   "id": "4936351e-83a8-473d-a839-8037e3e103a1",
   "metadata": {},
   "outputs": [
    {
     "name": "stdout",
     "output_type": "stream",
     "text": [
      "['can', 'canner', 'can', 'not', 'can', 'you', 'canner', 'can', 'be', 'can', 'you', 'can', 'not']\n"
     ]
    },
    {
     "data": {
      "text/plain": [
       "['can-6', 'canner-2', 'not-2', 'you-2', 'be-1']"
      ]
     },
     "execution_count": 133,
     "metadata": {},
     "output_type": "execute_result"
    }
   ],
   "source": [
    "str1='can canner can not can you canner can be can you can not'\n",
    "l=str1.split()\n",
    "print(l)\n",
    "l1=[]\n",
    "l2=[]\n",
    "for i in l:\n",
    "    if i not in l2:\n",
    "        l2.append(i)\n",
    "        l1.append(f'{i}-{l.count(i)}')\n",
    "l1"
   ]
  },
  {
   "cell_type": "code",
   "execution_count": 135,
   "id": "a21184bc-8c93-4d59-85bf-608f5317577c",
   "metadata": {},
   "outputs": [],
   "source": [
    "#Q12) qns= ['who is pm of india','who is ICT captain',\n",
    "#            'what is the capital of india']\n",
    "#     ans=['modi','rohit','delhi']\n",
    "#    step-1: iterate through each qn\n",
    "#    step-2: user will enter the answer\n",
    "#           check-1: the user given 'MODI' correct answer\n",
    "#           check-2: qn index and ans index should be\n",
    "#    step-3: count_marks=0 at the top\n",
    "#    step-4:  for every correct answer 1 marks\n",
    "#    step-5: how many correct answers and how many marks\n"
   ]
  },
  {
   "cell_type": "code",
   "execution_count": 141,
   "id": "33df462f-3917-4abe-87ec-109582b9294d",
   "metadata": {},
   "outputs": [
    {
     "name": "stdin",
     "output_type": "stream",
     "text": [
      "who is pm of india modi\n",
      "who is ICT captain Rohit\n",
      "what is the capital of india delhoii\n"
     ]
    },
    {
     "name": "stdout",
     "output_type": "stream",
     "text": [
      "2\n"
     ]
    }
   ],
   "source": [
    "qns= ['who is pm of india','who is ICT captain','what is the capital of india']\n",
    "ans=['modi','rohit','delhi']\n",
    "count=0\n",
    "for i in range(len(qns)):\n",
    "    ans1=input(qns[i])\n",
    "    if ans1.lower()==ans[i].lower():\n",
    "        count=count+1\n",
    "print(count)"
   ]
  },
  {
   "cell_type": "markdown",
   "id": "d62877b1-7336-41d9-ab79-8b3ed1c4f24a",
   "metadata": {},
   "source": [
    "**pop vs remove**"
   ]
  },
  {
   "cell_type": "code",
   "execution_count": 23,
   "id": "2670fae6-2df8-47aa-80d5-2bebac3ff29b",
   "metadata": {},
   "outputs": [],
   "source": [
    "l=[100,200,300,'A','B','C']"
   ]
  },
  {
   "cell_type": "code",
   "execution_count": 25,
   "id": "5b87ba5e-76d1-4b44-9ac3-7ea7cb6715fc",
   "metadata": {},
   "outputs": [
    {
     "data": {
      "text/plain": [
       "'C'"
      ]
     },
     "execution_count": 25,
     "metadata": {},
     "output_type": "execute_result"
    }
   ],
   "source": [
    "l.pop()\n",
    "# pop will remove tthe element based on index\n",
    "# if we dont give any index by default it will remove last value\n",
    "# the default value index=-1"
   ]
  },
  {
   "cell_type": "code",
   "execution_count": 27,
   "id": "a2e4d32c-2022-4321-84fa-9e71d766c40a",
   "metadata": {},
   "outputs": [
    {
     "data": {
      "text/plain": [
       "[100, 200, 300, 'A', 'B']"
      ]
     },
     "execution_count": 27,
     "metadata": {},
     "output_type": "execute_result"
    }
   ],
   "source": [
    "l"
   ]
  },
  {
   "cell_type": "code",
   "execution_count": 175,
   "id": "2db16a3a-1252-49c8-9959-45465abc0cca",
   "metadata": {},
   "outputs": [
    {
     "data": {
      "text/plain": [
       "[100, 200, 'A', 'B', 'C']"
      ]
     },
     "execution_count": 175,
     "metadata": {},
     "output_type": "execute_result"
    }
   ],
   "source": [
    "l=[100,200,300,'A','B','C']\n",
    "l.pop(2)\n",
    "l"
   ]
  },
  {
   "cell_type": "code",
   "execution_count": 29,
   "id": "9ee0cbf1-a003-4ed5-8aef-f1c457e857d2",
   "metadata": {},
   "outputs": [
    {
     "ename": "IndexError",
     "evalue": "pop index out of range",
     "output_type": "error",
     "traceback": [
      "\u001b[1;31m---------------------------------------------------------------------------\u001b[0m",
      "\u001b[1;31mIndexError\u001b[0m                                Traceback (most recent call last)",
      "Cell \u001b[1;32mIn[29], line 2\u001b[0m\n\u001b[0;32m      1\u001b[0m l\u001b[38;5;241m=\u001b[39m[\u001b[38;5;241m100\u001b[39m,\u001b[38;5;241m200\u001b[39m,\u001b[38;5;241m300\u001b[39m,\u001b[38;5;124m'\u001b[39m\u001b[38;5;124mA\u001b[39m\u001b[38;5;124m'\u001b[39m,\u001b[38;5;124m'\u001b[39m\u001b[38;5;124mB\u001b[39m\u001b[38;5;124m'\u001b[39m,\u001b[38;5;124m'\u001b[39m\u001b[38;5;124mC\u001b[39m\u001b[38;5;124m'\u001b[39m]\n\u001b[1;32m----> 2\u001b[0m l\u001b[38;5;241m.\u001b[39mpop(\u001b[38;5;241m200\u001b[39m)\n",
      "\u001b[1;31mIndexError\u001b[0m: pop index out of range"
     ]
    }
   ],
   "source": [
    "l=[100,200,300,'A','B','C']\n",
    "l.pop(200)\n",
    "# what will return as output\n",
    "# [100,200,'A','B','C']  300"
   ]
  },
  {
   "cell_type": "code",
   "execution_count": 183,
   "id": "a4f5eaea-8c21-4daa-81c2-a7b60ae2898d",
   "metadata": {},
   "outputs": [
    {
     "data": {
      "text/plain": [
       "[100, 200, 'A', 'B', 'C']"
      ]
     },
     "execution_count": 183,
     "metadata": {},
     "output_type": "execute_result"
    }
   ],
   "source": [
    "l=[100,200,300,'A','B','C']\n",
    "l.remove(300)\n",
    "l"
   ]
  },
  {
   "cell_type": "code",
   "execution_count": 185,
   "id": "c5fb2200-1bf9-40b2-810e-01f446e265a4",
   "metadata": {},
   "outputs": [
    {
     "data": {
      "text/plain": [
       "[200, 300, 100, 100, 'A', 'B', 'C']"
      ]
     },
     "execution_count": 185,
     "metadata": {},
     "output_type": "execute_result"
    }
   ],
   "source": [
    "l=[100,200,300,100,100,'A','B','C']\n",
    "l.remove(100)\n",
    "l"
   ]
  },
  {
   "cell_type": "markdown",
   "id": "0b8a1bd2-20d7-41d9-a4a0-006684d8da10",
   "metadata": {},
   "source": [
    "- pop except a **index value**\n",
    "\n",
    "- remove except a **value**"
   ]
  },
  {
   "cell_type": "code",
   "execution_count": 31,
   "id": "df0fd75f-bc8c-42cf-ac4c-81c57e565add",
   "metadata": {},
   "outputs": [
    {
     "data": {
      "text/plain": [
       "100"
      ]
     },
     "execution_count": 31,
     "metadata": {},
     "output_type": "execute_result"
    }
   ],
   "source": [
    "l=[100,200,300,100,100,'A','B','C']\n",
    "# i want to remove the second 100\n",
    "# remove or pop ====\n",
    "# sukumar and kaif by using remove tell me\n",
    "# how can you remove the second 100\n",
    "l.pop(3)"
   ]
  },
  {
   "cell_type": "code",
   "execution_count": 203,
   "id": "ef626e74-3216-4324-8926-19ebe56743a3",
   "metadata": {},
   "outputs": [
    {
     "data": {
      "text/plain": [
       "['__add__',\n",
       " '__class__',\n",
       " '__class_getitem__',\n",
       " '__contains__',\n",
       " '__delattr__',\n",
       " '__delitem__',\n",
       " '__dir__',\n",
       " '__doc__',\n",
       " '__eq__',\n",
       " '__format__',\n",
       " '__ge__',\n",
       " '__getattribute__',\n",
       " '__getitem__',\n",
       " '__getstate__',\n",
       " '__gt__',\n",
       " '__hash__',\n",
       " '__iadd__',\n",
       " '__imul__',\n",
       " '__init__',\n",
       " '__init_subclass__',\n",
       " '__iter__',\n",
       " '__le__',\n",
       " '__len__',\n",
       " '__lt__',\n",
       " '__mul__',\n",
       " '__ne__',\n",
       " '__new__',\n",
       " '__reduce__',\n",
       " '__reduce_ex__',\n",
       " '__repr__',\n",
       " '__reversed__',\n",
       " '__rmul__',\n",
       " '__setattr__',\n",
       " '__setitem__',\n",
       " '__sizeof__',\n",
       " '__str__',\n",
       " '__subclasshook__',\n",
       " 'append',\n",
       " 'clear',\n",
       " 'copy',\n",
       " 'count',\n",
       " 'extend',\n",
       " 'index',\n",
       " 'insert',\n",
       " 'pop',\n",
       " 'remove',\n",
       " 'reverse',\n",
       " 'sort']"
      ]
     },
     "execution_count": 203,
     "metadata": {},
     "output_type": "execute_result"
    }
   ],
   "source": [
    "dir(list)"
   ]
  },
  {
   "cell_type": "markdown",
   "id": "c691a852-4aa5-47e7-9b08-b4635cd14bbc",
   "metadata": {},
   "source": [
    "**index**"
   ]
  },
  {
   "cell_type": "code",
   "execution_count": null,
   "id": "50fc1534-94d7-4ecd-8407-cd197a3fc3a8",
   "metadata": {},
   "outputs": [],
   "source": [
    "l=[100,200,300,100,100,'A','B','C']\n",
    "\n",
    "# pop is correct answer\n",
    "# pop wants a index\n",
    "# here only 8 elements are there, so we are able to count\n",
    "# imagine that there 80k elements so we are not able to count\n",
    "# when you are counting and giving: hard coded\n",
    "# python code should give the answer automatically\n",
    "# for that we need to use index method"
   ]
  },
  {
   "cell_type": "code",
   "execution_count": 208,
   "id": "5add9b7f-3de9-4571-8ca3-634a1382038e",
   "metadata": {},
   "outputs": [
    {
     "data": {
      "text/plain": [
       "[100, 200, 300, 100, 'A', 'B', 'C']"
      ]
     },
     "execution_count": 208,
     "metadata": {},
     "output_type": "execute_result"
    }
   ],
   "source": [
    "l=[100,200,300,100,100,'A','B','C']\n",
    "i1=l.index(100)\n",
    "i2=l.index(100,i1+1)\n",
    "l.pop(i2)\n",
    "l"
   ]
  },
  {
   "cell_type": "code",
   "execution_count": 210,
   "id": "a16c6e86-d60d-4489-aade-310ac5fbd22d",
   "metadata": {},
   "outputs": [
    {
     "data": {
      "text/plain": [
       "['__add__',\n",
       " '__class__',\n",
       " '__class_getitem__',\n",
       " '__contains__',\n",
       " '__delattr__',\n",
       " '__dir__',\n",
       " '__doc__',\n",
       " '__eq__',\n",
       " '__format__',\n",
       " '__ge__',\n",
       " '__getattribute__',\n",
       " '__getitem__',\n",
       " '__getnewargs__',\n",
       " '__getstate__',\n",
       " '__gt__',\n",
       " '__hash__',\n",
       " '__init__',\n",
       " '__init_subclass__',\n",
       " '__iter__',\n",
       " '__le__',\n",
       " '__len__',\n",
       " '__lt__',\n",
       " '__mul__',\n",
       " '__ne__',\n",
       " '__new__',\n",
       " '__reduce__',\n",
       " '__reduce_ex__',\n",
       " '__repr__',\n",
       " '__rmul__',\n",
       " '__setattr__',\n",
       " '__sizeof__',\n",
       " '__str__',\n",
       " '__subclasshook__',\n",
       " 'count',\n",
       " 'index']"
      ]
     },
     "execution_count": 210,
     "metadata": {},
     "output_type": "execute_result"
    }
   ],
   "source": [
    "dir(())"
   ]
  },
  {
   "cell_type": "markdown",
   "id": "b5d790f7-f109-4bbf-ba56-706c354f50b1",
   "metadata": {},
   "source": [
    "$29/11/2024$"
   ]
  },
  {
   "cell_type": "markdown",
   "id": "b329fd93-c9ed-42d0-aec3-c5281eb5a280",
   "metadata": {},
   "source": [
    "**Extend**\n",
    "\n",
    "- different between concatination vs append vs extend"
   ]
  },
  {
   "cell_type": "code",
   "execution_count": 33,
   "id": "d37a7674-2e5e-4d9d-ae19-0e15db59386e",
   "metadata": {},
   "outputs": [
    {
     "data": {
      "text/plain": [
       "[100, 200, 300, 100, 100, 'A', 'B', 'C']"
      ]
     },
     "execution_count": 33,
     "metadata": {},
     "output_type": "execute_result"
    }
   ],
   "source": [
    "l1=[100,200,300,100,100]\n",
    "l2=['A','B','C']\n",
    "l1.extend(l2)\n",
    "l1"
   ]
  },
  {
   "cell_type": "code",
   "execution_count": 37,
   "id": "de8bef4d-6c4f-4030-be6e-6d7c970555d6",
   "metadata": {},
   "outputs": [
    {
     "data": {
      "text/plain": [
       "([100, 200, 300, 100, 100, 'A', 'B', 'C'], ['A', 'B', 'C'])"
      ]
     },
     "execution_count": 37,
     "metadata": {},
     "output_type": "execute_result"
    }
   ],
   "source": [
    "l1,l2"
   ]
  },
  {
   "cell_type": "code",
   "execution_count": 39,
   "id": "e968911e-9c01-44f0-920b-114c8f687538",
   "metadata": {},
   "outputs": [
    {
     "data": {
      "text/plain": [
       "[100, 200, 300, 100, 100, 'A', 'B', 'C']"
      ]
     },
     "execution_count": 39,
     "metadata": {},
     "output_type": "execute_result"
    }
   ],
   "source": [
    "l1=[100,200,300,100,100]\n",
    "l2=['A','B','C']\n",
    "l1+l2"
   ]
  },
  {
   "cell_type": "code",
   "execution_count": 41,
   "id": "c893b118-2399-423f-aad8-fb054eb60de6",
   "metadata": {},
   "outputs": [
    {
     "data": {
      "text/plain": [
       "([100, 200, 300, 100, 100], ['A', 'B', 'C'])"
      ]
     },
     "execution_count": 41,
     "metadata": {},
     "output_type": "execute_result"
    }
   ],
   "source": [
    "l1,l2"
   ]
  },
  {
   "cell_type": "code",
   "execution_count": 43,
   "id": "fbdd37d2-7843-4bc3-bd8e-a992c1ed5ac2",
   "metadata": {},
   "outputs": [
    {
     "data": {
      "text/plain": [
       "[100, 200, 300, 100, 100, ['A', 'B', 'C']]"
      ]
     },
     "execution_count": 43,
     "metadata": {},
     "output_type": "execute_result"
    }
   ],
   "source": [
    "l1=[100,200,300,100,100]\n",
    "l2=['A','B','C']\n",
    "l1.append(l2)\n",
    "l1"
   ]
  },
  {
   "cell_type": "code",
   "execution_count": 49,
   "id": "c0985931-163e-4c5c-8f06-23078b92170f",
   "metadata": {},
   "outputs": [
    {
     "data": {
      "text/plain": [
       "([100, 200, 300, 100, 100, ['A', 'B', 'C']], ['A', 'B', 'C'])"
      ]
     },
     "execution_count": 49,
     "metadata": {},
     "output_type": "execute_result"
    }
   ],
   "source": [
    "l1,l2"
   ]
  },
  {
   "cell_type": "markdown",
   "id": "25bf930b-2fb6-461a-bc06-df262737bc2e",
   "metadata": {},
   "source": [
    "- extend and concatination both has same behaviour\n",
    "\n",
    "- means add the two lists \n",
    "\n",
    "- but extend will overwrite the list"
   ]
  },
  {
   "cell_type": "markdown",
   "id": "e60862dc-04ba-4ed4-a65d-46049422d844",
   "metadata": {},
   "source": [
    "**insert**\n",
    "\n",
    "- difference between insert and append"
   ]
  },
  {
   "cell_type": "code",
   "execution_count": 55,
   "id": "1c62684f-3dac-4365-887f-a8fbe034ffae",
   "metadata": {},
   "outputs": [
    {
     "data": {
      "text/plain": [
       "[100, 200, ['A', 'B', 'C'], 300, 100, 100]"
      ]
     },
     "execution_count": 55,
     "metadata": {},
     "output_type": "execute_result"
    }
   ],
   "source": [
    "l1=[100,200,300,100,100]\n",
    "l2=['A','B','C']\n",
    "l1.insert(2,l2)\n",
    "l1"
   ]
  },
  {
   "cell_type": "code",
   "execution_count": 73,
   "id": "79aa8d72-7c0b-4e7a-aadd-553d568506f6",
   "metadata": {},
   "outputs": [
    {
     "data": {
      "text/plain": [
       "[1, 2, 3, 'A', 100, 'B', 'C']"
      ]
     },
     "execution_count": 73,
     "metadata": {},
     "output_type": "execute_result"
    }
   ],
   "source": [
    "l1=[1,2,3,'A','B','C']\n",
    "\n",
    "l2=l1.index('B')\n",
    "l1.insert(l2,100)\n",
    "l1"
   ]
  },
  {
   "cell_type": "code",
   "execution_count": 85,
   "id": "9a35e2aa-4e2e-4b3d-8ada-7bdf15431d2b",
   "metadata": {},
   "outputs": [
    {
     "name": "stdout",
     "output_type": "stream",
     "text": [
      "[110, 220, 330]\n"
     ]
    }
   ],
   "source": [
    "# wap ask the user add the elements of the list\n",
    "# l1=[100,200,300]\n",
    "# l2=[10,20,30]\n",
    "# ans=[110,220,330]\n",
    "\n",
    "l1=[100,200,300]\n",
    "l2=[10,20,30]\n",
    "#l1[0]+l2[0]\n",
    "#l1[1]+l2[1]\n",
    "#l1[2]+l2[2]\n",
    "ans=[]\n",
    "for i in range(len(l1)):\n",
    "    ans.append(l1[i]+l2[i])\n",
    "print(ans)"
   ]
  },
  {
   "cell_type": "code",
   "execution_count": 103,
   "id": "a740f5d2-5674-4dc9-82fa-de30f7350b99",
   "metadata": {},
   "outputs": [
    {
     "data": {
      "text/plain": [
       "[110, 220, 330, 400]"
      ]
     },
     "execution_count": 103,
     "metadata": {},
     "output_type": "execute_result"
    }
   ],
   "source": [
    "l1=[100,200,300,400]\n",
    "l2=[10,20,30]\n",
    "ans=[]\n",
    "l2.insert(3,0)\n",
    "for i in range(len(l1)):    \n",
    "    ans.append(l1[i]+l2[i])\n",
    "ans"
   ]
  },
  {
   "cell_type": "code",
   "execution_count": 107,
   "id": "9e6bc91f-bb39-4a2f-85d1-6329fcc7f324",
   "metadata": {},
   "outputs": [
    {
     "data": {
      "text/plain": [
       "[110, 220, 330, 400]"
      ]
     },
     "execution_count": 107,
     "metadata": {},
     "output_type": "execute_result"
    }
   ],
   "source": [
    "l1=[100,200,300,400]\n",
    "l2=[10,20,30]\n",
    "ans=[]\n",
    "for i in range(len(l1)):\n",
    "    if i<len(l1)-1:\n",
    "        ans.append(l1[i]+l2[i])\n",
    "    else:\n",
    "        ans.append(l1[i])\n",
    "ans"
   ]
  },
  {
   "cell_type": "code",
   "execution_count": 113,
   "id": "b9e65295-d60f-4661-ba3c-69c61fbe26a9",
   "metadata": {},
   "outputs": [
    {
     "data": {
      "text/plain": [
       "[110, 220, 330, 400]"
      ]
     },
     "execution_count": 113,
     "metadata": {},
     "output_type": "execute_result"
    }
   ],
   "source": [
    "l1=[100,200,300,400]\n",
    "l2=[10,20,30]\n",
    "ans=[]\n",
    "for i in range(len(l1)):\n",
    "    if i<len(l2):\n",
    "        ans.append(l1[i]+l2[i])\n",
    "    else:\n",
    "        ans.append(l1[i])\n",
    "ans"
   ]
  },
  {
   "cell_type": "code",
   "execution_count": 33,
   "id": "1548b860-e83a-4360-862d-18306f1f5eac",
   "metadata": {},
   "outputs": [
    {
     "data": {
      "text/plain": [
       "[110, 220, 330, 400]"
      ]
     },
     "execution_count": 33,
     "metadata": {},
     "output_type": "execute_result"
    }
   ],
   "source": [
    "l1=[100,200,300,400]\n",
    "l2=[10,20,30]\n",
    "# iterate the loop with max length iterations\n",
    "# if l2 values avaialbe then add those\n",
    "# otherwise append l1 value into ans list\n",
    "len1=len(l1)\n",
    "len2=len(l2)\n",
    "max_val=max(len1,len2)\n",
    "ans=[]\n",
    "for i in range(max_val):\n",
    "    if i<len(l2):\n",
    "        ans.append(l1[i]+l2[i])\n",
    "    else:\n",
    "        ans.append(l1[i])\n",
    "ans"
   ]
  },
  {
   "cell_type": "markdown",
   "id": "14225ced-de2d-4e51-b9d9-c720be7ca40f",
   "metadata": {},
   "source": [
    "**Distance between two points**"
   ]
  },
  {
   "cell_type": "code",
   "execution_count": null,
   "id": "b2b4a6d6-fc96-431f-a37c-0bc0ee3fffd4",
   "metadata": {},
   "outputs": [],
   "source": [
    "d=root([x2-x1]**2+[y2-y1]**2)\n",
    "# step-1   l1=[2,5]    l2=[4,9]\n",
    "#            x1,y1       x2,y2\n",
    "# step-2    d1=x2-x1     d2=y2-y1\n",
    "# step-3    (x2-x1)**2   (y2-y1)**2\n",
    "# step-4    d=d1^2+d2^2\n",
    "# step-5    math.sqrt(d)"
   ]
  },
  {
   "cell_type": "code",
   "execution_count": 35,
   "id": "7394cc66-4c8b-4648-ad30-7146d94a0ae7",
   "metadata": {},
   "outputs": [
    {
     "data": {
      "text/plain": [
       "4.47213595499958"
      ]
     },
     "execution_count": 35,
     "metadata": {},
     "output_type": "execute_result"
    }
   ],
   "source": [
    "import math\n",
    "l1=[2,5]\n",
    "l2=[4,9]\n",
    "x1=l1[0]\n",
    "y1=l1[1]\n",
    "x2=l2[0]\n",
    "y2=l2[1]\n",
    "d1=(x2-x1)\n",
    "d2=(y2-y1)\n",
    "d=d1**2+d2**2\n",
    "math.sqrt(d)"
   ]
  },
  {
   "cell_type": "code",
   "execution_count": 37,
   "id": "2f12af26-4950-4e2f-92f8-821ac62becf9",
   "metadata": {},
   "outputs": [
    {
     "data": {
      "text/plain": [
       "4.47213595499958"
      ]
     },
     "execution_count": 37,
     "metadata": {},
     "output_type": "execute_result"
    }
   ],
   "source": [
    "l1=[2,5]\n",
    "l2=[4,9]\n",
    "math.sqrt((l2[0]-l1[0])**2+(l2[1]-l1[1])**2)"
   ]
  },
  {
   "cell_type": "code",
   "execution_count": 39,
   "id": "fb8cc4b9-3522-48c9-9946-1f5c7a490f44",
   "metadata": {},
   "outputs": [
    {
     "name": "stdout",
     "output_type": "stream",
     "text": [
      "7.211102550927978\n",
      "2.23606797749979\n",
      "4.242640687119285\n",
      "7.211102550927978\n"
     ]
    },
    {
     "data": {
      "text/plain": [
       "(7.211102550927978, 2.23606797749979)"
      ]
     },
     "execution_count": 39,
     "metadata": {},
     "output_type": "execute_result"
    }
   ],
   "source": [
    "# wap\n",
    "# a=[(1,3),(7,8),(2,6),(9,3)]\n",
    "# b=(5,9)\n",
    "# find the max and min distance point\n",
    "\n",
    "a=[(1,3),(7,8),(2,6),(9,3)]\n",
    "b=(5,9)\n",
    "ans=[]\n",
    "for i in a:\n",
    "    l1=i\n",
    "    s=math.sqrt((b[0]-l1[0])**2+(b[1]-l1[1])**2)\n",
    "    print(s)\n",
    "    ans.append(s)\n",
    "\n",
    "ans\n",
    "max(ans),min(ans)"
   ]
  },
  {
   "cell_type": "code",
   "execution_count": 27,
   "id": "2c945104-c8f8-40aa-a94f-aaee0e534f88",
   "metadata": {},
   "outputs": [
    {
     "name": "stdout",
     "output_type": "stream",
     "text": [
      "(1, 3) and (7, 8) is 7.810249675906654\n",
      "(1, 3) and (2, 6) is 3.1622776601683795\n",
      "(1, 3) and (9, 3) is 8.0\n",
      "(1, 3) and (2, 9) is 6.082762530298219\n",
      "(1, 3) and (10, 12) is 12.727922061357855\n",
      "(7, 8) and (2, 6) is 5.385164807134504\n",
      "(7, 8) and (9, 3) is 5.385164807134504\n",
      "(7, 8) and (2, 9) is 5.0990195135927845\n",
      "(7, 8) and (10, 12) is 5.0\n",
      "(2, 6) and (9, 3) is 7.615773105863909\n",
      "(2, 6) and (2, 9) is 3.0\n",
      "(2, 6) and (10, 12) is 10.0\n",
      "(9, 3) and (2, 9) is 9.219544457292887\n",
      "(9, 3) and (10, 12) is 9.055385138137417\n",
      "(2, 9) and (10, 12) is 8.54400374531753\n"
     ]
    }
   ],
   "source": [
    "# a=[(1,3),(7,8),(2,6),(9,3),(2,9),(10,12)]\n",
    "# find all the distances among the points\n",
    "# (1,3) with all other data points\n",
    "# (7,8) with all\n",
    "# and so on\n",
    "import math\n",
    "a=[(1,3),(7,8),(2,6),(9,3),(2,9),(10,12)]\n",
    "for i in range(len(a)):\n",
    "    \n",
    "    for j in a[i+1:]:\n",
    "        s=math.sqrt((a[i][0]-j[0])**2+(a[i][1]-j[1])**2)\n",
    "        print(f\"{a[i]} and {j} is {s}\")"
   ]
  },
  {
   "cell_type": "code",
   "execution_count": null,
   "id": "b89d45dd-68ac-4580-a5b2-fcba9673f03a",
   "metadata": {},
   "outputs": [],
   "source": []
  }
 ],
 "metadata": {
  "kernelspec": {
   "display_name": "Python 3 (ipykernel)",
   "language": "python",
   "name": "python3"
  },
  "language_info": {
   "codemirror_mode": {
    "name": "ipython",
    "version": 3
   },
   "file_extension": ".py",
   "mimetype": "text/x-python",
   "name": "python",
   "nbconvert_exporter": "python",
   "pygments_lexer": "ipython3",
   "version": "3.12.4"
  }
 },
 "nbformat": 4,
 "nbformat_minor": 5
}
