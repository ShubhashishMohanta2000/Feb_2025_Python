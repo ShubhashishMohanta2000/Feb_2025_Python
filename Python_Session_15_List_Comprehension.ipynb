{
 "cells": [
  {
   "cell_type": "markdown",
   "id": "9a18b6c0-614b-4d12-85fb-51dd7c85ddd6",
   "metadata": {},
   "source": [
    "$30/11/2024$"
   ]
  },
  {
   "cell_type": "markdown",
   "id": "a8f7f224-6d50-4c14-8da0-b571d4a37378",
   "metadata": {},
   "source": [
    "- List comprehension is a way to write the code line in a single line\n",
    "\n",
    "- whenever we use for loops and if conditions the time will be increase\n",
    "\n",
    "- list comprehension will able to write for loop and if condition in a single line\n",
    "\n",
    "- which reduce the time to get the output"
   ]
  },
  {
   "cell_type": "code",
   "execution_count": 4,
   "id": "3a6183f1-a85e-495e-adca-be5022013cc3",
   "metadata": {},
   "outputs": [
    {
     "name": "stdout",
     "output_type": "stream",
     "text": [
      "0 1 2 3 4 5 6 7 8 9 "
     ]
    }
   ],
   "source": [
    "for i in range(10):\n",
    "    print(i,end=' ')"
   ]
  },
  {
   "cell_type": "code",
   "execution_count": 6,
   "id": "5c60742b-df13-4183-938a-ae61b0bb0813",
   "metadata": {},
   "outputs": [
    {
     "data": {
      "text/plain": [
       "[0, 1, 2, 3, 4, 5, 6, 7, 8, 9]"
      ]
     },
     "execution_count": 6,
     "metadata": {},
     "output_type": "execute_result"
    }
   ],
   "source": [
    "list1=[]\n",
    "for i in range(10):\n",
    "    list1.append(i)\n",
    "list1"
   ]
  },
  {
   "cell_type": "markdown",
   "id": "c00976d1-c287-4654-91ff-ec87ebe61c73",
   "metadata": {},
   "source": [
    "**Method-1: Only for loop**"
   ]
  },
  {
   "cell_type": "code",
   "execution_count": null,
   "id": "965fcd46-d308-461c-a560-26ceeba90bb3",
   "metadata": {},
   "outputs": [],
   "source": [
    "list1=[<code here>]\n",
    "list1=[<output>][<for loop>]"
   ]
  },
  {
   "cell_type": "code",
   "execution_count": 17,
   "id": "7ede1b92-df56-4926-94b1-1537ea1b42bb",
   "metadata": {},
   "outputs": [
    {
     "data": {
      "text/plain": [
       "[0, 1, 2, 3, 4, 5, 6, 7, 8, 9]"
      ]
     },
     "execution_count": 17,
     "metadata": {},
     "output_type": "execute_result"
    }
   ],
   "source": [
    "list1=[i for i in range(10)]\n",
    "list1"
   ]
  },
  {
   "cell_type": "code",
   "execution_count": 32,
   "id": "2fe3c5fc-42c5-4c0d-a66f-9897e4ddf653",
   "metadata": {},
   "outputs": [
    {
     "name": "stdout",
     "output_type": "stream",
     "text": [
      "['Hyd', 'Chennai', 'Mumbai', 'Pune']\n"
     ]
    }
   ],
   "source": [
    "# Q1) l1=['hyd','chennai','mumbai','pune']\n",
    "# ans=['Hyd','Chennai','Mumbai','Pune']\n",
    "l1=['hyd','chennai','mumbai','pune']\n",
    "ans=[]\n",
    "for i in l1:\n",
    "    ans.append(i.capitalize())\n",
    "print(ans)"
   ]
  },
  {
   "cell_type": "code",
   "execution_count": 36,
   "id": "e4c305c8-28d4-41a5-b722-93ed5aacdc53",
   "metadata": {},
   "outputs": [
    {
     "data": {
      "text/plain": [
       "['Hyd', 'Chennai', 'Mumbai', 'Pune']"
      ]
     },
     "execution_count": 36,
     "metadata": {},
     "output_type": "execute_result"
    }
   ],
   "source": [
    "ans=[i.capitalize() for i in ['hyd','chennai','mumbai','pune']]\n",
    "ans"
   ]
  },
  {
   "cell_type": "code",
   "execution_count": 3,
   "id": "e98ccb35-f6ef-43fa-b588-91bc42eb3081",
   "metadata": {},
   "outputs": [
    {
     "data": {
      "text/plain": [
       "['HYD', 'CHENNAI', 'MUMBAI', 'PUNE']"
      ]
     },
     "execution_count": 3,
     "metadata": {},
     "output_type": "execute_result"
    }
   ],
   "source": [
    "#Q2) l1=['hyd','chennai','mumbai','pune']\n",
    "# ans=['HYD','CHENNAI','MUMBAI','PUNE']\n",
    "l1=['hyd','chennai','mumbai','pune']\n",
    "ans=[]\n",
    "for i in l1:\n",
    "    ans.append(i.upper())\n",
    "ans"
   ]
  },
  {
   "cell_type": "code",
   "execution_count": 5,
   "id": "b9e1cea5-dbf0-4558-9541-22ba7ebf66eb",
   "metadata": {},
   "outputs": [
    {
     "data": {
      "text/plain": [
       "['HYD', 'CHENNAI', 'MUMBAI', 'PUNE']"
      ]
     },
     "execution_count": 5,
     "metadata": {},
     "output_type": "execute_result"
    }
   ],
   "source": [
    "l1=['hyd','chennai','mumbai','pune']\n",
    "ans=[i.upper() for i in l1]\n",
    "ans"
   ]
  },
  {
   "cell_type": "code",
   "execution_count": 38,
   "id": "d6e44b4e-9120-4a68-8088-e87e41ce8722",
   "metadata": {},
   "outputs": [
    {
     "data": {
      "text/plain": [
       "['HYD', 'CHENNAI', 'MUMBAI', 'PUNE']"
      ]
     },
     "execution_count": 38,
     "metadata": {},
     "output_type": "execute_result"
    }
   ],
   "source": [
    "ans=[i.upper() for i in ['hyd','chennai','mumbai','pune']]\n",
    "ans"
   ]
  },
  {
   "cell_type": "code",
   "execution_count": 52,
   "id": "22b665bd-98d4-469e-b99c-7fbf4156ce6f",
   "metadata": {},
   "outputs": [
    {
     "data": {
      "text/plain": [
       "[0, 10, 20, 30]"
      ]
     },
     "execution_count": 52,
     "metadata": {},
     "output_type": "execute_result"
    }
   ],
   "source": [
    "# Q3) l1=['hyd','chennai','mumbai','pune']\n",
    "# ans=[0,10,20,30] multiply index with 10\n",
    "\n",
    "l1=['hyd','chennai','mumbai','pune']\n",
    "ans=[]\n",
    "for i in l1:\n",
    "    ans.append(l1.index(i)*10)\n",
    "ans"
   ]
  },
  {
   "cell_type": "code",
   "execution_count": 54,
   "id": "ac7c5c3f-b708-45b6-8453-06dba67052ed",
   "metadata": {},
   "outputs": [
    {
     "data": {
      "text/plain": [
       "[0, 10, 20, 30]"
      ]
     },
     "execution_count": 54,
     "metadata": {},
     "output_type": "execute_result"
    }
   ],
   "source": [
    "ans=[l1.index(i)*10 for i in l1]\n",
    "ans"
   ]
  },
  {
   "cell_type": "code",
   "execution_count": 7,
   "id": "1aaf34d1-50fa-45f7-ba2f-85f3819a232c",
   "metadata": {},
   "outputs": [
    {
     "data": {
      "text/plain": [
       "6"
      ]
     },
     "execution_count": 7,
     "metadata": {},
     "output_type": "execute_result"
    }
   ],
   "source": [
    "# Q4) l1=['hyd','chennai','mumbai','pune']\n",
    "#     ans=[6] sum of the indexes\n",
    "l1=['hyd','chennai','mumbai','pune']\n",
    "summ=0\n",
    "ans=[l1.index(i) for i in l1]\n",
    "sum(ans)"
   ]
  },
  {
   "cell_type": "code",
   "execution_count": 60,
   "id": "677a14c7-ecdf-4abf-b681-edc23bdb4a76",
   "metadata": {},
   "outputs": [
    {
     "name": "stdout",
     "output_type": "stream",
     "text": [
      "6\n"
     ]
    }
   ],
   "source": [
    "summ=0\n",
    "for i in l1:\n",
    "    summ=summ+l1.index(i)\n",
    "print(summ)"
   ]
  },
  {
   "cell_type": "code",
   "execution_count": 9,
   "id": "cddc3432-284a-44d4-8984-ec2663833194",
   "metadata": {},
   "outputs": [
    {
     "data": {
      "text/plain": [
       "[0, 1, 2, 3]"
      ]
     },
     "execution_count": 9,
     "metadata": {},
     "output_type": "execute_result"
    }
   ],
   "source": [
    "l1=['hyd','chennai','mumbai','pune']\n",
    "summ=0\n",
    "ans=[i for i in range(len(l1))]\n",
    "ans"
   ]
  },
  {
   "cell_type": "markdown",
   "id": "5c92cab1-a7b4-42cc-a206-640cafe4b6c5",
   "metadata": {},
   "source": [
    "**Method-2**\n",
    "\n",
    "- for loop with if condition"
   ]
  },
  {
   "cell_type": "code",
   "execution_count": 13,
   "id": "7cd1eb0e-c918-4982-a6f5-32a84a0a62db",
   "metadata": {},
   "outputs": [
    {
     "data": {
      "text/plain": [
       "['chen#ai', 'mu#bai']"
      ]
     },
     "execution_count": 13,
     "metadata": {},
     "output_type": "execute_result"
    }
   ],
   "source": [
    "#Q6) l1=['hyd','chen#ai','mu#bai','pune']\n",
    "# ans=['chen#ai','mu#bai']\n",
    "\n",
    "l1=['hyd','chen#ai','mu#bai','pune']\n",
    "ans=[]\n",
    "for i in l1:\n",
    "    if '#' in i:\n",
    "        ans.append(i)\n",
    "ans"
   ]
  },
  {
   "cell_type": "code",
   "execution_count": null,
   "id": "406196db-a0a0-4808-a37a-56acd718b908",
   "metadata": {},
   "outputs": [],
   "source": [
    "[<output>][<for loop>]\n",
    "[<output>][for loop>][<if condition>]"
   ]
  },
  {
   "cell_type": "code",
   "execution_count": 65,
   "id": "cdce4cc0-6a7b-462a-b267-81ef6cadd781",
   "metadata": {},
   "outputs": [
    {
     "ename": "SyntaxError",
     "evalue": "expected 'else' after 'if' expression (4048501588.py, line 1)",
     "output_type": "error",
     "traceback": [
      "\u001b[1;36m  Cell \u001b[1;32mIn[65], line 1\u001b[1;36m\u001b[0m\n\u001b[1;33m    ans=[i if '#' in i for i in l1]\u001b[0m\n\u001b[1;37m         ^\u001b[0m\n\u001b[1;31mSyntaxError\u001b[0m\u001b[1;31m:\u001b[0m expected 'else' after 'if' expression\n"
     ]
    }
   ],
   "source": [
    "ans=[i if '#' in i for i in l1]\n",
    "ans"
   ]
  },
  {
   "cell_type": "code",
   "execution_count": 69,
   "id": "18fba4c3-c0a7-4437-adf1-9bee1d1ce197",
   "metadata": {},
   "outputs": [
    {
     "data": {
      "text/plain": [
       "['chen#ai', 'mu#bai']"
      ]
     },
     "execution_count": 69,
     "metadata": {},
     "output_type": "execute_result"
    }
   ],
   "source": [
    "[i for i in l1 if '#' in i]"
   ]
  },
  {
   "cell_type": "code",
   "execution_count": 71,
   "id": "8753fa46-2772-4180-bd24-fe9d510386f3",
   "metadata": {},
   "outputs": [],
   "source": [
    "# <output><for loop><if condition>"
   ]
  },
  {
   "cell_type": "code",
   "execution_count": 77,
   "id": "9819980f-4415-40d6-9aed-9df13a4c36ff",
   "metadata": {},
   "outputs": [],
   "source": [
    "# Q7)  l1=['hyd','chen#ai','mu#bai','pune']\n",
    "#     ans=['hyd','pune']"
   ]
  },
  {
   "cell_type": "code",
   "execution_count": 75,
   "id": "33830d46-7c34-413a-a1da-b255d800691e",
   "metadata": {},
   "outputs": [
    {
     "data": {
      "text/plain": [
       "['hyd', 'pune']"
      ]
     },
     "execution_count": 75,
     "metadata": {},
     "output_type": "execute_result"
    }
   ],
   "source": [
    "l1=['hyd','chen#ai','mu#bai','pune']\n",
    "ans=[i for i in l1 if '#' not in i]\n",
    "ans"
   ]
  },
  {
   "cell_type": "code",
   "execution_count": 15,
   "id": "b2faa58b-358e-40e6-b37f-b94fb839fb6a",
   "metadata": {},
   "outputs": [],
   "source": [
    "# Q3) dont give if ans else\n",
    "# write two answers both will use if only\n",
    "# evenlist=[<write your code here>]\n",
    "# oddlist=[<write your code here>]\n",
    "# list1=[100,20,27,38,47,52,87]\n",
    "# using this we need to extract even and odd numbers\n",
    "# even_list=[20.38,52,100] the output should be sorted\n",
    "# odd_list=[27,47,38,87] the output should be sorted"
   ]
  },
  {
   "cell_type": "code",
   "execution_count": 81,
   "id": "5db1a3eb-f9e5-4683-bc2f-a66c20ace22b",
   "metadata": {},
   "outputs": [
    {
     "data": {
      "text/plain": [
       "([100, 20, 38, 52], [27, 47, 87])"
      ]
     },
     "execution_count": 81,
     "metadata": {},
     "output_type": "execute_result"
    }
   ],
   "source": [
    "list1=[100,20,27,38,47,52,87]\n",
    "even_list=[i for i in list1 if i%2==0]\n",
    "odd_list=[i for i in list1 if i%2!=0]\n",
    "even_list,odd_list"
   ]
  },
  {
   "cell_type": "markdown",
   "id": "a2224663-a758-45de-86e1-459452cc278a",
   "metadata": {},
   "source": [
    "**Method-3: for loop - if -else**"
   ]
  },
  {
   "cell_type": "code",
   "execution_count": null,
   "id": "4992aa94-9d77-4f10-90d8-cf577f47ca71",
   "metadata": {},
   "outputs": [],
   "source": [
    "method-1:for loop[<output><for loop>]\n",
    "method-2:for loop-if[<output><for loop><if condition>]\n",
    "method-3:for loop-if-else[<if output><if condition>else<else output><for loop>]"
   ]
  },
  {
   "cell_type": "code",
   "execution_count": 94,
   "id": "515b156b-0632-4243-9822-cc65f4aeda97",
   "metadata": {},
   "outputs": [
    {
     "data": {
      "text/plain": [
       "['even', 'even', 'odd', 'even', 'odd', 'even', 'odd']"
      ]
     },
     "execution_count": 94,
     "metadata": {},
     "output_type": "execute_result"
    }
   ],
   "source": [
    "list1=[100,20,27,38,47,52,87]\n",
    "ans=['even' if i%2==0 else 'odd' for i in list1]\n",
    "ans"
   ]
  },
  {
   "cell_type": "code",
   "execution_count": 92,
   "id": "17b4fffe-cc33-4890-ae73-ca4f1e4bf957",
   "metadata": {},
   "outputs": [
    {
     "data": {
      "text/plain": [
       "['even:100', 'even:20', 'odd:27', 'even:38', 'odd:47', 'even:52', 'odd:87']"
      ]
     },
     "execution_count": 92,
     "metadata": {},
     "output_type": "execute_result"
    }
   ],
   "source": [
    "[f'even:{i}' if i%2==0 else f'odd:{i}'for i in list1]"
   ]
  },
  {
   "cell_type": "code",
   "execution_count": null,
   "id": "1fda7ff0-9309-4cff-bcb2-ba6f1303330c",
   "metadata": {},
   "outputs": [],
   "source": []
  },
  {
   "cell_type": "code",
   "execution_count": 146,
   "id": "a574b249-e935-4d8c-af0b-df8661b5e0e8",
   "metadata": {},
   "outputs": [
    {
     "data": {
      "text/plain": [
       "([76, 89, 53, 67, 90, 82, 99],\n",
       " ['D', 'B', 'A', 'C', 'C', 'A', 'B', 'D', 'D', 'A'],\n",
       " [50, 54, 38],\n",
       " [0, 1, 2, 3, 4, 5, 6, 7, 8, 9])"
      ]
     },
     "execution_count": 146,
     "metadata": {},
     "output_type": "execute_result"
    }
   ],
   "source": [
    "l1=[45,76,89,53,67,90,82,49,33,99]\n",
    "# 1. filter the students who paases marks>=50\n",
    "# 2. calculate grades of all students\n",
    "#           A: 85+, B: 70-84, C: 50-69, D:<50\n",
    "#           4 lists will come\n",
    "# Add 5 grace marks to students who failed <50\n",
    "# find the average marks of the class\n",
    "ans1=[i for i in l1 if i>=50]\n",
    "ans2=['A' if i>=85 else 'B' if i>=70 else 'C' if i>= 50 else 'D' for i in l1]\n",
    "ans3=[i+5 for i in l1 if i<50]\n",
    "ans4=[ i for i in range(len(l1))]\n",
    "ans1, ans2, ans3, ans4"
   ]
  },
  {
   "cell_type": "code",
   "execution_count": null,
   "id": "335b1d55-846c-489e-b497-ab7d02a899a2",
   "metadata": {},
   "outputs": [],
   "source": [
    "**Method-4: for if elif else**\n",
    "\n",
    "- there is no elif in list comprehension\n",
    "\n",
    "- elif also we can write : else+if\n",
    "\n",
    "- method-3: [<if output><if condition>else<else output>]\n",
    "\n",
    "- method-4: [<if output><if condition>else<elif output><elif condition>else<else output><for loop>]"
   ]
  },
  {
   "cell_type": "code",
   "execution_count": null,
   "id": "87f80d08-1bd6-40ee-8c79-5e6c231869fa",
   "metadata": {},
   "outputs": [],
   "source": [
    "method-1:for loop[<output><for loop>]\n",
    "method-2:for loop-if[<output><for loop><if condition>]\n",
    "method-3:for loop-if-else[<if output><if condition>else<else output><for loop>]\n",
    "method-4:[<if output> <if cond> else <elif out> <elif con> else <else output> <for loop>]"
   ]
  },
  {
   "cell_type": "code",
   "execution_count": 152,
   "id": "6b7e51f6-ae8b-402f-98c4-9d9c64543a8f",
   "metadata": {},
   "outputs": [
    {
     "name": "stdout",
     "output_type": "stream",
     "text": [
      "683\n",
      "avg: 68.3\n"
     ]
    }
   ],
   "source": [
    "summ=0\n",
    "for i in l1:\n",
    "    summ=summ+i\n",
    "print(summ)\n",
    "print('avg:',summ/len(l1))"
   ]
  },
  {
   "cell_type": "markdown",
   "id": "0370e81d-e98d-4364-9a26-d2da85eebbe9",
   "metadata": {},
   "source": [
    "**walrus operator**\n",
    "\n",
    "- in list comprehension = will not work\n",
    "\n",
    "- if you want to write equal to (=) then will use walrus operator:="
   ]
  },
  {
   "cell_type": "code",
   "execution_count": 157,
   "id": "82aeeaa5-7686-48bb-a554-c705f1a146c0",
   "metadata": {},
   "outputs": [
    {
     "data": {
      "text/plain": [
       "68.3"
      ]
     },
     "execution_count": 157,
     "metadata": {},
     "output_type": "execute_result"
    }
   ],
   "source": [
    "total=0\n",
    "ans=[total:=total+i for i in l1]\n",
    "total/len(ans)"
   ]
  },
  {
   "cell_type": "markdown",
   "id": "6835e5fd-6560-44ba-aa44-3974939d16e9",
   "metadata": {},
   "source": [
    "## LAMBDA FUNCTION"
   ]
  },
  {
   "cell_type": "code",
   "execution_count": 5,
   "id": "d0972efd-b7f2-49ce-96e5-a75e0ee3ddef",
   "metadata": {},
   "outputs": [
    {
     "data": {
      "text/plain": [
       "100"
      ]
     },
     "execution_count": 5,
     "metadata": {},
     "output_type": "execute_result"
    }
   ],
   "source": [
    "def mul(a):\n",
    "    return(a*a)\n",
    "ans=mul(10)\n",
    "ans"
   ]
  },
  {
   "cell_type": "code",
   "execution_count": 7,
   "id": "6ea7b874-9303-47ca-9c3a-f84dc7596ef2",
   "metadata": {},
   "outputs": [
    {
     "data": {
      "text/plain": [
       "<function __main__.<lambda>(a)>"
      ]
     },
     "execution_count": 7,
     "metadata": {},
     "output_type": "execute_result"
    }
   ],
   "source": [
    "mul=lambda a: a*a\n",
    "mul"
   ]
  },
  {
   "cell_type": "code",
   "execution_count": 9,
   "id": "5e6ebe9f-f424-47fa-a84c-a8af41bb94a6",
   "metadata": {},
   "outputs": [
    {
     "data": {
      "text/plain": [
       "100"
      ]
     },
     "execution_count": 9,
     "metadata": {},
     "output_type": "execute_result"
    }
   ],
   "source": [
    "mul=lambda a: a*a\n",
    "mul(10)"
   ]
  },
  {
   "cell_type": "code",
   "execution_count": 11,
   "id": "91b4685b-207c-42ec-ab6c-4359149d9a20",
   "metadata": {},
   "outputs": [
    {
     "data": {
      "text/plain": [
       "1000"
      ]
     },
     "execution_count": 11,
     "metadata": {},
     "output_type": "execute_result"
    }
   ],
   "source": [
    "def cube(x):\n",
    "    return(x**3)\n",
    "cube(10)"
   ]
  },
  {
   "cell_type": "code",
   "execution_count": 13,
   "id": "7828f3b9-6e62-4f9a-8438-aa2ef9c19b30",
   "metadata": {},
   "outputs": [
    {
     "data": {
      "text/plain": [
       "1000"
      ]
     },
     "execution_count": 13,
     "metadata": {},
     "output_type": "execute_result"
    }
   ],
   "source": [
    "cube=lambda  x:x**3\n",
    "cube(10)"
   ]
  },
  {
   "cell_type": "code",
   "execution_count": 17,
   "id": "9319df79-b9d3-4fc9-b913-b1eed79f6d22",
   "metadata": {},
   "outputs": [
    {
     "data": {
      "text/plain": [
       "300"
      ]
     },
     "execution_count": 17,
     "metadata": {},
     "output_type": "execute_result"
    }
   ],
   "source": [
    "def add(a,b):\n",
    "    return(a+b)\n",
    "add(100,200)"
   ]
  },
  {
   "cell_type": "code",
   "execution_count": 19,
   "id": "0e2dd23b-d572-4669-b1e5-7313fb1261ce",
   "metadata": {},
   "outputs": [
    {
     "data": {
      "text/plain": [
       "300"
      ]
     },
     "execution_count": 19,
     "metadata": {},
     "output_type": "execute_result"
    }
   ],
   "source": [
    "add1=lambda a,b:a+b\n",
    "add1(100,200)"
   ]
  },
  {
   "cell_type": "code",
   "execution_count": 21,
   "id": "9baf2eb9-a59d-43ed-964a-2dcd5f8390a0",
   "metadata": {},
   "outputs": [
    {
     "data": {
      "text/plain": [
       "21.67"
      ]
     },
     "execution_count": 21,
     "metadata": {},
     "output_type": "execute_result"
    }
   ],
   "source": [
    "def avg(a,b,c):\n",
    "    return(round((a+b+c)/3,2))\n",
    "avg(10,22,33)"
   ]
  },
  {
   "cell_type": "code",
   "execution_count": 23,
   "id": "d2b37baa-1201-46be-b779-36f08a6d33e8",
   "metadata": {},
   "outputs": [
    {
     "data": {
      "text/plain": [
       "21.67"
      ]
     },
     "execution_count": 23,
     "metadata": {},
     "output_type": "execute_result"
    }
   ],
   "source": [
    "avg1=lambda a,b,c:round((a+b+c)/3,2)\n",
    "avg1(10,22,33)"
   ]
  },
  {
   "cell_type": "code",
   "execution_count": 27,
   "id": "843e9b6a-1322-4146-b0d3-bc29b04091f2",
   "metadata": {},
   "outputs": [
    {
     "data": {
      "text/plain": [
       "185.0"
      ]
     },
     "execution_count": 27,
     "metadata": {},
     "output_type": "execute_result"
    }
   ],
   "source": [
    "avg2=lambda a,b,c=500:round((a+b+c)/3,3)\n",
    "avg2(22,33)"
   ]
  },
  {
   "cell_type": "code",
   "execution_count": 29,
   "id": "d04d8d13-5640-4beb-86cc-25ed6584414e",
   "metadata": {},
   "outputs": [
    {
     "data": {
      "text/plain": [
       "20"
      ]
     },
     "execution_count": 29,
     "metadata": {},
     "output_type": "execute_result"
    }
   ],
   "source": [
    "def max(a,b):\n",
    "    if a>b:\n",
    "        return(a)\n",
    "    else:\n",
    "        return(b)\n",
    "max(10,20)"
   ]
  },
  {
   "cell_type": "code",
   "execution_count": 31,
   "id": "db658f24-713c-46fe-b204-fe3d9e1f4397",
   "metadata": {},
   "outputs": [
    {
     "data": {
      "text/plain": [
       "20"
      ]
     },
     "execution_count": 31,
     "metadata": {},
     "output_type": "execute_result"
    }
   ],
   "source": [
    "max1=lambda a,b :a if a>b else b\n",
    "max1(10,20)"
   ]
  },
  {
   "cell_type": "code",
   "execution_count": 37,
   "id": "ef44aafe-d172-4ed1-b010-907cf5683680",
   "metadata": {},
   "outputs": [
    {
     "data": {
      "text/plain": [
       "['Hyd', 'Mumbai', 'Pune']"
      ]
     },
     "execution_count": 37,
     "metadata": {},
     "output_type": "execute_result"
    }
   ],
   "source": [
    "list1=['hyd','mumbai','pune']\n",
    "# ans=['Hyd','Mumbai','Pune']\n",
    "ans=[]\n",
    "for i in list1:\n",
    "    ans.append(i.capitalize())\n",
    "ans"
   ]
  },
  {
   "cell_type": "code",
   "execution_count": 41,
   "id": "2a42d75d-7ee5-491b-bd01-d62564e70ec6",
   "metadata": {},
   "outputs": [
    {
     "data": {
      "text/plain": [
       "(<function __main__.<lambda>(i)>, ['hyd', 'mumbai', 'pune'])"
      ]
     },
     "execution_count": 41,
     "metadata": {},
     "output_type": "execute_result"
    }
   ],
   "source": [
    "lambda i:i.capitaalize()\n",
    "lambda i:i.captalize(),list1"
   ]
  },
  {
   "cell_type": "code",
   "execution_count": 43,
   "id": "883584c8-e4fb-4a7a-a2f6-43fced4fcc4e",
   "metadata": {},
   "outputs": [
    {
     "data": {
      "text/plain": [
       "<map at 0x2c756bb3ac0>"
      ]
     },
     "execution_count": 43,
     "metadata": {},
     "output_type": "execute_result"
    }
   ],
   "source": [
    "map(lambda i:i.capitaalize(),list1)"
   ]
  },
  {
   "cell_type": "code",
   "execution_count": 45,
   "id": "07312122-43e2-4d72-b7c2-f855dc5df1ac",
   "metadata": {},
   "outputs": [
    {
     "data": {
      "text/plain": [
       "['Hyd', 'Mumbai', 'Pune']"
      ]
     },
     "execution_count": 45,
     "metadata": {},
     "output_type": "execute_result"
    }
   ],
   "source": [
    "list(map(lambda i:i.capitalize(),list1))"
   ]
  },
  {
   "cell_type": "code",
   "execution_count": 49,
   "id": "5f944625-2654-45fd-898d-b6913d83bf2d",
   "metadata": {},
   "outputs": [
    {
     "data": {
      "text/plain": [
       "['HYD', 'CHENNAI', 'MUMBAI', 'PUNE']"
      ]
     },
     "execution_count": 49,
     "metadata": {},
     "output_type": "execute_result"
    }
   ],
   "source": [
    "# l1=['hyd','chennai','mumbai','pune']\n",
    "# ans=['HYD','CHENNAI','MUMBAI','PUNE']\n",
    "l1=['hyd','chennai','mumbai','pune']\n",
    "list(map(lambda i:i.upper(),l1))"
   ]
  },
  {
   "cell_type": "code",
   "execution_count": 51,
   "id": "667b4113-65c0-46d2-8ddb-bbb3cd22963e",
   "metadata": {},
   "outputs": [
    {
     "data": {
      "text/plain": [
       "[0, 10, 20, 30]"
      ]
     },
     "execution_count": 51,
     "metadata": {},
     "output_type": "execute_result"
    }
   ],
   "source": [
    "# l1=['hyd','chennai','mumbai','pune']\n",
    "#  ans=[0,10,20,30]\n",
    "l1=['hyd','chennai','mumbai','pune']\n",
    "list(map(lambda i:l1.index(i)*10,l1))"
   ]
  },
  {
   "cell_type": "code",
   "execution_count": 53,
   "id": "2e21b949-27d4-4c12-9f93-bf6308aca403",
   "metadata": {},
   "outputs": [
    {
     "data": {
      "text/plain": [
       "['Hello', 'Hai', 'How', 'Are', 'You']"
      ]
     },
     "execution_count": 53,
     "metadata": {},
     "output_type": "execute_result"
    }
   ],
   "source": [
    "# str1='hello hai how are you'\n",
    "# ans=['Hello','Hai','How','Are','You']\n",
    "str1='hello hai how are you'\n",
    "ans=list(map(lambda i:i.title(),str1.split()))\n",
    "ans"
   ]
  },
  {
   "cell_type": "code",
   "execution_count": 55,
   "id": "8dbe6493-5d86-4300-9eb2-ce23a1ace9b6",
   "metadata": {},
   "outputs": [
    {
     "data": {
      "text/plain": [
       "[False, True, True, False]"
      ]
     },
     "execution_count": 55,
     "metadata": {},
     "output_type": "execute_result"
    }
   ],
   "source": [
    "# l1=['hyd','chen#ai','mu#bai','pune']\n",
    "# ans=['chen#ai','mu#bai']\n",
    "l1=['hyd','chen#ai','mu#bai','pune']\n",
    "ans=list(map(lambda i:'#' in i,l1))\n",
    "ans"
   ]
  },
  {
   "cell_type": "code",
   "execution_count": 57,
   "id": "4488df0a-040d-4973-935e-d71711445ab4",
   "metadata": {},
   "outputs": [
    {
     "data": {
      "text/plain": [
       "['chen#ai', 'mu#bai']"
      ]
     },
     "execution_count": 57,
     "metadata": {},
     "output_type": "execute_result"
    }
   ],
   "source": [
    "ans=list(filter(lambda i:'#' in i,l1))\n",
    "ans"
   ]
  },
  {
   "cell_type": "code",
   "execution_count": 59,
   "id": "5b2d2588-88eb-484b-b091-70f070793ea1",
   "metadata": {},
   "outputs": [
    {
     "data": {
      "text/plain": [
       "['hyd', 'pune']"
      ]
     },
     "execution_count": 59,
     "metadata": {},
     "output_type": "execute_result"
    }
   ],
   "source": [
    "ans=list(filter(lambda i: '#' not in i,l1))\n",
    "ans"
   ]
  },
  {
   "cell_type": "code",
   "execution_count": 61,
   "id": "1bfa43a9-da05-4f24-bf00-fdc6a87557aa",
   "metadata": {},
   "outputs": [
    {
     "name": "stdout",
     "output_type": "stream",
     "text": [
      "15\n"
     ]
    }
   ],
   "source": [
    "l1=[1,2,3,4,5]\n",
    "summ=0\n",
    "for i in l1:\n",
    "    summ=summ+i\n",
    "print(summ)"
   ]
  },
  {
   "cell_type": "code",
   "execution_count": 63,
   "id": "7449006c-49a4-4731-a54a-f67a084877e8",
   "metadata": {},
   "outputs": [
    {
     "data": {
      "text/plain": [
       "15"
      ]
     },
     "execution_count": 63,
     "metadata": {},
     "output_type": "execute_result"
    }
   ],
   "source": [
    "import functools\n",
    "list1=[1,2,3,4,5]\n",
    "functools.reduce(lambda summ,i:summ+i,list1)"
   ]
  },
  {
   "cell_type": "code",
   "execution_count": 67,
   "id": "bdf3d8af-4813-4971-88b7-3817abec5304",
   "metadata": {},
   "outputs": [
    {
     "data": {
      "text/plain": [
       "15"
      ]
     },
     "execution_count": 67,
     "metadata": {},
     "output_type": "execute_result"
    }
   ],
   "source": [
    "from functools import reduce\n",
    "list1=[1,2,3,4,5]\n",
    "reduce(lambda summ,i:summ+i,list1)"
   ]
  },
  {
   "cell_type": "code",
   "execution_count": 69,
   "id": "3c1aff56-175f-4221-84cc-ce6fe71e27be",
   "metadata": {},
   "outputs": [
    {
     "data": {
      "text/plain": [
       "35"
      ]
     },
     "execution_count": 69,
     "metadata": {},
     "output_type": "execute_result"
    }
   ],
   "source": [
    "from functools import reduce\n",
    "list1=[1,2,3,4,5]\n",
    "reduce(lambda summ,i:summ+i,list1,20)"
   ]
  },
  {
   "cell_type": "code",
   "execution_count": 71,
   "id": "5fcc794f-cddb-4814-a620-bc51c2c484aa",
   "metadata": {},
   "outputs": [
    {
     "data": {
      "text/plain": [
       "35"
      ]
     },
     "execution_count": 71,
     "metadata": {},
     "output_type": "execute_result"
    }
   ],
   "source": [
    "import functools as ft\n",
    "list1=[1,22,3,4,5]\n",
    "ft.reduce(lambda summ,i:summ+i,list1)"
   ]
  },
  {
   "cell_type": "code",
   "execution_count": 73,
   "id": "6204aaa9-dec1-4ef7-baa3-7fb8d00e7ad5",
   "metadata": {},
   "outputs": [
    {
     "data": {
      "text/plain": [
       "<module 'functools' from 'C:\\\\Users\\\\Shubhashish\\\\anaconda3\\\\Lib\\\\functools.py'>"
      ]
     },
     "execution_count": 73,
     "metadata": {},
     "output_type": "execute_result"
    }
   ],
   "source": [
    "import functools\n",
    "functools"
   ]
  },
  {
   "cell_type": "code",
   "execution_count": null,
   "id": "d0d44012-bbf6-40ca-b1c7-ccf4df4812c4",
   "metadata": {},
   "outputs": [],
   "source": []
  }
 ],
 "metadata": {
  "kernelspec": {
   "display_name": "Python 3 (ipykernel)",
   "language": "python",
   "name": "python3"
  },
  "language_info": {
   "codemirror_mode": {
    "name": "ipython",
    "version": 3
   },
   "file_extension": ".py",
   "mimetype": "text/x-python",
   "name": "python",
   "nbconvert_exporter": "python",
   "pygments_lexer": "ipython3",
   "version": "3.12.4"
  }
 },
 "nbformat": 4,
 "nbformat_minor": 5
}
