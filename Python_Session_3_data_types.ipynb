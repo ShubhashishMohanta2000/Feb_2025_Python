{
 "cells": [
  {
   "cell_type": "markdown",
   "id": "94ff4a36-e1e3-4a5a-b2e0-bca4b3c44b76",
   "metadata": {},
   "source": [
    "# Data types"
   ]
  },
  {
   "cell_type": "markdown",
   "id": "6754a932-184a-4330-ab72-7a4ba9f42fc1",
   "metadata": {},
   "source": [
    "- Python can say data type of the value with out initializing\n",
    "- Which means the data type automatically consider\n",
    "- Python has some inbuilt datatype structure\n",
    "- int : integer\n",
    "- float\n",
    "- str : string\n",
    "- bool : boolean\n",
    "- complex\n",
    "- list\n",
    "- tuple\n",
    "- dict : dictionary\n",
    "- set\n",
    "- frozenset\n",
    "- bytes\n",
    "- bytearray\n",
    "- memoryview"
   ]
  },
  {
   "cell_type": "markdown",
   "id": "5dfcc318-61ff-47ee-ba2a-b532cca9b0b3",
   "metadata": {},
   "source": [
    "## integer"
   ]
  },
  {
   "cell_type": "code",
   "execution_count": 7,
   "id": "29834fce-dc99-4d5c-b642-0e6c717620e0",
   "metadata": {},
   "outputs": [
    {
     "data": {
      "text/plain": [
       "int"
      ]
     },
     "execution_count": 7,
     "metadata": {},
     "output_type": "execute_result"
    }
   ],
   "source": [
    "num=100\n",
    "type(num)"
   ]
  },
  {
   "cell_type": "code",
   "execution_count": 9,
   "id": "98eecbc8-6460-4b14-b481-fe8c25453726",
   "metadata": {},
   "outputs": [
    {
     "name": "stdout",
     "output_type": "stream",
     "text": [
      "100\n"
     ]
    }
   ],
   "source": [
    "print(num)"
   ]
  },
  {
   "cell_type": "code",
   "execution_count": null,
   "id": "f37a15c4-3b98-4782-90b4-1de48eaa3723",
   "metadata": {},
   "outputs": [],
   "source": [
    "# we have numerical Language\n",
    "# age=20\n",
    "# distance=20\n",
    "# salary=20000\n",
    "# mars ==== earth\n",
    "# how old are you = 7 years\n",
    "# earth ===> mars\n",
    "# 0b111"
   ]
  },
  {
   "cell_type": "markdown",
   "id": "864ad8f5-a511-48fd-b096-6e477fbf1c89",
   "metadata": {},
   "source": [
    "**binary number system**\n",
    "\n",
    "- digits: 0,1,2,3,4,5,6,7,8,9\n",
    "- biinary : bi means two : 0 and 1\n",
    "- representation is : 0b001,0b111,0b101,0B111\n",
    "- wrong representation is : o, 0b102"
   ]
  },
  {
   "cell_type": "code",
   "execution_count": 16,
   "id": "b75556ad-f210-4aa3-a3b3-36fd70dfcc9b",
   "metadata": {},
   "outputs": [
    {
     "data": {
      "text/plain": [
       "7"
      ]
     },
     "execution_count": 16,
     "metadata": {},
     "output_type": "execute_result"
    }
   ],
   "source": [
    "0b111"
   ]
  },
  {
   "cell_type": "code",
   "execution_count": 18,
   "id": "a6c5c3da-1feb-4238-a61b-4f339651d9ed",
   "metadata": {},
   "outputs": [
    {
     "data": {
      "text/plain": [
       "21"
      ]
     },
     "execution_count": 18,
     "metadata": {},
     "output_type": "execute_result"
    }
   ],
   "source": [
    "0b10101"
   ]
  },
  {
   "cell_type": "code",
   "execution_count": 20,
   "id": "60c3cc48-017f-4bd7-bf7c-8be72a2b9cd6",
   "metadata": {},
   "outputs": [
    {
     "data": {
      "text/plain": [
       "10"
      ]
     },
     "execution_count": 20,
     "metadata": {},
     "output_type": "execute_result"
    }
   ],
   "source": [
    "0b1010"
   ]
  },
  {
   "cell_type": "code",
   "execution_count": 22,
   "id": "32cb5da7-5057-4576-9ab4-b30072bf4c50",
   "metadata": {},
   "outputs": [
    {
     "data": {
      "text/plain": [
       "15"
      ]
     },
     "execution_count": 22,
     "metadata": {},
     "output_type": "execute_result"
    }
   ],
   "source": [
    "0B1111"
   ]
  },
  {
   "cell_type": "code",
   "execution_count": null,
   "id": "49638c6d-36e4-4cb6-8eb9-b7e042730b74",
   "metadata": {},
   "outputs": [],
   "source": [
    "2^2=4 2^1=2 2^0=1\n",
    "0      0     0     0\n",
    "0      0     1     1\n",
    "0      1     0     2\n",
    "0      1     1     3\n",
    "1      0     0     4\n",
    "1      0     1     5\n",
    "1      1     0     6\n",
    "1      1     1     7"
   ]
  },
  {
   "cell_type": "code",
   "execution_count": null,
   "id": "5e5a473f-47a0-44a5-852a-0f5c4c19ca5c",
   "metadata": {},
   "outputs": [],
   "source": [
    "2^3=8 2^2=4 2^1=2 2^0=1\n",
    "0      0     0     0     0\n",
    "0      0     0     1     1\n",
    "0      0     1     0     2\n",
    "0      0     1     1     3\n",
    "0      1     0     0     4\n",
    "0      1     0     1     5\n",
    "0      1     1     0     6\n",
    "0      1     1     1     7\n",
    "1      0     0     0     8\n",
    "1      0     0     1     9\n",
    "1      0     1     0     10\n",
    "1      0     1     1     11\n",
    "1      1     0     0     12\n",
    "1      1     0     1     13\n",
    "1      1     1     0     14\n",
    "1      1     1     1     15"
   ]
  },
  {
   "cell_type": "markdown",
   "id": "a9e3a2d3-4b42-47c5-9626-75f32de438b5",
   "metadata": {},
   "source": [
    "**octal number system**\n",
    "\n",
    "- digits: 0,1,2,3,4,5,6,7,8,9\n",
    "- octa : octa means 8 : 0,1,2,3,4,5,6,7\n",
    "- representation is : 0o567,0o123,0O765\n",
    "- wrong representation is : 'o' as start, 0o789"
   ]
  },
  {
   "cell_type": "code",
   "execution_count": 31,
   "id": "341a4a8f-5839-4d8f-83df-81824a43b998",
   "metadata": {},
   "outputs": [
    {
     "data": {
      "text/plain": [
       "2196"
      ]
     },
     "execution_count": 31,
     "metadata": {},
     "output_type": "execute_result"
    }
   ],
   "source": [
    "0o4224"
   ]
  },
  {
   "cell_type": "code",
   "execution_count": 33,
   "id": "04bb09a2-343b-4b61-bb15-c8acffed08ce",
   "metadata": {},
   "outputs": [
    {
     "data": {
      "text/plain": [
       "83"
      ]
     },
     "execution_count": 33,
     "metadata": {},
     "output_type": "execute_result"
    }
   ],
   "source": [
    "0o123"
   ]
  },
  {
   "cell_type": "code",
   "execution_count": null,
   "id": "9ae555fe-8822-4446-8f5b-f142e49e4c77",
   "metadata": {},
   "outputs": [],
   "source": [
    "8^3=512  8^2=64  8^1=8  8^0=1"
   ]
  },
  {
   "cell_type": "markdown",
   "id": "a9523113-70fa-46c2-a9b7-5e826cdd2472",
   "metadata": {},
   "source": [
    "**hexa number system**\n",
    "\n",
    "- digits: 0,1,2,3,4,5,6,7,8,9\n",
    "- hexa : hexa means 16 : 0,1,2,3,4,5,6,7,8,9,A=10,B=11,C=12,D=13,E=14,F=15\n",
    "- representation is : 0x567,0X1233,0Xabc\n",
    "- wrong representation is : 'o' as start, 0h67"
   ]
  },
  {
   "cell_type": "code",
   "execution_count": 37,
   "id": "58fd6210-b14c-4bd4-9253-9f969770591c",
   "metadata": {},
   "outputs": [
    {
     "data": {
      "text/plain": [
       "291"
      ]
     },
     "execution_count": 37,
     "metadata": {},
     "output_type": "execute_result"
    }
   ],
   "source": [
    "0x123"
   ]
  },
  {
   "cell_type": "code",
   "execution_count": 39,
   "id": "6c65b001-c128-4417-94e3-62afe381711a",
   "metadata": {},
   "outputs": [
    {
     "data": {
      "text/plain": [
       "2748"
      ]
     },
     "execution_count": 39,
     "metadata": {},
     "output_type": "execute_result"
    }
   ],
   "source": [
    "0xabc"
   ]
  },
  {
   "cell_type": "markdown",
   "id": "2af96d66-0cbf-41c8-8d8d-3b50c2ea6598",
   "metadata": {},
   "source": [
    "**float**\n",
    "\n",
    "- float numbers means continous points\n",
    "- float numbers means having some decimals\n",
    "- integer number means discrete points"
   ]
  },
  {
   "cell_type": "code",
   "execution_count": 2,
   "id": "ccecec84-08ea-4246-b427-b57970a4f4d2",
   "metadata": {},
   "outputs": [
    {
     "data": {
      "text/plain": [
       "float"
      ]
     },
     "execution_count": 2,
     "metadata": {},
     "output_type": "execute_result"
    }
   ],
   "source": [
    "number=100.25\n",
    "type(number)"
   ]
  },
  {
   "cell_type": "markdown",
   "id": "05e8e53d-f97e-40a7-a2ba-78883133988d",
   "metadata": {},
   "source": [
    "- float points can represent as exponential format **e**"
   ]
  },
  {
   "cell_type": "code",
   "execution_count": null,
   "id": "e5b9d7c5-67d3-4295-a67c-46008653236e",
   "metadata": {},
   "outputs": [],
   "source": [
    "1e1 # 1*10\n",
    "1e2 # 1*100\n",
    "1e3 # 1*1000"
   ]
  },
  {
   "cell_type": "code",
   "execution_count": null,
   "id": "07fd3e1e-8f1d-4adf-bcc5-950dddd07c45",
   "metadata": {},
   "outputs": [],
   "source": [
    "2e2 #2*100"
   ]
  },
  {
   "cell_type": "code",
   "execution_count": 14,
   "id": "14447d6e-aa0e-4068-92a0-9d2f5fa7c39c",
   "metadata": {},
   "outputs": [
    {
     "name": "stdout",
     "output_type": "stream",
     "text": [
      "10.0\n",
      "100.0\n",
      "1000.0\n"
     ]
    }
   ],
   "source": [
    "print(1e+1) # 1*10\n",
    "print(1e+2) # 1*100\n",
    "print(1e+3) #1* 1000"
   ]
  },
  {
   "cell_type": "code",
   "execution_count": 16,
   "id": "ea93e223-7aa8-4888-8bab-69635e5513cd",
   "metadata": {},
   "outputs": [
    {
     "data": {
      "text/plain": [
       "(10.0, 100.0, 1000.0)"
      ]
     },
     "execution_count": 16,
     "metadata": {},
     "output_type": "execute_result"
    }
   ],
   "source": [
    "1e+1,1e+2,1e+3"
   ]
  },
  {
   "cell_type": "code",
   "execution_count": 18,
   "id": "79ee448f-4e25-402c-85c0-d89f7c52f555",
   "metadata": {},
   "outputs": [
    {
     "name": "stdout",
     "output_type": "stream",
     "text": [
      "0.1\n",
      "0.01\n",
      "0.001\n"
     ]
    }
   ],
   "source": [
    "print(1e-1) # 1/10\n",
    "print(1e-2) # 1/100\n",
    "print(1e-3) # 1/1000"
   ]
  },
  {
   "cell_type": "code",
   "execution_count": 22,
   "id": "5ebe57ef-01d0-409f-a8ea-a254f2d6f5b4",
   "metadata": {},
   "outputs": [
    {
     "data": {
      "text/plain": [
       "1e-15"
      ]
     },
     "execution_count": 22,
     "metadata": {},
     "output_type": "execute_result"
    }
   ],
   "source": [
    "1e-15 #1/1000000000000000"
   ]
  },
  {
   "cell_type": "markdown",
   "id": "1a694f75-6177-4198-9c06-3d4b74417e54",
   "metadata": {},
   "source": [
    "**Strings**"
   ]
  },
  {
   "cell_type": "markdown",
   "id": "3bc9a906-281f-4d55-bb54-0e3cf33fac87",
   "metadata": {},
   "source": [
    "- Strings means english character"
   ]
  },
  {
   "cell_type": "code",
   "execution_count": 33,
   "id": "073b77f1-4c55-44b7-9c43-db408169b8bf",
   "metadata": {},
   "outputs": [
    {
     "data": {
      "text/plain": [
       "str"
      ]
     },
     "execution_count": 33,
     "metadata": {},
     "output_type": "execute_result"
    }
   ],
   "source": [
    "name=\"Python'\"\n",
    "type(name)"
   ]
  },
  {
   "cell_type": "code",
   "execution_count": 31,
   "id": "45f9bace-3d77-4140-a87b-a679c15e4b3a",
   "metadata": {},
   "outputs": [
    {
     "data": {
      "text/plain": [
       "str"
      ]
     },
     "execution_count": 31,
     "metadata": {},
     "output_type": "execute_result"
    }
   ],
   "source": [
    "number='10'\n",
    "type(number)"
   ]
  },
  {
   "cell_type": "code",
   "execution_count": 37,
   "id": "ecb189f8-1d95-42ae-8374-601b4f1ef10a",
   "metadata": {},
   "outputs": [
    {
     "name": "stdout",
     "output_type": "stream",
     "text": [
      "Hello I like 'python'\n"
     ]
    }
   ],
   "source": [
    "sen1=\"Hello I like 'python'\"\n",
    "print(sen1)"
   ]
  },
  {
   "cell_type": "code",
   "execution_count": 39,
   "id": "955e8c79-f140-4522-b3f0-b19b0e04a80b",
   "metadata": {},
   "outputs": [
    {
     "name": "stdout",
     "output_type": "stream",
     "text": [
      "Hello I like \"python\"\n"
     ]
    }
   ],
   "source": [
    "sen2='Hello I like \"python\"'\n",
    "print(sen2)"
   ]
  },
  {
   "cell_type": "markdown",
   "id": "d9d11f17-1eaa-489e-a705-ae65b787c305",
   "metadata": {},
   "source": [
    "- Entire sentence in single quotes, then use double qoutes to highlight the word\n",
    "- Entire sentence in double qoutes, then use single qoutes to highlight the word"
   ]
  },
  {
   "cell_type": "code",
   "execution_count": 42,
   "id": "916ae89a-aa5e-481d-acf3-44b7086eaf12",
   "metadata": {},
   "outputs": [
    {
     "data": {
      "text/plain": [
       "'python'"
      ]
     },
     "execution_count": 42,
     "metadata": {},
     "output_type": "execute_result"
    }
   ],
   "source": [
    "name='python'\n",
    "name"
   ]
  },
  {
   "cell_type": "code",
   "execution_count": 44,
   "id": "12f2ff68-37b5-452a-bcba-3ad3bcb8cfb9",
   "metadata": {},
   "outputs": [
    {
     "name": "stdout",
     "output_type": "stream",
     "text": [
      "python\n"
     ]
    }
   ],
   "source": [
    "print(name)"
   ]
  },
  {
   "cell_type": "code",
   "execution_count": 46,
   "id": "630df280-793c-4238-9c51-03b24133b7be",
   "metadata": {},
   "outputs": [
    {
     "data": {
      "text/plain": [
       "'naresh'"
      ]
     },
     "execution_count": 46,
     "metadata": {},
     "output_type": "execute_result"
    }
   ],
   "source": [
    "name1='python'\n",
    "name2='naresh'\n",
    "name1\n",
    "name2"
   ]
  },
  {
   "cell_type": "code",
   "execution_count": 48,
   "id": "9e1ff175-eaa5-49c6-975f-685050d33628",
   "metadata": {},
   "outputs": [
    {
     "name": "stdout",
     "output_type": "stream",
     "text": [
      "python\n",
      "naresh\n"
     ]
    }
   ],
   "source": [
    "name1='python'\n",
    "name2='naresh'\n",
    "print(name1)\n",
    "print(name2)"
   ]
  },
  {
   "cell_type": "code",
   "execution_count": null,
   "id": "7880a3d4-6c0c-49b0-83f0-9c55cc3bc3c8",
   "metadata": {},
   "outputs": [],
   "source": [
    "hello good morning\n",
    "how are you with out /n"
   ]
  },
  {
   "cell_type": "code",
   "execution_count": 56,
   "id": "97301344-e97b-4752-9035-a143513b7cf7",
   "metadata": {},
   "outputs": [
    {
     "name": "stdout",
     "output_type": "stream",
     "text": [
      "Hello I like 'python'\n",
      "             hai good morning\n",
      "             class data types\n"
     ]
    }
   ],
   "source": [
    "statement=\"\"\"Hello I like 'python'\n",
    "             hai good morning\n",
    "             class data types\"\"\"\n",
    "print(statement)"
   ]
  },
  {
   "cell_type": "markdown",
   "id": "70d98c29-7c23-46f9-8975-d522cdf184cd",
   "metadata": {},
   "source": [
    "**Doc string**"
   ]
  },
  {
   "cell_type": "markdown",
   "id": "1b88a99a-8059-4059-a516-0374720ca1a3",
   "metadata": {},
   "source": [
    "- If we want to convey information to the user\n",
    "- we will write a statement before coding part\n",
    "- is calles as Doc string\n",
    "- In jupyter noteboook to convey information we have **markdown**\n",
    "- But in VScode we dont have a Markdown option\n",
    "- we convey the information by using **triple quotes**\n",
    "- If we see anywhere triple quotes means the user trying to convey the information"
   ]
  },
  {
   "cell_type": "code",
   "execution_count": 62,
   "id": "11309fda-11a7-4e8f-8601-584221e912d2",
   "metadata": {},
   "outputs": [
    {
     "data": {
      "text/plain": [
       "'\\n   write something\\n   '"
      ]
     },
     "execution_count": 62,
     "metadata": {},
     "output_type": "execute_result"
    }
   ],
   "source": [
    "\"\"\"\n",
    "   write something\n",
    "   \"\"\"\n",
    "\n",
    "'''\n",
    "   write something\n",
    "   '''"
   ]
  },
  {
   "cell_type": "markdown",
   "id": "4588f46d-5a31-4526-b76b-0f3de0ef7701",
   "metadata": {},
   "source": [
    "**Boolean**"
   ]
  },
  {
   "cell_type": "code",
   "execution_count": 72,
   "id": "08aacc45-7838-4f82-8133-b8e0cbfc1cb2",
   "metadata": {},
   "outputs": [
    {
     "data": {
      "text/plain": [
       "bool"
      ]
     },
     "execution_count": 72,
     "metadata": {},
     "output_type": "execute_result"
    }
   ],
   "source": [
    "value=True\n",
    "type(value)"
   ]
  },
  {
   "cell_type": "code",
   "execution_count": 74,
   "id": "e834450c-566a-45c0-a180-a14f00edfdd4",
   "metadata": {},
   "outputs": [
    {
     "data": {
      "text/plain": [
       "bool"
      ]
     },
     "execution_count": 74,
     "metadata": {},
     "output_type": "execute_result"
    }
   ],
   "source": [
    "value=False\n",
    "type(value)"
   ]
  },
  {
   "cell_type": "code",
   "execution_count": null,
   "id": "dcc8b351-9f5d-4b53-b5dc-ec747afc7290",
   "metadata": {},
   "outputs": [],
   "source": [
    "true='True'\n",
    "true=True\n",
    "true=10"
   ]
  }
 ],
 "metadata": {
  "kernelspec": {
   "display_name": "Python 3 (ipykernel)",
   "language": "python",
   "name": "python3"
  },
  "language_info": {
   "codemirror_mode": {
    "name": "ipython",
    "version": 3
   },
   "file_extension": ".py",
   "mimetype": "text/x-python",
   "name": "python",
   "nbconvert_exporter": "python",
   "pygments_lexer": "ipython3",
   "version": "3.12.4"
  }
 },
 "nbformat": 4,
 "nbformat_minor": 5
}
